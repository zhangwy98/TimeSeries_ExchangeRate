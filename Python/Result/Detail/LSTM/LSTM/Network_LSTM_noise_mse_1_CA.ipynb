{
 "cells": [
  {
   "cell_type": "code",
   "execution_count": 1,
   "metadata": {},
   "outputs": [],
   "source": [
    "import pandas as pd\n",
    "import numpy as np\n",
    "data = pd.read_csv(\"EXCAUS.csv\")\n",
    "tsValues = data['EXCAUS']\n",
    "import math\n",
    "tsValuesLog = [math.log(ele) for ele in tsValues]"
   ]
  },
  {
   "cell_type": "code",
   "execution_count": 2,
   "metadata": {},
   "outputs": [],
   "source": [
    "def mean_error(pred,real):\n",
    "    return np.mean([pred[i]-real[i] for i in range(len(pred))])\n",
    "def mean_absolute_error(pred,real):\n",
    "    return np.mean([np.abs(pred[i]-real[i]) for i in range(len(pred))])\n",
    "def root_mean_square_error(pred,real):\n",
    "    return np.sqrt(np.mean([pow(pred[i]-real[i],2) for i in range(len(pred))]))"
   ]
  },
  {
   "cell_type": "code",
   "execution_count": 3,
   "metadata": {},
   "outputs": [],
   "source": [
    "PredictionOutputMAE = pd.DataFrame(index=['monthly','3_month','6_month','12_month'])\n",
    "PredictionOutputRMSE = pd.DataFrame(index=['monthly','3_month','6_month','12_month'])\n",
    "startPrediction = 100\n",
    "totalData = len(tsValuesLog)"
   ]
  },
  {
   "cell_type": "code",
   "execution_count": 4,
   "metadata": {},
   "outputs": [],
   "source": [
    "#benchmark\n",
    "mae_ = []\n",
    "rmse_ = []\n",
    "for l in [1,3,6,12]:\n",
    "    pred = [0]*(startPrediction+l-1)\n",
    "    for i in range(totalData-startPrediction-l+1):\n",
    "        pred.append(tsValuesLog[startPrediction-1+i])\n",
    "    mae_.append(mean_absolute_error(pred[startPrediction+l-1:],tsValuesLog[startPrediction+l-1:]))\n",
    "    rmse_.append(root_mean_square_error(pred[startPrediction+l-1:],tsValuesLog[startPrediction+l-1:]))\n",
    "PredictionOutputMAE['RandomWalk'] = mae_\n",
    "PredictionOutputRMSE['RandomWalk'] = rmse_"
   ]
  },
  {
   "cell_type": "code",
   "execution_count": 5,
   "metadata": {},
   "outputs": [
    {
     "data": {
      "text/html": [
       "<div>\n",
       "<style scoped>\n",
       "    .dataframe tbody tr th:only-of-type {\n",
       "        vertical-align: middle;\n",
       "    }\n",
       "\n",
       "    .dataframe tbody tr th {\n",
       "        vertical-align: top;\n",
       "    }\n",
       "\n",
       "    .dataframe thead th {\n",
       "        text-align: right;\n",
       "    }\n",
       "</style>\n",
       "<table border=\"1\" class=\"dataframe\">\n",
       "  <thead>\n",
       "    <tr style=\"text-align: right;\">\n",
       "      <th></th>\n",
       "      <th>RandomWalk</th>\n",
       "    </tr>\n",
       "  </thead>\n",
       "  <tbody>\n",
       "    <tr>\n",
       "      <th>monthly</th>\n",
       "      <td>0.014723</td>\n",
       "    </tr>\n",
       "    <tr>\n",
       "      <th>3_month</th>\n",
       "      <td>0.029652</td>\n",
       "    </tr>\n",
       "    <tr>\n",
       "      <th>6_month</th>\n",
       "      <td>0.042237</td>\n",
       "    </tr>\n",
       "    <tr>\n",
       "      <th>12_month</th>\n",
       "      <td>0.066676</td>\n",
       "    </tr>\n",
       "  </tbody>\n",
       "</table>\n",
       "</div>"
      ],
      "text/plain": [
       "          RandomWalk\n",
       "monthly     0.014723\n",
       "3_month     0.029652\n",
       "6_month     0.042237\n",
       "12_month    0.066676"
      ]
     },
     "execution_count": 5,
     "metadata": {},
     "output_type": "execute_result"
    }
   ],
   "source": [
    "PredictionOutputMAE"
   ]
  },
  {
   "cell_type": "code",
   "execution_count": 6,
   "metadata": {},
   "outputs": [
    {
     "name": "stderr",
     "output_type": "stream",
     "text": [
      "Using TensorFlow backend.\n"
     ]
    }
   ],
   "source": [
    "#LSTM Model\n",
    "from keras.models import Sequential\n",
    "from keras.layers import Dense\n",
    "from keras.layers import LSTM\n",
    "from keras.layers import Activation\n",
    "from sklearn.preprocessing import MinMaxScaler\n",
    "from sklearn.metrics import mean_squared_error\n",
    "import tensorflow as tf\n",
    "import random\n",
    "#LSTMModel\n",
    "class LstmModel:\n",
    "    def __init__(self, lstm_cells_per_layer_used=100, loss_used='mean_squared_error', optimizer_used='adam', epochs_used=100, batch_size_used=5, random_seed_used=1024, sample_num=5, feature_length_used=5):\n",
    "        self.model_name = 'LSTM_{}_{}_Model'.format(sample_num, feature_length_used)\n",
    "        self.lstm_cells_per_layer_used = lstm_cells_per_layer_used\n",
    "        self.loss_used = loss_used\n",
    "        self.optimizer_used = optimizer_used\n",
    "        self.epochs_used = epochs_used\n",
    "        self.batch_size_used = batch_size_used\n",
    "        self.model = None\n",
    "        \n",
    "        self.random_seed_used = random_seed_used\n",
    "        np.random.seed(self.random_seed_used)\n",
    "        self.scaler = MinMaxScaler(feature_range=(0, 1))\n",
    "        \n",
    "        self.data_ori = None\n",
    "        self.sample_num = sample_num\n",
    "        self.feature_length_used = feature_length_used\n",
    "        \n",
    "        return\n",
    "    \n",
    "    def fit(self, data):\n",
    "        keras.backend.clear_session()\n",
    "        #sess = tf.Session(config=tf.ConfigProto(device_count={'gpu':0}))\n",
    "        self.data_ori = data\n",
    "        if len(self.data_ori) <= 1:\n",
    "            self.model = None\n",
    "            return\n",
    "        \n",
    "        self.sample_num = min(self.sample_num, len(self.data_ori))\n",
    "        self.feature_length_used = min(self.feature_length_used, len(self.data_ori) - self.sample_num)\n",
    "        \n",
    "        if self.feature_length_used <= 0:\n",
    "            self.sample_num -= 1\n",
    "            self.feature_length_used = 1\n",
    "            if self.sample_num <= 0:\n",
    "                raise Exception('Insufficient data!')\n",
    "\n",
    "        self.data = np.array(self.data_ori)[-(self.sample_num+self.feature_length_used):]\n",
    "        self.data = self.data.astype(np.float64)\n",
    "        self.data = self.scaler.fit_transform(self.data.reshape(-1, 1)).T[0]\n",
    "        \n",
    "        x_train, y_train = [], []\n",
    "        for i in range(0, self.sample_num):\n",
    "            feature_vec = []\n",
    "            label_val = self.data[len(self.data) - self.sample_num + i]\n",
    "            for j in range(0, self.feature_length_used):\n",
    "                val = self.data[len(self.data) - self.sample_num - self.feature_length_used + i + j]\n",
    "                feature_vec.append(val)\n",
    "            x_train.append(feature_vec)\n",
    "            y_train.append(label_val)\n",
    "            \n",
    "        x_train = np.array(x_train)\n",
    "        y_train = np.array(y_train)\n",
    "        \n",
    "        x_train = np.reshape(x_train, (x_train.shape[0], 1, x_train.shape[1]))\n",
    "        \n",
    "        self.model = Sequential()\n",
    "        self.model.add(LSTM(self.lstm_cells_per_layer_used, input_shape=(1, self.feature_length_used)))\n",
    "        self.model.add(Dense(1))\n",
    "        self.model.compile(loss=self.loss_used, optimizer=self.optimizer_used)\n",
    "        verbose_used = 0\n",
    "        self.model.fit(x_train, y_train, epochs=self.epochs_used, batch_size=self.batch_size_used, verbose=verbose_used)\n",
    "        \n",
    "        return\n",
    "        \n",
    "    \n",
    "    def predict(self, next_n_prediction):\n",
    "        pred = []\n",
    "        if self.model == None:\n",
    "            if len(self.data_ori) <= 0:\n",
    "                pred = [np.nan, ] * next_n_prediction\n",
    "            else:\n",
    "                pred = [self.data_ori[-1], ] * next_n_prediction\n",
    "            return pred\n",
    "\n",
    "        rest_prediction_num = next_n_prediction\n",
    "        round_num = 0\n",
    "        while rest_prediction_num > 0:\n",
    "            x_test = []\n",
    "            feature_vec = []\n",
    "            for i in range(0, self.feature_length_used):\n",
    "                val = self.data[self.sample_num+i+round_num]\n",
    "                feature_vec.append(val)\n",
    "            x_test.append(feature_vec)\n",
    "            \n",
    "            x_test = np.array(x_test)\n",
    "            x_test = np.reshape(x_test, (x_test.shape[0], 1, x_test.shape[1]))\n",
    "            \n",
    "            predict_test = self.model.predict(x_test)\n",
    "            \n",
    "            predict_test_scaled = predict_test\n",
    "            predict_test_scaled = [item[0] for item in predict_test_scaled]\n",
    "            predict_test_scaled = np.array(predict_test_scaled)\n",
    "            predict_test_scaled = predict_test_scaled.astype(np.float64)\n",
    "            self.data = np.append(self.data, predict_test_scaled)\n",
    "            \n",
    "            predict_test = self.scaler.inverse_transform(predict_test)\n",
    "            predict_test = [item[0] for item in predict_test]\n",
    "            \n",
    "            \n",
    "            pred += predict_test\n",
    "            \n",
    "            round_num += 1\n",
    "            rest_prediction_num -= len(predict_test)\n",
    "        \n",
    "        pred = pred[0:next_n_prediction]\n",
    "        pred_pre = np.array(pred)\n",
    "        pred_pre = pred_pre.astype(np.float64)\n",
    "        pred = list(pred_pre)\n",
    "        return pred"
   ]
  },
  {
   "cell_type": "code",
   "execution_count": 7,
   "metadata": {},
   "outputs": [],
   "source": [
    "import keras"
   ]
  },
  {
   "cell_type": "code",
   "execution_count": 8,
   "metadata": {},
   "outputs": [],
   "source": [
    "import keras.backend"
   ]
  },
  {
   "cell_type": "code",
   "execution_count": 9,
   "metadata": {},
   "outputs": [],
   "source": [
    "tsValuesLog_d_1 = [0]\n",
    "tsValuesLog_d_1 += [tsValuesLog[i+1]-tsValuesLog[i] for i in range(totalData-1)]"
   ]
  },
  {
   "cell_type": "code",
   "execution_count": 10,
   "metadata": {},
   "outputs": [
    {
     "name": "stdout",
     "output_type": "stream",
     "text": [
      "WARNING:tensorflow:From /mnt/automl/PPS/venv/lib/python3.6/site-packages/tensorflow/python/framework/op_def_library.py:263: colocate_with (from tensorflow.python.framework.ops) is deprecated and will be removed in a future version.\n",
      "Instructions for updating:\n",
      "Colocations handled automatically by placer.\n",
      "WARNING:tensorflow:From /mnt/automl/PPS/venv/lib/python3.6/site-packages/tensorflow/python/ops/math_ops.py:3066: to_int32 (from tensorflow.python.ops.math_ops) is deprecated and will be removed in a future version.\n",
      "Instructions for updating:\n",
      "Use tf.cast instead.\n",
      "0.013857526923567473 0.017478661121564674\n",
      "0.03142795061545511 0.040361540466675144\n",
      "0.04135986755066684 0.05401741991030618\n",
      "0.07139180946455183 0.08774815866965045\n",
      "5365.445135116577\n",
      "0.01388575612233771 0.017558701255276473\n",
      "0.029766373942796055 0.040011763385402396\n",
      "0.040988575764733026 0.05364849105548274\n",
      "0.0710496404321561 0.0860210724694686\n",
      "4888.807676315308\n"
     ]
    }
   ],
   "source": [
    "import time\n",
    "for feature_len in [1,2]:\n",
    "    mae_ = []\n",
    "    rmse_ = []\n",
    "    start = time.time()\n",
    "    for l in [1,3,6,12]:\n",
    "        pred = [0]*(startPrediction+l-1)\n",
    "        for i in range(totalData-startPrediction-(l-1)):\n",
    "            model = LstmModel(sample_num=100-feature_len,feature_length_used=feature_len)\n",
    "            model.fit(tsValuesLog_d_1[i:i+startPrediction])\n",
    "            noise_list = model.predict(l)\n",
    "            noise_sum = sum(noise_list)\n",
    "            pred.append(tsValuesLog[i+startPrediction-1]+noise_sum)\n",
    "            #print(\"prediction:\",)\n",
    "        mae = mean_absolute_error(pred[startPrediction+l-1:],tsValuesLog[startPrediction+l-1:])\n",
    "        rmse = root_mean_square_error(pred[startPrediction+l-1:],tsValuesLog[startPrediction+l-1:])\n",
    "        print(mae,rmse)\n",
    "        mae_.append(mae)\n",
    "        rmse_.append(rmse)\n",
    "    name = 'LSTM_'+str(100-feature_len)+str(feature_len)\n",
    "    end = time.time()\n",
    "    print(end-start)\n",
    "    PredictionOutputMAE[name] = mae_\n",
    "    PredictionOutputRMSE[name] = rmse_"
   ]
  },
  {
   "cell_type": "code",
   "execution_count": 11,
   "metadata": {},
   "outputs": [
    {
     "data": {
      "text/html": [
       "<div>\n",
       "<style scoped>\n",
       "    .dataframe tbody tr th:only-of-type {\n",
       "        vertical-align: middle;\n",
       "    }\n",
       "\n",
       "    .dataframe tbody tr th {\n",
       "        vertical-align: top;\n",
       "    }\n",
       "\n",
       "    .dataframe thead th {\n",
       "        text-align: right;\n",
       "    }\n",
       "</style>\n",
       "<table border=\"1\" class=\"dataframe\">\n",
       "  <thead>\n",
       "    <tr style=\"text-align: right;\">\n",
       "      <th></th>\n",
       "      <th>RandomWalk</th>\n",
       "      <th>LSTM_991</th>\n",
       "      <th>LSTM_982</th>\n",
       "    </tr>\n",
       "  </thead>\n",
       "  <tbody>\n",
       "    <tr>\n",
       "      <th>monthly</th>\n",
       "      <td>0.014723</td>\n",
       "      <td>0.013858</td>\n",
       "      <td>0.013886</td>\n",
       "    </tr>\n",
       "    <tr>\n",
       "      <th>3_month</th>\n",
       "      <td>0.029652</td>\n",
       "      <td>0.031428</td>\n",
       "      <td>0.029766</td>\n",
       "    </tr>\n",
       "    <tr>\n",
       "      <th>6_month</th>\n",
       "      <td>0.042237</td>\n",
       "      <td>0.041360</td>\n",
       "      <td>0.040989</td>\n",
       "    </tr>\n",
       "    <tr>\n",
       "      <th>12_month</th>\n",
       "      <td>0.066676</td>\n",
       "      <td>0.071392</td>\n",
       "      <td>0.071050</td>\n",
       "    </tr>\n",
       "  </tbody>\n",
       "</table>\n",
       "</div>"
      ],
      "text/plain": [
       "          RandomWalk  LSTM_991  LSTM_982\n",
       "monthly     0.014723  0.013858  0.013886\n",
       "3_month     0.029652  0.031428  0.029766\n",
       "6_month     0.042237  0.041360  0.040989\n",
       "12_month    0.066676  0.071392  0.071050"
      ]
     },
     "execution_count": 11,
     "metadata": {},
     "output_type": "execute_result"
    }
   ],
   "source": [
    "PredictionOutputMAE"
   ]
  },
  {
   "cell_type": "code",
   "execution_count": 14,
   "metadata": {},
   "outputs": [
    {
     "data": {
      "text/html": [
       "<div>\n",
       "<style scoped>\n",
       "    .dataframe tbody tr th:only-of-type {\n",
       "        vertical-align: middle;\n",
       "    }\n",
       "\n",
       "    .dataframe tbody tr th {\n",
       "        vertical-align: top;\n",
       "    }\n",
       "\n",
       "    .dataframe thead th {\n",
       "        text-align: right;\n",
       "    }\n",
       "</style>\n",
       "<table border=\"1\" class=\"dataframe\">\n",
       "  <thead>\n",
       "    <tr style=\"text-align: right;\">\n",
       "      <th></th>\n",
       "      <th>RandomWalk</th>\n",
       "      <th>LSTM_991</th>\n",
       "      <th>LSTM_982</th>\n",
       "    </tr>\n",
       "  </thead>\n",
       "  <tbody>\n",
       "    <tr>\n",
       "      <th>monthly</th>\n",
       "      <td>0.018485</td>\n",
       "      <td>0.017479</td>\n",
       "      <td>0.017559</td>\n",
       "    </tr>\n",
       "    <tr>\n",
       "      <th>3_month</th>\n",
       "      <td>0.038930</td>\n",
       "      <td>0.040362</td>\n",
       "      <td>0.040012</td>\n",
       "    </tr>\n",
       "    <tr>\n",
       "      <th>6_month</th>\n",
       "      <td>0.052930</td>\n",
       "      <td>0.054017</td>\n",
       "      <td>0.053648</td>\n",
       "    </tr>\n",
       "    <tr>\n",
       "      <th>12_month</th>\n",
       "      <td>0.081540</td>\n",
       "      <td>0.087748</td>\n",
       "      <td>0.086021</td>\n",
       "    </tr>\n",
       "  </tbody>\n",
       "</table>\n",
       "</div>"
      ],
      "text/plain": [
       "          RandomWalk  LSTM_991  LSTM_982\n",
       "monthly     0.018485  0.017479  0.017559\n",
       "3_month     0.038930  0.040362  0.040012\n",
       "6_month     0.052930  0.054017  0.053648\n",
       "12_month    0.081540  0.087748  0.086021"
      ]
     },
     "execution_count": 14,
     "metadata": {},
     "output_type": "execute_result"
    }
   ],
   "source": [
    "PredictionOutputRMSE"
   ]
  },
  {
   "cell_type": "code",
   "execution_count": 12,
   "metadata": {},
   "outputs": [],
   "source": [
    "PredictionOutputMAE.to_csv(\"Network_LSTM_noise_mse_mae_CA.csv\")"
   ]
  },
  {
   "cell_type": "code",
   "execution_count": 13,
   "metadata": {},
   "outputs": [],
   "source": [
    "PredictionOutputRMSE.to_csv(\"Network_LSTM_noise_mse_rmse_CA.csv\")"
   ]
  }
 ],
 "metadata": {
  "kernelspec": {
   "display_name": "python3.6.7(venv)",
   "language": "python",
   "name": "venv"
  },
  "language_info": {
   "codemirror_mode": {
    "name": "ipython",
    "version": 3
   },
   "file_extension": ".py",
   "mimetype": "text/x-python",
   "name": "python",
   "nbconvert_exporter": "python",
   "pygments_lexer": "ipython3",
   "version": "3.6.7"
  }
 },
 "nbformat": 4,
 "nbformat_minor": 2
}
