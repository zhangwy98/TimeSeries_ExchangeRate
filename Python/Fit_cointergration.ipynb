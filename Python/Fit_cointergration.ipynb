{
 "cells": [
  {
   "cell_type": "code",
   "execution_count": 1,
   "metadata": {},
   "outputs": [],
   "source": [
    "import pandas as pd\n",
    "import numpy as np\n",
    "import math\n",
    "from statsmodels.tsa.stattools import coint\n",
    "import statsmodels.api as sm\n",
    "from matplotlib import pyplot as plt\n",
    "import datetime"
   ]
  },
  {
   "cell_type": "code",
   "execution_count": 2,
   "metadata": {},
   "outputs": [],
   "source": [
    "data_EU = pd.read_csv(\"Data/EXUSEU.csv\")\n",
    "tsValues_EU = data_EU['EXUSEU']\n",
    "tsValuesLog_EU = [math.log(1/ele) for ele in tsValues_EU]\n",
    "data_CA = pd.read_csv(\"Data/EXCAUS.csv\")\n",
    "data_JP = pd.read_csv(\"Data/EXJPUS.csv\")\n",
    "data_CH = pd.read_csv(\"Data/EXCHUS_whole.csv\")\n",
    "data_KO = pd.read_csv(\"Data/EXKOUS.csv\")\n",
    "tsValuesLog_CA = [math.log(ele) for ele in data_CA['EXCAUS']]\n",
    "tsValuesLog_JP = [math.log(ele) for ele in data_JP['EXJPUS']]\n",
    "tsValuesLog_KO = [math.log(ele) for ele in data_KO['EXKOUS']]\n",
    "tsValuesLog_CH = [math.log(ele) for ele in data_CH['EXCHUS']]"
   ]
  },
  {
   "cell_type": "code",
   "execution_count": 3,
   "metadata": {},
   "outputs": [],
   "source": [
    "output = pd.DataFrame(columns=['EU','CA','JP','CH','KO'],index=['EU','CA','JP','CH','KO'])"
   ]
  },
  {
   "cell_type": "code",
   "execution_count": 4,
   "metadata": {},
   "outputs": [],
   "source": [
    "ts = [tsValuesLog_EU,tsValuesLog_CA,tsValuesLog_JP,tsValuesLog_CH,tsValuesLog_KO]"
   ]
  },
  {
   "cell_type": "code",
   "execution_count": 5,
   "metadata": {},
   "outputs": [],
   "source": [
    "for i in range(5):\n",
    "    for j in range(5):\n",
    "        if i==j:\n",
    "            output.iloc[i,j] = 0\n",
    "            continue\n",
    "        result = coint(ts[i],ts[j])\n",
    "        output.iloc[i,j] = result[1]"
   ]
  },
  {
   "cell_type": "code",
   "execution_count": 6,
   "metadata": {},
   "outputs": [
    {
     "data": {
      "text/html": [
       "<div>\n",
       "<style scoped>\n",
       "    .dataframe tbody tr th:only-of-type {\n",
       "        vertical-align: middle;\n",
       "    }\n",
       "\n",
       "    .dataframe tbody tr th {\n",
       "        vertical-align: top;\n",
       "    }\n",
       "\n",
       "    .dataframe thead th {\n",
       "        text-align: right;\n",
       "    }\n",
       "</style>\n",
       "<table border=\"1\" class=\"dataframe\">\n",
       "  <thead>\n",
       "    <tr style=\"text-align: right;\">\n",
       "      <th></th>\n",
       "      <th>EU</th>\n",
       "      <th>CA</th>\n",
       "      <th>JP</th>\n",
       "      <th>CH</th>\n",
       "      <th>KO</th>\n",
       "    </tr>\n",
       "  </thead>\n",
       "  <tbody>\n",
       "    <tr>\n",
       "      <th>EU</th>\n",
       "      <td>0</td>\n",
       "      <td>0.126834</td>\n",
       "      <td>0.351295</td>\n",
       "      <td>0.615806</td>\n",
       "      <td>0.739426</td>\n",
       "    </tr>\n",
       "    <tr>\n",
       "      <th>CA</th>\n",
       "      <td>0.204273</td>\n",
       "      <td>0</td>\n",
       "      <td>0.357984</td>\n",
       "      <td>0.812497</td>\n",
       "      <td>0.85642</td>\n",
       "    </tr>\n",
       "    <tr>\n",
       "      <th>JP</th>\n",
       "      <td>0.622722</td>\n",
       "      <td>0.366571</td>\n",
       "      <td>0</td>\n",
       "      <td>0.641077</td>\n",
       "      <td>0.652401</td>\n",
       "    </tr>\n",
       "    <tr>\n",
       "      <th>CH</th>\n",
       "      <td>0.409926</td>\n",
       "      <td>0.444065</td>\n",
       "      <td>0.353866</td>\n",
       "      <td>0</td>\n",
       "      <td>0.425581</td>\n",
       "    </tr>\n",
       "    <tr>\n",
       "      <th>KO</th>\n",
       "      <td>0.314989</td>\n",
       "      <td>0.403782</td>\n",
       "      <td>0.183436</td>\n",
       "      <td>0.133232</td>\n",
       "      <td>0</td>\n",
       "    </tr>\n",
       "  </tbody>\n",
       "</table>\n",
       "</div>"
      ],
      "text/plain": [
       "          EU        CA        JP        CH        KO\n",
       "EU         0  0.126834  0.351295  0.615806  0.739426\n",
       "CA  0.204273         0  0.357984  0.812497   0.85642\n",
       "JP  0.622722  0.366571         0  0.641077  0.652401\n",
       "CH  0.409926  0.444065  0.353866         0  0.425581\n",
       "KO  0.314989  0.403782  0.183436  0.133232         0"
      ]
     },
     "execution_count": 6,
     "metadata": {},
     "output_type": "execute_result"
    }
   ],
   "source": [
    "output"
   ]
  },
  {
   "cell_type": "code",
   "execution_count": 7,
   "metadata": {},
   "outputs": [],
   "source": [
    "data_EU = pd.read_csv(\"Data/EXUSEU.csv\")\n",
    "tsValues_EU = data_EU['EXUSEU']\n",
    "tsValuesLog_EU = [math.log(ele) for ele in tsValues_EU]\n",
    "data_CA = pd.read_csv(\"Data/EXCAUS.csv\")\n",
    "data_JP = pd.read_csv(\"Data/EXJPUS.csv\")\n",
    "data_CH = pd.read_csv(\"Data/EXCHUS_whole.csv\")\n",
    "data_KO = pd.read_csv(\"Data/EXKOUS.csv\")\n",
    "tsValuesLog_CA = [math.log(ele) for ele in data_CA['EXCAUS']]\n",
    "tsValuesLog_JP = [math.log(ele) for ele in data_JP['EXJPUS']]\n",
    "tsValuesLog_KO = [math.log(ele) for ele in data_KO['EXKOUS']]\n",
    "tsValuesLog_CH = [math.log(ele) for ele in data_CH['EXCHUS']]"
   ]
  },
  {
   "cell_type": "code",
   "execution_count": 8,
   "metadata": {},
   "outputs": [],
   "source": [
    "output = pd.DataFrame(columns=['EU','CA','JP','CH','KO'],index=['EU','CA','JP','CH','KO'])\n",
    "ts = [tsValuesLog_EU,tsValuesLog_CA,tsValuesLog_JP,tsValuesLog_CH,tsValuesLog_KO]"
   ]
  },
  {
   "cell_type": "code",
   "execution_count": 9,
   "metadata": {},
   "outputs": [],
   "source": [
    "for i in range(5):\n",
    "    for j in range(5):\n",
    "        if i==j:\n",
    "            output.iloc[i,j] = 0\n",
    "            continue\n",
    "        result = coint(ts[i],ts[j])\n",
    "        output.iloc[i,j] = result[1]"
   ]
  },
  {
   "cell_type": "code",
   "execution_count": 10,
   "metadata": {},
   "outputs": [
    {
     "data": {
      "text/html": [
       "<div>\n",
       "<style scoped>\n",
       "    .dataframe tbody tr th:only-of-type {\n",
       "        vertical-align: middle;\n",
       "    }\n",
       "\n",
       "    .dataframe tbody tr th {\n",
       "        vertical-align: top;\n",
       "    }\n",
       "\n",
       "    .dataframe thead th {\n",
       "        text-align: right;\n",
       "    }\n",
       "</style>\n",
       "<table border=\"1\" class=\"dataframe\">\n",
       "  <thead>\n",
       "    <tr style=\"text-align: right;\">\n",
       "      <th></th>\n",
       "      <th>EU</th>\n",
       "      <th>CA</th>\n",
       "      <th>JP</th>\n",
       "      <th>CH</th>\n",
       "      <th>KO</th>\n",
       "    </tr>\n",
       "  </thead>\n",
       "  <tbody>\n",
       "    <tr>\n",
       "      <th>EU</th>\n",
       "      <td>0</td>\n",
       "      <td>0.126834</td>\n",
       "      <td>0.351295</td>\n",
       "      <td>0.615806</td>\n",
       "      <td>0.739426</td>\n",
       "    </tr>\n",
       "    <tr>\n",
       "      <th>CA</th>\n",
       "      <td>0.204273</td>\n",
       "      <td>0</td>\n",
       "      <td>0.357984</td>\n",
       "      <td>0.812497</td>\n",
       "      <td>0.85642</td>\n",
       "    </tr>\n",
       "    <tr>\n",
       "      <th>JP</th>\n",
       "      <td>0.622722</td>\n",
       "      <td>0.366571</td>\n",
       "      <td>0</td>\n",
       "      <td>0.641077</td>\n",
       "      <td>0.652401</td>\n",
       "    </tr>\n",
       "    <tr>\n",
       "      <th>CH</th>\n",
       "      <td>0.409926</td>\n",
       "      <td>0.444065</td>\n",
       "      <td>0.353866</td>\n",
       "      <td>0</td>\n",
       "      <td>0.425581</td>\n",
       "    </tr>\n",
       "    <tr>\n",
       "      <th>KO</th>\n",
       "      <td>0.314989</td>\n",
       "      <td>0.403782</td>\n",
       "      <td>0.183436</td>\n",
       "      <td>0.133232</td>\n",
       "      <td>0</td>\n",
       "    </tr>\n",
       "  </tbody>\n",
       "</table>\n",
       "</div>"
      ],
      "text/plain": [
       "          EU        CA        JP        CH        KO\n",
       "EU         0  0.126834  0.351295  0.615806  0.739426\n",
       "CA  0.204273         0  0.357984  0.812497   0.85642\n",
       "JP  0.622722  0.366571         0  0.641077  0.652401\n",
       "CH  0.409926  0.444065  0.353866         0  0.425581\n",
       "KO  0.314989  0.403782  0.183436  0.133232         0"
      ]
     },
     "execution_count": 10,
     "metadata": {},
     "output_type": "execute_result"
    }
   ],
   "source": [
    "output"
   ]
  },
  {
   "cell_type": "code",
   "execution_count": null,
   "metadata": {},
   "outputs": [],
   "source": [
    "#To sum up, there is no significant cointergration among these time series"
   ]
  }
 ],
 "metadata": {
  "kernelspec": {
   "display_name": "Python 3",
   "language": "python",
   "name": "python3"
  },
  "language_info": {
   "codemirror_mode": {
    "name": "ipython",
    "version": 3
   },
   "file_extension": ".py",
   "mimetype": "text/x-python",
   "name": "python",
   "nbconvert_exporter": "python",
   "pygments_lexer": "ipython3",
   "version": "3.6.8"
  }
 },
 "nbformat": 4,
 "nbformat_minor": 2
}
