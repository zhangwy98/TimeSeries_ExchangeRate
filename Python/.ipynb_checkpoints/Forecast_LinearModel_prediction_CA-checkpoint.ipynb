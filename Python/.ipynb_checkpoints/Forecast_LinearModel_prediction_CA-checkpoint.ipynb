{
 "cells": [
  {
   "cell_type": "code",
   "execution_count": 2,
   "metadata": {},
   "outputs": [],
   "source": [
    "import pandas as pd\n",
    "import numpy as np\n",
    "data = pd.read_csv(\"data/EXCAUS.csv\")\n",
    "tsValues = data['EXCAUS']\n",
    "import math\n",
    "tsValuesLog = [math.log(ele) for ele in tsValues]"
   ]
  },
  {
   "cell_type": "code",
   "execution_count": 3,
   "metadata": {},
   "outputs": [],
   "source": [
    "PredictionOutputMAE = pd.DataFrame(index=['monthly','3_month','6_month','12_month'])\n",
    "PredictionOutputRMSE = pd.DataFrame(index=['monthly','3_month','6_month','12_month'])\n",
    "startPrediction = 100\n",
    "totalData = len(tsValuesLog)"
   ]
  },
  {
   "cell_type": "code",
   "execution_count": 4,
   "metadata": {},
   "outputs": [
    {
     "data": {
      "text/plain": [
       "173"
      ]
     },
     "execution_count": 4,
     "metadata": {},
     "output_type": "execute_result"
    }
   ],
   "source": [
    "totalData"
   ]
  },
  {
   "cell_type": "code",
   "execution_count": 5,
   "metadata": {},
   "outputs": [],
   "source": [
    "def mean_error(pred,real):\n",
    "    return np.mean([pred[i]-real[i] for i in range(len(pred))])\n",
    "def mean_absolute_error(pred,real):\n",
    "    return np.mean([np.abs(pred[i]-real[i]) for i in range(len(pred))])\n",
    "def root_mean_square_error(pred,real):\n",
    "    return np.sqrt(np.mean([pow(pred[i]-real[i],2) for i in range(len(pred))]))"
   ]
  },
  {
   "cell_type": "code",
   "execution_count": 6,
   "metadata": {},
   "outputs": [],
   "source": [
    "#benchmark\n",
    "mae_ = []\n",
    "rmse_ = []\n",
    "for l in [1,3,6,12]:\n",
    "    pred = [0]*(startPrediction+l-1)\n",
    "    for i in range(totalData-startPrediction-l+1):\n",
    "        pred.append(tsValuesLog[startPrediction-1+i])\n",
    "    mae_.append(mean_absolute_error(pred[startPrediction+l-1:],tsValuesLog[startPrediction+l-1:]))\n",
    "    rmse_.append(root_mean_square_error(pred[startPrediction+l-1:],tsValuesLog[startPrediction+l-1:]))\n",
    "PredictionOutputMAE['RandomWalk'] = mae_\n",
    "PredictionOutputRMSE['RandomWalk'] = rmse_"
   ]
  },
  {
   "cell_type": "code",
   "execution_count": 7,
   "metadata": {},
   "outputs": [],
   "source": [
    "#test performance random walk with drift\n",
    "mae_ = []\n",
    "rmse_ = []\n",
    "for l in [1,3,6,12]:\n",
    "    pred = [0]*(startPrediction+l-1)\n",
    "    for i in range(totalData-startPrediction-l+1):\n",
    "        monthly_change = [tsValuesLog[j]-tsValuesLog[j-l] for j in range(i+l,i+startPrediction)]\n",
    "        mean_monthly_change = np.mean(monthly_change)\n",
    "        pred.append(tsValuesLog[startPrediction+i-1]+mean_monthly_change)\n",
    "    mae_.append(mean_absolute_error(pred[startPrediction+l-1:],tsValuesLog[startPrediction+l-1:]))\n",
    "    rmse_.append(root_mean_square_error(pred[startPrediction+l-1:],tsValuesLog[startPrediction+l-1:])) \n",
    "PredictionOutputMAE['RandomWalkWithDrift'] = mae_\n",
    "PredictionOutputRMSE['RandomWalkWithDrift'] = rmse_"
   ]
  },
  {
   "cell_type": "code",
   "execution_count": 9,
   "metadata": {},
   "outputs": [],
   "source": [
    "from statsmodels.tsa.arima_model import ARMA\n",
    "#out-of-sample-test\n",
    "mae_ = []\n",
    "rmse_ = []\n",
    "p=1\n",
    "q=1\n",
    "for l in [1,3,6,12]:\n",
    "    pred = [0]*(startPrediction+l-1)\n",
    "    for i in range(totalData-startPrediction-l+1):\n",
    "        try:\n",
    "            model = ARMA(tsValuesLog[i:i+startPrediction],order=(p,q))\n",
    "            result = model.fit()\n",
    "            pred.append(result.predict(start=startPrediction,end=startPrediction+l-1)[l-1])\n",
    "        except ValueError:\n",
    "            pred.append(tsValuesLog[startPrediction+i-1])\n",
    "    mae_.append(mean_absolute_error(pred[startPrediction+l-1:],tsValuesLog[startPrediction+l-1:]))\n",
    "    rmse_.append(root_mean_square_error(pred[startPrediction+l-1:],tsValuesLog[startPrediction+l-1:])) \n",
    "PredictionOutputMAE['ARMA_'+str(p)+'_'+str(q)] = mae_\n",
    "PredictionOutputRMSE['ARMA_'+str(p)+'_'+str(q)] = rmse_"
   ]
  },
  {
   "cell_type": "code",
   "execution_count": null,
   "metadata": {},
   "outputs": [],
   "source": []
  },
  {
   "cell_type": "code",
   "execution_count": 7,
   "metadata": {},
   "outputs": [
    {
     "name": "stderr",
     "output_type": "stream",
     "text": [
      "C:\\Users\\v-weiyzh\\AppData\\Roaming\\Python\\Python36\\site-packages\\scipy\\signal\\signaltools.py:1341: FutureWarning: Using a non-tuple sequence for multidimensional indexing is deprecated; use `arr[tuple(seq)]` instead of `arr[seq]`. In the future this will be interpreted as an array index, `arr[np.array(seq)]`, which will result either in an error or a different result.\n",
      "  out_full[ind] += zi\n",
      "C:\\Users\\v-weiyzh\\AppData\\Roaming\\Python\\Python36\\site-packages\\scipy\\signal\\signaltools.py:1344: FutureWarning: Using a non-tuple sequence for multidimensional indexing is deprecated; use `arr[tuple(seq)]` instead of `arr[seq]`. In the future this will be interpreted as an array index, `arr[np.array(seq)]`, which will result either in an error or a different result.\n",
      "  out = out_full[ind]\n",
      "C:\\Users\\v-weiyzh\\AppData\\Roaming\\Python\\Python36\\site-packages\\scipy\\signal\\signaltools.py:1350: FutureWarning: Using a non-tuple sequence for multidimensional indexing is deprecated; use `arr[tuple(seq)]` instead of `arr[seq]`. In the future this will be interpreted as an array index, `arr[np.array(seq)]`, which will result either in an error or a different result.\n",
      "  zf = out_full[ind]\n"
     ]
    }
   ],
   "source": [
    "from statsmodels.tsa.arima_model import ARMA\n",
    "mae_ = []\n",
    "rmse_ = []\n",
    "test_queue = [[1,1],[0,1],[1,0]]\n",
    "for l in [1,3,6,12]:\n",
    "    pred = [0]*(startPrediction+l-1)\n",
    "    for i in range(totalData-startPrediction-l+1):\n",
    "        single_pred = []\n",
    "        for [p,q] in test_queue:\n",
    "            try:\n",
    "                model = ARMA(tsValuesLog_d_1[i:i+startPrediction],order=(p,q))\n",
    "                result = model.fit()\n",
    "                single_pred.append(sum(result.predict(start=startPrediction,end=startPrediction+l-1))+tsValuesLog[i+startPrediction-1])\n",
    "            except ValueError:\n",
    "                single_pred.append(tsValuesLog[i+startPrediction-1])\n",
    "        pred.append(np.mean(single_pred))\n",
    "    mae_.append(mean_absolute_error(pred[startPrediction+l-1:],tsValuesLog[startPrediction+l-1:]))\n",
    "    rmse_.append(root_mean_square_error(pred[startPrediction+l-1:],tsValuesLog[startPrediction+l-1:])) \n",
    "PredictionOutputMAE['AR_Diff_Mean'] = mae_\n",
    "PredictionOutputRMSE['AR_Diff_Mean'] = rmse_"
   ]
  },
  {
   "cell_type": "code",
   "execution_count": 11,
   "metadata": {},
   "outputs": [],
   "source": [
    "mae_ = []\n",
    "rmse_ = []\n",
    "p=1\n",
    "q=1\n",
    "for l in [1,3,6,12]:\n",
    "    pred = [0]*(startPrediction+l-1)\n",
    "    for i in range(totalData-startPrediction-l+1):\n",
    "        try:\n",
    "            model = ARMA(tsValuesLog[i:i+startPrediction],order=(p,q))\n",
    "            result = model.fit()\n",
    "            pred.append(result.predict(start=startPrediction,end=startPrediction+l-1)[l-1])\n",
    "        except ValueError:\n",
    "            single_pred.append(tsValuesLog[i+startPrediction-1])\n",
    "    mae_.append(mean_absolute_error(pred[startPrediction+l-1:],tsValuesLog[startPrediction+l-1:]))\n",
    "    rmse_.append(root_mean_square_error(pred[startPrediction+l-1:],tsValuesLog[startPrediction+l-1:])) \n",
    "PredictionOutputMAE['ARMA_'+str(p)+'_'+str(q)] = mae_\n",
    "PredictionOutputRMSE['ARMA_'+str(p)+'_'+str(q)] = rmse_"
   ]
  },
  {
   "cell_type": "code",
   "execution_count": 12,
   "metadata": {},
   "outputs": [
    {
     "name": "stderr",
     "output_type": "stream",
     "text": [
      "C:\\Users\\Hallo\\Anaconda3\\lib\\site-packages\\statsmodels\\regression\\linear_model.py:1127: RuntimeWarning: invalid value encountered in sqrt\n",
      "  return rho, np.sqrt(sigmasq)\n"
     ]
    },
    {
     "name": "stdout",
     "output_type": "stream",
     "text": [
      "Wall time: 21.6 s\n"
     ]
    }
   ],
   "source": [
    "%%time\n",
    "mae_ = []\n",
    "rmse_ = []\n",
    "p=2\n",
    "q=0\n",
    "for l in [1,3,6,12]:\n",
    "    pred = [0]*(startPrediction+l-1)\n",
    "    for i in range(totalData-startPrediction-l+1):\n",
    "        try:\n",
    "            model = ARMA(tsValuesLog[i:i+startPrediction],order=(p,q))\n",
    "            result = model.fit()\n",
    "            pred.append(result.predict(start=startPrediction,end=startPrediction+l-1)[l-1])\n",
    "        except ValueError:\n",
    "            pred.append(tsValuesLog[startPrediction+i-1])\n",
    "    mae_.append(mean_absolute_error(pred[startPrediction+l-1:],tsValuesLog[startPrediction+l-1:]))\n",
    "    rmse_.append(root_mean_square_error(pred[startPrediction+l-1:],tsValuesLog[startPrediction+l-1:])) \n",
    "PredictionOutputMAE['AR_'+str(p)+'_'+str(q)] = mae_\n",
    "PredictionOutputRMSE['AR_'+str(p)+'_'+str(q)] = rmse_"
   ]
  },
  {
   "cell_type": "code",
   "execution_count": 13,
   "metadata": {},
   "outputs": [
    {
     "data": {
      "text/html": [
       "<div>\n",
       "<table border=\"1\" class=\"dataframe\">\n",
       "  <thead>\n",
       "    <tr style=\"text-align: right;\">\n",
       "      <th></th>\n",
       "      <th>RandomWalk</th>\n",
       "      <th>RandomWalkWithDrift</th>\n",
       "      <th>AR_1_1</th>\n",
       "      <th>AR_2_0</th>\n",
       "    </tr>\n",
       "  </thead>\n",
       "  <tbody>\n",
       "    <tr>\n",
       "      <th>monthly</th>\n",
       "      <td>0.014723</td>\n",
       "      <td>0.014878</td>\n",
       "      <td>0.014194</td>\n",
       "      <td>0.014027</td>\n",
       "    </tr>\n",
       "    <tr>\n",
       "      <th>3_month</th>\n",
       "      <td>0.029652</td>\n",
       "      <td>0.029486</td>\n",
       "      <td>0.032557</td>\n",
       "      <td>0.034744</td>\n",
       "    </tr>\n",
       "    <tr>\n",
       "      <th>6_month</th>\n",
       "      <td>0.042237</td>\n",
       "      <td>0.041974</td>\n",
       "      <td>0.049529</td>\n",
       "      <td>0.053566</td>\n",
       "    </tr>\n",
       "    <tr>\n",
       "      <th>12_month</th>\n",
       "      <td>0.066676</td>\n",
       "      <td>0.070169</td>\n",
       "      <td>0.078542</td>\n",
       "      <td>0.086585</td>\n",
       "    </tr>\n",
       "  </tbody>\n",
       "</table>\n",
       "</div>"
      ],
      "text/plain": [
       "          RandomWalk  RandomWalkWithDrift    AR_1_1    AR_2_0\n",
       "monthly     0.014723             0.014878  0.014194  0.014027\n",
       "3_month     0.029652             0.029486  0.032557  0.034744\n",
       "6_month     0.042237             0.041974  0.049529  0.053566\n",
       "12_month    0.066676             0.070169  0.078542  0.086585"
      ]
     },
     "execution_count": 13,
     "metadata": {},
     "output_type": "execute_result"
    }
   ],
   "source": [
    "PredictionOutputMAE"
   ]
  },
  {
   "cell_type": "code",
   "execution_count": 5,
   "metadata": {},
   "outputs": [],
   "source": [
    "tsValuesLog_d_1 = [0]\n",
    "tsValuesLog_d_1 += [tsValuesLog[i+1]-tsValuesLog[i] for i in range(totalData-1)]"
   ]
  },
  {
   "cell_type": "code",
   "execution_count": 16,
   "metadata": {},
   "outputs": [],
   "source": [
    "mae_ = []\n",
    "rmse_ = []\n",
    "p=1\n",
    "q=0\n",
    "for l in [1,3,6,12]:\n",
    "    pred = [0]*(startPrediction+l-1)\n",
    "    for i in range(totalData-startPrediction-l+1):\n",
    "        model = ARMA(tsValuesLog_d_1[i:i+startPrediction],order=(p,q))\n",
    "        result = model.fit()\n",
    "        pred.append(sum(result.predict(start=startPrediction,end=startPrediction+l-1))+tsValuesLog[i+startPrediction-1])\n",
    "    mae_.append(mean_absolute_error(pred[startPrediction+l-1:],tsValuesLog[startPrediction+l-1:]))\n",
    "    rmse_.append(root_mean_square_error(pred[startPrediction+l-1:],tsValuesLog[startPrediction+l-1:])) \n",
    "PredictionOutputMAE['AR_Diff_'+str(p)+'_'+str(q)] = mae_\n",
    "PredictionOutputRMSE['AR_Diff_'+str(p)+'_'+str(q)] = rmse_"
   ]
  },
  {
   "cell_type": "code",
   "execution_count": 18,
   "metadata": {},
   "outputs": [
    {
     "name": "stdout",
     "output_type": "stream",
     "text": [
      "Wall time: 16.3 s\n"
     ]
    }
   ],
   "source": [
    "%%time\n",
    "mae_ = []\n",
    "rmse_ = []\n",
    "p=0\n",
    "q=1\n",
    "for l in [1,3,6,12]:\n",
    "    pred = [0]*(startPrediction+l-1)\n",
    "    for i in range(totalData-startPrediction-l+1):\n",
    "        model = ARMA(tsValuesLog_d_1[i:i+startPrediction],order=(p,q))\n",
    "        result = model.fit()\n",
    "        pred.append(sum(result.predict(start=startPrediction,end=startPrediction+l-1))+tsValuesLog[i+startPrediction-1])\n",
    "    mae_.append(mean_absolute_error(pred[startPrediction+l-1:],tsValuesLog[startPrediction+l-1:]))\n",
    "    rmse_.append(root_mean_square_error(pred[startPrediction+l-1:],tsValuesLog[startPrediction+l-1:])) \n",
    "PredictionOutputMAE['AR_Diff_'+str(p)+'_'+str(q)] = mae_\n",
    "PredictionOutputRMSE['AR_Diff_'+str(p)+'_'+str(q)] = rmse_"
   ]
  },
  {
   "cell_type": "code",
   "execution_count": 35,
   "metadata": {
    "collapsed": true
   },
   "outputs": [],
   "source": [
    "#Unobserved model\n",
    "import statsmodels.api as sm\n",
    "\n",
    "class UnobservedComponentModel:\n",
    "    def __init__(self):\n",
    "        self.model_name = \"UnobservedComponentModel\"\n",
    "        return\n",
    "\n",
    "    def fit(self, ts):\n",
    "        unrestricted_model = {\n",
    "            'level': 'local linear trend', 'cycle': False , 'seasonal': 12\n",
    "        }\n",
    "\n",
    "        model = sm.tsa.UnobservedComponents(endog=ts, **unrestricted_model)\n",
    "        self.trained_model = model.fit()\n",
    "        return self\n",
    "\n",
    "    def predict(self, next_n_prediction):\n",
    "        prediction = self.trained_model.forecast(steps=next_n_prediction)\n",
    "        return prediction"
   ]
  },
  {
   "cell_type": "code",
   "execution_count": 36,
   "metadata": {
    "scrolled": true
   },
   "outputs": [
    {
     "name": "stderr",
     "output_type": "stream",
     "text": [
      "C:\\Users\\Hallo\\Anaconda3\\lib\\site-packages\\statsmodels\\base\\model.py:496: ConvergenceWarning: Maximum Likelihood optimization failed to converge. Check mle_retvals\n",
      "  \"Check mle_retvals\", ConvergenceWarning)\n",
      "C:\\Users\\Hallo\\Anaconda3\\lib\\site-packages\\statsmodels\\base\\model.py:496: ConvergenceWarning: Maximum Likelihood optimization failed to converge. Check mle_retvals\n",
      "  \"Check mle_retvals\", ConvergenceWarning)\n",
      "C:\\Users\\Hallo\\Anaconda3\\lib\\site-packages\\statsmodels\\base\\model.py:496: ConvergenceWarning: Maximum Likelihood optimization failed to converge. Check mle_retvals\n",
      "  \"Check mle_retvals\", ConvergenceWarning)\n",
      "C:\\Users\\Hallo\\Anaconda3\\lib\\site-packages\\statsmodels\\base\\model.py:496: ConvergenceWarning: Maximum Likelihood optimization failed to converge. Check mle_retvals\n",
      "  \"Check mle_retvals\", ConvergenceWarning)\n",
      "C:\\Users\\Hallo\\Anaconda3\\lib\\site-packages\\statsmodels\\base\\model.py:496: ConvergenceWarning: Maximum Likelihood optimization failed to converge. Check mle_retvals\n",
      "  \"Check mle_retvals\", ConvergenceWarning)\n",
      "C:\\Users\\Hallo\\Anaconda3\\lib\\site-packages\\statsmodels\\base\\model.py:496: ConvergenceWarning: Maximum Likelihood optimization failed to converge. Check mle_retvals\n",
      "  \"Check mle_retvals\", ConvergenceWarning)\n",
      "C:\\Users\\Hallo\\Anaconda3\\lib\\site-packages\\statsmodels\\base\\model.py:496: ConvergenceWarning: Maximum Likelihood optimization failed to converge. Check mle_retvals\n",
      "  \"Check mle_retvals\", ConvergenceWarning)\n",
      "C:\\Users\\Hallo\\Anaconda3\\lib\\site-packages\\statsmodels\\base\\model.py:496: ConvergenceWarning: Maximum Likelihood optimization failed to converge. Check mle_retvals\n",
      "  \"Check mle_retvals\", ConvergenceWarning)\n",
      "C:\\Users\\Hallo\\Anaconda3\\lib\\site-packages\\statsmodels\\base\\model.py:496: ConvergenceWarning: Maximum Likelihood optimization failed to converge. Check mle_retvals\n",
      "  \"Check mle_retvals\", ConvergenceWarning)\n",
      "C:\\Users\\Hallo\\Anaconda3\\lib\\site-packages\\statsmodels\\base\\model.py:496: ConvergenceWarning: Maximum Likelihood optimization failed to converge. Check mle_retvals\n",
      "  \"Check mle_retvals\", ConvergenceWarning)\n",
      "C:\\Users\\Hallo\\Anaconda3\\lib\\site-packages\\statsmodels\\base\\model.py:496: ConvergenceWarning: Maximum Likelihood optimization failed to converge. Check mle_retvals\n",
      "  \"Check mle_retvals\", ConvergenceWarning)\n",
      "C:\\Users\\Hallo\\Anaconda3\\lib\\site-packages\\statsmodels\\base\\model.py:496: ConvergenceWarning: Maximum Likelihood optimization failed to converge. Check mle_retvals\n",
      "  \"Check mle_retvals\", ConvergenceWarning)\n",
      "C:\\Users\\Hallo\\Anaconda3\\lib\\site-packages\\statsmodels\\base\\model.py:496: ConvergenceWarning: Maximum Likelihood optimization failed to converge. Check mle_retvals\n",
      "  \"Check mle_retvals\", ConvergenceWarning)\n",
      "C:\\Users\\Hallo\\Anaconda3\\lib\\site-packages\\statsmodels\\base\\model.py:496: ConvergenceWarning: Maximum Likelihood optimization failed to converge. Check mle_retvals\n",
      "  \"Check mle_retvals\", ConvergenceWarning)\n",
      "C:\\Users\\Hallo\\Anaconda3\\lib\\site-packages\\statsmodels\\base\\model.py:496: ConvergenceWarning: Maximum Likelihood optimization failed to converge. Check mle_retvals\n",
      "  \"Check mle_retvals\", ConvergenceWarning)\n",
      "C:\\Users\\Hallo\\Anaconda3\\lib\\site-packages\\statsmodels\\base\\model.py:496: ConvergenceWarning: Maximum Likelihood optimization failed to converge. Check mle_retvals\n",
      "  \"Check mle_retvals\", ConvergenceWarning)\n",
      "C:\\Users\\Hallo\\Anaconda3\\lib\\site-packages\\statsmodels\\base\\model.py:496: ConvergenceWarning: Maximum Likelihood optimization failed to converge. Check mle_retvals\n",
      "  \"Check mle_retvals\", ConvergenceWarning)\n",
      "C:\\Users\\Hallo\\Anaconda3\\lib\\site-packages\\statsmodels\\base\\model.py:496: ConvergenceWarning: Maximum Likelihood optimization failed to converge. Check mle_retvals\n",
      "  \"Check mle_retvals\", ConvergenceWarning)\n",
      "C:\\Users\\Hallo\\Anaconda3\\lib\\site-packages\\statsmodels\\base\\model.py:496: ConvergenceWarning: Maximum Likelihood optimization failed to converge. Check mle_retvals\n",
      "  \"Check mle_retvals\", ConvergenceWarning)\n",
      "C:\\Users\\Hallo\\Anaconda3\\lib\\site-packages\\statsmodels\\base\\model.py:496: ConvergenceWarning: Maximum Likelihood optimization failed to converge. Check mle_retvals\n",
      "  \"Check mle_retvals\", ConvergenceWarning)\n",
      "C:\\Users\\Hallo\\Anaconda3\\lib\\site-packages\\statsmodels\\base\\model.py:496: ConvergenceWarning: Maximum Likelihood optimization failed to converge. Check mle_retvals\n",
      "  \"Check mle_retvals\", ConvergenceWarning)\n",
      "C:\\Users\\Hallo\\Anaconda3\\lib\\site-packages\\statsmodels\\base\\model.py:496: ConvergenceWarning: Maximum Likelihood optimization failed to converge. Check mle_retvals\n",
      "  \"Check mle_retvals\", ConvergenceWarning)\n",
      "C:\\Users\\Hallo\\Anaconda3\\lib\\site-packages\\statsmodels\\base\\model.py:496: ConvergenceWarning: Maximum Likelihood optimization failed to converge. Check mle_retvals\n",
      "  \"Check mle_retvals\", ConvergenceWarning)\n",
      "C:\\Users\\Hallo\\Anaconda3\\lib\\site-packages\\statsmodels\\base\\model.py:496: ConvergenceWarning: Maximum Likelihood optimization failed to converge. Check mle_retvals\n",
      "  \"Check mle_retvals\", ConvergenceWarning)\n",
      "C:\\Users\\Hallo\\Anaconda3\\lib\\site-packages\\statsmodels\\base\\model.py:496: ConvergenceWarning: Maximum Likelihood optimization failed to converge. Check mle_retvals\n",
      "  \"Check mle_retvals\", ConvergenceWarning)\n",
      "C:\\Users\\Hallo\\Anaconda3\\lib\\site-packages\\statsmodels\\base\\model.py:496: ConvergenceWarning: Maximum Likelihood optimization failed to converge. Check mle_retvals\n",
      "  \"Check mle_retvals\", ConvergenceWarning)\n",
      "C:\\Users\\Hallo\\Anaconda3\\lib\\site-packages\\statsmodels\\base\\model.py:496: ConvergenceWarning: Maximum Likelihood optimization failed to converge. Check mle_retvals\n",
      "  \"Check mle_retvals\", ConvergenceWarning)\n",
      "C:\\Users\\Hallo\\Anaconda3\\lib\\site-packages\\statsmodels\\base\\model.py:496: ConvergenceWarning: Maximum Likelihood optimization failed to converge. Check mle_retvals\n",
      "  \"Check mle_retvals\", ConvergenceWarning)\n",
      "C:\\Users\\Hallo\\Anaconda3\\lib\\site-packages\\statsmodels\\base\\model.py:496: ConvergenceWarning: Maximum Likelihood optimization failed to converge. Check mle_retvals\n",
      "  \"Check mle_retvals\", ConvergenceWarning)\n",
      "C:\\Users\\Hallo\\Anaconda3\\lib\\site-packages\\statsmodels\\base\\model.py:496: ConvergenceWarning: Maximum Likelihood optimization failed to converge. Check mle_retvals\n",
      "  \"Check mle_retvals\", ConvergenceWarning)\n",
      "C:\\Users\\Hallo\\Anaconda3\\lib\\site-packages\\statsmodels\\base\\model.py:496: ConvergenceWarning: Maximum Likelihood optimization failed to converge. Check mle_retvals\n",
      "  \"Check mle_retvals\", ConvergenceWarning)\n",
      "C:\\Users\\Hallo\\Anaconda3\\lib\\site-packages\\statsmodels\\base\\model.py:496: ConvergenceWarning: Maximum Likelihood optimization failed to converge. Check mle_retvals\n",
      "  \"Check mle_retvals\", ConvergenceWarning)\n",
      "C:\\Users\\Hallo\\Anaconda3\\lib\\site-packages\\statsmodels\\base\\model.py:496: ConvergenceWarning: Maximum Likelihood optimization failed to converge. Check mle_retvals\n",
      "  \"Check mle_retvals\", ConvergenceWarning)\n",
      "C:\\Users\\Hallo\\Anaconda3\\lib\\site-packages\\statsmodels\\base\\model.py:496: ConvergenceWarning: Maximum Likelihood optimization failed to converge. Check mle_retvals\n",
      "  \"Check mle_retvals\", ConvergenceWarning)\n",
      "C:\\Users\\Hallo\\Anaconda3\\lib\\site-packages\\statsmodels\\base\\model.py:496: ConvergenceWarning: Maximum Likelihood optimization failed to converge. Check mle_retvals\n",
      "  \"Check mle_retvals\", ConvergenceWarning)\n",
      "C:\\Users\\Hallo\\Anaconda3\\lib\\site-packages\\statsmodels\\base\\model.py:496: ConvergenceWarning: Maximum Likelihood optimization failed to converge. Check mle_retvals\n",
      "  \"Check mle_retvals\", ConvergenceWarning)\n",
      "C:\\Users\\Hallo\\Anaconda3\\lib\\site-packages\\statsmodels\\base\\model.py:496: ConvergenceWarning: Maximum Likelihood optimization failed to converge. Check mle_retvals\n",
      "  \"Check mle_retvals\", ConvergenceWarning)\n"
     ]
    },
    {
     "name": "stdout",
     "output_type": "stream",
     "text": [
      "Wall time: 2min 43s\n"
     ]
    }
   ],
   "source": [
    "mae_ = []\n",
    "rmse_ = []\n",
    "for l in [1,3,6,12]:\n",
    "    pred = [0]*(startPrediction+l-1)\n",
    "    for i in range(totalData-startPrediction-(l-1)):\n",
    "        model = UnobservedComponentModel()\n",
    "        model.fit(tsValuesLog[i:i+startPrediction])\n",
    "        pred.append(model.predict(l)[l-1])\n",
    "    mae_.append(mean_absolute_error(pred[startPrediction+l-1:],tsValuesLog[startPrediction+l-1:]))\n",
    "    rmse_.append(root_mean_square_error(pred[startPrediction+l-1:],tsValuesLog[startPrediction+l-1:]))"
   ]
  },
  {
   "cell_type": "code",
   "execution_count": 33,
   "metadata": {
    "collapsed": true
   },
   "outputs": [],
   "source": [
    "#1min 3s\n",
    "PredictionOutputMAE[\"UnobservedComponentModel\"] = mae_\n",
    "PredictionOutputRMSE[\"UnobservedComponentModel\"] = rmse_"
   ]
  },
  {
   "cell_type": "code",
   "execution_count": 37,
   "metadata": {
    "collapsed": true
   },
   "outputs": [],
   "source": [
    "PredictionOutputMAE[\"UnobservedComponentModel_With_Season\"] = mae_\n",
    "PredictionOutputRMSE[\"UnobservedComponentModel_With_Season\"] = rmse_"
   ]
  },
  {
   "cell_type": "code",
   "execution_count": 38,
   "metadata": {},
   "outputs": [
    {
     "data": {
      "text/html": [
       "<div>\n",
       "<table border=\"1\" class=\"dataframe\">\n",
       "  <thead>\n",
       "    <tr style=\"text-align: right;\">\n",
       "      <th></th>\n",
       "      <th>RandomWalk</th>\n",
       "      <th>RandomWalkWithDrift</th>\n",
       "      <th>AR_1_1</th>\n",
       "      <th>AR_2_0</th>\n",
       "      <th>AR_Diff_1_0</th>\n",
       "      <th>AR_Diff_0_1</th>\n",
       "      <th>UnobservedComponentModel</th>\n",
       "      <th>UnobservedComponentModel_With_Season</th>\n",
       "    </tr>\n",
       "  </thead>\n",
       "  <tbody>\n",
       "    <tr>\n",
       "      <th>monthly</th>\n",
       "      <td>0.014723</td>\n",
       "      <td>0.014878</td>\n",
       "      <td>0.014194</td>\n",
       "      <td>0.014027</td>\n",
       "      <td>0.013884</td>\n",
       "      <td>0.014027</td>\n",
       "      <td>0.014661</td>\n",
       "      <td>0.014079</td>\n",
       "    </tr>\n",
       "    <tr>\n",
       "      <th>3_month</th>\n",
       "      <td>0.029652</td>\n",
       "      <td>0.029486</td>\n",
       "      <td>0.032557</td>\n",
       "      <td>0.034744</td>\n",
       "      <td>0.031423</td>\n",
       "      <td>0.029757</td>\n",
       "      <td>0.034403</td>\n",
       "      <td>0.031034</td>\n",
       "    </tr>\n",
       "    <tr>\n",
       "      <th>6_month</th>\n",
       "      <td>0.042237</td>\n",
       "      <td>0.041974</td>\n",
       "      <td>0.049529</td>\n",
       "      <td>0.053566</td>\n",
       "      <td>0.041627</td>\n",
       "      <td>0.041584</td>\n",
       "      <td>0.048766</td>\n",
       "      <td>0.039507</td>\n",
       "    </tr>\n",
       "    <tr>\n",
       "      <th>12_month</th>\n",
       "      <td>0.066676</td>\n",
       "      <td>0.070169</td>\n",
       "      <td>0.078542</td>\n",
       "      <td>0.086585</td>\n",
       "      <td>0.072587</td>\n",
       "      <td>0.072058</td>\n",
       "      <td>0.085057</td>\n",
       "      <td>0.080009</td>\n",
       "    </tr>\n",
       "  </tbody>\n",
       "</table>\n",
       "</div>"
      ],
      "text/plain": [
       "          RandomWalk  RandomWalkWithDrift    AR_1_1    AR_2_0  AR_Diff_1_0  \\\n",
       "monthly     0.014723             0.014878  0.014194  0.014027     0.013884   \n",
       "3_month     0.029652             0.029486  0.032557  0.034744     0.031423   \n",
       "6_month     0.042237             0.041974  0.049529  0.053566     0.041627   \n",
       "12_month    0.066676             0.070169  0.078542  0.086585     0.072587   \n",
       "\n",
       "          AR_Diff_0_1  UnobservedComponentModel  \\\n",
       "monthly      0.014027                  0.014661   \n",
       "3_month      0.029757                  0.034403   \n",
       "6_month      0.041584                  0.048766   \n",
       "12_month     0.072058                  0.085057   \n",
       "\n",
       "          UnobservedComponentModel_With_Season  \n",
       "monthly                               0.014079  \n",
       "3_month                               0.031034  \n",
       "6_month                               0.039507  \n",
       "12_month                              0.080009  "
      ]
     },
     "execution_count": 38,
     "metadata": {},
     "output_type": "execute_result"
    }
   ],
   "source": [
    "PredictionOutputMAE"
   ]
  },
  {
   "cell_type": "code",
   "execution_count": 39,
   "metadata": {},
   "outputs": [
    {
     "data": {
      "text/html": [
       "<div>\n",
       "<table border=\"1\" class=\"dataframe\">\n",
       "  <thead>\n",
       "    <tr style=\"text-align: right;\">\n",
       "      <th></th>\n",
       "      <th>RandomWalk</th>\n",
       "      <th>RandomWalkWithDrift</th>\n",
       "      <th>AR_1_1</th>\n",
       "      <th>AR_2_0</th>\n",
       "      <th>AR_Diff_1_0</th>\n",
       "      <th>AR_Diff_0_1</th>\n",
       "      <th>UnobservedComponentModel</th>\n",
       "      <th>UnobservedComponentModel_With_Season</th>\n",
       "    </tr>\n",
       "  </thead>\n",
       "  <tbody>\n",
       "    <tr>\n",
       "      <th>monthly</th>\n",
       "      <td>0.018485</td>\n",
       "      <td>0.018585</td>\n",
       "      <td>0.017913</td>\n",
       "      <td>0.017797</td>\n",
       "      <td>0.017453</td>\n",
       "      <td>0.017485</td>\n",
       "      <td>0.018931</td>\n",
       "      <td>0.018688</td>\n",
       "    </tr>\n",
       "    <tr>\n",
       "      <th>3_month</th>\n",
       "      <td>0.038930</td>\n",
       "      <td>0.039459</td>\n",
       "      <td>0.042555</td>\n",
       "      <td>0.044725</td>\n",
       "      <td>0.040810</td>\n",
       "      <td>0.039730</td>\n",
       "      <td>0.044601</td>\n",
       "      <td>0.040133</td>\n",
       "    </tr>\n",
       "    <tr>\n",
       "      <th>6_month</th>\n",
       "      <td>0.052930</td>\n",
       "      <td>0.054556</td>\n",
       "      <td>0.061786</td>\n",
       "      <td>0.066699</td>\n",
       "      <td>0.054419</td>\n",
       "      <td>0.054433</td>\n",
       "      <td>0.064135</td>\n",
       "      <td>0.051781</td>\n",
       "    </tr>\n",
       "    <tr>\n",
       "      <th>12_month</th>\n",
       "      <td>0.081540</td>\n",
       "      <td>0.087839</td>\n",
       "      <td>0.097558</td>\n",
       "      <td>0.106715</td>\n",
       "      <td>0.087376</td>\n",
       "      <td>0.087489</td>\n",
       "      <td>0.106004</td>\n",
       "      <td>0.096652</td>\n",
       "    </tr>\n",
       "  </tbody>\n",
       "</table>\n",
       "</div>"
      ],
      "text/plain": [
       "          RandomWalk  RandomWalkWithDrift    AR_1_1    AR_2_0  AR_Diff_1_0  \\\n",
       "monthly     0.018485             0.018585  0.017913  0.017797     0.017453   \n",
       "3_month     0.038930             0.039459  0.042555  0.044725     0.040810   \n",
       "6_month     0.052930             0.054556  0.061786  0.066699     0.054419   \n",
       "12_month    0.081540             0.087839  0.097558  0.106715     0.087376   \n",
       "\n",
       "          AR_Diff_0_1  UnobservedComponentModel  \\\n",
       "monthly      0.017485                  0.018931   \n",
       "3_month      0.039730                  0.044601   \n",
       "6_month      0.054433                  0.064135   \n",
       "12_month     0.087489                  0.106004   \n",
       "\n",
       "          UnobservedComponentModel_With_Season  \n",
       "monthly                               0.018688  \n",
       "3_month                               0.040133  \n",
       "6_month                               0.051781  \n",
       "12_month                              0.096652  "
      ]
     },
     "execution_count": 39,
     "metadata": {},
     "output_type": "execute_result"
    }
   ],
   "source": [
    "PredictionOutputRMSE"
   ]
  },
  {
   "cell_type": "code",
   "execution_count": 40,
   "metadata": {
    "collapsed": true
   },
   "outputs": [],
   "source": [
    "PredictionOutputMAE.to_csv(\"EXCAUS_MAE.csv\")"
   ]
  },
  {
   "cell_type": "code",
   "execution_count": 41,
   "metadata": {
    "collapsed": true
   },
   "outputs": [],
   "source": [
    "PredictionOutputRMSE.to_csv(\"EXCAUS_RMAE.csv\")"
   ]
  }
 ],
 "metadata": {
  "kernelspec": {
   "display_name": "Python 3",
   "language": "python",
   "name": "python3"
  }
 },
 "nbformat": 4,
 "nbformat_minor": 2
}
