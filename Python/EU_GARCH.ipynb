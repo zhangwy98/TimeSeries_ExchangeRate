{
 "cells": [
  {
   "cell_type": "code",
   "execution_count": 132,
   "metadata": {
    "collapsed": false
   },
   "outputs": [
    {
     "name": "stdout",
     "output_type": "stream",
     "text": [
      "myspec=ugarchspec(variance.model = list(model = \"sGARCH\", garchOrder = c(2, 2), submodel = NULL, external.regressors = NULL, variance.targeting = FALSE),mean.model = list(armaOrder = c(1,1), include.mean = TRUE, archm = FALSE, archpow = 1, arfima = FALSE, external.regressors = NULL, archex = FALSE),distribution.model = \"norm\")\n",
      "myfit=ugarchfit(myspec,data=tsValuesLog_d_1[11:111],solver=\"solnp\")\n",
      "forc = ugarchforecast(myfit,n.ahead = 12)\n",
      "print(forc)\n",
      "myspec=ugarchspec(variance.model = list(model = \"sGARCH\", garchOrder = c(2, 2), submodel = NULL, external.regressors = NULL, variance.targeting = FALSE),mean.model = list(armaOrder = c(1,1), include.mean = TRUE, archm = FALSE, archpow = 1, arfima = FALSE, external.regressors = NULL, archex = FALSE),distribution.model = \"norm\")\n",
      "myfit=ugarchfit(myspec,data=tsValuesLog_d_1[12:112],solver=\"solnp\")\n",
      "forc = ugarchforecast(myfit,n.ahead = 12)\n",
      "print(forc)\n",
      "myspec=ugarchspec(variance.model = list(model = \"sGARCH\", garchOrder = c(2, 2), submodel = NULL, external.regressors = NULL, variance.targeting = FALSE),mean.model = list(armaOrder = c(1,1), include.mean = TRUE, archm = FALSE, archpow = 1, arfima = FALSE, external.regressors = NULL, archex = FALSE),distribution.model = \"norm\")\n",
      "myfit=ugarchfit(myspec,data=tsValuesLog_d_1[13:113],solver=\"solnp\")\n",
      "forc = ugarchforecast(myfit,n.ahead = 12)\n",
      "print(forc)\n",
      "myspec=ugarchspec(variance.model = list(model = \"sGARCH\", garchOrder = c(2, 2), submodel = NULL, external.regressors = NULL, variance.targeting = FALSE),mean.model = list(armaOrder = c(1,1), include.mean = TRUE, archm = FALSE, archpow = 1, arfima = FALSE, external.regressors = NULL, archex = FALSE),distribution.model = \"norm\")\n",
      "myfit=ugarchfit(myspec,data=tsValuesLog_d_1[14:114],solver=\"solnp\")\n",
      "forc = ugarchforecast(myfit,n.ahead = 12)\n",
      "print(forc)\n",
      "myspec=ugarchspec(variance.model = list(model = \"sGARCH\", garchOrder = c(2, 2), submodel = NULL, external.regressors = NULL, variance.targeting = FALSE),mean.model = list(armaOrder = c(1,1), include.mean = TRUE, archm = FALSE, archpow = 1, arfima = FALSE, external.regressors = NULL, archex = FALSE),distribution.model = \"norm\")\n",
      "myfit=ugarchfit(myspec,data=tsValuesLog_d_1[15:115],solver=\"solnp\")\n",
      "forc = ugarchforecast(myfit,n.ahead = 12)\n",
      "print(forc)\n",
      "myspec=ugarchspec(variance.model = list(model = \"sGARCH\", garchOrder = c(2, 2), submodel = NULL, external.regressors = NULL, variance.targeting = FALSE),mean.model = list(armaOrder = c(1,1), include.mean = TRUE, archm = FALSE, archpow = 1, arfima = FALSE, external.regressors = NULL, archex = FALSE),distribution.model = \"norm\")\n",
      "myfit=ugarchfit(myspec,data=tsValuesLog_d_1[16:116],solver=\"solnp\")\n",
      "forc = ugarchforecast(myfit,n.ahead = 12)\n",
      "print(forc)\n",
      "myspec=ugarchspec(variance.model = list(model = \"sGARCH\", garchOrder = c(2, 2), submodel = NULL, external.regressors = NULL, variance.targeting = FALSE),mean.model = list(armaOrder = c(1,1), include.mean = TRUE, archm = FALSE, archpow = 1, arfima = FALSE, external.regressors = NULL, archex = FALSE),distribution.model = \"norm\")\n",
      "myfit=ugarchfit(myspec,data=tsValuesLog_d_1[17:117],solver=\"solnp\")\n",
      "forc = ugarchforecast(myfit,n.ahead = 12)\n",
      "print(forc)\n",
      "myspec=ugarchspec(variance.model = list(model = \"sGARCH\", garchOrder = c(2, 2), submodel = NULL, external.regressors = NULL, variance.targeting = FALSE),mean.model = list(armaOrder = c(1,1), include.mean = TRUE, archm = FALSE, archpow = 1, arfima = FALSE, external.regressors = NULL, archex = FALSE),distribution.model = \"norm\")\n",
      "myfit=ugarchfit(myspec,data=tsValuesLog_d_1[18:118],solver=\"solnp\")\n",
      "forc = ugarchforecast(myfit,n.ahead = 12)\n",
      "print(forc)\n",
      "myspec=ugarchspec(variance.model = list(model = \"sGARCH\", garchOrder = c(2, 2), submodel = NULL, external.regressors = NULL, variance.targeting = FALSE),mean.model = list(armaOrder = c(1,1), include.mean = TRUE, archm = FALSE, archpow = 1, arfima = FALSE, external.regressors = NULL, archex = FALSE),distribution.model = \"norm\")\n",
      "myfit=ugarchfit(myspec,data=tsValuesLog_d_1[19:119],solver=\"solnp\")\n",
      "forc = ugarchforecast(myfit,n.ahead = 12)\n",
      "print(forc)\n",
      "myspec=ugarchspec(variance.model = list(model = \"sGARCH\", garchOrder = c(2, 2), submodel = NULL, external.regressors = NULL, variance.targeting = FALSE),mean.model = list(armaOrder = c(1,1), include.mean = TRUE, archm = FALSE, archpow = 1, arfima = FALSE, external.regressors = NULL, archex = FALSE),distribution.model = \"norm\")\n",
      "myfit=ugarchfit(myspec,data=tsValuesLog_d_1[20:120],solver=\"solnp\")\n",
      "forc = ugarchforecast(myfit,n.ahead = 12)\n",
      "print(forc)\n",
      "myspec=ugarchspec(variance.model = list(model = \"sGARCH\", garchOrder = c(2, 2), submodel = NULL, external.regressors = NULL, variance.targeting = FALSE),mean.model = list(armaOrder = c(1,1), include.mean = TRUE, archm = FALSE, archpow = 1, arfima = FALSE, external.regressors = NULL, archex = FALSE),distribution.model = \"norm\")\n",
      "myfit=ugarchfit(myspec,data=tsValuesLog_d_1[21:121],solver=\"solnp\")\n",
      "forc = ugarchforecast(myfit,n.ahead = 12)\n",
      "print(forc)\n",
      "myspec=ugarchspec(variance.model = list(model = \"sGARCH\", garchOrder = c(2, 2), submodel = NULL, external.regressors = NULL, variance.targeting = FALSE),mean.model = list(armaOrder = c(1,1), include.mean = TRUE, archm = FALSE, archpow = 1, arfima = FALSE, external.regressors = NULL, archex = FALSE),distribution.model = \"norm\")\n",
      "myfit=ugarchfit(myspec,data=tsValuesLog_d_1[22:122],solver=\"solnp\")\n",
      "forc = ugarchforecast(myfit,n.ahead = 12)\n",
      "print(forc)\n",
      "myspec=ugarchspec(variance.model = list(model = \"sGARCH\", garchOrder = c(2, 2), submodel = NULL, external.regressors = NULL, variance.targeting = FALSE),mean.model = list(armaOrder = c(1,1), include.mean = TRUE, archm = FALSE, archpow = 1, arfima = FALSE, external.regressors = NULL, archex = FALSE),distribution.model = \"norm\")\n",
      "myfit=ugarchfit(myspec,data=tsValuesLog_d_1[23:123],solver=\"solnp\")\n",
      "forc = ugarchforecast(myfit,n.ahead = 12)\n",
      "print(forc)\n",
      "myspec=ugarchspec(variance.model = list(model = \"sGARCH\", garchOrder = c(2, 2), submodel = NULL, external.regressors = NULL, variance.targeting = FALSE),mean.model = list(armaOrder = c(1,1), include.mean = TRUE, archm = FALSE, archpow = 1, arfima = FALSE, external.regressors = NULL, archex = FALSE),distribution.model = \"norm\")\n",
      "myfit=ugarchfit(myspec,data=tsValuesLog_d_1[24:124],solver=\"solnp\")\n",
      "forc = ugarchforecast(myfit,n.ahead = 12)\n",
      "print(forc)\n",
      "myspec=ugarchspec(variance.model = list(model = \"sGARCH\", garchOrder = c(2, 2), submodel = NULL, external.regressors = NULL, variance.targeting = FALSE),mean.model = list(armaOrder = c(1,1), include.mean = TRUE, archm = FALSE, archpow = 1, arfima = FALSE, external.regressors = NULL, archex = FALSE),distribution.model = \"norm\")\n",
      "myfit=ugarchfit(myspec,data=tsValuesLog_d_1[25:125],solver=\"solnp\")\n",
      "forc = ugarchforecast(myfit,n.ahead = 12)\n",
      "print(forc)\n",
      "myspec=ugarchspec(variance.model = list(model = \"sGARCH\", garchOrder = c(2, 2), submodel = NULL, external.regressors = NULL, variance.targeting = FALSE),mean.model = list(armaOrder = c(1,1), include.mean = TRUE, archm = FALSE, archpow = 1, arfima = FALSE, external.regressors = NULL, archex = FALSE),distribution.model = \"norm\")\n",
      "myfit=ugarchfit(myspec,data=tsValuesLog_d_1[26:126],solver=\"solnp\")\n",
      "forc = ugarchforecast(myfit,n.ahead = 12)\n",
      "print(forc)\n",
      "myspec=ugarchspec(variance.model = list(model = \"sGARCH\", garchOrder = c(2, 2), submodel = NULL, external.regressors = NULL, variance.targeting = FALSE),mean.model = list(armaOrder = c(1,1), include.mean = TRUE, archm = FALSE, archpow = 1, arfima = FALSE, external.regressors = NULL, archex = FALSE),distribution.model = \"norm\")\n",
      "myfit=ugarchfit(myspec,data=tsValuesLog_d_1[27:127],solver=\"solnp\")\n",
      "forc = ugarchforecast(myfit,n.ahead = 12)\n",
      "print(forc)\n",
      "myspec=ugarchspec(variance.model = list(model = \"sGARCH\", garchOrder = c(2, 2), submodel = NULL, external.regressors = NULL, variance.targeting = FALSE),mean.model = list(armaOrder = c(1,1), include.mean = TRUE, archm = FALSE, archpow = 1, arfima = FALSE, external.regressors = NULL, archex = FALSE),distribution.model = \"norm\")\n",
      "myfit=ugarchfit(myspec,data=tsValuesLog_d_1[28:128],solver=\"solnp\")\n",
      "forc = ugarchforecast(myfit,n.ahead = 12)\n",
      "print(forc)\n",
      "myspec=ugarchspec(variance.model = list(model = \"sGARCH\", garchOrder = c(2, 2), submodel = NULL, external.regressors = NULL, variance.targeting = FALSE),mean.model = list(armaOrder = c(1,1), include.mean = TRUE, archm = FALSE, archpow = 1, arfima = FALSE, external.regressors = NULL, archex = FALSE),distribution.model = \"norm\")\n",
      "myfit=ugarchfit(myspec,data=tsValuesLog_d_1[29:129],solver=\"solnp\")\n",
      "forc = ugarchforecast(myfit,n.ahead = 12)\n",
      "print(forc)\n",
      "myspec=ugarchspec(variance.model = list(model = \"sGARCH\", garchOrder = c(2, 2), submodel = NULL, external.regressors = NULL, variance.targeting = FALSE),mean.model = list(armaOrder = c(1,1), include.mean = TRUE, archm = FALSE, archpow = 1, arfima = FALSE, external.regressors = NULL, archex = FALSE),distribution.model = \"norm\")\n",
      "myfit=ugarchfit(myspec,data=tsValuesLog_d_1[30:130],solver=\"solnp\")\n",
      "forc = ugarchforecast(myfit,n.ahead = 12)\n",
      "print(forc)\n",
      "myspec=ugarchspec(variance.model = list(model = \"sGARCH\", garchOrder = c(2, 2), submodel = NULL, external.regressors = NULL, variance.targeting = FALSE),mean.model = list(armaOrder = c(1,1), include.mean = TRUE, archm = FALSE, archpow = 1, arfima = FALSE, external.regressors = NULL, archex = FALSE),distribution.model = \"norm\")\n",
      "myfit=ugarchfit(myspec,data=tsValuesLog_d_1[31:131],solver=\"solnp\")\n",
      "forc = ugarchforecast(myfit,n.ahead = 12)\n",
      "print(forc)\n",
      "myspec=ugarchspec(variance.model = list(model = \"sGARCH\", garchOrder = c(2, 2), submodel = NULL, external.regressors = NULL, variance.targeting = FALSE),mean.model = list(armaOrder = c(1,1), include.mean = TRUE, archm = FALSE, archpow = 1, arfima = FALSE, external.regressors = NULL, archex = FALSE),distribution.model = \"norm\")\n",
      "myfit=ugarchfit(myspec,data=tsValuesLog_d_1[32:132],solver=\"solnp\")\n",
      "forc = ugarchforecast(myfit,n.ahead = 12)\n",
      "print(forc)\n",
      "myspec=ugarchspec(variance.model = list(model = \"sGARCH\", garchOrder = c(2, 2), submodel = NULL, external.regressors = NULL, variance.targeting = FALSE),mean.model = list(armaOrder = c(1,1), include.mean = TRUE, archm = FALSE, archpow = 1, arfima = FALSE, external.regressors = NULL, archex = FALSE),distribution.model = \"norm\")\n",
      "myfit=ugarchfit(myspec,data=tsValuesLog_d_1[33:133],solver=\"solnp\")\n",
      "forc = ugarchforecast(myfit,n.ahead = 12)\n",
      "print(forc)\n",
      "myspec=ugarchspec(variance.model = list(model = \"sGARCH\", garchOrder = c(2, 2), submodel = NULL, external.regressors = NULL, variance.targeting = FALSE),mean.model = list(armaOrder = c(1,1), include.mean = TRUE, archm = FALSE, archpow = 1, arfima = FALSE, external.regressors = NULL, archex = FALSE),distribution.model = \"norm\")\n",
      "myfit=ugarchfit(myspec,data=tsValuesLog_d_1[34:134],solver=\"solnp\")\n",
      "forc = ugarchforecast(myfit,n.ahead = 12)\n",
      "print(forc)\n",
      "myspec=ugarchspec(variance.model = list(model = \"sGARCH\", garchOrder = c(2, 2), submodel = NULL, external.regressors = NULL, variance.targeting = FALSE),mean.model = list(armaOrder = c(1,1), include.mean = TRUE, archm = FALSE, archpow = 1, arfima = FALSE, external.regressors = NULL, archex = FALSE),distribution.model = \"norm\")\n",
      "myfit=ugarchfit(myspec,data=tsValuesLog_d_1[35:135],solver=\"solnp\")\n",
      "forc = ugarchforecast(myfit,n.ahead = 12)\n",
      "print(forc)\n",
      "myspec=ugarchspec(variance.model = list(model = \"sGARCH\", garchOrder = c(2, 2), submodel = NULL, external.regressors = NULL, variance.targeting = FALSE),mean.model = list(armaOrder = c(1,1), include.mean = TRUE, archm = FALSE, archpow = 1, arfima = FALSE, external.regressors = NULL, archex = FALSE),distribution.model = \"norm\")\n",
      "myfit=ugarchfit(myspec,data=tsValuesLog_d_1[36:136],solver=\"solnp\")\n",
      "forc = ugarchforecast(myfit,n.ahead = 12)\n",
      "print(forc)\n",
      "myspec=ugarchspec(variance.model = list(model = \"sGARCH\", garchOrder = c(2, 2), submodel = NULL, external.regressors = NULL, variance.targeting = FALSE),mean.model = list(armaOrder = c(1,1), include.mean = TRUE, archm = FALSE, archpow = 1, arfima = FALSE, external.regressors = NULL, archex = FALSE),distribution.model = \"norm\")\n",
      "myfit=ugarchfit(myspec,data=tsValuesLog_d_1[37:137],solver=\"solnp\")\n",
      "forc = ugarchforecast(myfit,n.ahead = 12)\n",
      "print(forc)\n",
      "myspec=ugarchspec(variance.model = list(model = \"sGARCH\", garchOrder = c(2, 2), submodel = NULL, external.regressors = NULL, variance.targeting = FALSE),mean.model = list(armaOrder = c(1,1), include.mean = TRUE, archm = FALSE, archpow = 1, arfima = FALSE, external.regressors = NULL, archex = FALSE),distribution.model = \"norm\")\n",
      "myfit=ugarchfit(myspec,data=tsValuesLog_d_1[38:138],solver=\"solnp\")\n",
      "forc = ugarchforecast(myfit,n.ahead = 12)\n",
      "print(forc)\n",
      "myspec=ugarchspec(variance.model = list(model = \"sGARCH\", garchOrder = c(2, 2), submodel = NULL, external.regressors = NULL, variance.targeting = FALSE),mean.model = list(armaOrder = c(1,1), include.mean = TRUE, archm = FALSE, archpow = 1, arfima = FALSE, external.regressors = NULL, archex = FALSE),distribution.model = \"norm\")\n",
      "myfit=ugarchfit(myspec,data=tsValuesLog_d_1[39:139],solver=\"solnp\")\n",
      "forc = ugarchforecast(myfit,n.ahead = 12)\n",
      "print(forc)\n",
      "myspec=ugarchspec(variance.model = list(model = \"sGARCH\", garchOrder = c(2, 2), submodel = NULL, external.regressors = NULL, variance.targeting = FALSE),mean.model = list(armaOrder = c(1,1), include.mean = TRUE, archm = FALSE, archpow = 1, arfima = FALSE, external.regressors = NULL, archex = FALSE),distribution.model = \"norm\")\n",
      "myfit=ugarchfit(myspec,data=tsValuesLog_d_1[40:140],solver=\"solnp\")\n",
      "forc = ugarchforecast(myfit,n.ahead = 12)\n",
      "print(forc)\n",
      "myspec=ugarchspec(variance.model = list(model = \"sGARCH\", garchOrder = c(2, 2), submodel = NULL, external.regressors = NULL, variance.targeting = FALSE),mean.model = list(armaOrder = c(1,1), include.mean = TRUE, archm = FALSE, archpow = 1, arfima = FALSE, external.regressors = NULL, archex = FALSE),distribution.model = \"norm\")\n",
      "myfit=ugarchfit(myspec,data=tsValuesLog_d_1[41:141],solver=\"solnp\")\n",
      "forc = ugarchforecast(myfit,n.ahead = 12)\n",
      "print(forc)\n",
      "myspec=ugarchspec(variance.model = list(model = \"sGARCH\", garchOrder = c(2, 2), submodel = NULL, external.regressors = NULL, variance.targeting = FALSE),mean.model = list(armaOrder = c(1,1), include.mean = TRUE, archm = FALSE, archpow = 1, arfima = FALSE, external.regressors = NULL, archex = FALSE),distribution.model = \"norm\")\n",
      "myfit=ugarchfit(myspec,data=tsValuesLog_d_1[42:142],solver=\"solnp\")\n",
      "forc = ugarchforecast(myfit,n.ahead = 12)\n",
      "print(forc)\n",
      "myspec=ugarchspec(variance.model = list(model = \"sGARCH\", garchOrder = c(2, 2), submodel = NULL, external.regressors = NULL, variance.targeting = FALSE),mean.model = list(armaOrder = c(1,1), include.mean = TRUE, archm = FALSE, archpow = 1, arfima = FALSE, external.regressors = NULL, archex = FALSE),distribution.model = \"norm\")\n",
      "myfit=ugarchfit(myspec,data=tsValuesLog_d_1[43:143],solver=\"solnp\")\n",
      "forc = ugarchforecast(myfit,n.ahead = 12)\n",
      "print(forc)\n",
      "myspec=ugarchspec(variance.model = list(model = \"sGARCH\", garchOrder = c(2, 2), submodel = NULL, external.regressors = NULL, variance.targeting = FALSE),mean.model = list(armaOrder = c(1,1), include.mean = TRUE, archm = FALSE, archpow = 1, arfima = FALSE, external.regressors = NULL, archex = FALSE),distribution.model = \"norm\")\n",
      "myfit=ugarchfit(myspec,data=tsValuesLog_d_1[44:144],solver=\"solnp\")\n",
      "forc = ugarchforecast(myfit,n.ahead = 12)\n",
      "print(forc)\n",
      "myspec=ugarchspec(variance.model = list(model = \"sGARCH\", garchOrder = c(2, 2), submodel = NULL, external.regressors = NULL, variance.targeting = FALSE),mean.model = list(armaOrder = c(1,1), include.mean = TRUE, archm = FALSE, archpow = 1, arfima = FALSE, external.regressors = NULL, archex = FALSE),distribution.model = \"norm\")\n",
      "myfit=ugarchfit(myspec,data=tsValuesLog_d_1[45:145],solver=\"solnp\")\n",
      "forc = ugarchforecast(myfit,n.ahead = 12)\n",
      "print(forc)\n",
      "myspec=ugarchspec(variance.model = list(model = \"sGARCH\", garchOrder = c(2, 2), submodel = NULL, external.regressors = NULL, variance.targeting = FALSE),mean.model = list(armaOrder = c(1,1), include.mean = TRUE, archm = FALSE, archpow = 1, arfima = FALSE, external.regressors = NULL, archex = FALSE),distribution.model = \"norm\")\n",
      "myfit=ugarchfit(myspec,data=tsValuesLog_d_1[46:146],solver=\"solnp\")\n",
      "forc = ugarchforecast(myfit,n.ahead = 12)\n",
      "print(forc)\n",
      "myspec=ugarchspec(variance.model = list(model = \"sGARCH\", garchOrder = c(2, 2), submodel = NULL, external.regressors = NULL, variance.targeting = FALSE),mean.model = list(armaOrder = c(1,1), include.mean = TRUE, archm = FALSE, archpow = 1, arfima = FALSE, external.regressors = NULL, archex = FALSE),distribution.model = \"norm\")\n",
      "myfit=ugarchfit(myspec,data=tsValuesLog_d_1[47:147],solver=\"solnp\")\n",
      "forc = ugarchforecast(myfit,n.ahead = 12)\n",
      "print(forc)\n",
      "myspec=ugarchspec(variance.model = list(model = \"sGARCH\", garchOrder = c(2, 2), submodel = NULL, external.regressors = NULL, variance.targeting = FALSE),mean.model = list(armaOrder = c(1,1), include.mean = TRUE, archm = FALSE, archpow = 1, arfima = FALSE, external.regressors = NULL, archex = FALSE),distribution.model = \"norm\")\n",
      "myfit=ugarchfit(myspec,data=tsValuesLog_d_1[48:148],solver=\"solnp\")\n",
      "forc = ugarchforecast(myfit,n.ahead = 12)\n",
      "print(forc)\n",
      "myspec=ugarchspec(variance.model = list(model = \"sGARCH\", garchOrder = c(2, 2), submodel = NULL, external.regressors = NULL, variance.targeting = FALSE),mean.model = list(armaOrder = c(1,1), include.mean = TRUE, archm = FALSE, archpow = 1, arfima = FALSE, external.regressors = NULL, archex = FALSE),distribution.model = \"norm\")\n",
      "myfit=ugarchfit(myspec,data=tsValuesLog_d_1[49:149],solver=\"solnp\")\n",
      "forc = ugarchforecast(myfit,n.ahead = 12)\n",
      "print(forc)\n",
      "myspec=ugarchspec(variance.model = list(model = \"sGARCH\", garchOrder = c(2, 2), submodel = NULL, external.regressors = NULL, variance.targeting = FALSE),mean.model = list(armaOrder = c(1,1), include.mean = TRUE, archm = FALSE, archpow = 1, arfima = FALSE, external.regressors = NULL, archex = FALSE),distribution.model = \"norm\")\n",
      "myfit=ugarchfit(myspec,data=tsValuesLog_d_1[50:150],solver=\"solnp\")\n",
      "forc = ugarchforecast(myfit,n.ahead = 12)\n",
      "print(forc)\n",
      "myspec=ugarchspec(variance.model = list(model = \"sGARCH\", garchOrder = c(2, 2), submodel = NULL, external.regressors = NULL, variance.targeting = FALSE),mean.model = list(armaOrder = c(1,1), include.mean = TRUE, archm = FALSE, archpow = 1, arfima = FALSE, external.regressors = NULL, archex = FALSE),distribution.model = \"norm\")\n",
      "myfit=ugarchfit(myspec,data=tsValuesLog_d_1[51:151],solver=\"solnp\")\n",
      "forc = ugarchforecast(myfit,n.ahead = 12)\n",
      "print(forc)\n",
      "myspec=ugarchspec(variance.model = list(model = \"sGARCH\", garchOrder = c(2, 2), submodel = NULL, external.regressors = NULL, variance.targeting = FALSE),mean.model = list(armaOrder = c(1,1), include.mean = TRUE, archm = FALSE, archpow = 1, arfima = FALSE, external.regressors = NULL, archex = FALSE),distribution.model = \"norm\")\n",
      "myfit=ugarchfit(myspec,data=tsValuesLog_d_1[52:152],solver=\"solnp\")\n",
      "forc = ugarchforecast(myfit,n.ahead = 12)\n",
      "print(forc)\n",
      "myspec=ugarchspec(variance.model = list(model = \"sGARCH\", garchOrder = c(2, 2), submodel = NULL, external.regressors = NULL, variance.targeting = FALSE),mean.model = list(armaOrder = c(1,1), include.mean = TRUE, archm = FALSE, archpow = 1, arfima = FALSE, external.regressors = NULL, archex = FALSE),distribution.model = \"norm\")\n",
      "myfit=ugarchfit(myspec,data=tsValuesLog_d_1[53:153],solver=\"solnp\")\n",
      "forc = ugarchforecast(myfit,n.ahead = 12)\n",
      "print(forc)\n",
      "myspec=ugarchspec(variance.model = list(model = \"sGARCH\", garchOrder = c(2, 2), submodel = NULL, external.regressors = NULL, variance.targeting = FALSE),mean.model = list(armaOrder = c(1,1), include.mean = TRUE, archm = FALSE, archpow = 1, arfima = FALSE, external.regressors = NULL, archex = FALSE),distribution.model = \"norm\")\n",
      "myfit=ugarchfit(myspec,data=tsValuesLog_d_1[54:154],solver=\"solnp\")\n",
      "forc = ugarchforecast(myfit,n.ahead = 12)\n",
      "print(forc)\n",
      "myspec=ugarchspec(variance.model = list(model = \"sGARCH\", garchOrder = c(2, 2), submodel = NULL, external.regressors = NULL, variance.targeting = FALSE),mean.model = list(armaOrder = c(1,1), include.mean = TRUE, archm = FALSE, archpow = 1, arfima = FALSE, external.regressors = NULL, archex = FALSE),distribution.model = \"norm\")\n",
      "myfit=ugarchfit(myspec,data=tsValuesLog_d_1[55:155],solver=\"solnp\")\n",
      "forc = ugarchforecast(myfit,n.ahead = 12)\n",
      "print(forc)\n",
      "myspec=ugarchspec(variance.model = list(model = \"sGARCH\", garchOrder = c(2, 2), submodel = NULL, external.regressors = NULL, variance.targeting = FALSE),mean.model = list(armaOrder = c(1,1), include.mean = TRUE, archm = FALSE, archpow = 1, arfima = FALSE, external.regressors = NULL, archex = FALSE),distribution.model = \"norm\")\n",
      "myfit=ugarchfit(myspec,data=tsValuesLog_d_1[56:156],solver=\"solnp\")\n",
      "forc = ugarchforecast(myfit,n.ahead = 12)\n",
      "print(forc)\n",
      "myspec=ugarchspec(variance.model = list(model = \"sGARCH\", garchOrder = c(2, 2), submodel = NULL, external.regressors = NULL, variance.targeting = FALSE),mean.model = list(armaOrder = c(1,1), include.mean = TRUE, archm = FALSE, archpow = 1, arfima = FALSE, external.regressors = NULL, archex = FALSE),distribution.model = \"norm\")\n",
      "myfit=ugarchfit(myspec,data=tsValuesLog_d_1[57:157],solver=\"solnp\")\n",
      "forc = ugarchforecast(myfit,n.ahead = 12)\n",
      "print(forc)\n",
      "myspec=ugarchspec(variance.model = list(model = \"sGARCH\", garchOrder = c(2, 2), submodel = NULL, external.regressors = NULL, variance.targeting = FALSE),mean.model = list(armaOrder = c(1,1), include.mean = TRUE, archm = FALSE, archpow = 1, arfima = FALSE, external.regressors = NULL, archex = FALSE),distribution.model = \"norm\")\n",
      "myfit=ugarchfit(myspec,data=tsValuesLog_d_1[58:158],solver=\"solnp\")\n",
      "forc = ugarchforecast(myfit,n.ahead = 12)\n",
      "print(forc)\n",
      "myspec=ugarchspec(variance.model = list(model = \"sGARCH\", garchOrder = c(2, 2), submodel = NULL, external.regressors = NULL, variance.targeting = FALSE),mean.model = list(armaOrder = c(1,1), include.mean = TRUE, archm = FALSE, archpow = 1, arfima = FALSE, external.regressors = NULL, archex = FALSE),distribution.model = \"norm\")\n",
      "myfit=ugarchfit(myspec,data=tsValuesLog_d_1[59:159],solver=\"solnp\")\n",
      "forc = ugarchforecast(myfit,n.ahead = 12)\n",
      "print(forc)\n",
      "myspec=ugarchspec(variance.model = list(model = \"sGARCH\", garchOrder = c(2, 2), submodel = NULL, external.regressors = NULL, variance.targeting = FALSE),mean.model = list(armaOrder = c(1,1), include.mean = TRUE, archm = FALSE, archpow = 1, arfima = FALSE, external.regressors = NULL, archex = FALSE),distribution.model = \"norm\")\n",
      "myfit=ugarchfit(myspec,data=tsValuesLog_d_1[60:160],solver=\"solnp\")\n",
      "forc = ugarchforecast(myfit,n.ahead = 12)\n",
      "print(forc)\n",
      "myspec=ugarchspec(variance.model = list(model = \"sGARCH\", garchOrder = c(2, 2), submodel = NULL, external.regressors = NULL, variance.targeting = FALSE),mean.model = list(armaOrder = c(1,1), include.mean = TRUE, archm = FALSE, archpow = 1, arfima = FALSE, external.regressors = NULL, archex = FALSE),distribution.model = \"norm\")\n",
      "myfit=ugarchfit(myspec,data=tsValuesLog_d_1[61:161],solver=\"solnp\")\n",
      "forc = ugarchforecast(myfit,n.ahead = 12)\n",
      "print(forc)\n",
      "myspec=ugarchspec(variance.model = list(model = \"sGARCH\", garchOrder = c(2, 2), submodel = NULL, external.regressors = NULL, variance.targeting = FALSE),mean.model = list(armaOrder = c(1,1), include.mean = TRUE, archm = FALSE, archpow = 1, arfima = FALSE, external.regressors = NULL, archex = FALSE),distribution.model = \"norm\")\n",
      "myfit=ugarchfit(myspec,data=tsValuesLog_d_1[62:162],solver=\"solnp\")\n",
      "forc = ugarchforecast(myfit,n.ahead = 12)\n",
      "print(forc)\n",
      "myspec=ugarchspec(variance.model = list(model = \"sGARCH\", garchOrder = c(2, 2), submodel = NULL, external.regressors = NULL, variance.targeting = FALSE),mean.model = list(armaOrder = c(1,1), include.mean = TRUE, archm = FALSE, archpow = 1, arfima = FALSE, external.regressors = NULL, archex = FALSE),distribution.model = \"norm\")\n",
      "myfit=ugarchfit(myspec,data=tsValuesLog_d_1[63:163],solver=\"solnp\")\n",
      "forc = ugarchforecast(myfit,n.ahead = 12)\n",
      "print(forc)\n",
      "myspec=ugarchspec(variance.model = list(model = \"sGARCH\", garchOrder = c(2, 2), submodel = NULL, external.regressors = NULL, variance.targeting = FALSE),mean.model = list(armaOrder = c(1,1), include.mean = TRUE, archm = FALSE, archpow = 1, arfima = FALSE, external.regressors = NULL, archex = FALSE),distribution.model = \"norm\")\n",
      "myfit=ugarchfit(myspec,data=tsValuesLog_d_1[64:164],solver=\"solnp\")\n",
      "forc = ugarchforecast(myfit,n.ahead = 12)\n",
      "print(forc)\n",
      "myspec=ugarchspec(variance.model = list(model = \"sGARCH\", garchOrder = c(2, 2), submodel = NULL, external.regressors = NULL, variance.targeting = FALSE),mean.model = list(armaOrder = c(1,1), include.mean = TRUE, archm = FALSE, archpow = 1, arfima = FALSE, external.regressors = NULL, archex = FALSE),distribution.model = \"norm\")\n",
      "myfit=ugarchfit(myspec,data=tsValuesLog_d_1[65:165],solver=\"solnp\")\n",
      "forc = ugarchforecast(myfit,n.ahead = 12)\n",
      "print(forc)\n",
      "myspec=ugarchspec(variance.model = list(model = \"sGARCH\", garchOrder = c(2, 2), submodel = NULL, external.regressors = NULL, variance.targeting = FALSE),mean.model = list(armaOrder = c(1,1), include.mean = TRUE, archm = FALSE, archpow = 1, arfima = FALSE, external.regressors = NULL, archex = FALSE),distribution.model = \"norm\")\n",
      "myfit=ugarchfit(myspec,data=tsValuesLog_d_1[66:166],solver=\"solnp\")\n",
      "forc = ugarchforecast(myfit,n.ahead = 12)\n",
      "print(forc)\n",
      "myspec=ugarchspec(variance.model = list(model = \"sGARCH\", garchOrder = c(2, 2), submodel = NULL, external.regressors = NULL, variance.targeting = FALSE),mean.model = list(armaOrder = c(1,1), include.mean = TRUE, archm = FALSE, archpow = 1, arfima = FALSE, external.regressors = NULL, archex = FALSE),distribution.model = \"norm\")\n",
      "myfit=ugarchfit(myspec,data=tsValuesLog_d_1[67:167],solver=\"solnp\")\n",
      "forc = ugarchforecast(myfit,n.ahead = 12)\n",
      "print(forc)\n",
      "myspec=ugarchspec(variance.model = list(model = \"sGARCH\", garchOrder = c(2, 2), submodel = NULL, external.regressors = NULL, variance.targeting = FALSE),mean.model = list(armaOrder = c(1,1), include.mean = TRUE, archm = FALSE, archpow = 1, arfima = FALSE, external.regressors = NULL, archex = FALSE),distribution.model = \"norm\")\n",
      "myfit=ugarchfit(myspec,data=tsValuesLog_d_1[68:168],solver=\"solnp\")\n",
      "forc = ugarchforecast(myfit,n.ahead = 12)\n",
      "print(forc)\n",
      "myspec=ugarchspec(variance.model = list(model = \"sGARCH\", garchOrder = c(2, 2), submodel = NULL, external.regressors = NULL, variance.targeting = FALSE),mean.model = list(armaOrder = c(1,1), include.mean = TRUE, archm = FALSE, archpow = 1, arfima = FALSE, external.regressors = NULL, archex = FALSE),distribution.model = \"norm\")\n",
      "myfit=ugarchfit(myspec,data=tsValuesLog_d_1[69:169],solver=\"solnp\")\n",
      "forc = ugarchforecast(myfit,n.ahead = 12)\n",
      "print(forc)\n",
      "myspec=ugarchspec(variance.model = list(model = \"sGARCH\", garchOrder = c(2, 2), submodel = NULL, external.regressors = NULL, variance.targeting = FALSE),mean.model = list(armaOrder = c(1,1), include.mean = TRUE, archm = FALSE, archpow = 1, arfima = FALSE, external.regressors = NULL, archex = FALSE),distribution.model = \"norm\")\n",
      "myfit=ugarchfit(myspec,data=tsValuesLog_d_1[70:170],solver=\"solnp\")\n",
      "forc = ugarchforecast(myfit,n.ahead = 12)\n",
      "print(forc)\n",
      "myspec=ugarchspec(variance.model = list(model = \"sGARCH\", garchOrder = c(2, 2), submodel = NULL, external.regressors = NULL, variance.targeting = FALSE),mean.model = list(armaOrder = c(1,1), include.mean = TRUE, archm = FALSE, archpow = 1, arfima = FALSE, external.regressors = NULL, archex = FALSE),distribution.model = \"norm\")\n",
      "myfit=ugarchfit(myspec,data=tsValuesLog_d_1[71:171],solver=\"solnp\")\n",
      "forc = ugarchforecast(myfit,n.ahead = 12)\n",
      "print(forc)\n",
      "myspec=ugarchspec(variance.model = list(model = \"sGARCH\", garchOrder = c(2, 2), submodel = NULL, external.regressors = NULL, variance.targeting = FALSE),mean.model = list(armaOrder = c(1,1), include.mean = TRUE, archm = FALSE, archpow = 1, arfima = FALSE, external.regressors = NULL, archex = FALSE),distribution.model = \"norm\")\n",
      "myfit=ugarchfit(myspec,data=tsValuesLog_d_1[72:172],solver=\"solnp\")\n",
      "forc = ugarchforecast(myfit,n.ahead = 12)\n",
      "print(forc)\n"
     ]
    }
   ],
   "source": [
    "for i in range(111,173):\n",
    "    print('myspec=ugarchspec(variance.model = list(model = \"sGARCH\", garchOrder = c(2, 2), submodel = NULL, external.regressors = NULL, variance.targeting = FALSE),mean.model = list(armaOrder = c(1,1), include.mean = TRUE, archm = FALSE, archpow = 1, arfima = FALSE, external.regressors = NULL, archex = FALSE),distribution.model = \"norm\")')\n",
    "    print('myfit=ugarchfit(myspec,data=tsValuesLog_d_1['+str((i-100))+':'+str(i)+'],solver=\"solnp\")')\n",
    "    print('forc = ugarchforecast(myfit,n.ahead = 12)')\n",
    "    print('print(forc)')"
   ]
  },
  {
   "cell_type": "code",
   "execution_count": 216,
   "metadata": {
    "collapsed": false
   },
   "outputs": [],
   "source": [
    "import os\n",
    "import time\n",
    "\n",
    "file = open('Result/GARCH_result/GARCH_EU/result.txt')"
   ]
  },
  {
   "cell_type": "code",
   "execution_count": 217,
   "metadata": {
    "collapsed": true
   },
   "outputs": [],
   "source": [
    "res = []"
   ]
  },
  {
   "cell_type": "code",
   "execution_count": 218,
   "metadata": {
    "collapsed": true
   },
   "outputs": [],
   "source": [
    "pred = []\n",
    "pred_var = []"
   ]
  },
  {
   "cell_type": "code",
   "execution_count": 219,
   "metadata": {
    "collapsed": true
   },
   "outputs": [],
   "source": [
    "cnt = 0"
   ]
  },
  {
   "cell_type": "code",
   "execution_count": 220,
   "metadata": {
    "collapsed": false
   },
   "outputs": [],
   "source": [
    "for line in file:\n",
    "    #print(line[0:3])\n",
    "    if line[0]=='T':\n",
    "        #if line[2]=='1':\n",
    "        ls = line.split(' ')\n",
    "        #print(ls)\n",
    "        while ls[1]=='':\n",
    "            del ls[1]\n",
    "        if line[2]=='1' and line[3]==' ':\n",
    "            cnt += 1\n",
    "            pred.append(float(ls[1]))\n",
    "            #pred_var.append(float(ls[2]))\n",
    "        else:\n",
    "            pred[cnt-1] += float(ls[1])"
   ]
  },
  {
   "cell_type": "code",
   "execution_count": 221,
   "metadata": {
    "collapsed": false
   },
   "outputs": [],
   "source": [
    "tsValuesLog_d_1 = [0]\n",
    "tsValuesLog_d_1 += [tsValuesLog[i+1] - tsValuesLog[i] for i in range(172)]"
   ]
  },
  {
   "cell_type": "code",
   "execution_count": 222,
   "metadata": {
    "collapsed": true
   },
   "outputs": [],
   "source": [
    "predict = [tsValuesLog[100+i-1]+pred[i] for i in range(73)]"
   ]
  },
  {
   "cell_type": "code",
   "execution_count": 223,
   "metadata": {
    "collapsed": true
   },
   "outputs": [],
   "source": [
    "def mean_error(pred,real):\n",
    "    return np.mean([pred[i]-real[i] for i in range(len(pred))])\n",
    "def mean_absolute_error(pred,real):\n",
    "    return np.mean([np.abs(pred[i]-real[i]) for i in range(len(pred))])\n",
    "def root_mean_square_error(pred,real):\n",
    "    return np.sqrt(np.mean([pow(pred[i]-real[i],2) for i in range(len(pred))]))"
   ]
  },
  {
   "cell_type": "code",
   "execution_count": 224,
   "metadata": {
    "collapsed": false
   },
   "outputs": [
    {
     "data": {
      "text/plain": [
       "0.013380988748761858"
      ]
     },
     "execution_count": 224,
     "metadata": {},
     "output_type": "execute_result"
    }
   ],
   "source": [
    "mean_absolute_error(predict,tsValuesLog[100:])"
   ]
  },
  {
   "cell_type": "code",
   "execution_count": 226,
   "metadata": {
    "collapsed": false
   },
   "outputs": [
    {
     "data": {
      "text/plain": [
       "0.017447006724314033"
      ]
     },
     "execution_count": 226,
     "metadata": {},
     "output_type": "execute_result"
    }
   ],
   "source": [
    "root_mean_square_error(predict,tsValuesLog[100:])"
   ]
  },
  {
   "cell_type": "code",
   "execution_count": 105,
   "metadata": {
    "collapsed": true
   },
   "outputs": [],
   "source": [
    "predict = [tsValuesLog[100+i-1]+pred[i] for i in range(71)]"
   ]
  },
  {
   "cell_type": "code",
   "execution_count": 106,
   "metadata": {
    "collapsed": false
   },
   "outputs": [
    {
     "data": {
      "text/plain": [
       "0.024534227548043085"
      ]
     },
     "execution_count": 106,
     "metadata": {},
     "output_type": "execute_result"
    }
   ],
   "source": [
    "mean_absolute_error(predict,tsValuesLog[102:])"
   ]
  },
  {
   "cell_type": "code",
   "execution_count": 107,
   "metadata": {
    "collapsed": false
   },
   "outputs": [
    {
     "data": {
      "text/plain": [
       "0.032103898835477582"
      ]
     },
     "execution_count": 107,
     "metadata": {},
     "output_type": "execute_result"
    }
   ],
   "source": [
    "root_mean_square_error(predict,tsValuesLog[102:])"
   ]
  },
  {
   "cell_type": "code",
   "execution_count": 129,
   "metadata": {
    "collapsed": true
   },
   "outputs": [],
   "source": [
    "predict = [tsValuesLog[100+i-1]+pred[i] for i in range(68)]"
   ]
  },
  {
   "cell_type": "code",
   "execution_count": 130,
   "metadata": {
    "collapsed": false
   },
   "outputs": [
    {
     "data": {
      "text/plain": [
       "0.043189619783944429"
      ]
     },
     "execution_count": 130,
     "metadata": {},
     "output_type": "execute_result"
    }
   ],
   "source": [
    "mean_absolute_error(predict,tsValuesLog[105:])"
   ]
  },
  {
   "cell_type": "code",
   "execution_count": 131,
   "metadata": {
    "collapsed": false
   },
   "outputs": [
    {
     "data": {
      "text/plain": [
       "0.054436662836790946"
      ]
     },
     "execution_count": 131,
     "metadata": {},
     "output_type": "execute_result"
    }
   ],
   "source": [
    "root_mean_square_error(predict,tsValuesLog[105:])"
   ]
  },
  {
   "cell_type": "code",
   "execution_count": 173,
   "metadata": {
    "collapsed": false
   },
   "outputs": [],
   "source": [
    "predict = [tsValuesLog[100+i-1]+pred[i] for i in range(62)]"
   ]
  },
  {
   "cell_type": "code",
   "execution_count": 196,
   "metadata": {
    "collapsed": false
   },
   "outputs": [],
   "source": [
    "res = pd.DataFrame()\n",
    "res['1'] = predict\n",
    "#res['2'] = tsValuesLog[111:]\n",
    "res['3'] = np.array(predict) - np.array(tsValuesLog[111:])\n",
    "#res['4'] = tsValuesLog[110:-1]\n",
    "res['5'] = np.array(tsValuesLog[110:-1]) - np.array(tsValuesLog[111:])"
   ]
  },
  {
   "cell_type": "code",
   "execution_count": 194,
   "metadata": {
    "collapsed": false
   },
   "outputs": [
    {
     "data": {
      "text/plain": [
       "0.071674993257592329"
      ]
     },
     "execution_count": 194,
     "metadata": {},
     "output_type": "execute_result"
    }
   ],
   "source": [
    "mean_absolute_error(predict,tsValuesLog[111:])"
   ]
  },
  {
   "cell_type": "code",
   "execution_count": 200,
   "metadata": {
    "collapsed": false
   },
   "outputs": [
    {
     "data": {
      "text/plain": [
       "0.075831131265322774"
      ]
     },
     "execution_count": 200,
     "metadata": {},
     "output_type": "execute_result"
    }
   ],
   "source": [
    "mean_absolute_error(tsValuesLog[99:-13],tsValuesLog[111:])"
   ]
  },
  {
   "cell_type": "code",
   "execution_count": 201,
   "metadata": {
    "collapsed": false
   },
   "outputs": [
    {
     "data": {
      "text/plain": [
       "0.090106476792767384"
      ]
     },
     "execution_count": 201,
     "metadata": {},
     "output_type": "execute_result"
    }
   ],
   "source": [
    "root_mean_square_error(predict,tsValuesLog[111:])"
   ]
  },
  {
   "cell_type": "code",
   "execution_count": 205,
   "metadata": {
    "collapsed": false
   },
   "outputs": [],
   "source": [
    "PredictionOutputMAE = pd.DataFrame(index=['monthly','3_month','6_month','12_month'])\n",
    "PredictionOutputRMSE = pd.DataFrame(index=['monthly','3_month','6_month','12_month'])\n",
    "startPrediction = 100\n",
    "totalData = len(tsValuesLog)"
   ]
  },
  {
   "cell_type": "code",
   "execution_count": 206,
   "metadata": {
    "collapsed": true
   },
   "outputs": [],
   "source": [
    "#benchmark\n",
    "mae_ = []\n",
    "rmse_ = []\n",
    "for l in [1,3,6,12]:\n",
    "    pred = [0]*(startPrediction+l-1)\n",
    "    for i in range(totalData-startPrediction-l+1):\n",
    "        pred.append(tsValuesLog[startPrediction-1+i])\n",
    "    mae_.append(mean_absolute_error(pred[startPrediction+l-1:],tsValuesLog[startPrediction+l-1:]))\n",
    "    rmse_.append(root_mean_square_error(pred[startPrediction+l-1:],tsValuesLog[startPrediction+l-1:]))\n",
    "PredictionOutputMAE['RandomWalk'] = mae_\n",
    "PredictionOutputRMSE['RandomWalk'] = rmse_"
   ]
  },
  {
   "cell_type": "code",
   "execution_count": 207,
   "metadata": {
    "collapsed": false
   },
   "outputs": [
    {
     "data": {
      "text/html": [
       "<div>\n",
       "<table border=\"1\" class=\"dataframe\">\n",
       "  <thead>\n",
       "    <tr style=\"text-align: right;\">\n",
       "      <th></th>\n",
       "      <th>RandomWalk</th>\n",
       "    </tr>\n",
       "  </thead>\n",
       "  <tbody>\n",
       "    <tr>\n",
       "      <th>monthly</th>\n",
       "      <td>0.017759</td>\n",
       "    </tr>\n",
       "    <tr>\n",
       "      <th>3_month</th>\n",
       "      <td>0.038925</td>\n",
       "    </tr>\n",
       "    <tr>\n",
       "      <th>6_month</th>\n",
       "      <td>0.062944</td>\n",
       "    </tr>\n",
       "    <tr>\n",
       "      <th>12_month</th>\n",
       "      <td>0.099058</td>\n",
       "    </tr>\n",
       "  </tbody>\n",
       "</table>\n",
       "</div>"
      ],
      "text/plain": [
       "          RandomWalk\n",
       "monthly     0.017759\n",
       "3_month     0.038925\n",
       "6_month     0.062944\n",
       "12_month    0.099058"
      ]
     },
     "execution_count": 207,
     "metadata": {},
     "output_type": "execute_result"
    }
   ],
   "source": [
    "PredictionOutputRMSE"
   ]
  },
  {
   "cell_type": "code",
   "execution_count": 215,
   "metadata": {
    "collapsed": false
   },
   "outputs": [
    {
     "data": {
      "text/plain": [
       "0.099058093819072685"
      ]
     },
     "execution_count": 215,
     "metadata": {},
     "output_type": "execute_result"
    }
   ],
   "source": [
    "root_mean_square_error(tsValuesLog[99:-12],tsValuesLog[111:])"
   ]
  },
  {
   "cell_type": "code",
   "execution_count": 162,
   "metadata": {
    "collapsed": false
   },
   "outputs": [
    {
     "data": {
      "text/plain": [
       "observation_date    2019-05-01\n",
       "EXUSEU                  1.1208\n",
       "Name: 172, dtype: object"
      ]
     },
     "execution_count": 162,
     "metadata": {},
     "output_type": "execute_result"
    }
   ],
   "source": [
    "data.iloc[-1]"
   ]
  },
  {
   "cell_type": "code",
   "execution_count": null,
   "metadata": {
    "collapsed": true
   },
   "outputs": [],
   "source": []
  }
 ],
 "metadata": {
  "kernelspec": {
   "display_name": "Python 3",
   "language": "python",
   "name": "python3"
  },
  "language_info": {
   "codemirror_mode": {
    "name": "ipython",
    "version": 3
   },
   "file_extension": ".py",
   "mimetype": "text/x-python",
   "name": "python",
   "nbconvert_exporter": "python",
   "pygments_lexer": "ipython3",
   "version": "3.6.0"
  }
 },
 "nbformat": 4,
 "nbformat_minor": 2
}
