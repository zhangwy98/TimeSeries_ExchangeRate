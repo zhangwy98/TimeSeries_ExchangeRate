{
 "cells": [
  {
   "cell_type": "code",
   "execution_count": 1,
   "metadata": {},
   "outputs": [],
   "source": [
    "import pandas as pd\n",
    "import numpy as np\n",
    "import math"
   ]
  },
  {
   "cell_type": "code",
   "execution_count": 2,
   "metadata": {},
   "outputs": [],
   "source": [
    "#Jan 2005 to May 2019\n",
    "ExchangeRateData = pd.read_csv(\"data/EXUSEU.csv\")\n",
    "ExchangeRateTs = ExchangeRateData['EXUSEU']\n",
    "ExchangeRateTsLog = [math.log(ele) for ele in ExchangeRateTs]\n",
    "ExchangeRateTsLog_d_1 = [0]\n",
    "ExchangeRateTsLog_d_1 += [ExchangeRateTsLog[i+1]-ExchangeRateTsLog[i] for i in range(len(ExchangeRateTsLog)-1)]"
   ]
  },
  {
   "cell_type": "code",
   "execution_count": 3,
   "metadata": {},
   "outputs": [
    {
     "data": {
      "text/plain": [
       "173"
      ]
     },
     "execution_count": 3,
     "metadata": {},
     "output_type": "execute_result"
    }
   ],
   "source": [
    "len(ExchangeRateTsLog_d_1)"
   ]
  },
  {
   "cell_type": "code",
   "execution_count": 4,
   "metadata": {},
   "outputs": [],
   "source": [
    "ExchangeRateTsLog = ExchangeRateTsLog[3:]\n",
    "ExchangeRateTsLog = ExchangeRateTsLog[:144]"
   ]
  },
  {
   "cell_type": "code",
   "execution_count": 5,
   "metadata": {},
   "outputs": [
    {
     "data": {
      "text/plain": [
       "173"
      ]
     },
     "execution_count": 5,
     "metadata": {},
     "output_type": "execute_result"
    }
   ],
   "source": [
    "len(ExchangeRateTsLog_d_1)"
   ]
  },
  {
   "cell_type": "code",
   "execution_count": 6,
   "metadata": {},
   "outputs": [],
   "source": [
    "ExchangeRateTsLog_d_1 = ExchangeRateTsLog_d_1[3:]\n",
    "ExchangeRateTsLog_d_1 = ExchangeRateTsLog_d_1[:144]"
   ]
  },
  {
   "cell_type": "code",
   "execution_count": 7,
   "metadata": {},
   "outputs": [
    {
     "data": {
      "text/plain": [
       "144"
      ]
     },
     "execution_count": 7,
     "metadata": {},
     "output_type": "execute_result"
    }
   ],
   "source": [
    "len(ExchangeRateTsLog_d_1)"
   ]
  },
  {
   "cell_type": "code",
   "execution_count": 8,
   "metadata": {},
   "outputs": [],
   "source": [
    "ER_bond_data = pd.read_csv(\"data/ER-bond.csv\")\n",
    "#April 2005 to April 2019\n",
    "ER_bond_ts = np.array(ER_bond_data['IRLTLT01EZM156N'])"
   ]
  },
  {
   "cell_type": "code",
   "execution_count": 9,
   "metadata": {},
   "outputs": [],
   "source": [
    "US_bond_data = pd.read_csv(\"data/US-bond.csv\")\n",
    "US_bond_ts = np.array(US_bond_data['IRLTLT01USM156N'])"
   ]
  },
  {
   "cell_type": "code",
   "execution_count": 10,
   "metadata": {},
   "outputs": [],
   "source": [
    "delta_pie = US_bond_ts - ER_bond_ts"
   ]
  },
  {
   "cell_type": "code",
   "execution_count": 11,
   "metadata": {},
   "outputs": [
    {
     "data": {
      "text/plain": [
       "169"
      ]
     },
     "execution_count": 11,
     "metadata": {},
     "output_type": "execute_result"
    }
   ],
   "source": [
    "len(delta_pie)"
   ]
  },
  {
   "cell_type": "code",
   "execution_count": 12,
   "metadata": {},
   "outputs": [],
   "source": [
    "delta_pie = delta_pie[:144]"
   ]
  },
  {
   "cell_type": "code",
   "execution_count": 13,
   "metadata": {},
   "outputs": [
    {
     "data": {
      "text/plain": [
       "144"
      ]
     },
     "execution_count": 13,
     "metadata": {},
     "output_type": "execute_result"
    }
   ],
   "source": [
    "len(delta_pie)"
   ]
  },
  {
   "cell_type": "code",
   "execution_count": 14,
   "metadata": {},
   "outputs": [],
   "source": [
    "ER_short_data = pd.read_csv(\"data/ER-3month.csv\")\n",
    "ER_short_ts = np.array(ER_short_data['IR3TIB01EZM156N'][12:])\n",
    "US_short_data = pd.read_csv(\"data/US-3month.csv\")\n",
    "US_short_ts = np.array(US_short_data['TB3MS'])"
   ]
  },
  {
   "cell_type": "code",
   "execution_count": 15,
   "metadata": {},
   "outputs": [],
   "source": [
    "delta_short_r = US_short_ts-ER_short_ts"
   ]
  },
  {
   "cell_type": "code",
   "execution_count": 16,
   "metadata": {},
   "outputs": [
    {
     "data": {
      "text/plain": [
       "169"
      ]
     },
     "execution_count": 16,
     "metadata": {},
     "output_type": "execute_result"
    }
   ],
   "source": [
    "len(delta_short_r)"
   ]
  },
  {
   "cell_type": "code",
   "execution_count": 17,
   "metadata": {},
   "outputs": [],
   "source": [
    "delta_short_r = delta_short_r[:144]"
   ]
  },
  {
   "cell_type": "code",
   "execution_count": 18,
   "metadata": {},
   "outputs": [
    {
     "data": {
      "text/plain": [
       "144"
      ]
     },
     "execution_count": 18,
     "metadata": {},
     "output_type": "execute_result"
    }
   ],
   "source": [
    "len(delta_short_r)"
   ]
  },
  {
   "cell_type": "code",
   "execution_count": 19,
   "metadata": {},
   "outputs": [],
   "source": [
    "ER_M2_data = pd.read_csv(\"data/ER-M2.csv\")\n",
    "US_M2_data = pd.read_csv(\"data/US-m2.csv\")\n",
    "US_M2_ts = np.array([math.log(ele) for ele in US_M2_data['M2NS']])\n",
    "ER_M2_ts = np.array([math.log(ele/1e9) for ele in ER_M2_data['MYAGM2EZM196N']])"
   ]
  },
  {
   "cell_type": "code",
   "execution_count": 20,
   "metadata": {},
   "outputs": [],
   "source": [
    "delta_m2 = US_M2_ts[:144] - ER_M2_ts[12:]"
   ]
  },
  {
   "cell_type": "code",
   "execution_count": 21,
   "metadata": {},
   "outputs": [
    {
     "data": {
      "text/plain": [
       "144"
      ]
     },
     "execution_count": 21,
     "metadata": {},
     "output_type": "execute_result"
    }
   ],
   "source": [
    "len(delta_m2)"
   ]
  },
  {
   "cell_type": "code",
   "execution_count": 22,
   "metadata": {},
   "outputs": [],
   "source": [
    "US_GDP_ts = [13.094,13.856,14.478,14.719,14.419,14.992,15.543,16.197,16.785,17.522,18.219,18.707,19.485]\n",
    "EU_GDP_ts = [14.433,15.398,17.94,19.137,17.103,17.01,18.375,17.317,18.053,18.669,16.445,16.547,17.339]\n",
    "US_GDP_ts_extend = []\n",
    "for ele in US_GDP_ts:\n",
    "    US_GDP_ts_extend += [math.log(ele)]*12\n",
    "EU_GDP_ts_extend = []\n",
    "for ele in EU_GDP_ts:\n",
    "    EU_GDP_ts_extend += [math.log(ele)]*12"
   ]
  },
  {
   "cell_type": "code",
   "execution_count": 28,
   "metadata": {},
   "outputs": [],
   "source": [
    "delta_GDP = np.array(US_GDP_ts_extend) - np.array(EU_GDP_ts_extend)\n",
    "delta_GDP = delta_GDP[3:]\n",
    "delta_GDP = delta_GDP[:144]"
   ]
  },
  {
   "cell_type": "code",
   "execution_count": 29,
   "metadata": {},
   "outputs": [
    {
     "data": {
      "text/plain": [
       "144"
      ]
     },
     "execution_count": 29,
     "metadata": {},
     "output_type": "execute_result"
    }
   ],
   "source": [
    "len(delta_GDP)"
   ]
  },
  {
   "cell_type": "code",
   "execution_count": 30,
   "metadata": {},
   "outputs": [],
   "source": [
    "VAR_data = pd.DataFrame()"
   ]
  },
  {
   "cell_type": "code",
   "execution_count": 32,
   "metadata": {},
   "outputs": [],
   "source": [
    "VAR_data['ExchangeRateLog'] = ExchangeRateTsLog\n",
    "VAR_data['ExchangeRateLogDifference'] = ExchangeRateTsLog_d_1\n",
    "VAR_data['GDP'] = delta_GDP\n",
    "VAR_data['M2'] = delta_m2\n",
    "VAR_data['Inflation'] = delta_pie\n",
    "VAR_data['ShortInterestRate'] = delta_short_r"
   ]
  },
  {
   "cell_type": "code",
   "execution_count": 33,
   "metadata": {},
   "outputs": [],
   "source": [
    "VAR_data.to_csv(\"Data/VAR_data.csv\",index = None)"
   ]
  }
 ],
 "metadata": {
  "kernelspec": {
   "display_name": "Python 3",
   "language": "python",
   "name": "python3"
  },
  "language_info": {
   "codemirror_mode": {
    "name": "ipython",
    "version": 3
   },
   "file_extension": ".py",
   "mimetype": "text/x-python",
   "name": "python",
   "nbconvert_exporter": "python",
   "pygments_lexer": "ipython3",
   "version": "3.6.8"
  }
 },
 "nbformat": 4,
 "nbformat_minor": 2
}
