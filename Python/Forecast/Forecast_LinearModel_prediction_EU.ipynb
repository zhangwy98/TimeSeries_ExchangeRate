{
 "cells": [
  {
   "cell_type": "code",
   "execution_count": 1,
   "metadata": {},
   "outputs": [],
   "source": [
    "import pandas as pd\n",
    "import numpy as np\n",
    "data = pd.read_csv(\"data_US_Europe.csv\")\n",
    "tsValues = data['EXUSEU']\n",
    "import math\n",
    "tsValuesLog = [math.log(ele) for ele in tsValues]"
   ]
  },
  {
   "cell_type": "code",
   "execution_count": 2,
   "metadata": {},
   "outputs": [],
   "source": [
    "PredictionOutputMAE = pd.DataFrame(index=['monthly','3_month','6_month','12_month'])\n",
    "PredictionOutputRMSE = pd.DataFrame(index=['monthly','3_month','6_month','12_month'])\n",
    "startPrediction = 100\n",
    "totalData = len(tsValuesLog)"
   ]
  },
  {
   "cell_type": "code",
   "execution_count": 3,
   "metadata": {},
   "outputs": [],
   "source": [
    "def mean_error(pred,real):\n",
    "    return np.mean([pred[i]-real[i] for i in range(len(pred))])\n",
    "def mean_absolute_error(pred,real):\n",
    "    return np.mean([np.abs(pred[i]-real[i]) for i in range(len(pred))])\n",
    "def root_mean_square_error(pred,real):\n",
    "    return np.sqrt(np.mean([pow(pred[i]-real[i],2) for i in range(len(pred))]))"
   ]
  },
  {
   "cell_type": "code",
   "execution_count": 5,
   "metadata": {},
   "outputs": [],
   "source": [
    "from statsmodels.tsa.arima_model import ARMA\n",
    "mae_ = []\n",
    "rmse_ = []\n",
    "p=1\n",
    "q=1\n",
    "for l in [1,3,6,12]:\n",
    "    pred = [0]*(startPrediction+l-1)\n",
    "    for i in range(totalData-startPrediction-l+1):\n",
    "        try:\n",
    "            model = ARMA(tsValuesLog_d_1[i:i+startPrediction],order=(p,q))\n",
    "            result = model.fit()\n",
    "            pred.append(sum(result.predict(start=startPrediction,end=startPrediction+l-1))+tsValuesLog[i+startPrediction-1])\n",
    "        except ValueError:\n",
    "            pred.append(tsValuesLog[i+startPrediction-1])\n",
    "    mae_.append(mean_absolute_error(pred[startPrediction+l-1:],tsValuesLog[startPrediction+l-1:]))\n",
    "    rmse_.append(root_mean_square_error(pred[startPrediction+l-1:],tsValuesLog[startPrediction+l-1:])) \n",
    "PredictionOutputMAE['AR_Diff_'+str(p)+'_'+str(q)] = mae_\n",
    "PredictionOutputRMSE['AR_Diff_'+str(p)+'_'+str(q)] = rmse_"
   ]
  },
  {
   "cell_type": "code",
   "execution_count": 9,
   "metadata": {},
   "outputs": [
    {
     "name": "stdout",
     "output_type": "stream",
     "text": [
      "1 2\n"
     ]
    }
   ],
   "source": [
    "for [p,q] in [[1,2]]:\n",
    "    print(p,q)"
   ]
  },
  {
   "cell_type": "code",
   "execution_count": 11,
   "metadata": {},
   "outputs": [],
   "source": [
    "from statsmodels.tsa.arima_model import ARMA\n",
    "mae_ = []\n",
    "rmse_ = []\n",
    "test_queue = [[1,1],[0,1],[1,0]]\n",
    "for l in [1,3,6,12]:\n",
    "    pred = [0]*(startPrediction+l-1)\n",
    "    for i in range(totalData-startPrediction-l+1):\n",
    "        single_pred = []\n",
    "        for [p,q] in test_queue:\n",
    "            try:\n",
    "                model = ARMA(tsValuesLog_d_1[i:i+startPrediction],order=(p,q))\n",
    "                result = model.fit()\n",
    "                single_pred.append(sum(result.predict(start=startPrediction,end=startPrediction+l-1))+tsValuesLog[i+startPrediction-1])\n",
    "            except ValueError:\n",
    "                sing_pred.append(tsValuesLog[i+startPrediction-1])\n",
    "        pred.append(np.mean(single_pred))\n",
    "    mae_.append(mean_absolute_error(pred[startPrediction+l-1:],tsValuesLog[startPrediction+l-1:]))\n",
    "    rmse_.append(root_mean_square_error(pred[startPrediction+l-1:],tsValuesLog[startPrediction+l-1:])) \n",
    "PredictionOutputMAE['AR_Diff_Mean'] = mae_\n",
    "PredictionOutputRMSE['AR_Diff_Mean'] = rmse_"
   ]
  },
  {
   "cell_type": "code",
   "execution_count": 12,
   "metadata": {},
   "outputs": [
    {
     "data": {
      "text/html": [
       "<div>\n",
       "<style scoped>\n",
       "    .dataframe tbody tr th:only-of-type {\n",
       "        vertical-align: middle;\n",
       "    }\n",
       "\n",
       "    .dataframe tbody tr th {\n",
       "        vertical-align: top;\n",
       "    }\n",
       "\n",
       "    .dataframe thead th {\n",
       "        text-align: right;\n",
       "    }\n",
       "</style>\n",
       "<table border=\"1\" class=\"dataframe\">\n",
       "  <thead>\n",
       "    <tr style=\"text-align: right;\">\n",
       "      <th></th>\n",
       "      <th>AR_Diff_1_1</th>\n",
       "      <th>AR_Diff_Mean</th>\n",
       "    </tr>\n",
       "  </thead>\n",
       "  <tbody>\n",
       "    <tr>\n",
       "      <th>monthly</th>\n",
       "      <td>0.017768</td>\n",
       "      <td>0.017464</td>\n",
       "    </tr>\n",
       "    <tr>\n",
       "      <th>3_month</th>\n",
       "      <td>0.039007</td>\n",
       "      <td>0.038765</td>\n",
       "    </tr>\n",
       "    <tr>\n",
       "      <th>6_month</th>\n",
       "      <td>0.064449</td>\n",
       "      <td>0.064286</td>\n",
       "    </tr>\n",
       "    <tr>\n",
       "      <th>12_month</th>\n",
       "      <td>0.108526</td>\n",
       "      <td>0.108422</td>\n",
       "    </tr>\n",
       "  </tbody>\n",
       "</table>\n",
       "</div>"
      ],
      "text/plain": [
       "          AR_Diff_1_1  AR_Diff_Mean\n",
       "monthly      0.017768      0.017464\n",
       "3_month      0.039007      0.038765\n",
       "6_month      0.064449      0.064286\n",
       "12_month     0.108526      0.108422"
      ]
     },
     "execution_count": 12,
     "metadata": {},
     "output_type": "execute_result"
    }
   ],
   "source": [
    "PredictionOutputRMSE"
   ]
  },
  {
   "cell_type": "code",
   "execution_count": 13,
   "metadata": {},
   "outputs": [
    {
     "data": {
      "text/html": [
       "<div>\n",
       "<style scoped>\n",
       "    .dataframe tbody tr th:only-of-type {\n",
       "        vertical-align: middle;\n",
       "    }\n",
       "\n",
       "    .dataframe tbody tr th {\n",
       "        vertical-align: top;\n",
       "    }\n",
       "\n",
       "    .dataframe thead th {\n",
       "        text-align: right;\n",
       "    }\n",
       "</style>\n",
       "<table border=\"1\" class=\"dataframe\">\n",
       "  <thead>\n",
       "    <tr style=\"text-align: right;\">\n",
       "      <th></th>\n",
       "      <th>AR_Diff_1_1</th>\n",
       "      <th>AR_Diff_Mean</th>\n",
       "    </tr>\n",
       "  </thead>\n",
       "  <tbody>\n",
       "    <tr>\n",
       "      <th>monthly</th>\n",
       "      <td>0.013399</td>\n",
       "      <td>0.013121</td>\n",
       "    </tr>\n",
       "    <tr>\n",
       "      <th>3_month</th>\n",
       "      <td>0.029568</td>\n",
       "      <td>0.029352</td>\n",
       "    </tr>\n",
       "    <tr>\n",
       "      <th>6_month</th>\n",
       "      <td>0.048988</td>\n",
       "      <td>0.048937</td>\n",
       "    </tr>\n",
       "    <tr>\n",
       "      <th>12_month</th>\n",
       "      <td>0.082072</td>\n",
       "      <td>0.081848</td>\n",
       "    </tr>\n",
       "  </tbody>\n",
       "</table>\n",
       "</div>"
      ],
      "text/plain": [
       "          AR_Diff_1_1  AR_Diff_Mean\n",
       "monthly      0.013399      0.013121\n",
       "3_month      0.029568      0.029352\n",
       "6_month      0.048988      0.048937\n",
       "12_month     0.082072      0.081848"
      ]
     },
     "execution_count": 13,
     "metadata": {},
     "output_type": "execute_result"
    }
   ],
   "source": [
    "PredictionOutputMAE"
   ]
  },
  {
   "cell_type": "code",
   "execution_count": 4,
   "metadata": {
    "collapsed": true
   },
   "outputs": [],
   "source": [
    "#benchmark\n",
    "mae_ = []\n",
    "rmse_ = []\n",
    "for l in [1,3,6,12]:\n",
    "    pred = [0]*(startPrediction+l-1)\n",
    "    for i in range(totalData-startPrediction-l+1):\n",
    "        pred.append(tsValuesLog[startPrediction-1+i])\n",
    "    mae_.append(mean_absolute_error(pred[startPrediction+l-1:],tsValuesLog[startPrediction+l-1:]))\n",
    "    rmse_.append(root_mean_square_error(pred[startPrediction+l-1:],tsValuesLog[startPrediction+l-1:]))\n",
    "PredictionOutputMAE['RandomWalk'] = mae_\n",
    "PredictionOutputRMSE['RandomWalk'] = rmse_"
   ]
  },
  {
   "cell_type": "code",
   "execution_count": 5,
   "metadata": {},
   "outputs": [
    {
     "data": {
      "text/html": [
       "<div>\n",
       "<table border=\"1\" class=\"dataframe\">\n",
       "  <thead>\n",
       "    <tr style=\"text-align: right;\">\n",
       "      <th></th>\n",
       "      <th>RandomWalk</th>\n",
       "    </tr>\n",
       "  </thead>\n",
       "  <tbody>\n",
       "    <tr>\n",
       "      <th>monthly</th>\n",
       "      <td>0.013241</td>\n",
       "    </tr>\n",
       "    <tr>\n",
       "      <th>3_month</th>\n",
       "      <td>0.029604</td>\n",
       "    </tr>\n",
       "    <tr>\n",
       "      <th>6_month</th>\n",
       "      <td>0.049440</td>\n",
       "    </tr>\n",
       "    <tr>\n",
       "      <th>12_month</th>\n",
       "      <td>0.075470</td>\n",
       "    </tr>\n",
       "  </tbody>\n",
       "</table>\n",
       "</div>"
      ],
      "text/plain": [
       "          RandomWalk\n",
       "monthly     0.013241\n",
       "3_month     0.029604\n",
       "6_month     0.049440\n",
       "12_month    0.075470"
      ]
     },
     "execution_count": 5,
     "metadata": {},
     "output_type": "execute_result"
    }
   ],
   "source": [
    "PredictionOutputMAE"
   ]
  },
  {
   "cell_type": "code",
   "execution_count": 6,
   "metadata": {
    "collapsed": true
   },
   "outputs": [],
   "source": [
    "startPrediction=100"
   ]
  },
  {
   "cell_type": "code",
   "execution_count": 7,
   "metadata": {},
   "outputs": [],
   "source": [
    "#test performance random walk with drift\n",
    "\n",
    "mae_ = []\n",
    "rmse_ = []\n",
    "for l in [1,3,6,12]:\n",
    "    pred = [0]*(startPrediction+l-1)\n",
    "    for i in range(totalData-startPrediction-l+1):\n",
    "        monthly_change = [tsValuesLog[j]-tsValuesLog[j-l] for j in range(i+l,i+startPrediction)]\n",
    "        mean_monthly_change = np.mean(monthly_change)\n",
    "        pred.append(tsValuesLog[startPrediction+i-1]+mean_monthly_change)\n",
    "    mae_.append(mean_absolute_error(pred[startPrediction+l-1:],tsValuesLog[startPrediction+l-1:]))\n",
    "    rmse_.append(root_mean_square_error(pred[startPrediction+l-1:],tsValuesLog[startPrediction+l-1:])) \n",
    "PredictionOutputMAE['RandomWalkWithDrift'] = mae_\n",
    "PredictionOutputRMSE['RandomWalkWithDrift'] = rmse_"
   ]
  },
  {
   "cell_type": "code",
   "execution_count": 8,
   "metadata": {},
   "outputs": [
    {
     "data": {
      "text/html": [
       "<div>\n",
       "<table border=\"1\" class=\"dataframe\">\n",
       "  <thead>\n",
       "    <tr style=\"text-align: right;\">\n",
       "      <th></th>\n",
       "      <th>RandomWalk</th>\n",
       "      <th>RandomWalkWithDrift</th>\n",
       "    </tr>\n",
       "  </thead>\n",
       "  <tbody>\n",
       "    <tr>\n",
       "      <th>monthly</th>\n",
       "      <td>0.013241</td>\n",
       "      <td>0.013489</td>\n",
       "    </tr>\n",
       "    <tr>\n",
       "      <th>3_month</th>\n",
       "      <td>0.029604</td>\n",
       "      <td>0.029912</td>\n",
       "    </tr>\n",
       "    <tr>\n",
       "      <th>6_month</th>\n",
       "      <td>0.049440</td>\n",
       "      <td>0.050560</td>\n",
       "    </tr>\n",
       "    <tr>\n",
       "      <th>12_month</th>\n",
       "      <td>0.075470</td>\n",
       "      <td>0.081845</td>\n",
       "    </tr>\n",
       "  </tbody>\n",
       "</table>\n",
       "</div>"
      ],
      "text/plain": [
       "          RandomWalk  RandomWalkWithDrift\n",
       "monthly     0.013241             0.013489\n",
       "3_month     0.029604             0.029912\n",
       "6_month     0.049440             0.050560\n",
       "12_month    0.075470             0.081845"
      ]
     },
     "execution_count": 8,
     "metadata": {},
     "output_type": "execute_result"
    }
   ],
   "source": [
    "PredictionOutputMAE"
   ]
  },
  {
   "cell_type": "code",
   "execution_count": 9,
   "metadata": {},
   "outputs": [
    {
     "data": {
      "text/plain": [
       "173"
      ]
     },
     "execution_count": 9,
     "metadata": {},
     "output_type": "execute_result"
    }
   ],
   "source": [
    "len(pred)"
   ]
  },
  {
   "cell_type": "code",
   "execution_count": 10,
   "metadata": {},
   "outputs": [],
   "source": [
    "from statsmodels.tsa.arima_model import ARMA\n",
    "#out-of-sample-test\n",
    "mae_ = []\n",
    "rmse_ = []\n",
    "p=1\n",
    "q=1\n",
    "for l in [1,3,6,12]:\n",
    "    pred = [0]*(startPrediction+l-1)\n",
    "    for i in range(totalData-startPrediction-l+1):\n",
    "        model = ARMA(tsValuesLog[i:i+startPrediction],order=(p,q))\n",
    "        result = model.fit()\n",
    "        pred.append(result.predict(start=startPrediction,end=startPrediction+l-1)[l-1])\n",
    "    mae_.append(mean_absolute_error(pred[startPrediction+l-1:],tsValuesLog[startPrediction+l-1:]))\n",
    "    rmse_.append(root_mean_square_error(pred[startPrediction+l-1:],tsValuesLog[startPrediction+l-1:])) \n",
    "PredictionOutputMAE['AR_'+str(p)+'_'+str(q)] = mae_\n",
    "PredictionOutputRMSE['AR_'+str(p)+'_'+str(q)] = rmse_"
   ]
  },
  {
   "cell_type": "code",
   "execution_count": 11,
   "metadata": {},
   "outputs": [],
   "source": [
    "mae_ = []\n",
    "rmse_ = []\n",
    "p=2\n",
    "q=0\n",
    "for l in [1,3,6,12]:\n",
    "    pred = [0]*(startPrediction+l-1)\n",
    "    for i in range(totalData-startPrediction-l+1):\n",
    "        model = ARMA(tsValuesLog[i:i+startPrediction],order=(p,q))\n",
    "        result = model.fit()\n",
    "        pred.append(result.predict(start=startPrediction,end=startPrediction+l-1)[l-1])\n",
    "    mae_.append(mean_absolute_error(pred[startPrediction+l-1:],tsValuesLog[startPrediction+l-1:]))\n",
    "    rmse_.append(root_mean_square_error(pred[startPrediction+l-1:],tsValuesLog[startPrediction+l-1:])) \n",
    "PredictionOutputMAE['AR_'+str(p)+'_'+str(q)] = mae_\n",
    "PredictionOutputRMSE['AR_'+str(p)+'_'+str(q)] = rmse_"
   ]
  },
  {
   "cell_type": "code",
   "execution_count": 12,
   "metadata": {
    "collapsed": true
   },
   "outputs": [],
   "source": [
    "mae_ = []\n",
    "rmse_ = []\n",
    "p=8\n",
    "q=0\n",
    "for l in [1,3,6,12]:\n",
    "    pred = [0]*(startPrediction+l-1)\n",
    "    for i in range(totalData-startPrediction-l+1):\n",
    "        model = ARMA(tsValuesLog[i:i+startPrediction],order=(p,q))\n",
    "        result = model.fit()\n",
    "        pred.append(result.predict(start=startPrediction,end=startPrediction+l-1)[l-1])\n",
    "    mae_.append(mean_absolute_error(pred[startPrediction+l-1:],tsValuesLog[startPrediction+l-1:]))\n",
    "    rmse_.append(root_mean_square_error(pred[startPrediction+l-1:],tsValuesLog[startPrediction+l-1:])) \n",
    "PredictionOutputMAE['AR_'+str(p)+'_'+str(q)] = mae_\n",
    "PredictionOutputRMSE['AR_'+str(p)+'_'+str(q)] = rmse_"
   ]
  },
  {
   "cell_type": "code",
   "execution_count": 18,
   "metadata": {},
   "outputs": [
    {
     "data": {
      "text/html": [
       "<div>\n",
       "<table border=\"1\" class=\"dataframe\">\n",
       "  <thead>\n",
       "    <tr style=\"text-align: right;\">\n",
       "      <th></th>\n",
       "      <th>RandomWalk</th>\n",
       "      <th>RandomWalkWithDrift</th>\n",
       "      <th>AR_1_1</th>\n",
       "      <th>AR_2_0</th>\n",
       "      <th>AR_8_0</th>\n",
       "      <th>AR_Diff_1_0</th>\n",
       "      <th>AR_Diff_0_1</th>\n",
       "    </tr>\n",
       "  </thead>\n",
       "  <tbody>\n",
       "    <tr>\n",
       "      <th>monthly</th>\n",
       "      <td>0.013241</td>\n",
       "      <td>0.013489</td>\n",
       "      <td>0.014220</td>\n",
       "      <td>0.013849</td>\n",
       "      <td>0.014635</td>\n",
       "      <td>0.012805</td>\n",
       "      <td>0.013196</td>\n",
       "    </tr>\n",
       "    <tr>\n",
       "      <th>3_month</th>\n",
       "      <td>0.029604</td>\n",
       "      <td>0.029912</td>\n",
       "      <td>0.033857</td>\n",
       "      <td>0.034844</td>\n",
       "      <td>0.036246</td>\n",
       "      <td>0.029276</td>\n",
       "      <td>0.029341</td>\n",
       "    </tr>\n",
       "    <tr>\n",
       "      <th>6_month</th>\n",
       "      <td>0.049440</td>\n",
       "      <td>0.050560</td>\n",
       "      <td>0.058562</td>\n",
       "      <td>0.061914</td>\n",
       "      <td>0.066017</td>\n",
       "      <td>0.048782</td>\n",
       "      <td>0.049083</td>\n",
       "    </tr>\n",
       "    <tr>\n",
       "      <th>12_month</th>\n",
       "      <td>0.075470</td>\n",
       "      <td>0.081845</td>\n",
       "      <td>0.092737</td>\n",
       "      <td>0.099036</td>\n",
       "      <td>0.110928</td>\n",
       "      <td>0.081626</td>\n",
       "      <td>0.081846</td>\n",
       "    </tr>\n",
       "  </tbody>\n",
       "</table>\n",
       "</div>"
      ],
      "text/plain": [
       "          RandomWalk  RandomWalkWithDrift    AR_1_1    AR_2_0    AR_8_0  \\\n",
       "monthly     0.013241             0.013489  0.014220  0.013849  0.014635   \n",
       "3_month     0.029604             0.029912  0.033857  0.034844  0.036246   \n",
       "6_month     0.049440             0.050560  0.058562  0.061914  0.066017   \n",
       "12_month    0.075470             0.081845  0.092737  0.099036  0.110928   \n",
       "\n",
       "          AR_Diff_1_0  AR_Diff_0_1  \n",
       "monthly      0.012805     0.013196  \n",
       "3_month      0.029276     0.029341  \n",
       "6_month      0.048782     0.049083  \n",
       "12_month     0.081626     0.081846  "
      ]
     },
     "execution_count": 18,
     "metadata": {},
     "output_type": "execute_result"
    }
   ],
   "source": [
    "PredictionOutputMAE"
   ]
  },
  {
   "cell_type": "code",
   "execution_count": 19,
   "metadata": {},
   "outputs": [
    {
     "data": {
      "text/html": [
       "<div>\n",
       "<table border=\"1\" class=\"dataframe\">\n",
       "  <thead>\n",
       "    <tr style=\"text-align: right;\">\n",
       "      <th></th>\n",
       "      <th>RandomWalk</th>\n",
       "      <th>RandomWalkWithDrift</th>\n",
       "      <th>AR_1_1</th>\n",
       "      <th>AR_2_0</th>\n",
       "      <th>AR_8_0</th>\n",
       "      <th>AR_Diff_1_0</th>\n",
       "      <th>AR_Diff_0_1</th>\n",
       "    </tr>\n",
       "  </thead>\n",
       "  <tbody>\n",
       "    <tr>\n",
       "      <th>monthly</th>\n",
       "      <td>0.017759</td>\n",
       "      <td>0.017836</td>\n",
       "      <td>0.018958</td>\n",
       "      <td>0.018617</td>\n",
       "      <td>0.019338</td>\n",
       "      <td>0.017093</td>\n",
       "      <td>0.017587</td>\n",
       "    </tr>\n",
       "    <tr>\n",
       "      <th>3_month</th>\n",
       "      <td>0.038925</td>\n",
       "      <td>0.039683</td>\n",
       "      <td>0.044698</td>\n",
       "      <td>0.045948</td>\n",
       "      <td>0.047205</td>\n",
       "      <td>0.038501</td>\n",
       "      <td>0.038838</td>\n",
       "    </tr>\n",
       "    <tr>\n",
       "      <th>6_month</th>\n",
       "      <td>0.062944</td>\n",
       "      <td>0.065691</td>\n",
       "      <td>0.072856</td>\n",
       "      <td>0.077019</td>\n",
       "      <td>0.085029</td>\n",
       "      <td>0.064093</td>\n",
       "      <td>0.064353</td>\n",
       "    </tr>\n",
       "    <tr>\n",
       "      <th>12_month</th>\n",
       "      <td>0.099058</td>\n",
       "      <td>0.107228</td>\n",
       "      <td>0.110591</td>\n",
       "      <td>0.116800</td>\n",
       "      <td>0.132660</td>\n",
       "      <td>0.108392</td>\n",
       "      <td>0.108377</td>\n",
       "    </tr>\n",
       "  </tbody>\n",
       "</table>\n",
       "</div>"
      ],
      "text/plain": [
       "          RandomWalk  RandomWalkWithDrift    AR_1_1    AR_2_0    AR_8_0  \\\n",
       "monthly     0.017759             0.017836  0.018958  0.018617  0.019338   \n",
       "3_month     0.038925             0.039683  0.044698  0.045948  0.047205   \n",
       "6_month     0.062944             0.065691  0.072856  0.077019  0.085029   \n",
       "12_month    0.099058             0.107228  0.110591  0.116800  0.132660   \n",
       "\n",
       "          AR_Diff_1_0  AR_Diff_0_1  \n",
       "monthly      0.017093     0.017587  \n",
       "3_month      0.038501     0.038838  \n",
       "6_month      0.064093     0.064353  \n",
       "12_month     0.108392     0.108377  "
      ]
     },
     "execution_count": 19,
     "metadata": {},
     "output_type": "execute_result"
    }
   ],
   "source": [
    "PredictionOutputRMSE"
   ]
  },
  {
   "cell_type": "code",
   "execution_count": 4,
   "metadata": {},
   "outputs": [],
   "source": [
    "tsValuesLog_d_1 = [0]\n",
    "tsValuesLog_d_1 += [tsValuesLog[i+1]-tsValuesLog[i] for i in range(totalData-1)]"
   ]
  },
  {
   "cell_type": "code",
   "execution_count": 16,
   "metadata": {},
   "outputs": [],
   "source": [
    "mae_ = []\n",
    "rmse_ = []\n",
    "p=1\n",
    "q=0\n",
    "for l in [1,3,6,12]:\n",
    "    pred = [0]*(startPrediction+l-1)\n",
    "    for i in range(totalData-startPrediction-l+1):\n",
    "        model = ARMA(tsValuesLog_d_1[i:i+startPrediction],order=(p,q))\n",
    "        result = model.fit()\n",
    "        pred.append(sum(result.predict(start=startPrediction,end=startPrediction+l-1))+tsValuesLog[i+startPrediction-1])\n",
    "    mae_.append(mean_absolute_error(pred[startPrediction+l-1:],tsValuesLog[startPrediction+l-1:]))\n",
    "    rmse_.append(root_mean_square_error(pred[startPrediction+l-1:],tsValuesLog[startPrediction+l-1:])) \n",
    "PredictionOutputMAE['AR_Diff_'+str(p)+'_'+str(q)] = mae_\n",
    "PredictionOutputRMSE['AR_Diff_'+str(p)+'_'+str(q)] = rmse_"
   ]
  },
  {
   "cell_type": "code",
   "execution_count": 17,
   "metadata": {
    "collapsed": true
   },
   "outputs": [],
   "source": [
    "mae_ = []\n",
    "rmse_ = []\n",
    "p=0\n",
    "q=1\n",
    "for l in [1,3,6,12]:\n",
    "    pred = [0]*(startPrediction+l-1)\n",
    "    for i in range(totalData-startPrediction-l+1):\n",
    "        model = ARMA(tsValuesLog_d_1[i:i+startPrediction],order=(p,q))\n",
    "        result = model.fit()\n",
    "        pred.append(sum(result.predict(start=startPrediction,end=startPrediction+l-1))+tsValuesLog[i+startPrediction-1])\n",
    "    mae_.append(mean_absolute_error(pred[startPrediction+l-1:],tsValuesLog[startPrediction+l-1:]))\n",
    "    rmse_.append(root_mean_square_error(pred[startPrediction+l-1:],tsValuesLog[startPrediction+l-1:])) \n",
    "PredictionOutputMAE['AR_Diff_'+str(p)+'_'+str(q)] = mae_\n",
    "PredictionOutputRMSE['AR_Diff_'+str(p)+'_'+str(q)] = rmse_"
   ]
  },
  {
   "cell_type": "code",
   "execution_count": 39,
   "metadata": {
    "collapsed": true
   },
   "outputs": [],
   "source": [
    "#Unobserved model\n",
    "import statsmodels.api as sm\n",
    "\n",
    "class UnobservedComponentModel:\n",
    "    def __init__(self):\n",
    "        self.model_name = \"UnobservedComponentModel\"\n",
    "        return\n",
    "\n",
    "    def fit(self, ts):\n",
    "        unrestricted_model = {\n",
    "            'level': 'local linear trend', 'cycle': False , 'seasonal': 12\n",
    "        }\n",
    "\n",
    "        model = sm.tsa.UnobservedComponents(endog=ts, **unrestricted_model)\n",
    "        self.trained_model = model.fit()\n",
    "        return self\n",
    "\n",
    "    def predict(self, next_n_prediction):\n",
    "        prediction = self.trained_model.forecast(steps=next_n_prediction)\n",
    "        return prediction"
   ]
  },
  {
   "cell_type": "code",
   "execution_count": 40,
   "metadata": {
    "scrolled": true
   },
   "outputs": [
    {
     "name": "stderr",
     "output_type": "stream",
     "text": [
      "C:\\Users\\Hallo\\Anaconda3\\lib\\site-packages\\statsmodels\\base\\model.py:496: ConvergenceWarning: Maximum Likelihood optimization failed to converge. Check mle_retvals\n",
      "  \"Check mle_retvals\", ConvergenceWarning)\n",
      "C:\\Users\\Hallo\\Anaconda3\\lib\\site-packages\\statsmodels\\base\\model.py:496: ConvergenceWarning: Maximum Likelihood optimization failed to converge. Check mle_retvals\n",
      "  \"Check mle_retvals\", ConvergenceWarning)\n",
      "C:\\Users\\Hallo\\Anaconda3\\lib\\site-packages\\statsmodels\\base\\model.py:496: ConvergenceWarning: Maximum Likelihood optimization failed to converge. Check mle_retvals\n",
      "  \"Check mle_retvals\", ConvergenceWarning)\n",
      "C:\\Users\\Hallo\\Anaconda3\\lib\\site-packages\\statsmodels\\base\\model.py:496: ConvergenceWarning: Maximum Likelihood optimization failed to converge. Check mle_retvals\n",
      "  \"Check mle_retvals\", ConvergenceWarning)\n",
      "C:\\Users\\Hallo\\Anaconda3\\lib\\site-packages\\statsmodels\\base\\model.py:496: ConvergenceWarning: Maximum Likelihood optimization failed to converge. Check mle_retvals\n",
      "  \"Check mle_retvals\", ConvergenceWarning)\n",
      "C:\\Users\\Hallo\\Anaconda3\\lib\\site-packages\\statsmodels\\base\\model.py:496: ConvergenceWarning: Maximum Likelihood optimization failed to converge. Check mle_retvals\n",
      "  \"Check mle_retvals\", ConvergenceWarning)\n",
      "C:\\Users\\Hallo\\Anaconda3\\lib\\site-packages\\statsmodels\\base\\model.py:496: ConvergenceWarning: Maximum Likelihood optimization failed to converge. Check mle_retvals\n",
      "  \"Check mle_retvals\", ConvergenceWarning)\n",
      "C:\\Users\\Hallo\\Anaconda3\\lib\\site-packages\\statsmodels\\base\\model.py:496: ConvergenceWarning: Maximum Likelihood optimization failed to converge. Check mle_retvals\n",
      "  \"Check mle_retvals\", ConvergenceWarning)\n",
      "C:\\Users\\Hallo\\Anaconda3\\lib\\site-packages\\statsmodels\\base\\model.py:496: ConvergenceWarning: Maximum Likelihood optimization failed to converge. Check mle_retvals\n",
      "  \"Check mle_retvals\", ConvergenceWarning)\n",
      "C:\\Users\\Hallo\\Anaconda3\\lib\\site-packages\\statsmodels\\base\\model.py:496: ConvergenceWarning: Maximum Likelihood optimization failed to converge. Check mle_retvals\n",
      "  \"Check mle_retvals\", ConvergenceWarning)\n",
      "C:\\Users\\Hallo\\Anaconda3\\lib\\site-packages\\statsmodels\\base\\model.py:496: ConvergenceWarning: Maximum Likelihood optimization failed to converge. Check mle_retvals\n",
      "  \"Check mle_retvals\", ConvergenceWarning)\n",
      "C:\\Users\\Hallo\\Anaconda3\\lib\\site-packages\\statsmodels\\base\\model.py:496: ConvergenceWarning: Maximum Likelihood optimization failed to converge. Check mle_retvals\n",
      "  \"Check mle_retvals\", ConvergenceWarning)\n",
      "C:\\Users\\Hallo\\Anaconda3\\lib\\site-packages\\statsmodels\\base\\model.py:496: ConvergenceWarning: Maximum Likelihood optimization failed to converge. Check mle_retvals\n",
      "  \"Check mle_retvals\", ConvergenceWarning)\n",
      "C:\\Users\\Hallo\\Anaconda3\\lib\\site-packages\\statsmodels\\base\\model.py:496: ConvergenceWarning: Maximum Likelihood optimization failed to converge. Check mle_retvals\n",
      "  \"Check mle_retvals\", ConvergenceWarning)\n",
      "C:\\Users\\Hallo\\Anaconda3\\lib\\site-packages\\statsmodels\\base\\model.py:496: ConvergenceWarning: Maximum Likelihood optimization failed to converge. Check mle_retvals\n",
      "  \"Check mle_retvals\", ConvergenceWarning)\n",
      "C:\\Users\\Hallo\\Anaconda3\\lib\\site-packages\\statsmodels\\base\\model.py:496: ConvergenceWarning: Maximum Likelihood optimization failed to converge. Check mle_retvals\n",
      "  \"Check mle_retvals\", ConvergenceWarning)\n",
      "C:\\Users\\Hallo\\Anaconda3\\lib\\site-packages\\statsmodels\\base\\model.py:496: ConvergenceWarning: Maximum Likelihood optimization failed to converge. Check mle_retvals\n",
      "  \"Check mle_retvals\", ConvergenceWarning)\n",
      "C:\\Users\\Hallo\\Anaconda3\\lib\\site-packages\\statsmodels\\base\\model.py:496: ConvergenceWarning: Maximum Likelihood optimization failed to converge. Check mle_retvals\n",
      "  \"Check mle_retvals\", ConvergenceWarning)\n",
      "C:\\Users\\Hallo\\Anaconda3\\lib\\site-packages\\statsmodels\\base\\model.py:496: ConvergenceWarning: Maximum Likelihood optimization failed to converge. Check mle_retvals\n",
      "  \"Check mle_retvals\", ConvergenceWarning)\n",
      "C:\\Users\\Hallo\\Anaconda3\\lib\\site-packages\\statsmodels\\base\\model.py:496: ConvergenceWarning: Maximum Likelihood optimization failed to converge. Check mle_retvals\n",
      "  \"Check mle_retvals\", ConvergenceWarning)\n",
      "C:\\Users\\Hallo\\Anaconda3\\lib\\site-packages\\statsmodels\\base\\model.py:496: ConvergenceWarning: Maximum Likelihood optimization failed to converge. Check mle_retvals\n",
      "  \"Check mle_retvals\", ConvergenceWarning)\n",
      "C:\\Users\\Hallo\\Anaconda3\\lib\\site-packages\\statsmodels\\base\\model.py:496: ConvergenceWarning: Maximum Likelihood optimization failed to converge. Check mle_retvals\n",
      "  \"Check mle_retvals\", ConvergenceWarning)\n",
      "C:\\Users\\Hallo\\Anaconda3\\lib\\site-packages\\statsmodels\\base\\model.py:496: ConvergenceWarning: Maximum Likelihood optimization failed to converge. Check mle_retvals\n",
      "  \"Check mle_retvals\", ConvergenceWarning)\n",
      "C:\\Users\\Hallo\\Anaconda3\\lib\\site-packages\\statsmodels\\base\\model.py:496: ConvergenceWarning: Maximum Likelihood optimization failed to converge. Check mle_retvals\n",
      "  \"Check mle_retvals\", ConvergenceWarning)\n",
      "C:\\Users\\Hallo\\Anaconda3\\lib\\site-packages\\statsmodels\\base\\model.py:496: ConvergenceWarning: Maximum Likelihood optimization failed to converge. Check mle_retvals\n",
      "  \"Check mle_retvals\", ConvergenceWarning)\n",
      "C:\\Users\\Hallo\\Anaconda3\\lib\\site-packages\\statsmodels\\base\\model.py:496: ConvergenceWarning: Maximum Likelihood optimization failed to converge. Check mle_retvals\n",
      "  \"Check mle_retvals\", ConvergenceWarning)\n",
      "C:\\Users\\Hallo\\Anaconda3\\lib\\site-packages\\statsmodels\\base\\model.py:496: ConvergenceWarning: Maximum Likelihood optimization failed to converge. Check mle_retvals\n",
      "  \"Check mle_retvals\", ConvergenceWarning)\n",
      "C:\\Users\\Hallo\\Anaconda3\\lib\\site-packages\\statsmodels\\base\\model.py:496: ConvergenceWarning: Maximum Likelihood optimization failed to converge. Check mle_retvals\n",
      "  \"Check mle_retvals\", ConvergenceWarning)\n",
      "C:\\Users\\Hallo\\Anaconda3\\lib\\site-packages\\statsmodels\\base\\model.py:496: ConvergenceWarning: Maximum Likelihood optimization failed to converge. Check mle_retvals\n",
      "  \"Check mle_retvals\", ConvergenceWarning)\n",
      "C:\\Users\\Hallo\\Anaconda3\\lib\\site-packages\\statsmodels\\base\\model.py:496: ConvergenceWarning: Maximum Likelihood optimization failed to converge. Check mle_retvals\n",
      "  \"Check mle_retvals\", ConvergenceWarning)\n",
      "C:\\Users\\Hallo\\Anaconda3\\lib\\site-packages\\statsmodels\\base\\model.py:496: ConvergenceWarning: Maximum Likelihood optimization failed to converge. Check mle_retvals\n",
      "  \"Check mle_retvals\", ConvergenceWarning)\n",
      "C:\\Users\\Hallo\\Anaconda3\\lib\\site-packages\\statsmodels\\base\\model.py:496: ConvergenceWarning: Maximum Likelihood optimization failed to converge. Check mle_retvals\n",
      "  \"Check mle_retvals\", ConvergenceWarning)\n",
      "C:\\Users\\Hallo\\Anaconda3\\lib\\site-packages\\statsmodels\\base\\model.py:496: ConvergenceWarning: Maximum Likelihood optimization failed to converge. Check mle_retvals\n",
      "  \"Check mle_retvals\", ConvergenceWarning)\n",
      "C:\\Users\\Hallo\\Anaconda3\\lib\\site-packages\\statsmodels\\base\\model.py:496: ConvergenceWarning: Maximum Likelihood optimization failed to converge. Check mle_retvals\n",
      "  \"Check mle_retvals\", ConvergenceWarning)\n",
      "C:\\Users\\Hallo\\Anaconda3\\lib\\site-packages\\statsmodels\\base\\model.py:496: ConvergenceWarning: Maximum Likelihood optimization failed to converge. Check mle_retvals\n",
      "  \"Check mle_retvals\", ConvergenceWarning)\n",
      "C:\\Users\\Hallo\\Anaconda3\\lib\\site-packages\\statsmodels\\base\\model.py:496: ConvergenceWarning: Maximum Likelihood optimization failed to converge. Check mle_retvals\n",
      "  \"Check mle_retvals\", ConvergenceWarning)\n",
      "C:\\Users\\Hallo\\Anaconda3\\lib\\site-packages\\statsmodels\\base\\model.py:496: ConvergenceWarning: Maximum Likelihood optimization failed to converge. Check mle_retvals\n",
      "  \"Check mle_retvals\", ConvergenceWarning)\n",
      "C:\\Users\\Hallo\\Anaconda3\\lib\\site-packages\\statsmodels\\base\\model.py:496: ConvergenceWarning: Maximum Likelihood optimization failed to converge. Check mle_retvals\n",
      "  \"Check mle_retvals\", ConvergenceWarning)\n",
      "C:\\Users\\Hallo\\Anaconda3\\lib\\site-packages\\statsmodels\\base\\model.py:496: ConvergenceWarning: Maximum Likelihood optimization failed to converge. Check mle_retvals\n",
      "  \"Check mle_retvals\", ConvergenceWarning)\n",
      "C:\\Users\\Hallo\\Anaconda3\\lib\\site-packages\\statsmodels\\base\\model.py:496: ConvergenceWarning: Maximum Likelihood optimization failed to converge. Check mle_retvals\n",
      "  \"Check mle_retvals\", ConvergenceWarning)\n",
      "C:\\Users\\Hallo\\Anaconda3\\lib\\site-packages\\statsmodels\\base\\model.py:496: ConvergenceWarning: Maximum Likelihood optimization failed to converge. Check mle_retvals\n",
      "  \"Check mle_retvals\", ConvergenceWarning)\n",
      "C:\\Users\\Hallo\\Anaconda3\\lib\\site-packages\\statsmodels\\base\\model.py:496: ConvergenceWarning: Maximum Likelihood optimization failed to converge. Check mle_retvals\n",
      "  \"Check mle_retvals\", ConvergenceWarning)\n",
      "C:\\Users\\Hallo\\Anaconda3\\lib\\site-packages\\statsmodels\\base\\model.py:496: ConvergenceWarning: Maximum Likelihood optimization failed to converge. Check mle_retvals\n",
      "  \"Check mle_retvals\", ConvergenceWarning)\n",
      "C:\\Users\\Hallo\\Anaconda3\\lib\\site-packages\\statsmodels\\base\\model.py:496: ConvergenceWarning: Maximum Likelihood optimization failed to converge. Check mle_retvals\n",
      "  \"Check mle_retvals\", ConvergenceWarning)\n",
      "C:\\Users\\Hallo\\Anaconda3\\lib\\site-packages\\statsmodels\\base\\model.py:496: ConvergenceWarning: Maximum Likelihood optimization failed to converge. Check mle_retvals\n",
      "  \"Check mle_retvals\", ConvergenceWarning)\n"
     ]
    }
   ],
   "source": [
    "mae_ = []\n",
    "rmse_ = []\n",
    "for l in [1,3,6,12]:\n",
    "    pred = [0]*(startPrediction+l-1)\n",
    "    for i in range(totalData-startPrediction-(l-1)):\n",
    "        model = UnobservedComponentModel()\n",
    "        model.fit(tsValuesLog[i:i+startPrediction])\n",
    "        pred.append(model.predict(l)[l-1])\n",
    "    mae_.append(mean_absolute_error(pred[startPrediction+l-1:],tsValuesLog[startPrediction+l-1:]))\n",
    "    rmse_.append(root_mean_square_error(pred[startPrediction+l-1:],tsValuesLog[startPrediction+l-1:]))"
   ]
  },
  {
   "cell_type": "code",
   "execution_count": 37,
   "metadata": {
    "collapsed": true
   },
   "outputs": [],
   "source": [
    "PredictionOutputMAE[\"UnobservedComponentModel\"] = mae_\n",
    "PredictionOutputRMSE[\"UnobservedComponentModel\"] = rmse_"
   ]
  },
  {
   "cell_type": "code",
   "execution_count": 41,
   "metadata": {
    "collapsed": true
   },
   "outputs": [],
   "source": [
    "PredictionOutputMAE[\"UnobservedComponentModel_With_Season\"] = mae_\n",
    "PredictionOutputRMSE[\"UnobservedComponentModel_With_Season\"] = rmse_"
   ]
  },
  {
   "cell_type": "code",
   "execution_count": null,
   "metadata": {
    "collapsed": true
   },
   "outputs": [],
   "source": []
  },
  {
   "cell_type": "code",
   "execution_count": 42,
   "metadata": {},
   "outputs": [
    {
     "data": {
      "text/html": [
       "<div>\n",
       "<table border=\"1\" class=\"dataframe\">\n",
       "  <thead>\n",
       "    <tr style=\"text-align: right;\">\n",
       "      <th></th>\n",
       "      <th>RandomWalk</th>\n",
       "      <th>RandomWalkWithDrift</th>\n",
       "      <th>AR_1_1</th>\n",
       "      <th>AR_2_0</th>\n",
       "      <th>AR_8_0</th>\n",
       "      <th>AR_Diff_1_0</th>\n",
       "      <th>AR_Diff_0_1</th>\n",
       "      <th>UnobservedComponentModel</th>\n",
       "      <th>UnobservedComponentModel_With_Season</th>\n",
       "    </tr>\n",
       "  </thead>\n",
       "  <tbody>\n",
       "    <tr>\n",
       "      <th>monthly</th>\n",
       "      <td>0.013241</td>\n",
       "      <td>0.013489</td>\n",
       "      <td>0.014220</td>\n",
       "      <td>0.013849</td>\n",
       "      <td>0.014635</td>\n",
       "      <td>0.012805</td>\n",
       "      <td>0.013196</td>\n",
       "      <td>0.013811</td>\n",
       "      <td>0.015564</td>\n",
       "    </tr>\n",
       "    <tr>\n",
       "      <th>3_month</th>\n",
       "      <td>0.029604</td>\n",
       "      <td>0.029912</td>\n",
       "      <td>0.033857</td>\n",
       "      <td>0.034844</td>\n",
       "      <td>0.036246</td>\n",
       "      <td>0.029276</td>\n",
       "      <td>0.029341</td>\n",
       "      <td>0.034197</td>\n",
       "      <td>0.035016</td>\n",
       "    </tr>\n",
       "    <tr>\n",
       "      <th>6_month</th>\n",
       "      <td>0.049440</td>\n",
       "      <td>0.050560</td>\n",
       "      <td>0.058562</td>\n",
       "      <td>0.061914</td>\n",
       "      <td>0.066017</td>\n",
       "      <td>0.048782</td>\n",
       "      <td>0.049083</td>\n",
       "      <td>0.058489</td>\n",
       "      <td>0.056931</td>\n",
       "    </tr>\n",
       "    <tr>\n",
       "      <th>12_month</th>\n",
       "      <td>0.075470</td>\n",
       "      <td>0.081845</td>\n",
       "      <td>0.092737</td>\n",
       "      <td>0.099036</td>\n",
       "      <td>0.110928</td>\n",
       "      <td>0.081626</td>\n",
       "      <td>0.081846</td>\n",
       "      <td>0.113327</td>\n",
       "      <td>0.105037</td>\n",
       "    </tr>\n",
       "  </tbody>\n",
       "</table>\n",
       "</div>"
      ],
      "text/plain": [
       "          RandomWalk  RandomWalkWithDrift    AR_1_1    AR_2_0    AR_8_0  \\\n",
       "monthly     0.013241             0.013489  0.014220  0.013849  0.014635   \n",
       "3_month     0.029604             0.029912  0.033857  0.034844  0.036246   \n",
       "6_month     0.049440             0.050560  0.058562  0.061914  0.066017   \n",
       "12_month    0.075470             0.081845  0.092737  0.099036  0.110928   \n",
       "\n",
       "          AR_Diff_1_0  AR_Diff_0_1  UnobservedComponentModel  \\\n",
       "monthly      0.012805     0.013196                  0.013811   \n",
       "3_month      0.029276     0.029341                  0.034197   \n",
       "6_month      0.048782     0.049083                  0.058489   \n",
       "12_month     0.081626     0.081846                  0.113327   \n",
       "\n",
       "          UnobservedComponentModel_With_Season  \n",
       "monthly                               0.015564  \n",
       "3_month                               0.035016  \n",
       "6_month                               0.056931  \n",
       "12_month                              0.105037  "
      ]
     },
     "execution_count": 42,
     "metadata": {},
     "output_type": "execute_result"
    }
   ],
   "source": [
    "PredictionOutputMAE"
   ]
  },
  {
   "cell_type": "code",
   "execution_count": 43,
   "metadata": {},
   "outputs": [
    {
     "data": {
      "text/html": [
       "<div>\n",
       "<table border=\"1\" class=\"dataframe\">\n",
       "  <thead>\n",
       "    <tr style=\"text-align: right;\">\n",
       "      <th></th>\n",
       "      <th>RandomWalk</th>\n",
       "      <th>RandomWalkWithDrift</th>\n",
       "      <th>AR_1_1</th>\n",
       "      <th>AR_2_0</th>\n",
       "      <th>AR_8_0</th>\n",
       "      <th>AR_Diff_1_0</th>\n",
       "      <th>AR_Diff_0_1</th>\n",
       "      <th>UnobservedComponentModel</th>\n",
       "      <th>UnobservedComponentModel_With_Season</th>\n",
       "    </tr>\n",
       "  </thead>\n",
       "  <tbody>\n",
       "    <tr>\n",
       "      <th>monthly</th>\n",
       "      <td>0.017759</td>\n",
       "      <td>0.017836</td>\n",
       "      <td>0.018958</td>\n",
       "      <td>0.018617</td>\n",
       "      <td>0.019338</td>\n",
       "      <td>0.017093</td>\n",
       "      <td>0.017587</td>\n",
       "      <td>0.018318</td>\n",
       "      <td>0.020325</td>\n",
       "    </tr>\n",
       "    <tr>\n",
       "      <th>3_month</th>\n",
       "      <td>0.038925</td>\n",
       "      <td>0.039683</td>\n",
       "      <td>0.044698</td>\n",
       "      <td>0.045948</td>\n",
       "      <td>0.047205</td>\n",
       "      <td>0.038501</td>\n",
       "      <td>0.038838</td>\n",
       "      <td>0.044726</td>\n",
       "      <td>0.046606</td>\n",
       "    </tr>\n",
       "    <tr>\n",
       "      <th>6_month</th>\n",
       "      <td>0.062944</td>\n",
       "      <td>0.065691</td>\n",
       "      <td>0.072856</td>\n",
       "      <td>0.077019</td>\n",
       "      <td>0.085029</td>\n",
       "      <td>0.064093</td>\n",
       "      <td>0.064353</td>\n",
       "      <td>0.078753</td>\n",
       "      <td>0.077625</td>\n",
       "    </tr>\n",
       "    <tr>\n",
       "      <th>12_month</th>\n",
       "      <td>0.099058</td>\n",
       "      <td>0.107228</td>\n",
       "      <td>0.110591</td>\n",
       "      <td>0.116800</td>\n",
       "      <td>0.132660</td>\n",
       "      <td>0.108392</td>\n",
       "      <td>0.108377</td>\n",
       "      <td>0.145786</td>\n",
       "      <td>0.138788</td>\n",
       "    </tr>\n",
       "  </tbody>\n",
       "</table>\n",
       "</div>"
      ],
      "text/plain": [
       "          RandomWalk  RandomWalkWithDrift    AR_1_1    AR_2_0    AR_8_0  \\\n",
       "monthly     0.017759             0.017836  0.018958  0.018617  0.019338   \n",
       "3_month     0.038925             0.039683  0.044698  0.045948  0.047205   \n",
       "6_month     0.062944             0.065691  0.072856  0.077019  0.085029   \n",
       "12_month    0.099058             0.107228  0.110591  0.116800  0.132660   \n",
       "\n",
       "          AR_Diff_1_0  AR_Diff_0_1  UnobservedComponentModel  \\\n",
       "monthly      0.017093     0.017587                  0.018318   \n",
       "3_month      0.038501     0.038838                  0.044726   \n",
       "6_month      0.064093     0.064353                  0.078753   \n",
       "12_month     0.108392     0.108377                  0.145786   \n",
       "\n",
       "          UnobservedComponentModel_With_Season  \n",
       "monthly                               0.020325  \n",
       "3_month                               0.046606  \n",
       "6_month                               0.077625  \n",
       "12_month                              0.138788  "
      ]
     },
     "execution_count": 43,
     "metadata": {},
     "output_type": "execute_result"
    }
   ],
   "source": [
    "PredictionOutputRMSE"
   ]
  },
  {
   "cell_type": "code",
   "execution_count": 44,
   "metadata": {
    "collapsed": true
   },
   "outputs": [],
   "source": [
    "PredictionOutputMAE.to_csv(\"EXUSEU_MAE.csv\")"
   ]
  },
  {
   "cell_type": "code",
   "execution_count": 45,
   "metadata": {
    "collapsed": true
   },
   "outputs": [],
   "source": [
    "PredictionOutputRMSE.to_csv(\"EXUSEU_RMSE.csv\")"
   ]
  }
 ],
 "metadata": {
  "kernelspec": {
   "display_name": "Python 3",
   "language": "python",
   "name": "python3"
  },
  "language_info": {
   "codemirror_mode": {
    "name": "ipython",
    "version": 3
   },
   "file_extension": ".py",
   "mimetype": "text/x-python",
   "name": "python",
   "nbconvert_exporter": "python",
   "pygments_lexer": "ipython3",
   "version": "3.6.8"
  }
 },
 "nbformat": 4,
 "nbformat_minor": 2
}
