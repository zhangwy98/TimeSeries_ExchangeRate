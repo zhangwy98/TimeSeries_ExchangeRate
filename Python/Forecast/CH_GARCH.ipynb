{
 "cells": [
  {
   "cell_type": "code",
   "execution_count": 1,
   "metadata": {
    "collapsed": false
   },
   "outputs": [
    {
     "name": "stdout",
     "output_type": "stream",
     "text": [
      "myspec=ugarchspec(variance.model = list(model = \"sGARCH\", garchOrder = c(1, 1), submodel = NULL, external.regressors = NULL, variance.targeting = FALSE),mean.model = list(armaOrder = c(0,1), include.mean = TRUE, archm = FALSE, archpow = 1, arfima = FALSE, external.regressors = NULL, archex = FALSE),distribution.model = \"norm\")\n",
      "myfit=ugarchfit(myspec,data=tsValuesLog_d_1[0:80],solver=\"solnp\")\n",
      "forc = ugarchforecast(myfit,n.ahead = 1)\n",
      "print(forc)\n",
      "myspec=ugarchspec(variance.model = list(model = \"sGARCH\", garchOrder = c(1, 1), submodel = NULL, external.regressors = NULL, variance.targeting = FALSE),mean.model = list(armaOrder = c(0,1), include.mean = TRUE, archm = FALSE, archpow = 1, arfima = FALSE, external.regressors = NULL, archex = FALSE),distribution.model = \"norm\")\n",
      "myfit=ugarchfit(myspec,data=tsValuesLog_d_1[1:81],solver=\"solnp\")\n",
      "forc = ugarchforecast(myfit,n.ahead = 1)\n",
      "print(forc)\n",
      "myspec=ugarchspec(variance.model = list(model = \"sGARCH\", garchOrder = c(1, 1), submodel = NULL, external.regressors = NULL, variance.targeting = FALSE),mean.model = list(armaOrder = c(0,1), include.mean = TRUE, archm = FALSE, archpow = 1, arfima = FALSE, external.regressors = NULL, archex = FALSE),distribution.model = \"norm\")\n",
      "myfit=ugarchfit(myspec,data=tsValuesLog_d_1[2:82],solver=\"solnp\")\n",
      "forc = ugarchforecast(myfit,n.ahead = 1)\n",
      "print(forc)\n",
      "myspec=ugarchspec(variance.model = list(model = \"sGARCH\", garchOrder = c(1, 1), submodel = NULL, external.regressors = NULL, variance.targeting = FALSE),mean.model = list(armaOrder = c(0,1), include.mean = TRUE, archm = FALSE, archpow = 1, arfima = FALSE, external.regressors = NULL, archex = FALSE),distribution.model = \"norm\")\n",
      "myfit=ugarchfit(myspec,data=tsValuesLog_d_1[3:83],solver=\"solnp\")\n",
      "forc = ugarchforecast(myfit,n.ahead = 1)\n",
      "print(forc)\n",
      "myspec=ugarchspec(variance.model = list(model = \"sGARCH\", garchOrder = c(1, 1), submodel = NULL, external.regressors = NULL, variance.targeting = FALSE),mean.model = list(armaOrder = c(0,1), include.mean = TRUE, archm = FALSE, archpow = 1, arfima = FALSE, external.regressors = NULL, archex = FALSE),distribution.model = \"norm\")\n",
      "myfit=ugarchfit(myspec,data=tsValuesLog_d_1[4:84],solver=\"solnp\")\n",
      "forc = ugarchforecast(myfit,n.ahead = 1)\n",
      "print(forc)\n",
      "myspec=ugarchspec(variance.model = list(model = \"sGARCH\", garchOrder = c(1, 1), submodel = NULL, external.regressors = NULL, variance.targeting = FALSE),mean.model = list(armaOrder = c(0,1), include.mean = TRUE, archm = FALSE, archpow = 1, arfima = FALSE, external.regressors = NULL, archex = FALSE),distribution.model = \"norm\")\n",
      "myfit=ugarchfit(myspec,data=tsValuesLog_d_1[5:85],solver=\"solnp\")\n",
      "forc = ugarchforecast(myfit,n.ahead = 1)\n",
      "print(forc)\n",
      "myspec=ugarchspec(variance.model = list(model = \"sGARCH\", garchOrder = c(1, 1), submodel = NULL, external.regressors = NULL, variance.targeting = FALSE),mean.model = list(armaOrder = c(0,1), include.mean = TRUE, archm = FALSE, archpow = 1, arfima = FALSE, external.regressors = NULL, archex = FALSE),distribution.model = \"norm\")\n",
      "myfit=ugarchfit(myspec,data=tsValuesLog_d_1[6:86],solver=\"solnp\")\n",
      "forc = ugarchforecast(myfit,n.ahead = 1)\n",
      "print(forc)\n",
      "myspec=ugarchspec(variance.model = list(model = \"sGARCH\", garchOrder = c(1, 1), submodel = NULL, external.regressors = NULL, variance.targeting = FALSE),mean.model = list(armaOrder = c(0,1), include.mean = TRUE, archm = FALSE, archpow = 1, arfima = FALSE, external.regressors = NULL, archex = FALSE),distribution.model = \"norm\")\n",
      "myfit=ugarchfit(myspec,data=tsValuesLog_d_1[7:87],solver=\"solnp\")\n",
      "forc = ugarchforecast(myfit,n.ahead = 1)\n",
      "print(forc)\n",
      "myspec=ugarchspec(variance.model = list(model = \"sGARCH\", garchOrder = c(1, 1), submodel = NULL, external.regressors = NULL, variance.targeting = FALSE),mean.model = list(armaOrder = c(0,1), include.mean = TRUE, archm = FALSE, archpow = 1, arfima = FALSE, external.regressors = NULL, archex = FALSE),distribution.model = \"norm\")\n",
      "myfit=ugarchfit(myspec,data=tsValuesLog_d_1[8:88],solver=\"solnp\")\n",
      "forc = ugarchforecast(myfit,n.ahead = 1)\n",
      "print(forc)\n",
      "myspec=ugarchspec(variance.model = list(model = \"sGARCH\", garchOrder = c(1, 1), submodel = NULL, external.regressors = NULL, variance.targeting = FALSE),mean.model = list(armaOrder = c(0,1), include.mean = TRUE, archm = FALSE, archpow = 1, arfima = FALSE, external.regressors = NULL, archex = FALSE),distribution.model = \"norm\")\n",
      "myfit=ugarchfit(myspec,data=tsValuesLog_d_1[9:89],solver=\"solnp\")\n",
      "forc = ugarchforecast(myfit,n.ahead = 1)\n",
      "print(forc)\n",
      "myspec=ugarchspec(variance.model = list(model = \"sGARCH\", garchOrder = c(1, 1), submodel = NULL, external.regressors = NULL, variance.targeting = FALSE),mean.model = list(armaOrder = c(0,1), include.mean = TRUE, archm = FALSE, archpow = 1, arfima = FALSE, external.regressors = NULL, archex = FALSE),distribution.model = \"norm\")\n",
      "myfit=ugarchfit(myspec,data=tsValuesLog_d_1[10:90],solver=\"solnp\")\n",
      "forc = ugarchforecast(myfit,n.ahead = 1)\n",
      "print(forc)\n",
      "myspec=ugarchspec(variance.model = list(model = \"sGARCH\", garchOrder = c(1, 1), submodel = NULL, external.regressors = NULL, variance.targeting = FALSE),mean.model = list(armaOrder = c(0,1), include.mean = TRUE, archm = FALSE, archpow = 1, arfima = FALSE, external.regressors = NULL, archex = FALSE),distribution.model = \"norm\")\n",
      "myfit=ugarchfit(myspec,data=tsValuesLog_d_1[11:91],solver=\"solnp\")\n",
      "forc = ugarchforecast(myfit,n.ahead = 1)\n",
      "print(forc)\n",
      "myspec=ugarchspec(variance.model = list(model = \"sGARCH\", garchOrder = c(1, 1), submodel = NULL, external.regressors = NULL, variance.targeting = FALSE),mean.model = list(armaOrder = c(0,1), include.mean = TRUE, archm = FALSE, archpow = 1, arfima = FALSE, external.regressors = NULL, archex = FALSE),distribution.model = \"norm\")\n",
      "myfit=ugarchfit(myspec,data=tsValuesLog_d_1[12:92],solver=\"solnp\")\n",
      "forc = ugarchforecast(myfit,n.ahead = 1)\n",
      "print(forc)\n",
      "myspec=ugarchspec(variance.model = list(model = \"sGARCH\", garchOrder = c(1, 1), submodel = NULL, external.regressors = NULL, variance.targeting = FALSE),mean.model = list(armaOrder = c(0,1), include.mean = TRUE, archm = FALSE, archpow = 1, arfima = FALSE, external.regressors = NULL, archex = FALSE),distribution.model = \"norm\")\n",
      "myfit=ugarchfit(myspec,data=tsValuesLog_d_1[13:93],solver=\"solnp\")\n",
      "forc = ugarchforecast(myfit,n.ahead = 1)\n",
      "print(forc)\n",
      "myspec=ugarchspec(variance.model = list(model = \"sGARCH\", garchOrder = c(1, 1), submodel = NULL, external.regressors = NULL, variance.targeting = FALSE),mean.model = list(armaOrder = c(0,1), include.mean = TRUE, archm = FALSE, archpow = 1, arfima = FALSE, external.regressors = NULL, archex = FALSE),distribution.model = \"norm\")\n",
      "myfit=ugarchfit(myspec,data=tsValuesLog_d_1[14:94],solver=\"solnp\")\n",
      "forc = ugarchforecast(myfit,n.ahead = 1)\n",
      "print(forc)\n",
      "myspec=ugarchspec(variance.model = list(model = \"sGARCH\", garchOrder = c(1, 1), submodel = NULL, external.regressors = NULL, variance.targeting = FALSE),mean.model = list(armaOrder = c(0,1), include.mean = TRUE, archm = FALSE, archpow = 1, arfima = FALSE, external.regressors = NULL, archex = FALSE),distribution.model = \"norm\")\n",
      "myfit=ugarchfit(myspec,data=tsValuesLog_d_1[15:95],solver=\"solnp\")\n",
      "forc = ugarchforecast(myfit,n.ahead = 1)\n",
      "print(forc)\n",
      "myspec=ugarchspec(variance.model = list(model = \"sGARCH\", garchOrder = c(1, 1), submodel = NULL, external.regressors = NULL, variance.targeting = FALSE),mean.model = list(armaOrder = c(0,1), include.mean = TRUE, archm = FALSE, archpow = 1, arfima = FALSE, external.regressors = NULL, archex = FALSE),distribution.model = \"norm\")\n",
      "myfit=ugarchfit(myspec,data=tsValuesLog_d_1[16:96],solver=\"solnp\")\n",
      "forc = ugarchforecast(myfit,n.ahead = 1)\n",
      "print(forc)\n",
      "myspec=ugarchspec(variance.model = list(model = \"sGARCH\", garchOrder = c(1, 1), submodel = NULL, external.regressors = NULL, variance.targeting = FALSE),mean.model = list(armaOrder = c(0,1), include.mean = TRUE, archm = FALSE, archpow = 1, arfima = FALSE, external.regressors = NULL, archex = FALSE),distribution.model = \"norm\")\n",
      "myfit=ugarchfit(myspec,data=tsValuesLog_d_1[17:97],solver=\"solnp\")\n",
      "forc = ugarchforecast(myfit,n.ahead = 1)\n",
      "print(forc)\n",
      "myspec=ugarchspec(variance.model = list(model = \"sGARCH\", garchOrder = c(1, 1), submodel = NULL, external.regressors = NULL, variance.targeting = FALSE),mean.model = list(armaOrder = c(0,1), include.mean = TRUE, archm = FALSE, archpow = 1, arfima = FALSE, external.regressors = NULL, archex = FALSE),distribution.model = \"norm\")\n",
      "myfit=ugarchfit(myspec,data=tsValuesLog_d_1[18:98],solver=\"solnp\")\n",
      "forc = ugarchforecast(myfit,n.ahead = 1)\n",
      "print(forc)\n",
      "myspec=ugarchspec(variance.model = list(model = \"sGARCH\", garchOrder = c(1, 1), submodel = NULL, external.regressors = NULL, variance.targeting = FALSE),mean.model = list(armaOrder = c(0,1), include.mean = TRUE, archm = FALSE, archpow = 1, arfima = FALSE, external.regressors = NULL, archex = FALSE),distribution.model = \"norm\")\n",
      "myfit=ugarchfit(myspec,data=tsValuesLog_d_1[19:99],solver=\"solnp\")\n",
      "forc = ugarchforecast(myfit,n.ahead = 1)\n",
      "print(forc)\n",
      "myspec=ugarchspec(variance.model = list(model = \"sGARCH\", garchOrder = c(1, 1), submodel = NULL, external.regressors = NULL, variance.targeting = FALSE),mean.model = list(armaOrder = c(0,1), include.mean = TRUE, archm = FALSE, archpow = 1, arfima = FALSE, external.regressors = NULL, archex = FALSE),distribution.model = \"norm\")\n",
      "myfit=ugarchfit(myspec,data=tsValuesLog_d_1[20:100],solver=\"solnp\")\n",
      "forc = ugarchforecast(myfit,n.ahead = 1)\n",
      "print(forc)\n",
      "myspec=ugarchspec(variance.model = list(model = \"sGARCH\", garchOrder = c(1, 1), submodel = NULL, external.regressors = NULL, variance.targeting = FALSE),mean.model = list(armaOrder = c(0,1), include.mean = TRUE, archm = FALSE, archpow = 1, arfima = FALSE, external.regressors = NULL, archex = FALSE),distribution.model = \"norm\")\n",
      "myfit=ugarchfit(myspec,data=tsValuesLog_d_1[21:101],solver=\"solnp\")\n",
      "forc = ugarchforecast(myfit,n.ahead = 1)\n",
      "print(forc)\n",
      "myspec=ugarchspec(variance.model = list(model = \"sGARCH\", garchOrder = c(1, 1), submodel = NULL, external.regressors = NULL, variance.targeting = FALSE),mean.model = list(armaOrder = c(0,1), include.mean = TRUE, archm = FALSE, archpow = 1, arfima = FALSE, external.regressors = NULL, archex = FALSE),distribution.model = \"norm\")\n",
      "myfit=ugarchfit(myspec,data=tsValuesLog_d_1[22:102],solver=\"solnp\")\n",
      "forc = ugarchforecast(myfit,n.ahead = 1)\n",
      "print(forc)\n",
      "myspec=ugarchspec(variance.model = list(model = \"sGARCH\", garchOrder = c(1, 1), submodel = NULL, external.regressors = NULL, variance.targeting = FALSE),mean.model = list(armaOrder = c(0,1), include.mean = TRUE, archm = FALSE, archpow = 1, arfima = FALSE, external.regressors = NULL, archex = FALSE),distribution.model = \"norm\")\n",
      "myfit=ugarchfit(myspec,data=tsValuesLog_d_1[23:103],solver=\"solnp\")\n",
      "forc = ugarchforecast(myfit,n.ahead = 1)\n",
      "print(forc)\n",
      "myspec=ugarchspec(variance.model = list(model = \"sGARCH\", garchOrder = c(1, 1), submodel = NULL, external.regressors = NULL, variance.targeting = FALSE),mean.model = list(armaOrder = c(0,1), include.mean = TRUE, archm = FALSE, archpow = 1, arfima = FALSE, external.regressors = NULL, archex = FALSE),distribution.model = \"norm\")\n",
      "myfit=ugarchfit(myspec,data=tsValuesLog_d_1[24:104],solver=\"solnp\")\n",
      "forc = ugarchforecast(myfit,n.ahead = 1)\n",
      "print(forc)\n",
      "myspec=ugarchspec(variance.model = list(model = \"sGARCH\", garchOrder = c(1, 1), submodel = NULL, external.regressors = NULL, variance.targeting = FALSE),mean.model = list(armaOrder = c(0,1), include.mean = TRUE, archm = FALSE, archpow = 1, arfima = FALSE, external.regressors = NULL, archex = FALSE),distribution.model = \"norm\")\n",
      "myfit=ugarchfit(myspec,data=tsValuesLog_d_1[25:105],solver=\"solnp\")\n",
      "forc = ugarchforecast(myfit,n.ahead = 1)\n",
      "print(forc)\n",
      "myspec=ugarchspec(variance.model = list(model = \"sGARCH\", garchOrder = c(1, 1), submodel = NULL, external.regressors = NULL, variance.targeting = FALSE),mean.model = list(armaOrder = c(0,1), include.mean = TRUE, archm = FALSE, archpow = 1, arfima = FALSE, external.regressors = NULL, archex = FALSE),distribution.model = \"norm\")\n",
      "myfit=ugarchfit(myspec,data=tsValuesLog_d_1[26:106],solver=\"solnp\")\n",
      "forc = ugarchforecast(myfit,n.ahead = 1)\n",
      "print(forc)\n",
      "myspec=ugarchspec(variance.model = list(model = \"sGARCH\", garchOrder = c(1, 1), submodel = NULL, external.regressors = NULL, variance.targeting = FALSE),mean.model = list(armaOrder = c(0,1), include.mean = TRUE, archm = FALSE, archpow = 1, arfima = FALSE, external.regressors = NULL, archex = FALSE),distribution.model = \"norm\")\n",
      "myfit=ugarchfit(myspec,data=tsValuesLog_d_1[27:107],solver=\"solnp\")\n",
      "forc = ugarchforecast(myfit,n.ahead = 1)\n",
      "print(forc)\n",
      "myspec=ugarchspec(variance.model = list(model = \"sGARCH\", garchOrder = c(1, 1), submodel = NULL, external.regressors = NULL, variance.targeting = FALSE),mean.model = list(armaOrder = c(0,1), include.mean = TRUE, archm = FALSE, archpow = 1, arfima = FALSE, external.regressors = NULL, archex = FALSE),distribution.model = \"norm\")\n",
      "myfit=ugarchfit(myspec,data=tsValuesLog_d_1[28:108],solver=\"solnp\")\n",
      "forc = ugarchforecast(myfit,n.ahead = 1)\n",
      "print(forc)\n",
      "myspec=ugarchspec(variance.model = list(model = \"sGARCH\", garchOrder = c(1, 1), submodel = NULL, external.regressors = NULL, variance.targeting = FALSE),mean.model = list(armaOrder = c(0,1), include.mean = TRUE, archm = FALSE, archpow = 1, arfima = FALSE, external.regressors = NULL, archex = FALSE),distribution.model = \"norm\")\n",
      "myfit=ugarchfit(myspec,data=tsValuesLog_d_1[29:109],solver=\"solnp\")\n",
      "forc = ugarchforecast(myfit,n.ahead = 1)\n",
      "print(forc)\n",
      "myspec=ugarchspec(variance.model = list(model = \"sGARCH\", garchOrder = c(1, 1), submodel = NULL, external.regressors = NULL, variance.targeting = FALSE),mean.model = list(armaOrder = c(0,1), include.mean = TRUE, archm = FALSE, archpow = 1, arfima = FALSE, external.regressors = NULL, archex = FALSE),distribution.model = \"norm\")\n",
      "myfit=ugarchfit(myspec,data=tsValuesLog_d_1[30:110],solver=\"solnp\")\n",
      "forc = ugarchforecast(myfit,n.ahead = 1)\n",
      "print(forc)\n",
      "myspec=ugarchspec(variance.model = list(model = \"sGARCH\", garchOrder = c(1, 1), submodel = NULL, external.regressors = NULL, variance.targeting = FALSE),mean.model = list(armaOrder = c(0,1), include.mean = TRUE, archm = FALSE, archpow = 1, arfima = FALSE, external.regressors = NULL, archex = FALSE),distribution.model = \"norm\")\n",
      "myfit=ugarchfit(myspec,data=tsValuesLog_d_1[31:111],solver=\"solnp\")\n",
      "forc = ugarchforecast(myfit,n.ahead = 1)\n",
      "print(forc)\n",
      "myspec=ugarchspec(variance.model = list(model = \"sGARCH\", garchOrder = c(1, 1), submodel = NULL, external.regressors = NULL, variance.targeting = FALSE),mean.model = list(armaOrder = c(0,1), include.mean = TRUE, archm = FALSE, archpow = 1, arfima = FALSE, external.regressors = NULL, archex = FALSE),distribution.model = \"norm\")\n",
      "myfit=ugarchfit(myspec,data=tsValuesLog_d_1[32:112],solver=\"solnp\")\n",
      "forc = ugarchforecast(myfit,n.ahead = 1)\n",
      "print(forc)\n"
     ]
    }
   ],
   "source": [
    "for i in range(80,113):\n",
    "    print('myspec=ugarchspec(variance.model = list(model = \"sGARCH\", garchOrder = c(1, 1), submodel = NULL, external.regressors = NULL, variance.targeting = FALSE),mean.model = list(armaOrder = c(0,1), include.mean = TRUE, archm = FALSE, archpow = 1, arfima = FALSE, external.regressors = NULL, archex = FALSE),distribution.model = \"norm\")')\n",
    "    print('myfit=ugarchfit(myspec,data=tsValuesLog_d_1['+str((i-80))+':'+str(i)+'],solver=\"solnp\")')\n",
    "    print('forc = ugarchforecast(myfit,n.ahead = 1)')\n",
    "    print('print(forc)')"
   ]
  },
  {
   "cell_type": "code",
   "execution_count": 2,
   "metadata": {
    "collapsed": false
   },
   "outputs": [
    {
     "name": "stdout",
     "output_type": "stream",
     "text": [
      "myspec=ugarchspec(variance.model = list(model = \"sGARCH\", garchOrder = c(1, 1), submodel = NULL, external.regressors = NULL, variance.targeting = FALSE),mean.model = list(armaOrder = c(0,1), include.mean = TRUE, archm = FALSE, archpow = 1, arfima = FALSE, external.regressors = NULL, archex = FALSE),distribution.model = \"norm\")\n",
      "myfit=ugarchfit(myspec,data=tsValuesLog_d_1[2:82],solver=\"solnp\")\n",
      "forc = ugarchforecast(myfit,n.ahead = 3)\n",
      "print(forc)\n",
      "myspec=ugarchspec(variance.model = list(model = \"sGARCH\", garchOrder = c(1, 1), submodel = NULL, external.regressors = NULL, variance.targeting = FALSE),mean.model = list(armaOrder = c(0,1), include.mean = TRUE, archm = FALSE, archpow = 1, arfima = FALSE, external.regressors = NULL, archex = FALSE),distribution.model = \"norm\")\n",
      "myfit=ugarchfit(myspec,data=tsValuesLog_d_1[3:83],solver=\"solnp\")\n",
      "forc = ugarchforecast(myfit,n.ahead = 3)\n",
      "print(forc)\n",
      "myspec=ugarchspec(variance.model = list(model = \"sGARCH\", garchOrder = c(1, 1), submodel = NULL, external.regressors = NULL, variance.targeting = FALSE),mean.model = list(armaOrder = c(0,1), include.mean = TRUE, archm = FALSE, archpow = 1, arfima = FALSE, external.regressors = NULL, archex = FALSE),distribution.model = \"norm\")\n",
      "myfit=ugarchfit(myspec,data=tsValuesLog_d_1[4:84],solver=\"solnp\")\n",
      "forc = ugarchforecast(myfit,n.ahead = 3)\n",
      "print(forc)\n",
      "myspec=ugarchspec(variance.model = list(model = \"sGARCH\", garchOrder = c(1, 1), submodel = NULL, external.regressors = NULL, variance.targeting = FALSE),mean.model = list(armaOrder = c(0,1), include.mean = TRUE, archm = FALSE, archpow = 1, arfima = FALSE, external.regressors = NULL, archex = FALSE),distribution.model = \"norm\")\n",
      "myfit=ugarchfit(myspec,data=tsValuesLog_d_1[5:85],solver=\"solnp\")\n",
      "forc = ugarchforecast(myfit,n.ahead = 3)\n",
      "print(forc)\n",
      "myspec=ugarchspec(variance.model = list(model = \"sGARCH\", garchOrder = c(1, 1), submodel = NULL, external.regressors = NULL, variance.targeting = FALSE),mean.model = list(armaOrder = c(0,1), include.mean = TRUE, archm = FALSE, archpow = 1, arfima = FALSE, external.regressors = NULL, archex = FALSE),distribution.model = \"norm\")\n",
      "myfit=ugarchfit(myspec,data=tsValuesLog_d_1[6:86],solver=\"solnp\")\n",
      "forc = ugarchforecast(myfit,n.ahead = 3)\n",
      "print(forc)\n",
      "myspec=ugarchspec(variance.model = list(model = \"sGARCH\", garchOrder = c(1, 1), submodel = NULL, external.regressors = NULL, variance.targeting = FALSE),mean.model = list(armaOrder = c(0,1), include.mean = TRUE, archm = FALSE, archpow = 1, arfima = FALSE, external.regressors = NULL, archex = FALSE),distribution.model = \"norm\")\n",
      "myfit=ugarchfit(myspec,data=tsValuesLog_d_1[7:87],solver=\"solnp\")\n",
      "forc = ugarchforecast(myfit,n.ahead = 3)\n",
      "print(forc)\n",
      "myspec=ugarchspec(variance.model = list(model = \"sGARCH\", garchOrder = c(1, 1), submodel = NULL, external.regressors = NULL, variance.targeting = FALSE),mean.model = list(armaOrder = c(0,1), include.mean = TRUE, archm = FALSE, archpow = 1, arfima = FALSE, external.regressors = NULL, archex = FALSE),distribution.model = \"norm\")\n",
      "myfit=ugarchfit(myspec,data=tsValuesLog_d_1[8:88],solver=\"solnp\")\n",
      "forc = ugarchforecast(myfit,n.ahead = 3)\n",
      "print(forc)\n",
      "myspec=ugarchspec(variance.model = list(model = \"sGARCH\", garchOrder = c(1, 1), submodel = NULL, external.regressors = NULL, variance.targeting = FALSE),mean.model = list(armaOrder = c(0,1), include.mean = TRUE, archm = FALSE, archpow = 1, arfima = FALSE, external.regressors = NULL, archex = FALSE),distribution.model = \"norm\")\n",
      "myfit=ugarchfit(myspec,data=tsValuesLog_d_1[9:89],solver=\"solnp\")\n",
      "forc = ugarchforecast(myfit,n.ahead = 3)\n",
      "print(forc)\n",
      "myspec=ugarchspec(variance.model = list(model = \"sGARCH\", garchOrder = c(1, 1), submodel = NULL, external.regressors = NULL, variance.targeting = FALSE),mean.model = list(armaOrder = c(0,1), include.mean = TRUE, archm = FALSE, archpow = 1, arfima = FALSE, external.regressors = NULL, archex = FALSE),distribution.model = \"norm\")\n",
      "myfit=ugarchfit(myspec,data=tsValuesLog_d_1[10:90],solver=\"solnp\")\n",
      "forc = ugarchforecast(myfit,n.ahead = 3)\n",
      "print(forc)\n",
      "myspec=ugarchspec(variance.model = list(model = \"sGARCH\", garchOrder = c(1, 1), submodel = NULL, external.regressors = NULL, variance.targeting = FALSE),mean.model = list(armaOrder = c(0,1), include.mean = TRUE, archm = FALSE, archpow = 1, arfima = FALSE, external.regressors = NULL, archex = FALSE),distribution.model = \"norm\")\n",
      "myfit=ugarchfit(myspec,data=tsValuesLog_d_1[11:91],solver=\"solnp\")\n",
      "forc = ugarchforecast(myfit,n.ahead = 3)\n",
      "print(forc)\n",
      "myspec=ugarchspec(variance.model = list(model = \"sGARCH\", garchOrder = c(1, 1), submodel = NULL, external.regressors = NULL, variance.targeting = FALSE),mean.model = list(armaOrder = c(0,1), include.mean = TRUE, archm = FALSE, archpow = 1, arfima = FALSE, external.regressors = NULL, archex = FALSE),distribution.model = \"norm\")\n",
      "myfit=ugarchfit(myspec,data=tsValuesLog_d_1[12:92],solver=\"solnp\")\n",
      "forc = ugarchforecast(myfit,n.ahead = 3)\n",
      "print(forc)\n",
      "myspec=ugarchspec(variance.model = list(model = \"sGARCH\", garchOrder = c(1, 1), submodel = NULL, external.regressors = NULL, variance.targeting = FALSE),mean.model = list(armaOrder = c(0,1), include.mean = TRUE, archm = FALSE, archpow = 1, arfima = FALSE, external.regressors = NULL, archex = FALSE),distribution.model = \"norm\")\n",
      "myfit=ugarchfit(myspec,data=tsValuesLog_d_1[13:93],solver=\"solnp\")\n",
      "forc = ugarchforecast(myfit,n.ahead = 3)\n",
      "print(forc)\n",
      "myspec=ugarchspec(variance.model = list(model = \"sGARCH\", garchOrder = c(1, 1), submodel = NULL, external.regressors = NULL, variance.targeting = FALSE),mean.model = list(armaOrder = c(0,1), include.mean = TRUE, archm = FALSE, archpow = 1, arfima = FALSE, external.regressors = NULL, archex = FALSE),distribution.model = \"norm\")\n",
      "myfit=ugarchfit(myspec,data=tsValuesLog_d_1[14:94],solver=\"solnp\")\n",
      "forc = ugarchforecast(myfit,n.ahead = 3)\n",
      "print(forc)\n",
      "myspec=ugarchspec(variance.model = list(model = \"sGARCH\", garchOrder = c(1, 1), submodel = NULL, external.regressors = NULL, variance.targeting = FALSE),mean.model = list(armaOrder = c(0,1), include.mean = TRUE, archm = FALSE, archpow = 1, arfima = FALSE, external.regressors = NULL, archex = FALSE),distribution.model = \"norm\")\n",
      "myfit=ugarchfit(myspec,data=tsValuesLog_d_1[15:95],solver=\"solnp\")\n",
      "forc = ugarchforecast(myfit,n.ahead = 3)\n",
      "print(forc)\n",
      "myspec=ugarchspec(variance.model = list(model = \"sGARCH\", garchOrder = c(1, 1), submodel = NULL, external.regressors = NULL, variance.targeting = FALSE),mean.model = list(armaOrder = c(0,1), include.mean = TRUE, archm = FALSE, archpow = 1, arfima = FALSE, external.regressors = NULL, archex = FALSE),distribution.model = \"norm\")\n",
      "myfit=ugarchfit(myspec,data=tsValuesLog_d_1[16:96],solver=\"solnp\")\n",
      "forc = ugarchforecast(myfit,n.ahead = 3)\n",
      "print(forc)\n",
      "myspec=ugarchspec(variance.model = list(model = \"sGARCH\", garchOrder = c(1, 1), submodel = NULL, external.regressors = NULL, variance.targeting = FALSE),mean.model = list(armaOrder = c(0,1), include.mean = TRUE, archm = FALSE, archpow = 1, arfima = FALSE, external.regressors = NULL, archex = FALSE),distribution.model = \"norm\")\n",
      "myfit=ugarchfit(myspec,data=tsValuesLog_d_1[17:97],solver=\"solnp\")\n",
      "forc = ugarchforecast(myfit,n.ahead = 3)\n",
      "print(forc)\n",
      "myspec=ugarchspec(variance.model = list(model = \"sGARCH\", garchOrder = c(1, 1), submodel = NULL, external.regressors = NULL, variance.targeting = FALSE),mean.model = list(armaOrder = c(0,1), include.mean = TRUE, archm = FALSE, archpow = 1, arfima = FALSE, external.regressors = NULL, archex = FALSE),distribution.model = \"norm\")\n",
      "myfit=ugarchfit(myspec,data=tsValuesLog_d_1[18:98],solver=\"solnp\")\n",
      "forc = ugarchforecast(myfit,n.ahead = 3)\n",
      "print(forc)\n",
      "myspec=ugarchspec(variance.model = list(model = \"sGARCH\", garchOrder = c(1, 1), submodel = NULL, external.regressors = NULL, variance.targeting = FALSE),mean.model = list(armaOrder = c(0,1), include.mean = TRUE, archm = FALSE, archpow = 1, arfima = FALSE, external.regressors = NULL, archex = FALSE),distribution.model = \"norm\")\n",
      "myfit=ugarchfit(myspec,data=tsValuesLog_d_1[19:99],solver=\"solnp\")\n",
      "forc = ugarchforecast(myfit,n.ahead = 3)\n",
      "print(forc)\n",
      "myspec=ugarchspec(variance.model = list(model = \"sGARCH\", garchOrder = c(1, 1), submodel = NULL, external.regressors = NULL, variance.targeting = FALSE),mean.model = list(armaOrder = c(0,1), include.mean = TRUE, archm = FALSE, archpow = 1, arfima = FALSE, external.regressors = NULL, archex = FALSE),distribution.model = \"norm\")\n",
      "myfit=ugarchfit(myspec,data=tsValuesLog_d_1[20:100],solver=\"solnp\")\n",
      "forc = ugarchforecast(myfit,n.ahead = 3)\n",
      "print(forc)\n",
      "myspec=ugarchspec(variance.model = list(model = \"sGARCH\", garchOrder = c(1, 1), submodel = NULL, external.regressors = NULL, variance.targeting = FALSE),mean.model = list(armaOrder = c(0,1), include.mean = TRUE, archm = FALSE, archpow = 1, arfima = FALSE, external.regressors = NULL, archex = FALSE),distribution.model = \"norm\")\n",
      "myfit=ugarchfit(myspec,data=tsValuesLog_d_1[21:101],solver=\"solnp\")\n",
      "forc = ugarchforecast(myfit,n.ahead = 3)\n",
      "print(forc)\n",
      "myspec=ugarchspec(variance.model = list(model = \"sGARCH\", garchOrder = c(1, 1), submodel = NULL, external.regressors = NULL, variance.targeting = FALSE),mean.model = list(armaOrder = c(0,1), include.mean = TRUE, archm = FALSE, archpow = 1, arfima = FALSE, external.regressors = NULL, archex = FALSE),distribution.model = \"norm\")\n",
      "myfit=ugarchfit(myspec,data=tsValuesLog_d_1[22:102],solver=\"solnp\")\n",
      "forc = ugarchforecast(myfit,n.ahead = 3)\n",
      "print(forc)\n",
      "myspec=ugarchspec(variance.model = list(model = \"sGARCH\", garchOrder = c(1, 1), submodel = NULL, external.regressors = NULL, variance.targeting = FALSE),mean.model = list(armaOrder = c(0,1), include.mean = TRUE, archm = FALSE, archpow = 1, arfima = FALSE, external.regressors = NULL, archex = FALSE),distribution.model = \"norm\")\n",
      "myfit=ugarchfit(myspec,data=tsValuesLog_d_1[23:103],solver=\"solnp\")\n",
      "forc = ugarchforecast(myfit,n.ahead = 3)\n",
      "print(forc)\n",
      "myspec=ugarchspec(variance.model = list(model = \"sGARCH\", garchOrder = c(1, 1), submodel = NULL, external.regressors = NULL, variance.targeting = FALSE),mean.model = list(armaOrder = c(0,1), include.mean = TRUE, archm = FALSE, archpow = 1, arfima = FALSE, external.regressors = NULL, archex = FALSE),distribution.model = \"norm\")\n",
      "myfit=ugarchfit(myspec,data=tsValuesLog_d_1[24:104],solver=\"solnp\")\n",
      "forc = ugarchforecast(myfit,n.ahead = 3)\n",
      "print(forc)\n",
      "myspec=ugarchspec(variance.model = list(model = \"sGARCH\", garchOrder = c(1, 1), submodel = NULL, external.regressors = NULL, variance.targeting = FALSE),mean.model = list(armaOrder = c(0,1), include.mean = TRUE, archm = FALSE, archpow = 1, arfima = FALSE, external.regressors = NULL, archex = FALSE),distribution.model = \"norm\")\n",
      "myfit=ugarchfit(myspec,data=tsValuesLog_d_1[25:105],solver=\"solnp\")\n",
      "forc = ugarchforecast(myfit,n.ahead = 3)\n",
      "print(forc)\n",
      "myspec=ugarchspec(variance.model = list(model = \"sGARCH\", garchOrder = c(1, 1), submodel = NULL, external.regressors = NULL, variance.targeting = FALSE),mean.model = list(armaOrder = c(0,1), include.mean = TRUE, archm = FALSE, archpow = 1, arfima = FALSE, external.regressors = NULL, archex = FALSE),distribution.model = \"norm\")\n",
      "myfit=ugarchfit(myspec,data=tsValuesLog_d_1[26:106],solver=\"solnp\")\n",
      "forc = ugarchforecast(myfit,n.ahead = 3)\n",
      "print(forc)\n",
      "myspec=ugarchspec(variance.model = list(model = \"sGARCH\", garchOrder = c(1, 1), submodel = NULL, external.regressors = NULL, variance.targeting = FALSE),mean.model = list(armaOrder = c(0,1), include.mean = TRUE, archm = FALSE, archpow = 1, arfima = FALSE, external.regressors = NULL, archex = FALSE),distribution.model = \"norm\")\n",
      "myfit=ugarchfit(myspec,data=tsValuesLog_d_1[27:107],solver=\"solnp\")\n",
      "forc = ugarchforecast(myfit,n.ahead = 3)\n",
      "print(forc)\n",
      "myspec=ugarchspec(variance.model = list(model = \"sGARCH\", garchOrder = c(1, 1), submodel = NULL, external.regressors = NULL, variance.targeting = FALSE),mean.model = list(armaOrder = c(0,1), include.mean = TRUE, archm = FALSE, archpow = 1, arfima = FALSE, external.regressors = NULL, archex = FALSE),distribution.model = \"norm\")\n",
      "myfit=ugarchfit(myspec,data=tsValuesLog_d_1[28:108],solver=\"solnp\")\n",
      "forc = ugarchforecast(myfit,n.ahead = 3)\n",
      "print(forc)\n",
      "myspec=ugarchspec(variance.model = list(model = \"sGARCH\", garchOrder = c(1, 1), submodel = NULL, external.regressors = NULL, variance.targeting = FALSE),mean.model = list(armaOrder = c(0,1), include.mean = TRUE, archm = FALSE, archpow = 1, arfima = FALSE, external.regressors = NULL, archex = FALSE),distribution.model = \"norm\")\n",
      "myfit=ugarchfit(myspec,data=tsValuesLog_d_1[29:109],solver=\"solnp\")\n",
      "forc = ugarchforecast(myfit,n.ahead = 3)\n",
      "print(forc)\n",
      "myspec=ugarchspec(variance.model = list(model = \"sGARCH\", garchOrder = c(1, 1), submodel = NULL, external.regressors = NULL, variance.targeting = FALSE),mean.model = list(armaOrder = c(0,1), include.mean = TRUE, archm = FALSE, archpow = 1, arfima = FALSE, external.regressors = NULL, archex = FALSE),distribution.model = \"norm\")\n",
      "myfit=ugarchfit(myspec,data=tsValuesLog_d_1[30:110],solver=\"solnp\")\n",
      "forc = ugarchforecast(myfit,n.ahead = 3)\n",
      "print(forc)\n",
      "myspec=ugarchspec(variance.model = list(model = \"sGARCH\", garchOrder = c(1, 1), submodel = NULL, external.regressors = NULL, variance.targeting = FALSE),mean.model = list(armaOrder = c(0,1), include.mean = TRUE, archm = FALSE, archpow = 1, arfima = FALSE, external.regressors = NULL, archex = FALSE),distribution.model = \"norm\")\n",
      "myfit=ugarchfit(myspec,data=tsValuesLog_d_1[31:111],solver=\"solnp\")\n",
      "forc = ugarchforecast(myfit,n.ahead = 3)\n",
      "print(forc)\n",
      "myspec=ugarchspec(variance.model = list(model = \"sGARCH\", garchOrder = c(1, 1), submodel = NULL, external.regressors = NULL, variance.targeting = FALSE),mean.model = list(armaOrder = c(0,1), include.mean = TRUE, archm = FALSE, archpow = 1, arfima = FALSE, external.regressors = NULL, archex = FALSE),distribution.model = \"norm\")\n",
      "myfit=ugarchfit(myspec,data=tsValuesLog_d_1[32:112],solver=\"solnp\")\n",
      "forc = ugarchforecast(myfit,n.ahead = 3)\n",
      "print(forc)\n"
     ]
    }
   ],
   "source": [
    "for i in range(82,113):\n",
    "    print('myspec=ugarchspec(variance.model = list(model = \"sGARCH\", garchOrder = c(1, 1), submodel = NULL, external.regressors = NULL, variance.targeting = FALSE),mean.model = list(armaOrder = c(0,1), include.mean = TRUE, archm = FALSE, archpow = 1, arfima = FALSE, external.regressors = NULL, archex = FALSE),distribution.model = \"norm\")')\n",
    "    print('myfit=ugarchfit(myspec,data=tsValuesLog_d_1['+str((i-80))+':'+str(i)+'],solver=\"solnp\")')\n",
    "    print('forc = ugarchforecast(myfit,n.ahead = 3)')\n",
    "    print('print(forc)')"
   ]
  },
  {
   "cell_type": "code",
   "execution_count": 3,
   "metadata": {
    "collapsed": false
   },
   "outputs": [
    {
     "name": "stdout",
     "output_type": "stream",
     "text": [
      "myspec=ugarchspec(variance.model = list(model = \"sGARCH\", garchOrder = c(1, 1), submodel = NULL, external.regressors = NULL, variance.targeting = FALSE),mean.model = list(armaOrder = c(0,1), include.mean = TRUE, archm = FALSE, archpow = 1, arfima = FALSE, external.regressors = NULL, archex = FALSE),distribution.model = \"norm\")\n",
      "myfit=ugarchfit(myspec,data=tsValuesLog_d_1[5:85],solver=\"solnp\")\n",
      "forc = ugarchforecast(myfit,n.ahead = 6)\n",
      "print(forc)\n",
      "myspec=ugarchspec(variance.model = list(model = \"sGARCH\", garchOrder = c(1, 1), submodel = NULL, external.regressors = NULL, variance.targeting = FALSE),mean.model = list(armaOrder = c(0,1), include.mean = TRUE, archm = FALSE, archpow = 1, arfima = FALSE, external.regressors = NULL, archex = FALSE),distribution.model = \"norm\")\n",
      "myfit=ugarchfit(myspec,data=tsValuesLog_d_1[6:86],solver=\"solnp\")\n",
      "forc = ugarchforecast(myfit,n.ahead = 6)\n",
      "print(forc)\n",
      "myspec=ugarchspec(variance.model = list(model = \"sGARCH\", garchOrder = c(1, 1), submodel = NULL, external.regressors = NULL, variance.targeting = FALSE),mean.model = list(armaOrder = c(0,1), include.mean = TRUE, archm = FALSE, archpow = 1, arfima = FALSE, external.regressors = NULL, archex = FALSE),distribution.model = \"norm\")\n",
      "myfit=ugarchfit(myspec,data=tsValuesLog_d_1[7:87],solver=\"solnp\")\n",
      "forc = ugarchforecast(myfit,n.ahead = 6)\n",
      "print(forc)\n",
      "myspec=ugarchspec(variance.model = list(model = \"sGARCH\", garchOrder = c(1, 1), submodel = NULL, external.regressors = NULL, variance.targeting = FALSE),mean.model = list(armaOrder = c(0,1), include.mean = TRUE, archm = FALSE, archpow = 1, arfima = FALSE, external.regressors = NULL, archex = FALSE),distribution.model = \"norm\")\n",
      "myfit=ugarchfit(myspec,data=tsValuesLog_d_1[8:88],solver=\"solnp\")\n",
      "forc = ugarchforecast(myfit,n.ahead = 6)\n",
      "print(forc)\n",
      "myspec=ugarchspec(variance.model = list(model = \"sGARCH\", garchOrder = c(1, 1), submodel = NULL, external.regressors = NULL, variance.targeting = FALSE),mean.model = list(armaOrder = c(0,1), include.mean = TRUE, archm = FALSE, archpow = 1, arfima = FALSE, external.regressors = NULL, archex = FALSE),distribution.model = \"norm\")\n",
      "myfit=ugarchfit(myspec,data=tsValuesLog_d_1[9:89],solver=\"solnp\")\n",
      "forc = ugarchforecast(myfit,n.ahead = 6)\n",
      "print(forc)\n",
      "myspec=ugarchspec(variance.model = list(model = \"sGARCH\", garchOrder = c(1, 1), submodel = NULL, external.regressors = NULL, variance.targeting = FALSE),mean.model = list(armaOrder = c(0,1), include.mean = TRUE, archm = FALSE, archpow = 1, arfima = FALSE, external.regressors = NULL, archex = FALSE),distribution.model = \"norm\")\n",
      "myfit=ugarchfit(myspec,data=tsValuesLog_d_1[10:90],solver=\"solnp\")\n",
      "forc = ugarchforecast(myfit,n.ahead = 6)\n",
      "print(forc)\n",
      "myspec=ugarchspec(variance.model = list(model = \"sGARCH\", garchOrder = c(1, 1), submodel = NULL, external.regressors = NULL, variance.targeting = FALSE),mean.model = list(armaOrder = c(0,1), include.mean = TRUE, archm = FALSE, archpow = 1, arfima = FALSE, external.regressors = NULL, archex = FALSE),distribution.model = \"norm\")\n",
      "myfit=ugarchfit(myspec,data=tsValuesLog_d_1[11:91],solver=\"solnp\")\n",
      "forc = ugarchforecast(myfit,n.ahead = 6)\n",
      "print(forc)\n",
      "myspec=ugarchspec(variance.model = list(model = \"sGARCH\", garchOrder = c(1, 1), submodel = NULL, external.regressors = NULL, variance.targeting = FALSE),mean.model = list(armaOrder = c(0,1), include.mean = TRUE, archm = FALSE, archpow = 1, arfima = FALSE, external.regressors = NULL, archex = FALSE),distribution.model = \"norm\")\n",
      "myfit=ugarchfit(myspec,data=tsValuesLog_d_1[12:92],solver=\"solnp\")\n",
      "forc = ugarchforecast(myfit,n.ahead = 6)\n",
      "print(forc)\n",
      "myspec=ugarchspec(variance.model = list(model = \"sGARCH\", garchOrder = c(1, 1), submodel = NULL, external.regressors = NULL, variance.targeting = FALSE),mean.model = list(armaOrder = c(0,1), include.mean = TRUE, archm = FALSE, archpow = 1, arfima = FALSE, external.regressors = NULL, archex = FALSE),distribution.model = \"norm\")\n",
      "myfit=ugarchfit(myspec,data=tsValuesLog_d_1[13:93],solver=\"solnp\")\n",
      "forc = ugarchforecast(myfit,n.ahead = 6)\n",
      "print(forc)\n",
      "myspec=ugarchspec(variance.model = list(model = \"sGARCH\", garchOrder = c(1, 1), submodel = NULL, external.regressors = NULL, variance.targeting = FALSE),mean.model = list(armaOrder = c(0,1), include.mean = TRUE, archm = FALSE, archpow = 1, arfima = FALSE, external.regressors = NULL, archex = FALSE),distribution.model = \"norm\")\n",
      "myfit=ugarchfit(myspec,data=tsValuesLog_d_1[14:94],solver=\"solnp\")\n",
      "forc = ugarchforecast(myfit,n.ahead = 6)\n",
      "print(forc)\n",
      "myspec=ugarchspec(variance.model = list(model = \"sGARCH\", garchOrder = c(1, 1), submodel = NULL, external.regressors = NULL, variance.targeting = FALSE),mean.model = list(armaOrder = c(0,1), include.mean = TRUE, archm = FALSE, archpow = 1, arfima = FALSE, external.regressors = NULL, archex = FALSE),distribution.model = \"norm\")\n",
      "myfit=ugarchfit(myspec,data=tsValuesLog_d_1[15:95],solver=\"solnp\")\n",
      "forc = ugarchforecast(myfit,n.ahead = 6)\n",
      "print(forc)\n",
      "myspec=ugarchspec(variance.model = list(model = \"sGARCH\", garchOrder = c(1, 1), submodel = NULL, external.regressors = NULL, variance.targeting = FALSE),mean.model = list(armaOrder = c(0,1), include.mean = TRUE, archm = FALSE, archpow = 1, arfima = FALSE, external.regressors = NULL, archex = FALSE),distribution.model = \"norm\")\n",
      "myfit=ugarchfit(myspec,data=tsValuesLog_d_1[16:96],solver=\"solnp\")\n",
      "forc = ugarchforecast(myfit,n.ahead = 6)\n",
      "print(forc)\n",
      "myspec=ugarchspec(variance.model = list(model = \"sGARCH\", garchOrder = c(1, 1), submodel = NULL, external.regressors = NULL, variance.targeting = FALSE),mean.model = list(armaOrder = c(0,1), include.mean = TRUE, archm = FALSE, archpow = 1, arfima = FALSE, external.regressors = NULL, archex = FALSE),distribution.model = \"norm\")\n",
      "myfit=ugarchfit(myspec,data=tsValuesLog_d_1[17:97],solver=\"solnp\")\n",
      "forc = ugarchforecast(myfit,n.ahead = 6)\n",
      "print(forc)\n",
      "myspec=ugarchspec(variance.model = list(model = \"sGARCH\", garchOrder = c(1, 1), submodel = NULL, external.regressors = NULL, variance.targeting = FALSE),mean.model = list(armaOrder = c(0,1), include.mean = TRUE, archm = FALSE, archpow = 1, arfima = FALSE, external.regressors = NULL, archex = FALSE),distribution.model = \"norm\")\n",
      "myfit=ugarchfit(myspec,data=tsValuesLog_d_1[18:98],solver=\"solnp\")\n",
      "forc = ugarchforecast(myfit,n.ahead = 6)\n",
      "print(forc)\n",
      "myspec=ugarchspec(variance.model = list(model = \"sGARCH\", garchOrder = c(1, 1), submodel = NULL, external.regressors = NULL, variance.targeting = FALSE),mean.model = list(armaOrder = c(0,1), include.mean = TRUE, archm = FALSE, archpow = 1, arfima = FALSE, external.regressors = NULL, archex = FALSE),distribution.model = \"norm\")\n",
      "myfit=ugarchfit(myspec,data=tsValuesLog_d_1[19:99],solver=\"solnp\")\n",
      "forc = ugarchforecast(myfit,n.ahead = 6)\n",
      "print(forc)\n",
      "myspec=ugarchspec(variance.model = list(model = \"sGARCH\", garchOrder = c(1, 1), submodel = NULL, external.regressors = NULL, variance.targeting = FALSE),mean.model = list(armaOrder = c(0,1), include.mean = TRUE, archm = FALSE, archpow = 1, arfima = FALSE, external.regressors = NULL, archex = FALSE),distribution.model = \"norm\")\n",
      "myfit=ugarchfit(myspec,data=tsValuesLog_d_1[20:100],solver=\"solnp\")\n",
      "forc = ugarchforecast(myfit,n.ahead = 6)\n",
      "print(forc)\n",
      "myspec=ugarchspec(variance.model = list(model = \"sGARCH\", garchOrder = c(1, 1), submodel = NULL, external.regressors = NULL, variance.targeting = FALSE),mean.model = list(armaOrder = c(0,1), include.mean = TRUE, archm = FALSE, archpow = 1, arfima = FALSE, external.regressors = NULL, archex = FALSE),distribution.model = \"norm\")\n",
      "myfit=ugarchfit(myspec,data=tsValuesLog_d_1[21:101],solver=\"solnp\")\n",
      "forc = ugarchforecast(myfit,n.ahead = 6)\n",
      "print(forc)\n",
      "myspec=ugarchspec(variance.model = list(model = \"sGARCH\", garchOrder = c(1, 1), submodel = NULL, external.regressors = NULL, variance.targeting = FALSE),mean.model = list(armaOrder = c(0,1), include.mean = TRUE, archm = FALSE, archpow = 1, arfima = FALSE, external.regressors = NULL, archex = FALSE),distribution.model = \"norm\")\n",
      "myfit=ugarchfit(myspec,data=tsValuesLog_d_1[22:102],solver=\"solnp\")\n",
      "forc = ugarchforecast(myfit,n.ahead = 6)\n",
      "print(forc)\n",
      "myspec=ugarchspec(variance.model = list(model = \"sGARCH\", garchOrder = c(1, 1), submodel = NULL, external.regressors = NULL, variance.targeting = FALSE),mean.model = list(armaOrder = c(0,1), include.mean = TRUE, archm = FALSE, archpow = 1, arfima = FALSE, external.regressors = NULL, archex = FALSE),distribution.model = \"norm\")\n",
      "myfit=ugarchfit(myspec,data=tsValuesLog_d_1[23:103],solver=\"solnp\")\n",
      "forc = ugarchforecast(myfit,n.ahead = 6)\n",
      "print(forc)\n",
      "myspec=ugarchspec(variance.model = list(model = \"sGARCH\", garchOrder = c(1, 1), submodel = NULL, external.regressors = NULL, variance.targeting = FALSE),mean.model = list(armaOrder = c(0,1), include.mean = TRUE, archm = FALSE, archpow = 1, arfima = FALSE, external.regressors = NULL, archex = FALSE),distribution.model = \"norm\")\n",
      "myfit=ugarchfit(myspec,data=tsValuesLog_d_1[24:104],solver=\"solnp\")\n",
      "forc = ugarchforecast(myfit,n.ahead = 6)\n",
      "print(forc)\n",
      "myspec=ugarchspec(variance.model = list(model = \"sGARCH\", garchOrder = c(1, 1), submodel = NULL, external.regressors = NULL, variance.targeting = FALSE),mean.model = list(armaOrder = c(0,1), include.mean = TRUE, archm = FALSE, archpow = 1, arfima = FALSE, external.regressors = NULL, archex = FALSE),distribution.model = \"norm\")\n",
      "myfit=ugarchfit(myspec,data=tsValuesLog_d_1[25:105],solver=\"solnp\")\n",
      "forc = ugarchforecast(myfit,n.ahead = 6)\n",
      "print(forc)\n",
      "myspec=ugarchspec(variance.model = list(model = \"sGARCH\", garchOrder = c(1, 1), submodel = NULL, external.regressors = NULL, variance.targeting = FALSE),mean.model = list(armaOrder = c(0,1), include.mean = TRUE, archm = FALSE, archpow = 1, arfima = FALSE, external.regressors = NULL, archex = FALSE),distribution.model = \"norm\")\n",
      "myfit=ugarchfit(myspec,data=tsValuesLog_d_1[26:106],solver=\"solnp\")\n",
      "forc = ugarchforecast(myfit,n.ahead = 6)\n",
      "print(forc)\n",
      "myspec=ugarchspec(variance.model = list(model = \"sGARCH\", garchOrder = c(1, 1), submodel = NULL, external.regressors = NULL, variance.targeting = FALSE),mean.model = list(armaOrder = c(0,1), include.mean = TRUE, archm = FALSE, archpow = 1, arfima = FALSE, external.regressors = NULL, archex = FALSE),distribution.model = \"norm\")\n",
      "myfit=ugarchfit(myspec,data=tsValuesLog_d_1[27:107],solver=\"solnp\")\n",
      "forc = ugarchforecast(myfit,n.ahead = 6)\n",
      "print(forc)\n",
      "myspec=ugarchspec(variance.model = list(model = \"sGARCH\", garchOrder = c(1, 1), submodel = NULL, external.regressors = NULL, variance.targeting = FALSE),mean.model = list(armaOrder = c(0,1), include.mean = TRUE, archm = FALSE, archpow = 1, arfima = FALSE, external.regressors = NULL, archex = FALSE),distribution.model = \"norm\")\n",
      "myfit=ugarchfit(myspec,data=tsValuesLog_d_1[28:108],solver=\"solnp\")\n",
      "forc = ugarchforecast(myfit,n.ahead = 6)\n",
      "print(forc)\n",
      "myspec=ugarchspec(variance.model = list(model = \"sGARCH\", garchOrder = c(1, 1), submodel = NULL, external.regressors = NULL, variance.targeting = FALSE),mean.model = list(armaOrder = c(0,1), include.mean = TRUE, archm = FALSE, archpow = 1, arfima = FALSE, external.regressors = NULL, archex = FALSE),distribution.model = \"norm\")\n",
      "myfit=ugarchfit(myspec,data=tsValuesLog_d_1[29:109],solver=\"solnp\")\n",
      "forc = ugarchforecast(myfit,n.ahead = 6)\n",
      "print(forc)\n",
      "myspec=ugarchspec(variance.model = list(model = \"sGARCH\", garchOrder = c(1, 1), submodel = NULL, external.regressors = NULL, variance.targeting = FALSE),mean.model = list(armaOrder = c(0,1), include.mean = TRUE, archm = FALSE, archpow = 1, arfima = FALSE, external.regressors = NULL, archex = FALSE),distribution.model = \"norm\")\n",
      "myfit=ugarchfit(myspec,data=tsValuesLog_d_1[30:110],solver=\"solnp\")\n",
      "forc = ugarchforecast(myfit,n.ahead = 6)\n",
      "print(forc)\n",
      "myspec=ugarchspec(variance.model = list(model = \"sGARCH\", garchOrder = c(1, 1), submodel = NULL, external.regressors = NULL, variance.targeting = FALSE),mean.model = list(armaOrder = c(0,1), include.mean = TRUE, archm = FALSE, archpow = 1, arfima = FALSE, external.regressors = NULL, archex = FALSE),distribution.model = \"norm\")\n",
      "myfit=ugarchfit(myspec,data=tsValuesLog_d_1[31:111],solver=\"solnp\")\n",
      "forc = ugarchforecast(myfit,n.ahead = 6)\n",
      "print(forc)\n",
      "myspec=ugarchspec(variance.model = list(model = \"sGARCH\", garchOrder = c(1, 1), submodel = NULL, external.regressors = NULL, variance.targeting = FALSE),mean.model = list(armaOrder = c(0,1), include.mean = TRUE, archm = FALSE, archpow = 1, arfima = FALSE, external.regressors = NULL, archex = FALSE),distribution.model = \"norm\")\n",
      "myfit=ugarchfit(myspec,data=tsValuesLog_d_1[32:112],solver=\"solnp\")\n",
      "forc = ugarchforecast(myfit,n.ahead = 6)\n",
      "print(forc)\n"
     ]
    }
   ],
   "source": [
    "for i in range(85,113):\n",
    "    print('myspec=ugarchspec(variance.model = list(model = \"sGARCH\", garchOrder = c(1, 1), submodel = NULL, external.regressors = NULL, variance.targeting = FALSE),mean.model = list(armaOrder = c(0,1), include.mean = TRUE, archm = FALSE, archpow = 1, arfima = FALSE, external.regressors = NULL, archex = FALSE),distribution.model = \"norm\")')\n",
    "    print('myfit=ugarchfit(myspec,data=tsValuesLog_d_1['+str((i-80))+':'+str(i)+'],solver=\"solnp\")')\n",
    "    print('forc = ugarchforecast(myfit,n.ahead = 6)')\n",
    "    print('print(forc)')"
   ]
  },
  {
   "cell_type": "code",
   "execution_count": 4,
   "metadata": {
    "collapsed": false
   },
   "outputs": [
    {
     "name": "stdout",
     "output_type": "stream",
     "text": [
      "myspec=ugarchspec(variance.model = list(model = \"sGARCH\", garchOrder = c(1, 1), submodel = NULL, external.regressors = NULL, variance.targeting = FALSE),mean.model = list(armaOrder = c(0,1), include.mean = TRUE, archm = FALSE, archpow = 1, arfima = FALSE, external.regressors = NULL, archex = FALSE),distribution.model = \"norm\")\n",
      "myfit=ugarchfit(myspec,data=tsValuesLog_d_1[11:91],solver=\"solnp\")\n",
      "forc = ugarchforecast(myfit,n.ahead = 12)\n",
      "print(forc)\n",
      "myspec=ugarchspec(variance.model = list(model = \"sGARCH\", garchOrder = c(1, 1), submodel = NULL, external.regressors = NULL, variance.targeting = FALSE),mean.model = list(armaOrder = c(0,1), include.mean = TRUE, archm = FALSE, archpow = 1, arfima = FALSE, external.regressors = NULL, archex = FALSE),distribution.model = \"norm\")\n",
      "myfit=ugarchfit(myspec,data=tsValuesLog_d_1[12:92],solver=\"solnp\")\n",
      "forc = ugarchforecast(myfit,n.ahead = 12)\n",
      "print(forc)\n",
      "myspec=ugarchspec(variance.model = list(model = \"sGARCH\", garchOrder = c(1, 1), submodel = NULL, external.regressors = NULL, variance.targeting = FALSE),mean.model = list(armaOrder = c(0,1), include.mean = TRUE, archm = FALSE, archpow = 1, arfima = FALSE, external.regressors = NULL, archex = FALSE),distribution.model = \"norm\")\n",
      "myfit=ugarchfit(myspec,data=tsValuesLog_d_1[13:93],solver=\"solnp\")\n",
      "forc = ugarchforecast(myfit,n.ahead = 12)\n",
      "print(forc)\n",
      "myspec=ugarchspec(variance.model = list(model = \"sGARCH\", garchOrder = c(1, 1), submodel = NULL, external.regressors = NULL, variance.targeting = FALSE),mean.model = list(armaOrder = c(0,1), include.mean = TRUE, archm = FALSE, archpow = 1, arfima = FALSE, external.regressors = NULL, archex = FALSE),distribution.model = \"norm\")\n",
      "myfit=ugarchfit(myspec,data=tsValuesLog_d_1[14:94],solver=\"solnp\")\n",
      "forc = ugarchforecast(myfit,n.ahead = 12)\n",
      "print(forc)\n",
      "myspec=ugarchspec(variance.model = list(model = \"sGARCH\", garchOrder = c(1, 1), submodel = NULL, external.regressors = NULL, variance.targeting = FALSE),mean.model = list(armaOrder = c(0,1), include.mean = TRUE, archm = FALSE, archpow = 1, arfima = FALSE, external.regressors = NULL, archex = FALSE),distribution.model = \"norm\")\n",
      "myfit=ugarchfit(myspec,data=tsValuesLog_d_1[15:95],solver=\"solnp\")\n",
      "forc = ugarchforecast(myfit,n.ahead = 12)\n",
      "print(forc)\n",
      "myspec=ugarchspec(variance.model = list(model = \"sGARCH\", garchOrder = c(1, 1), submodel = NULL, external.regressors = NULL, variance.targeting = FALSE),mean.model = list(armaOrder = c(0,1), include.mean = TRUE, archm = FALSE, archpow = 1, arfima = FALSE, external.regressors = NULL, archex = FALSE),distribution.model = \"norm\")\n",
      "myfit=ugarchfit(myspec,data=tsValuesLog_d_1[16:96],solver=\"solnp\")\n",
      "forc = ugarchforecast(myfit,n.ahead = 12)\n",
      "print(forc)\n",
      "myspec=ugarchspec(variance.model = list(model = \"sGARCH\", garchOrder = c(1, 1), submodel = NULL, external.regressors = NULL, variance.targeting = FALSE),mean.model = list(armaOrder = c(0,1), include.mean = TRUE, archm = FALSE, archpow = 1, arfima = FALSE, external.regressors = NULL, archex = FALSE),distribution.model = \"norm\")\n",
      "myfit=ugarchfit(myspec,data=tsValuesLog_d_1[17:97],solver=\"solnp\")\n",
      "forc = ugarchforecast(myfit,n.ahead = 12)\n",
      "print(forc)\n",
      "myspec=ugarchspec(variance.model = list(model = \"sGARCH\", garchOrder = c(1, 1), submodel = NULL, external.regressors = NULL, variance.targeting = FALSE),mean.model = list(armaOrder = c(0,1), include.mean = TRUE, archm = FALSE, archpow = 1, arfima = FALSE, external.regressors = NULL, archex = FALSE),distribution.model = \"norm\")\n",
      "myfit=ugarchfit(myspec,data=tsValuesLog_d_1[18:98],solver=\"solnp\")\n",
      "forc = ugarchforecast(myfit,n.ahead = 12)\n",
      "print(forc)\n",
      "myspec=ugarchspec(variance.model = list(model = \"sGARCH\", garchOrder = c(1, 1), submodel = NULL, external.regressors = NULL, variance.targeting = FALSE),mean.model = list(armaOrder = c(0,1), include.mean = TRUE, archm = FALSE, archpow = 1, arfima = FALSE, external.regressors = NULL, archex = FALSE),distribution.model = \"norm\")\n",
      "myfit=ugarchfit(myspec,data=tsValuesLog_d_1[19:99],solver=\"solnp\")\n",
      "forc = ugarchforecast(myfit,n.ahead = 12)\n",
      "print(forc)\n",
      "myspec=ugarchspec(variance.model = list(model = \"sGARCH\", garchOrder = c(1, 1), submodel = NULL, external.regressors = NULL, variance.targeting = FALSE),mean.model = list(armaOrder = c(0,1), include.mean = TRUE, archm = FALSE, archpow = 1, arfima = FALSE, external.regressors = NULL, archex = FALSE),distribution.model = \"norm\")\n",
      "myfit=ugarchfit(myspec,data=tsValuesLog_d_1[20:100],solver=\"solnp\")\n",
      "forc = ugarchforecast(myfit,n.ahead = 12)\n",
      "print(forc)\n",
      "myspec=ugarchspec(variance.model = list(model = \"sGARCH\", garchOrder = c(1, 1), submodel = NULL, external.regressors = NULL, variance.targeting = FALSE),mean.model = list(armaOrder = c(0,1), include.mean = TRUE, archm = FALSE, archpow = 1, arfima = FALSE, external.regressors = NULL, archex = FALSE),distribution.model = \"norm\")\n",
      "myfit=ugarchfit(myspec,data=tsValuesLog_d_1[21:101],solver=\"solnp\")\n",
      "forc = ugarchforecast(myfit,n.ahead = 12)\n",
      "print(forc)\n",
      "myspec=ugarchspec(variance.model = list(model = \"sGARCH\", garchOrder = c(1, 1), submodel = NULL, external.regressors = NULL, variance.targeting = FALSE),mean.model = list(armaOrder = c(0,1), include.mean = TRUE, archm = FALSE, archpow = 1, arfima = FALSE, external.regressors = NULL, archex = FALSE),distribution.model = \"norm\")\n",
      "myfit=ugarchfit(myspec,data=tsValuesLog_d_1[22:102],solver=\"solnp\")\n",
      "forc = ugarchforecast(myfit,n.ahead = 12)\n",
      "print(forc)\n",
      "myspec=ugarchspec(variance.model = list(model = \"sGARCH\", garchOrder = c(1, 1), submodel = NULL, external.regressors = NULL, variance.targeting = FALSE),mean.model = list(armaOrder = c(0,1), include.mean = TRUE, archm = FALSE, archpow = 1, arfima = FALSE, external.regressors = NULL, archex = FALSE),distribution.model = \"norm\")\n",
      "myfit=ugarchfit(myspec,data=tsValuesLog_d_1[23:103],solver=\"solnp\")\n",
      "forc = ugarchforecast(myfit,n.ahead = 12)\n",
      "print(forc)\n",
      "myspec=ugarchspec(variance.model = list(model = \"sGARCH\", garchOrder = c(1, 1), submodel = NULL, external.regressors = NULL, variance.targeting = FALSE),mean.model = list(armaOrder = c(0,1), include.mean = TRUE, archm = FALSE, archpow = 1, arfima = FALSE, external.regressors = NULL, archex = FALSE),distribution.model = \"norm\")\n",
      "myfit=ugarchfit(myspec,data=tsValuesLog_d_1[24:104],solver=\"solnp\")\n",
      "forc = ugarchforecast(myfit,n.ahead = 12)\n",
      "print(forc)\n",
      "myspec=ugarchspec(variance.model = list(model = \"sGARCH\", garchOrder = c(1, 1), submodel = NULL, external.regressors = NULL, variance.targeting = FALSE),mean.model = list(armaOrder = c(0,1), include.mean = TRUE, archm = FALSE, archpow = 1, arfima = FALSE, external.regressors = NULL, archex = FALSE),distribution.model = \"norm\")\n",
      "myfit=ugarchfit(myspec,data=tsValuesLog_d_1[25:105],solver=\"solnp\")\n",
      "forc = ugarchforecast(myfit,n.ahead = 12)\n",
      "print(forc)\n",
      "myspec=ugarchspec(variance.model = list(model = \"sGARCH\", garchOrder = c(1, 1), submodel = NULL, external.regressors = NULL, variance.targeting = FALSE),mean.model = list(armaOrder = c(0,1), include.mean = TRUE, archm = FALSE, archpow = 1, arfima = FALSE, external.regressors = NULL, archex = FALSE),distribution.model = \"norm\")\n",
      "myfit=ugarchfit(myspec,data=tsValuesLog_d_1[26:106],solver=\"solnp\")\n",
      "forc = ugarchforecast(myfit,n.ahead = 12)\n",
      "print(forc)\n",
      "myspec=ugarchspec(variance.model = list(model = \"sGARCH\", garchOrder = c(1, 1), submodel = NULL, external.regressors = NULL, variance.targeting = FALSE),mean.model = list(armaOrder = c(0,1), include.mean = TRUE, archm = FALSE, archpow = 1, arfima = FALSE, external.regressors = NULL, archex = FALSE),distribution.model = \"norm\")\n",
      "myfit=ugarchfit(myspec,data=tsValuesLog_d_1[27:107],solver=\"solnp\")\n",
      "forc = ugarchforecast(myfit,n.ahead = 12)\n",
      "print(forc)\n",
      "myspec=ugarchspec(variance.model = list(model = \"sGARCH\", garchOrder = c(1, 1), submodel = NULL, external.regressors = NULL, variance.targeting = FALSE),mean.model = list(armaOrder = c(0,1), include.mean = TRUE, archm = FALSE, archpow = 1, arfima = FALSE, external.regressors = NULL, archex = FALSE),distribution.model = \"norm\")\n",
      "myfit=ugarchfit(myspec,data=tsValuesLog_d_1[28:108],solver=\"solnp\")\n",
      "forc = ugarchforecast(myfit,n.ahead = 12)\n",
      "print(forc)\n",
      "myspec=ugarchspec(variance.model = list(model = \"sGARCH\", garchOrder = c(1, 1), submodel = NULL, external.regressors = NULL, variance.targeting = FALSE),mean.model = list(armaOrder = c(0,1), include.mean = TRUE, archm = FALSE, archpow = 1, arfima = FALSE, external.regressors = NULL, archex = FALSE),distribution.model = \"norm\")\n",
      "myfit=ugarchfit(myspec,data=tsValuesLog_d_1[29:109],solver=\"solnp\")\n",
      "forc = ugarchforecast(myfit,n.ahead = 12)\n",
      "print(forc)\n",
      "myspec=ugarchspec(variance.model = list(model = \"sGARCH\", garchOrder = c(1, 1), submodel = NULL, external.regressors = NULL, variance.targeting = FALSE),mean.model = list(armaOrder = c(0,1), include.mean = TRUE, archm = FALSE, archpow = 1, arfima = FALSE, external.regressors = NULL, archex = FALSE),distribution.model = \"norm\")\n",
      "myfit=ugarchfit(myspec,data=tsValuesLog_d_1[30:110],solver=\"solnp\")\n",
      "forc = ugarchforecast(myfit,n.ahead = 12)\n",
      "print(forc)\n",
      "myspec=ugarchspec(variance.model = list(model = \"sGARCH\", garchOrder = c(1, 1), submodel = NULL, external.regressors = NULL, variance.targeting = FALSE),mean.model = list(armaOrder = c(0,1), include.mean = TRUE, archm = FALSE, archpow = 1, arfima = FALSE, external.regressors = NULL, archex = FALSE),distribution.model = \"norm\")\n",
      "myfit=ugarchfit(myspec,data=tsValuesLog_d_1[31:111],solver=\"solnp\")\n",
      "forc = ugarchforecast(myfit,n.ahead = 12)\n",
      "print(forc)\n",
      "myspec=ugarchspec(variance.model = list(model = \"sGARCH\", garchOrder = c(1, 1), submodel = NULL, external.regressors = NULL, variance.targeting = FALSE),mean.model = list(armaOrder = c(0,1), include.mean = TRUE, archm = FALSE, archpow = 1, arfima = FALSE, external.regressors = NULL, archex = FALSE),distribution.model = \"norm\")\n",
      "myfit=ugarchfit(myspec,data=tsValuesLog_d_1[32:112],solver=\"solnp\")\n",
      "forc = ugarchforecast(myfit,n.ahead = 12)\n",
      "print(forc)\n"
     ]
    }
   ],
   "source": [
    "for i in range(91,113):\n",
    "    print('myspec=ugarchspec(variance.model = list(model = \"sGARCH\", garchOrder = c(1, 1), submodel = NULL, external.regressors = NULL, variance.targeting = FALSE),mean.model = list(armaOrder = c(0,1), include.mean = TRUE, archm = FALSE, archpow = 1, arfima = FALSE, external.regressors = NULL, archex = FALSE),distribution.model = \"norm\")')\n",
    "    print('myfit=ugarchfit(myspec,data=tsValuesLog_d_1['+str((i-80))+':'+str(i)+'],solver=\"solnp\")')\n",
    "    print('forc = ugarchforecast(myfit,n.ahead = 12)')\n",
    "    print('print(forc)')"
   ]
  },
  {
   "cell_type": "code",
   "execution_count": 47,
   "metadata": {
    "collapsed": false
   },
   "outputs": [],
   "source": [
    "import os\n",
    "import time\n",
    "\n",
    "file = open('Result/GARCH_result/GARCH_CH/result_12.txt')"
   ]
  },
  {
   "cell_type": "code",
   "execution_count": 48,
   "metadata": {
    "collapsed": true
   },
   "outputs": [],
   "source": [
    "res = []"
   ]
  },
  {
   "cell_type": "code",
   "execution_count": 49,
   "metadata": {
    "collapsed": true
   },
   "outputs": [],
   "source": [
    "pred = []\n",
    "pred_var = []"
   ]
  },
  {
   "cell_type": "code",
   "execution_count": 50,
   "metadata": {
    "collapsed": true
   },
   "outputs": [],
   "source": [
    "cnt = 0"
   ]
  },
  {
   "cell_type": "code",
   "execution_count": 51,
   "metadata": {
    "collapsed": false,
    "scrolled": true
   },
   "outputs": [],
   "source": [
    "for line in file:\n",
    "    #print(line[0:3])\n",
    "    if line[0]=='T':\n",
    "        #if line[2]=='1':\n",
    "        ls = line.split(' ')\n",
    "        #print(ls)\n",
    "        while ls[1]=='':\n",
    "            del ls[1]\n",
    "        if line[2]=='1' and line[3]==' ':\n",
    "            cnt += 1\n",
    "            pred.append(float(ls[1]))\n",
    "            #pred_var.append(float(ls[2]))\n",
    "        else:\n",
    "            pred[cnt-1] += float(ls[1])\n",
    "            #print(pred[cnt-1])"
   ]
  },
  {
   "cell_type": "code",
   "execution_count": 52,
   "metadata": {
    "collapsed": false
   },
   "outputs": [
    {
     "data": {
      "text/plain": [
       "22"
      ]
     },
     "execution_count": 52,
     "metadata": {},
     "output_type": "execute_result"
    }
   ],
   "source": [
    "len(pred)"
   ]
  },
  {
   "cell_type": "code",
   "execution_count": 1,
   "metadata": {
    "collapsed": true
   },
   "outputs": [],
   "source": [
    "import pandas as pd\n",
    "data = pd.read_csv(\"Data/EXCHUS.csv\")"
   ]
  },
  {
   "cell_type": "code",
   "execution_count": 2,
   "metadata": {
    "collapsed": true
   },
   "outputs": [],
   "source": [
    "tsValues = data['EXCHUS']"
   ]
  },
  {
   "cell_type": "code",
   "execution_count": 3,
   "metadata": {
    "collapsed": true
   },
   "outputs": [],
   "source": [
    "import math\n",
    "import numpy as np"
   ]
  },
  {
   "cell_type": "code",
   "execution_count": 4,
   "metadata": {
    "collapsed": true
   },
   "outputs": [],
   "source": [
    "def mean_error(pred,real):\n",
    "    return np.mean([pred[i]-real[i] for i in range(len(pred))])\n",
    "def mean_absolute_error(pred,real):\n",
    "#     print(pred)\n",
    "#     print(real)\n",
    "    return np.mean([np.abs(pred[i]-real[i]) for i in range(len(pred))])\n",
    "def root_mean_square_error(pred,real):\n",
    "    return np.sqrt(np.mean([pow(pred[i]-real[i],2) for i in range(len(pred))]))"
   ]
  },
  {
   "cell_type": "code",
   "execution_count": 10,
   "metadata": {
    "collapsed": false
   },
   "outputs": [],
   "source": [
    "PredictionOutputMAE = pd.DataFrame(index=['monthly','3_month','6_month','12_month'])\n",
    "PredictionOutputRMSE = pd.DataFrame(index=['monthly','3_month','6_month','12_month'])\n",
    "startPrediction = 80\n",
    "totalData = len(tsValuesLog)\n",
    "tsValuesLog = np.array(tsValuesLog)"
   ]
  },
  {
   "cell_type": "code",
   "execution_count": 11,
   "metadata": {
    "collapsed": false
   },
   "outputs": [
    {
     "data": {
      "text/plain": [
       "113"
      ]
     },
     "execution_count": 11,
     "metadata": {},
     "output_type": "execute_result"
    }
   ],
   "source": [
    "totalData"
   ]
  },
  {
   "cell_type": "code",
   "execution_count": 12,
   "metadata": {
    "collapsed": false
   },
   "outputs": [],
   "source": [
    "#benchmark\n",
    "mae_ = []\n",
    "rmse_ = []\n",
    "for l in [1,3,6,12]:\n",
    "    pred = [0]*(startPrediction+l-1)\n",
    "    for i in range(totalData-startPrediction-l+1):\n",
    "        pred.append(tsValuesLog[startPrediction-1+i])\n",
    "    mae_.append(mean_absolute_error(pred[startPrediction+l-1:],tsValuesLog[startPrediction+l-1:]))\n",
    "    rmse_.append(root_mean_square_error(pred[startPrediction+l-1:],tsValuesLog[startPrediction+l-1:]))\n",
    "PredictionOutputMAE['RandomWalk'] = mae_\n",
    "PredictionOutputRMSE['RandomWalk'] = rmse_"
   ]
  },
  {
   "cell_type": "code",
   "execution_count": 8,
   "metadata": {
    "collapsed": false
   },
   "outputs": [],
   "source": [
    "tsValuesLog = [math.log(ele) for ele in tsValues]"
   ]
  },
  {
   "cell_type": "code",
   "execution_count": 13,
   "metadata": {
    "collapsed": false
   },
   "outputs": [
    {
     "data": {
      "text/html": [
       "<div>\n",
       "<table border=\"1\" class=\"dataframe\">\n",
       "  <thead>\n",
       "    <tr style=\"text-align: right;\">\n",
       "      <th></th>\n",
       "      <th>RandomWalk</th>\n",
       "    </tr>\n",
       "  </thead>\n",
       "  <tbody>\n",
       "    <tr>\n",
       "      <th>monthly</th>\n",
       "      <td>0.009319</td>\n",
       "    </tr>\n",
       "    <tr>\n",
       "      <th>3_month</th>\n",
       "      <td>0.023961</td>\n",
       "    </tr>\n",
       "    <tr>\n",
       "      <th>6_month</th>\n",
       "      <td>0.039712</td>\n",
       "    </tr>\n",
       "    <tr>\n",
       "      <th>12_month</th>\n",
       "      <td>0.050025</td>\n",
       "    </tr>\n",
       "  </tbody>\n",
       "</table>\n",
       "</div>"
      ],
      "text/plain": [
       "          RandomWalk\n",
       "monthly     0.009319\n",
       "3_month     0.023961\n",
       "6_month     0.039712\n",
       "12_month    0.050025"
      ]
     },
     "execution_count": 13,
     "metadata": {},
     "output_type": "execute_result"
    }
   ],
   "source": [
    "PredictionOutputMAE"
   ]
  },
  {
   "cell_type": "code",
   "execution_count": 15,
   "metadata": {
    "collapsed": false
   },
   "outputs": [
    {
     "data": {
      "text/html": [
       "<div>\n",
       "<table border=\"1\" class=\"dataframe\">\n",
       "  <thead>\n",
       "    <tr style=\"text-align: right;\">\n",
       "      <th></th>\n",
       "      <th>RandomWalk</th>\n",
       "    </tr>\n",
       "  </thead>\n",
       "  <tbody>\n",
       "    <tr>\n",
       "      <th>monthly</th>\n",
       "      <td>0.012458</td>\n",
       "    </tr>\n",
       "    <tr>\n",
       "      <th>3_month</th>\n",
       "      <td>0.030086</td>\n",
       "    </tr>\n",
       "    <tr>\n",
       "      <th>6_month</th>\n",
       "      <td>0.046018</td>\n",
       "    </tr>\n",
       "    <tr>\n",
       "      <th>12_month</th>\n",
       "      <td>0.055880</td>\n",
       "    </tr>\n",
       "  </tbody>\n",
       "</table>\n",
       "</div>"
      ],
      "text/plain": [
       "          RandomWalk\n",
       "monthly     0.012458\n",
       "3_month     0.030086\n",
       "6_month     0.046018\n",
       "12_month    0.055880"
      ]
     },
     "execution_count": 15,
     "metadata": {},
     "output_type": "execute_result"
    }
   ],
   "source": [
    "PredictionOutputRMSE"
   ]
  },
  {
   "cell_type": "code",
   "execution_count": 22,
   "metadata": {
    "collapsed": false
   },
   "outputs": [],
   "source": [
    "predict = [tsValuesLog[80+i-1]+pred[i] for i in range(33)]"
   ]
  },
  {
   "cell_type": "code",
   "execution_count": 23,
   "metadata": {
    "collapsed": true
   },
   "outputs": [],
   "source": [
    "mae = []\n",
    "rmse = []"
   ]
  },
  {
   "cell_type": "code",
   "execution_count": 24,
   "metadata": {
    "collapsed": false
   },
   "outputs": [],
   "source": [
    "mae.append(mean_absolute_error(predict,tsValuesLog[80:]))"
   ]
  },
  {
   "cell_type": "code",
   "execution_count": 25,
   "metadata": {
    "collapsed": false
   },
   "outputs": [],
   "source": [
    "rmse.append(root_mean_square_error(predict,tsValuesLog[80:]))"
   ]
  },
  {
   "cell_type": "code",
   "execution_count": 28,
   "metadata": {
    "collapsed": false
   },
   "outputs": [
    {
     "data": {
      "text/plain": [
       "[0.0074552571879061133]"
      ]
     },
     "execution_count": 28,
     "metadata": {},
     "output_type": "execute_result"
    }
   ],
   "source": [
    "mae"
   ]
  },
  {
   "cell_type": "code",
   "execution_count": 35,
   "metadata": {
    "collapsed": false
   },
   "outputs": [],
   "source": [
    "predict = [tsValuesLog[80+i-1]+pred[i] for i in range(31)]"
   ]
  },
  {
   "cell_type": "code",
   "execution_count": 36,
   "metadata": {
    "collapsed": false
   },
   "outputs": [],
   "source": [
    "mae.append(mean_absolute_error(predict,tsValuesLog[82:]))"
   ]
  },
  {
   "cell_type": "code",
   "execution_count": 37,
   "metadata": {
    "collapsed": false
   },
   "outputs": [],
   "source": [
    "rmse.append(root_mean_square_error(predict,tsValuesLog[82:]))"
   ]
  },
  {
   "cell_type": "code",
   "execution_count": 44,
   "metadata": {
    "collapsed": true
   },
   "outputs": [],
   "source": [
    "predict = [tsValuesLog[80+i-1]+pred[i] for i in range(28)]"
   ]
  },
  {
   "cell_type": "code",
   "execution_count": 45,
   "metadata": {
    "collapsed": false
   },
   "outputs": [],
   "source": [
    "mae.append(mean_absolute_error(predict,tsValuesLog[85:]))"
   ]
  },
  {
   "cell_type": "code",
   "execution_count": 46,
   "metadata": {
    "collapsed": false
   },
   "outputs": [],
   "source": [
    "rmse.append(root_mean_square_error(predict,tsValuesLog[85:]))"
   ]
  },
  {
   "cell_type": "code",
   "execution_count": 53,
   "metadata": {
    "collapsed": false
   },
   "outputs": [],
   "source": [
    "predict = [tsValuesLog[80+i-1]+pred[i] for i in range(22)]"
   ]
  },
  {
   "cell_type": "code",
   "execution_count": 55,
   "metadata": {
    "collapsed": false
   },
   "outputs": [
    {
     "data": {
      "text/plain": [
       "22"
      ]
     },
     "execution_count": 55,
     "metadata": {},
     "output_type": "execute_result"
    }
   ],
   "source": [
    "len(tsValuesLog[91:])"
   ]
  },
  {
   "cell_type": "code",
   "execution_count": 56,
   "metadata": {
    "collapsed": false
   },
   "outputs": [],
   "source": [
    "mae.append(mean_absolute_error(predict,tsValuesLog[91:]))"
   ]
  },
  {
   "cell_type": "code",
   "execution_count": 57,
   "metadata": {
    "collapsed": false
   },
   "outputs": [],
   "source": [
    "rmse.append(root_mean_square_error(predict,tsValuesLog[91:]))"
   ]
  },
  {
   "cell_type": "code",
   "execution_count": 58,
   "metadata": {
    "collapsed": true
   },
   "outputs": [],
   "source": [
    "PredictionOutputMAE['Garch'] = mae"
   ]
  },
  {
   "cell_type": "code",
   "execution_count": 59,
   "metadata": {
    "collapsed": true
   },
   "outputs": [],
   "source": [
    "PredictionOutputRMSE['Garch'] = rmse"
   ]
  },
  {
   "cell_type": "code",
   "execution_count": 60,
   "metadata": {
    "collapsed": false
   },
   "outputs": [
    {
     "data": {
      "text/html": [
       "<div>\n",
       "<table border=\"1\" class=\"dataframe\">\n",
       "  <thead>\n",
       "    <tr style=\"text-align: right;\">\n",
       "      <th></th>\n",
       "      <th>RandomWalk</th>\n",
       "      <th>Garch</th>\n",
       "    </tr>\n",
       "  </thead>\n",
       "  <tbody>\n",
       "    <tr>\n",
       "      <th>monthly</th>\n",
       "      <td>0.009319</td>\n",
       "      <td>0.007455</td>\n",
       "    </tr>\n",
       "    <tr>\n",
       "      <th>3_month</th>\n",
       "      <td>0.023961</td>\n",
       "      <td>0.021422</td>\n",
       "    </tr>\n",
       "    <tr>\n",
       "      <th>6_month</th>\n",
       "      <td>0.039712</td>\n",
       "      <td>0.036871</td>\n",
       "    </tr>\n",
       "    <tr>\n",
       "      <th>12_month</th>\n",
       "      <td>0.050025</td>\n",
       "      <td>0.042898</td>\n",
       "    </tr>\n",
       "  </tbody>\n",
       "</table>\n",
       "</div>"
      ],
      "text/plain": [
       "          RandomWalk     Garch\n",
       "monthly     0.009319  0.007455\n",
       "3_month     0.023961  0.021422\n",
       "6_month     0.039712  0.036871\n",
       "12_month    0.050025  0.042898"
      ]
     },
     "execution_count": 60,
     "metadata": {},
     "output_type": "execute_result"
    }
   ],
   "source": [
    "PredictionOutputMAE"
   ]
  },
  {
   "cell_type": "code",
   "execution_count": 61,
   "metadata": {
    "collapsed": false
   },
   "outputs": [
    {
     "data": {
      "text/html": [
       "<div>\n",
       "<table border=\"1\" class=\"dataframe\">\n",
       "  <thead>\n",
       "    <tr style=\"text-align: right;\">\n",
       "      <th></th>\n",
       "      <th>RandomWalk</th>\n",
       "      <th>Garch</th>\n",
       "    </tr>\n",
       "  </thead>\n",
       "  <tbody>\n",
       "    <tr>\n",
       "      <th>monthly</th>\n",
       "      <td>0.012458</td>\n",
       "      <td>0.010573</td>\n",
       "    </tr>\n",
       "    <tr>\n",
       "      <th>3_month</th>\n",
       "      <td>0.030086</td>\n",
       "      <td>0.026341</td>\n",
       "    </tr>\n",
       "    <tr>\n",
       "      <th>6_month</th>\n",
       "      <td>0.046018</td>\n",
       "      <td>0.042300</td>\n",
       "    </tr>\n",
       "    <tr>\n",
       "      <th>12_month</th>\n",
       "      <td>0.055880</td>\n",
       "      <td>0.049500</td>\n",
       "    </tr>\n",
       "  </tbody>\n",
       "</table>\n",
       "</div>"
      ],
      "text/plain": [
       "          RandomWalk     Garch\n",
       "monthly     0.012458  0.010573\n",
       "3_month     0.030086  0.026341\n",
       "6_month     0.046018  0.042300\n",
       "12_month    0.055880  0.049500"
      ]
     },
     "execution_count": 61,
     "metadata": {},
     "output_type": "execute_result"
    }
   ],
   "source": [
    "PredictionOutputRMSE"
   ]
  },
  {
   "cell_type": "code",
   "execution_count": null,
   "metadata": {
    "collapsed": false
   },
   "outputs": [],
   "source": [
    "len(tsValuesLog)"
   ]
  }
 ],
 "metadata": {
  "kernelspec": {
   "display_name": "Python 3",
   "language": "python",
   "name": "python3"
  },
  "language_info": {
   "codemirror_mode": {
    "name": "ipython",
    "version": 3
   },
   "file_extension": ".py",
   "mimetype": "text/x-python",
   "name": "python",
   "nbconvert_exporter": "python",
   "pygments_lexer": "ipython3",
   "version": "3.6.0"
  }
 },
 "nbformat": 4,
 "nbformat_minor": 2
}
