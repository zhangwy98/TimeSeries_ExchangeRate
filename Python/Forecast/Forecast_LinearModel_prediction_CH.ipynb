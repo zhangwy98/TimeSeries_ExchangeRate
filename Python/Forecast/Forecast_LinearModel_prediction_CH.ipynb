{
 "cells": [
  {
   "cell_type": "code",
   "execution_count": 1,
   "metadata": {},
   "outputs": [],
   "source": [
    "import pandas as pd\n",
    "import numpy as np\n",
    "data = pd.read_csv(\"EXCHUS.csv\")\n",
    "tsValues = data['EXCHUS']\n",
    "import math\n",
    "tsValuesLog = [math.log(ele) for ele in tsValues]"
   ]
  },
  {
   "cell_type": "code",
   "execution_count": 2,
   "metadata": {},
   "outputs": [],
   "source": [
    "PredictionOutputMAE = pd.DataFrame(index=['monthly','3_month','6_month','12_month'])\n",
    "PredictionOutputRMSE = pd.DataFrame(index=['monthly','3_month','6_month','12_month'])\n",
    "startPrediction = 100\n",
    "totalData = len(tsValuesLog)"
   ]
  },
  {
   "cell_type": "code",
   "execution_count": 3,
   "metadata": {},
   "outputs": [
    {
     "data": {
      "text/plain": [
       "461"
      ]
     },
     "execution_count": 3,
     "metadata": {},
     "output_type": "execute_result"
    }
   ],
   "source": [
    "totalData"
   ]
  },
  {
   "cell_type": "code",
   "execution_count": 4,
   "metadata": {},
   "outputs": [],
   "source": [
    "startPrediction=300"
   ]
  },
  {
   "cell_type": "code",
   "execution_count": 5,
   "metadata": {},
   "outputs": [],
   "source": [
    "def mean_error(pred,real):\n",
    "    return np.mean([pred[i]-real[i] for i in range(len(pred))])\n",
    "def mean_absolute_error(pred,real):\n",
    "    return np.mean([np.abs(pred[i]-real[i]) for i in range(len(pred))])\n",
    "def root_mean_square_error(pred,real):\n",
    "    return np.sqrt(np.mean([pow(pred[i]-real[i],2) for i in range(len(pred))]))"
   ]
  },
  {
   "cell_type": "code",
   "execution_count": 12,
   "metadata": {},
   "outputs": [
    {
     "data": {
      "text/html": [
       "<div>\n",
       "<style scoped>\n",
       "    .dataframe tbody tr th:only-of-type {\n",
       "        vertical-align: middle;\n",
       "    }\n",
       "\n",
       "    .dataframe tbody tr th {\n",
       "        vertical-align: top;\n",
       "    }\n",
       "\n",
       "    .dataframe thead th {\n",
       "        text-align: right;\n",
       "    }\n",
       "</style>\n",
       "<table border=\"1\" class=\"dataframe\">\n",
       "  <thead>\n",
       "    <tr style=\"text-align: right;\">\n",
       "      <th></th>\n",
       "      <th>AR_1_1</th>\n",
       "      <th>RandomWalk</th>\n",
       "      <th>AR_Diff_Mean</th>\n",
       "    </tr>\n",
       "  </thead>\n",
       "  <tbody>\n",
       "    <tr>\n",
       "      <th>monthly</th>\n",
       "      <td>0.007134</td>\n",
       "      <td>0.007606</td>\n",
       "      <td>0.008292</td>\n",
       "    </tr>\n",
       "    <tr>\n",
       "      <th>3_month</th>\n",
       "      <td>0.017257</td>\n",
       "      <td>0.018230</td>\n",
       "      <td>0.021992</td>\n",
       "    </tr>\n",
       "    <tr>\n",
       "      <th>6_month</th>\n",
       "      <td>0.027466</td>\n",
       "      <td>0.029523</td>\n",
       "      <td>0.039300</td>\n",
       "    </tr>\n",
       "    <tr>\n",
       "      <th>12_month</th>\n",
       "      <td>0.041231</td>\n",
       "      <td>0.045839</td>\n",
       "      <td>0.070358</td>\n",
       "    </tr>\n",
       "  </tbody>\n",
       "</table>\n",
       "</div>"
      ],
      "text/plain": [
       "            AR_1_1  RandomWalk  AR_Diff_Mean\n",
       "monthly   0.007134    0.007606      0.008292\n",
       "3_month   0.017257    0.018230      0.021992\n",
       "6_month   0.027466    0.029523      0.039300\n",
       "12_month  0.041231    0.045839      0.070358"
      ]
     },
     "execution_count": 12,
     "metadata": {},
     "output_type": "execute_result"
    }
   ],
   "source": [
    "PredictionOutputRMSE"
   ]
  },
  {
   "cell_type": "code",
   "execution_count": 10,
   "metadata": {},
   "outputs": [
    {
     "name": "stderr",
     "output_type": "stream",
     "text": [
      "C:\\Users\\v-weiyzh\\AppData\\Roaming\\Python\\Python36\\site-packages\\scipy\\signal\\signaltools.py:1341: FutureWarning: Using a non-tuple sequence for multidimensional indexing is deprecated; use `arr[tuple(seq)]` instead of `arr[seq]`. In the future this will be interpreted as an array index, `arr[np.array(seq)]`, which will result either in an error or a different result.\n",
      "  out_full[ind] += zi\n",
      "C:\\Users\\v-weiyzh\\AppData\\Roaming\\Python\\Python36\\site-packages\\scipy\\signal\\signaltools.py:1344: FutureWarning: Using a non-tuple sequence for multidimensional indexing is deprecated; use `arr[tuple(seq)]` instead of `arr[seq]`. In the future this will be interpreted as an array index, `arr[np.array(seq)]`, which will result either in an error or a different result.\n",
      "  out = out_full[ind]\n",
      "C:\\Users\\v-weiyzh\\AppData\\Roaming\\Python\\Python36\\site-packages\\scipy\\signal\\signaltools.py:1350: FutureWarning: Using a non-tuple sequence for multidimensional indexing is deprecated; use `arr[tuple(seq)]` instead of `arr[seq]`. In the future this will be interpreted as an array index, `arr[np.array(seq)]`, which will result either in an error or a different result.\n",
      "  zf = out_full[ind]\n",
      "C:\\Users\\v-weiyzh\\AppData\\Local\\Continuum\\anaconda3\\lib\\site-packages\\statsmodels\\tsa\\kalmanf\\kalmanfilter.py:649: RuntimeWarning: divide by zero encountered in true_divide\n",
      "  R_mat, T_mat)\n",
      "C:\\Users\\v-weiyzh\\AppData\\Local\\Continuum\\anaconda3\\lib\\site-packages\\statsmodels\\tsa\\tsatools.py:650: RuntimeWarning: overflow encountered in exp\n",
      "  newparams = ((1-np.exp(-params))/(1+np.exp(-params))).copy()\n",
      "C:\\Users\\v-weiyzh\\AppData\\Local\\Continuum\\anaconda3\\lib\\site-packages\\statsmodels\\tsa\\tsatools.py:650: RuntimeWarning: invalid value encountered in true_divide\n",
      "  newparams = ((1-np.exp(-params))/(1+np.exp(-params))).copy()\n",
      "C:\\Users\\v-weiyzh\\AppData\\Local\\Continuum\\anaconda3\\lib\\site-packages\\statsmodels\\tsa\\tsatools.py:651: RuntimeWarning: overflow encountered in exp\n",
      "  tmp = ((1-np.exp(-params))/(1+np.exp(-params))).copy()\n",
      "C:\\Users\\v-weiyzh\\AppData\\Local\\Continuum\\anaconda3\\lib\\site-packages\\statsmodels\\tsa\\tsatools.py:651: RuntimeWarning: invalid value encountered in true_divide\n",
      "  tmp = ((1-np.exp(-params))/(1+np.exp(-params))).copy()\n"
     ]
    }
   ],
   "source": [
    "from statsmodels.tsa.arima_model import ARMA\n",
    "mae_ = []\n",
    "rmse_ = []\n",
    "test_queue = [[1,1],[0,1],[1,0]]\n",
    "for l in [1,3,6,12]:\n",
    "    pred = [0]*(startPrediction+l-1)\n",
    "    for i in range(totalData-startPrediction-l+1):\n",
    "        single_pred = []\n",
    "        for [p,q] in test_queue:\n",
    "            try:\n",
    "                model = ARMA(tsValuesLog_d_1[i:i+startPrediction],order=(p,q))\n",
    "                result = model.fit()\n",
    "                single_pred.append(sum(result.predict(start=startPrediction,end=startPrediction+l-1))+tsValuesLog[i+startPrediction-1])\n",
    "            except ValueError:\n",
    "                single_pred.append(tsValuesLog[i+startPrediction-1])\n",
    "        pred.append(np.mean(single_pred))\n",
    "    mae_.append(mean_absolute_error(pred[startPrediction+l-1:],tsValuesLog[startPrediction+l-1:]))\n",
    "    rmse_.append(root_mean_square_error(pred[startPrediction+l-1:],tsValuesLog[startPrediction+l-1:])) \n",
    "PredictionOutputMAE['AR_Diff_Mean'] = mae_\n",
    "PredictionOutputRMSE['AR_Diff_Mean'] = rmse_"
   ]
  },
  {
   "cell_type": "code",
   "execution_count": 8,
   "metadata": {},
   "outputs": [],
   "source": [
    "mae_ = []\n",
    "rmse_ = []\n",
    "p=1\n",
    "q=1\n",
    "for l in [1,3,6,12]:\n",
    "    pred = [0]*(startPrediction+l-1)\n",
    "    for i in range(totalData-startPrediction-l+1):\n",
    "        model = ARMA(tsValuesLog[i:i+startPrediction],order=(p,q))\n",
    "        result = model.fit()\n",
    "        pred.append(result.predict(start=startPrediction,end=startPrediction+l-1)[l-1])\n",
    "    mae_.append(mean_absolute_error(pred[startPrediction+l-1:],tsValuesLog[startPrediction+l-1:]))\n",
    "    rmse_.append(root_mean_square_error(pred[startPrediction+l-1:],tsValuesLog[startPrediction+l-1:])) \n",
    "PredictionOutputMAE['AR_'+str(p)+'_'+str(q)] = mae_\n",
    "PredictionOutputRMSE['AR_'+str(p)+'_'+str(q)] = rmse_"
   ]
  },
  {
   "cell_type": "code",
   "execution_count": 9,
   "metadata": {},
   "outputs": [],
   "source": [
    "#benchmark\n",
    "mae_ = []\n",
    "rmse_ = []\n",
    "for l in [1,3,6,12]:\n",
    "    pred = [0]*(startPrediction+l-1)\n",
    "    for i in range(totalData-startPrediction-l+1):\n",
    "        pred.append(tsValuesLog[startPrediction-1+i])\n",
    "    mae_.append(mean_absolute_error(pred[startPrediction+l-1:],tsValuesLog[startPrediction+l-1:]))\n",
    "    rmse_.append(root_mean_square_error(pred[startPrediction+l-1:],tsValuesLog[startPrediction+l-1:]))\n",
    "PredictionOutputMAE['RandomWalk'] = mae_\n",
    "PredictionOutputRMSE['RandomWalk'] = rmse_"
   ]
  },
  {
   "cell_type": "code",
   "execution_count": 7,
   "metadata": {},
   "outputs": [
    {
     "data": {
      "text/html": [
       "<div>\n",
       "<table border=\"1\" class=\"dataframe\">\n",
       "  <thead>\n",
       "    <tr style=\"text-align: right;\">\n",
       "      <th></th>\n",
       "      <th>RandomWalk</th>\n",
       "    </tr>\n",
       "  </thead>\n",
       "  <tbody>\n",
       "    <tr>\n",
       "      <th>monthly</th>\n",
       "      <td>0.005169</td>\n",
       "    </tr>\n",
       "    <tr>\n",
       "      <th>3_month</th>\n",
       "      <td>0.013316</td>\n",
       "    </tr>\n",
       "    <tr>\n",
       "      <th>6_month</th>\n",
       "      <td>0.022940</td>\n",
       "    </tr>\n",
       "    <tr>\n",
       "      <th>12_month</th>\n",
       "      <td>0.037548</td>\n",
       "    </tr>\n",
       "  </tbody>\n",
       "</table>\n",
       "</div>"
      ],
      "text/plain": [
       "          RandomWalk\n",
       "monthly     0.005169\n",
       "3_month     0.013316\n",
       "6_month     0.022940\n",
       "12_month    0.037548"
      ]
     },
     "execution_count": 7,
     "metadata": {},
     "output_type": "execute_result"
    }
   ],
   "source": [
    "PredictionOutputMAE"
   ]
  },
  {
   "cell_type": "code",
   "execution_count": 8,
   "metadata": {},
   "outputs": [],
   "source": [
    "#test performance random walk with drift\n",
    "mae_ = []\n",
    "rmse_ = []\n",
    "for l in [1,3,6,12]:\n",
    "    pred = [0]*(startPrediction+l-1)\n",
    "    for i in range(totalData-startPrediction-l+1):\n",
    "        monthly_change = [tsValuesLog[j]-tsValuesLog[j-l] for j in range(i+l,i+startPrediction)]\n",
    "        mean_monthly_change = np.mean(monthly_change)\n",
    "        pred.append(tsValuesLog[startPrediction+i-1]+mean_monthly_change)\n",
    "    mae_.append(mean_absolute_error(pred[startPrediction+l-1:],tsValuesLog[startPrediction+l-1:]))\n",
    "    rmse_.append(root_mean_square_error(pred[startPrediction+l-1:],tsValuesLog[startPrediction+l-1:])) \n",
    "PredictionOutputMAE['RandomWalkWithDrift'] = mae_\n",
    "PredictionOutputRMSE['RandomWalkWithDrift'] = rmse_"
   ]
  },
  {
   "cell_type": "code",
   "execution_count": 9,
   "metadata": {},
   "outputs": [
    {
     "data": {
      "text/html": [
       "<div>\n",
       "<table border=\"1\" class=\"dataframe\">\n",
       "  <thead>\n",
       "    <tr style=\"text-align: right;\">\n",
       "      <th></th>\n",
       "      <th>RandomWalk</th>\n",
       "      <th>RandomWalkWithDrift</th>\n",
       "    </tr>\n",
       "  </thead>\n",
       "  <tbody>\n",
       "    <tr>\n",
       "      <th>monthly</th>\n",
       "      <td>0.005169</td>\n",
       "      <td>0.006898</td>\n",
       "    </tr>\n",
       "    <tr>\n",
       "      <th>3_month</th>\n",
       "      <td>0.013316</td>\n",
       "      <td>0.018713</td>\n",
       "    </tr>\n",
       "    <tr>\n",
       "      <th>6_month</th>\n",
       "      <td>0.022940</td>\n",
       "      <td>0.033806</td>\n",
       "    </tr>\n",
       "    <tr>\n",
       "      <th>12_month</th>\n",
       "      <td>0.037548</td>\n",
       "      <td>0.060703</td>\n",
       "    </tr>\n",
       "  </tbody>\n",
       "</table>\n",
       "</div>"
      ],
      "text/plain": [
       "          RandomWalk  RandomWalkWithDrift\n",
       "monthly     0.005169             0.006898\n",
       "3_month     0.013316             0.018713\n",
       "6_month     0.022940             0.033806\n",
       "12_month    0.037548             0.060703"
      ]
     },
     "execution_count": 9,
     "metadata": {},
     "output_type": "execute_result"
    }
   ],
   "source": [
    "PredictionOutputMAE"
   ]
  },
  {
   "cell_type": "code",
   "execution_count": 10,
   "metadata": {},
   "outputs": [
    {
     "name": "stdout",
     "output_type": "stream",
     "text": [
      "Wall time: 1min 20s\n"
     ]
    }
   ],
   "source": [
    "%%time\n",
    "from statsmodels.tsa.arima_model import ARMA\n",
    "#out-of-sample-test\n",
    "mae_ = []\n",
    "rmse_ = []\n",
    "p=1\n",
    "q=1\n",
    "for l in [1,3,6,12]:\n",
    "    pred = [0]*(startPrediction+l-1)\n",
    "    for i in range(totalData-startPrediction-l+1):\n",
    "        try:\n",
    "            model = ARMA(tsValuesLog[i:i+startPrediction],order=(p,q))\n",
    "            result = model.fit()\n",
    "            pred.append(result.predict(start=startPrediction,end=startPrediction+l-1)[l-1])\n",
    "        except ValueError:\n",
    "            pred.append(tsValuesLog[startPrediction+i-1])\n",
    "    mae_.append(mean_absolute_error(pred[startPrediction+l-1:],tsValuesLog[startPrediction+l-1:]))\n",
    "    rmse_.append(root_mean_square_error(pred[startPrediction+l-1:],tsValuesLog[startPrediction+l-1:])) \n",
    "PredictionOutputMAE['AR_'+str(p)+'_'+str(q)] = mae_\n",
    "PredictionOutputRMSE['AR_'+str(p)+'_'+str(q)] = rmse_"
   ]
  },
  {
   "cell_type": "code",
   "execution_count": 11,
   "metadata": {},
   "outputs": [
    {
     "name": "stdout",
     "output_type": "stream",
     "text": [
      "Wall time: 54.3 s\n"
     ]
    }
   ],
   "source": [
    "%%time\n",
    "mae_ = []\n",
    "rmse_ = []\n",
    "p=2\n",
    "q=0\n",
    "for l in [1,3,6,12]:\n",
    "    pred = [0]*(startPrediction+l-1)\n",
    "    for i in range(totalData-startPrediction-l+1):\n",
    "        try:\n",
    "            model = ARMA(tsValuesLog[i:i+startPrediction],order=(p,q))\n",
    "            result = model.fit()\n",
    "            pred.append(result.predict(start=startPrediction,end=startPrediction+l-1)[l-1])\n",
    "        except ValueError:\n",
    "            pred.append(tsValuesLog[startPrediction+i-1])\n",
    "    mae_.append(mean_absolute_error(pred[startPrediction+l-1:],tsValuesLog[startPrediction+l-1:]))\n",
    "    rmse_.append(root_mean_square_error(pred[startPrediction+l-1:],tsValuesLog[startPrediction+l-1:])) \n",
    "PredictionOutputMAE['AR_'+str(p)+'_'+str(q)] = mae_\n",
    "PredictionOutputRMSE['AR_'+str(p)+'_'+str(q)] = rmse_"
   ]
  },
  {
   "cell_type": "code",
   "execution_count": 12,
   "metadata": {},
   "outputs": [
    {
     "data": {
      "text/html": [
       "<div>\n",
       "<table border=\"1\" class=\"dataframe\">\n",
       "  <thead>\n",
       "    <tr style=\"text-align: right;\">\n",
       "      <th></th>\n",
       "      <th>RandomWalk</th>\n",
       "      <th>RandomWalkWithDrift</th>\n",
       "      <th>AR_1_1</th>\n",
       "      <th>AR_2_0</th>\n",
       "    </tr>\n",
       "  </thead>\n",
       "  <tbody>\n",
       "    <tr>\n",
       "      <th>monthly</th>\n",
       "      <td>0.005169</td>\n",
       "      <td>0.006898</td>\n",
       "      <td>0.004725</td>\n",
       "      <td>0.004687</td>\n",
       "    </tr>\n",
       "    <tr>\n",
       "      <th>3_month</th>\n",
       "      <td>0.013316</td>\n",
       "      <td>0.018713</td>\n",
       "      <td>0.012316</td>\n",
       "      <td>0.012268</td>\n",
       "    </tr>\n",
       "    <tr>\n",
       "      <th>6_month</th>\n",
       "      <td>0.022940</td>\n",
       "      <td>0.033806</td>\n",
       "      <td>0.021303</td>\n",
       "      <td>0.021242</td>\n",
       "    </tr>\n",
       "    <tr>\n",
       "      <th>12_month</th>\n",
       "      <td>0.037548</td>\n",
       "      <td>0.060703</td>\n",
       "      <td>0.033415</td>\n",
       "      <td>0.033281</td>\n",
       "    </tr>\n",
       "  </tbody>\n",
       "</table>\n",
       "</div>"
      ],
      "text/plain": [
       "          RandomWalk  RandomWalkWithDrift    AR_1_1    AR_2_0\n",
       "monthly     0.005169             0.006898  0.004725  0.004687\n",
       "3_month     0.013316             0.018713  0.012316  0.012268\n",
       "6_month     0.022940             0.033806  0.021303  0.021242\n",
       "12_month    0.037548             0.060703  0.033415  0.033281"
      ]
     },
     "execution_count": 12,
     "metadata": {},
     "output_type": "execute_result"
    }
   ],
   "source": [
    "PredictionOutputMAE"
   ]
  },
  {
   "cell_type": "code",
   "execution_count": 7,
   "metadata": {},
   "outputs": [],
   "source": [
    "tsValuesLog_d_1 = [0]\n",
    "tsValuesLog_d_1 += [tsValuesLog[i+1]-tsValuesLog[i] for i in range(totalData-1)]"
   ]
  },
  {
   "cell_type": "code",
   "execution_count": 14,
   "metadata": {},
   "outputs": [],
   "source": [
    "mae_ = []\n",
    "rmse_ = []\n",
    "p=1\n",
    "q=0\n",
    "for l in [1,3,6,12]:\n",
    "    pred = [0]*(startPrediction+l-1)\n",
    "    for i in range(totalData-startPrediction-l+1):\n",
    "        model = ARMA(tsValuesLog_d_1[i:i+startPrediction],order=(p,q))\n",
    "        result = model.fit()\n",
    "        pred.append(sum(result.predict(start=startPrediction,end=startPrediction+l-1))+tsValuesLog[i+startPrediction-1])\n",
    "    mae_.append(mean_absolute_error(pred[startPrediction+l-1:],tsValuesLog[startPrediction+l-1:]))\n",
    "    rmse_.append(root_mean_square_error(pred[startPrediction+l-1:],tsValuesLog[startPrediction+l-1:])) \n",
    "PredictionOutputMAE['AR_Diff_'+str(p)+'_'+str(q)] = mae_\n",
    "PredictionOutputRMSE['AR_Diff_'+str(p)+'_'+str(q)] = rmse_"
   ]
  },
  {
   "cell_type": "code",
   "execution_count": 15,
   "metadata": {},
   "outputs": [
    {
     "name": "stderr",
     "output_type": "stream",
     "text": [
      "C:\\Users\\Hallo\\Anaconda3\\lib\\site-packages\\statsmodels\\base\\model.py:496: ConvergenceWarning: Maximum Likelihood optimization failed to converge. Check mle_retvals\n",
      "  \"Check mle_retvals\", ConvergenceWarning)\n",
      "C:\\Users\\Hallo\\Anaconda3\\lib\\site-packages\\statsmodels\\base\\model.py:496: ConvergenceWarning: Maximum Likelihood optimization failed to converge. Check mle_retvals\n",
      "  \"Check mle_retvals\", ConvergenceWarning)\n",
      "C:\\Users\\Hallo\\Anaconda3\\lib\\site-packages\\statsmodels\\base\\model.py:496: ConvergenceWarning: Maximum Likelihood optimization failed to converge. Check mle_retvals\n",
      "  \"Check mle_retvals\", ConvergenceWarning)\n",
      "C:\\Users\\Hallo\\Anaconda3\\lib\\site-packages\\statsmodels\\base\\model.py:496: ConvergenceWarning: Maximum Likelihood optimization failed to converge. Check mle_retvals\n",
      "  \"Check mle_retvals\", ConvergenceWarning)\n"
     ]
    },
    {
     "name": "stdout",
     "output_type": "stream",
     "text": [
      "Wall time: 27.7 s\n"
     ]
    }
   ],
   "source": [
    "%%time\n",
    "mae_ = []\n",
    "rmse_ = []\n",
    "p=0\n",
    "q=1\n",
    "for l in [1,3,6,12]:\n",
    "    pred = [0]*(startPrediction+l-1)\n",
    "    for i in range(totalData-startPrediction-l+1):\n",
    "        model = ARMA(tsValuesLog_d_1[i:i+startPrediction],order=(p,q))\n",
    "        result = model.fit()\n",
    "        pred.append(sum(result.predict(start=startPrediction,end=startPrediction+l-1))+tsValuesLog[i+startPrediction-1])\n",
    "    mae_.append(mean_absolute_error(pred[startPrediction+l-1:],tsValuesLog[startPrediction+l-1:]))\n",
    "    rmse_.append(root_mean_square_error(pred[startPrediction+l-1:],tsValuesLog[startPrediction+l-1:])) \n",
    "PredictionOutputMAE['AR_Diff_'+str(p)+'_'+str(q)] = mae_\n",
    "PredictionOutputRMSE['AR_Diff_'+str(p)+'_'+str(q)] = rmse_"
   ]
  },
  {
   "cell_type": "code",
   "execution_count": 27,
   "metadata": {
    "collapsed": true
   },
   "outputs": [],
   "source": [
    "#Unobserved model\n",
    "import statsmodels.api as sm\n",
    "\n",
    "class UnobservedComponentModel:\n",
    "    def __init__(self):\n",
    "        self.model_name = \"UnobservedComponentModel\"\n",
    "        return\n",
    "\n",
    "    def fit(self, ts):\n",
    "        unrestricted_model = {\n",
    "            'level': 'local linear trend', 'cycle': False , 'seasonal': 12\n",
    "        }\n",
    "\n",
    "        model = sm.tsa.UnobservedComponents(endog=ts, **unrestricted_model)\n",
    "        self.trained_model = model.fit()\n",
    "        return self\n",
    "\n",
    "    def predict(self, next_n_prediction):\n",
    "        prediction = self.trained_model.forecast(steps=next_n_prediction)\n",
    "        return prediction"
   ]
  },
  {
   "cell_type": "code",
   "execution_count": 28,
   "metadata": {
    "scrolled": true
   },
   "outputs": [
    {
     "name": "stderr",
     "output_type": "stream",
     "text": [
      "C:\\Users\\Hallo\\Anaconda3\\lib\\site-packages\\statsmodels\\base\\model.py:496: ConvergenceWarning: Maximum Likelihood optimization failed to converge. Check mle_retvals\n",
      "  \"Check mle_retvals\", ConvergenceWarning)\n",
      "C:\\Users\\Hallo\\Anaconda3\\lib\\site-packages\\statsmodels\\base\\model.py:496: ConvergenceWarning: Maximum Likelihood optimization failed to converge. Check mle_retvals\n",
      "  \"Check mle_retvals\", ConvergenceWarning)\n",
      "C:\\Users\\Hallo\\Anaconda3\\lib\\site-packages\\statsmodels\\base\\model.py:496: ConvergenceWarning: Maximum Likelihood optimization failed to converge. Check mle_retvals\n",
      "  \"Check mle_retvals\", ConvergenceWarning)\n",
      "C:\\Users\\Hallo\\Anaconda3\\lib\\site-packages\\statsmodels\\base\\model.py:496: ConvergenceWarning: Maximum Likelihood optimization failed to converge. Check mle_retvals\n",
      "  \"Check mle_retvals\", ConvergenceWarning)\n",
      "C:\\Users\\Hallo\\Anaconda3\\lib\\site-packages\\statsmodels\\base\\model.py:496: ConvergenceWarning: Maximum Likelihood optimization failed to converge. Check mle_retvals\n",
      "  \"Check mle_retvals\", ConvergenceWarning)\n",
      "C:\\Users\\Hallo\\Anaconda3\\lib\\site-packages\\statsmodels\\base\\model.py:496: ConvergenceWarning: Maximum Likelihood optimization failed to converge. Check mle_retvals\n",
      "  \"Check mle_retvals\", ConvergenceWarning)\n",
      "C:\\Users\\Hallo\\Anaconda3\\lib\\site-packages\\statsmodels\\base\\model.py:496: ConvergenceWarning: Maximum Likelihood optimization failed to converge. Check mle_retvals\n",
      "  \"Check mle_retvals\", ConvergenceWarning)\n",
      "C:\\Users\\Hallo\\Anaconda3\\lib\\site-packages\\statsmodels\\base\\model.py:496: ConvergenceWarning: Maximum Likelihood optimization failed to converge. Check mle_retvals\n",
      "  \"Check mle_retvals\", ConvergenceWarning)\n",
      "C:\\Users\\Hallo\\Anaconda3\\lib\\site-packages\\statsmodels\\base\\model.py:496: ConvergenceWarning: Maximum Likelihood optimization failed to converge. Check mle_retvals\n",
      "  \"Check mle_retvals\", ConvergenceWarning)\n",
      "C:\\Users\\Hallo\\Anaconda3\\lib\\site-packages\\statsmodels\\base\\model.py:496: ConvergenceWarning: Maximum Likelihood optimization failed to converge. Check mle_retvals\n",
      "  \"Check mle_retvals\", ConvergenceWarning)\n",
      "C:\\Users\\Hallo\\Anaconda3\\lib\\site-packages\\statsmodels\\base\\model.py:496: ConvergenceWarning: Maximum Likelihood optimization failed to converge. Check mle_retvals\n",
      "  \"Check mle_retvals\", ConvergenceWarning)\n",
      "C:\\Users\\Hallo\\Anaconda3\\lib\\site-packages\\statsmodels\\base\\model.py:496: ConvergenceWarning: Maximum Likelihood optimization failed to converge. Check mle_retvals\n",
      "  \"Check mle_retvals\", ConvergenceWarning)\n",
      "C:\\Users\\Hallo\\Anaconda3\\lib\\site-packages\\statsmodels\\base\\model.py:496: ConvergenceWarning: Maximum Likelihood optimization failed to converge. Check mle_retvals\n",
      "  \"Check mle_retvals\", ConvergenceWarning)\n",
      "C:\\Users\\Hallo\\Anaconda3\\lib\\site-packages\\statsmodels\\base\\model.py:496: ConvergenceWarning: Maximum Likelihood optimization failed to converge. Check mle_retvals\n",
      "  \"Check mle_retvals\", ConvergenceWarning)\n",
      "C:\\Users\\Hallo\\Anaconda3\\lib\\site-packages\\statsmodels\\base\\model.py:496: ConvergenceWarning: Maximum Likelihood optimization failed to converge. Check mle_retvals\n",
      "  \"Check mle_retvals\", ConvergenceWarning)\n",
      "C:\\Users\\Hallo\\Anaconda3\\lib\\site-packages\\statsmodels\\base\\model.py:496: ConvergenceWarning: Maximum Likelihood optimization failed to converge. Check mle_retvals\n",
      "  \"Check mle_retvals\", ConvergenceWarning)\n",
      "C:\\Users\\Hallo\\Anaconda3\\lib\\site-packages\\statsmodels\\base\\model.py:496: ConvergenceWarning: Maximum Likelihood optimization failed to converge. Check mle_retvals\n",
      "  \"Check mle_retvals\", ConvergenceWarning)\n",
      "C:\\Users\\Hallo\\Anaconda3\\lib\\site-packages\\statsmodels\\base\\model.py:496: ConvergenceWarning: Maximum Likelihood optimization failed to converge. Check mle_retvals\n",
      "  \"Check mle_retvals\", ConvergenceWarning)\n",
      "C:\\Users\\Hallo\\Anaconda3\\lib\\site-packages\\statsmodels\\base\\model.py:496: ConvergenceWarning: Maximum Likelihood optimization failed to converge. Check mle_retvals\n",
      "  \"Check mle_retvals\", ConvergenceWarning)\n",
      "C:\\Users\\Hallo\\Anaconda3\\lib\\site-packages\\statsmodels\\base\\model.py:496: ConvergenceWarning: Maximum Likelihood optimization failed to converge. Check mle_retvals\n",
      "  \"Check mle_retvals\", ConvergenceWarning)\n",
      "C:\\Users\\Hallo\\Anaconda3\\lib\\site-packages\\statsmodels\\base\\model.py:496: ConvergenceWarning: Maximum Likelihood optimization failed to converge. Check mle_retvals\n",
      "  \"Check mle_retvals\", ConvergenceWarning)\n",
      "C:\\Users\\Hallo\\Anaconda3\\lib\\site-packages\\statsmodels\\base\\model.py:496: ConvergenceWarning: Maximum Likelihood optimization failed to converge. Check mle_retvals\n",
      "  \"Check mle_retvals\", ConvergenceWarning)\n",
      "C:\\Users\\Hallo\\Anaconda3\\lib\\site-packages\\statsmodels\\base\\model.py:496: ConvergenceWarning: Maximum Likelihood optimization failed to converge. Check mle_retvals\n",
      "  \"Check mle_retvals\", ConvergenceWarning)\n",
      "C:\\Users\\Hallo\\Anaconda3\\lib\\site-packages\\statsmodels\\base\\model.py:496: ConvergenceWarning: Maximum Likelihood optimization failed to converge. Check mle_retvals\n",
      "  \"Check mle_retvals\", ConvergenceWarning)\n",
      "C:\\Users\\Hallo\\Anaconda3\\lib\\site-packages\\statsmodels\\base\\model.py:496: ConvergenceWarning: Maximum Likelihood optimization failed to converge. Check mle_retvals\n",
      "  \"Check mle_retvals\", ConvergenceWarning)\n",
      "C:\\Users\\Hallo\\Anaconda3\\lib\\site-packages\\statsmodels\\base\\model.py:496: ConvergenceWarning: Maximum Likelihood optimization failed to converge. Check mle_retvals\n",
      "  \"Check mle_retvals\", ConvergenceWarning)\n",
      "C:\\Users\\Hallo\\Anaconda3\\lib\\site-packages\\statsmodels\\base\\model.py:496: ConvergenceWarning: Maximum Likelihood optimization failed to converge. Check mle_retvals\n",
      "  \"Check mle_retvals\", ConvergenceWarning)\n",
      "C:\\Users\\Hallo\\Anaconda3\\lib\\site-packages\\statsmodels\\base\\model.py:496: ConvergenceWarning: Maximum Likelihood optimization failed to converge. Check mle_retvals\n",
      "  \"Check mle_retvals\", ConvergenceWarning)\n",
      "C:\\Users\\Hallo\\Anaconda3\\lib\\site-packages\\statsmodels\\base\\model.py:496: ConvergenceWarning: Maximum Likelihood optimization failed to converge. Check mle_retvals\n",
      "  \"Check mle_retvals\", ConvergenceWarning)\n",
      "C:\\Users\\Hallo\\Anaconda3\\lib\\site-packages\\statsmodels\\base\\model.py:496: ConvergenceWarning: Maximum Likelihood optimization failed to converge. Check mle_retvals\n",
      "  \"Check mle_retvals\", ConvergenceWarning)\n",
      "C:\\Users\\Hallo\\Anaconda3\\lib\\site-packages\\statsmodels\\base\\model.py:496: ConvergenceWarning: Maximum Likelihood optimization failed to converge. Check mle_retvals\n",
      "  \"Check mle_retvals\", ConvergenceWarning)\n",
      "C:\\Users\\Hallo\\Anaconda3\\lib\\site-packages\\statsmodels\\base\\model.py:496: ConvergenceWarning: Maximum Likelihood optimization failed to converge. Check mle_retvals\n",
      "  \"Check mle_retvals\", ConvergenceWarning)\n",
      "C:\\Users\\Hallo\\Anaconda3\\lib\\site-packages\\statsmodels\\base\\model.py:496: ConvergenceWarning: Maximum Likelihood optimization failed to converge. Check mle_retvals\n",
      "  \"Check mle_retvals\", ConvergenceWarning)\n",
      "C:\\Users\\Hallo\\Anaconda3\\lib\\site-packages\\statsmodels\\base\\model.py:496: ConvergenceWarning: Maximum Likelihood optimization failed to converge. Check mle_retvals\n",
      "  \"Check mle_retvals\", ConvergenceWarning)\n",
      "C:\\Users\\Hallo\\Anaconda3\\lib\\site-packages\\statsmodels\\base\\model.py:496: ConvergenceWarning: Maximum Likelihood optimization failed to converge. Check mle_retvals\n",
      "  \"Check mle_retvals\", ConvergenceWarning)\n",
      "C:\\Users\\Hallo\\Anaconda3\\lib\\site-packages\\statsmodels\\base\\model.py:496: ConvergenceWarning: Maximum Likelihood optimization failed to converge. Check mle_retvals\n",
      "  \"Check mle_retvals\", ConvergenceWarning)\n",
      "C:\\Users\\Hallo\\Anaconda3\\lib\\site-packages\\statsmodels\\base\\model.py:496: ConvergenceWarning: Maximum Likelihood optimization failed to converge. Check mle_retvals\n",
      "  \"Check mle_retvals\", ConvergenceWarning)\n",
      "C:\\Users\\Hallo\\Anaconda3\\lib\\site-packages\\statsmodels\\base\\model.py:496: ConvergenceWarning: Maximum Likelihood optimization failed to converge. Check mle_retvals\n",
      "  \"Check mle_retvals\", ConvergenceWarning)\n",
      "C:\\Users\\Hallo\\Anaconda3\\lib\\site-packages\\statsmodels\\base\\model.py:496: ConvergenceWarning: Maximum Likelihood optimization failed to converge. Check mle_retvals\n",
      "  \"Check mle_retvals\", ConvergenceWarning)\n",
      "C:\\Users\\Hallo\\Anaconda3\\lib\\site-packages\\statsmodels\\base\\model.py:496: ConvergenceWarning: Maximum Likelihood optimization failed to converge. Check mle_retvals\n",
      "  \"Check mle_retvals\", ConvergenceWarning)\n",
      "C:\\Users\\Hallo\\Anaconda3\\lib\\site-packages\\statsmodels\\base\\model.py:496: ConvergenceWarning: Maximum Likelihood optimization failed to converge. Check mle_retvals\n",
      "  \"Check mle_retvals\", ConvergenceWarning)\n",
      "C:\\Users\\Hallo\\Anaconda3\\lib\\site-packages\\statsmodels\\base\\model.py:496: ConvergenceWarning: Maximum Likelihood optimization failed to converge. Check mle_retvals\n",
      "  \"Check mle_retvals\", ConvergenceWarning)\n",
      "C:\\Users\\Hallo\\Anaconda3\\lib\\site-packages\\statsmodels\\base\\model.py:496: ConvergenceWarning: Maximum Likelihood optimization failed to converge. Check mle_retvals\n",
      "  \"Check mle_retvals\", ConvergenceWarning)\n",
      "C:\\Users\\Hallo\\Anaconda3\\lib\\site-packages\\statsmodels\\base\\model.py:496: ConvergenceWarning: Maximum Likelihood optimization failed to converge. Check mle_retvals\n",
      "  \"Check mle_retvals\", ConvergenceWarning)\n",
      "C:\\Users\\Hallo\\Anaconda3\\lib\\site-packages\\statsmodels\\base\\model.py:496: ConvergenceWarning: Maximum Likelihood optimization failed to converge. Check mle_retvals\n",
      "  \"Check mle_retvals\", ConvergenceWarning)\n",
      "C:\\Users\\Hallo\\Anaconda3\\lib\\site-packages\\statsmodels\\base\\model.py:496: ConvergenceWarning: Maximum Likelihood optimization failed to converge. Check mle_retvals\n",
      "  \"Check mle_retvals\", ConvergenceWarning)\n",
      "C:\\Users\\Hallo\\Anaconda3\\lib\\site-packages\\statsmodels\\base\\model.py:496: ConvergenceWarning: Maximum Likelihood optimization failed to converge. Check mle_retvals\n",
      "  \"Check mle_retvals\", ConvergenceWarning)\n",
      "C:\\Users\\Hallo\\Anaconda3\\lib\\site-packages\\statsmodels\\base\\model.py:496: ConvergenceWarning: Maximum Likelihood optimization failed to converge. Check mle_retvals\n",
      "  \"Check mle_retvals\", ConvergenceWarning)\n",
      "C:\\Users\\Hallo\\Anaconda3\\lib\\site-packages\\statsmodels\\base\\model.py:496: ConvergenceWarning: Maximum Likelihood optimization failed to converge. Check mle_retvals\n",
      "  \"Check mle_retvals\", ConvergenceWarning)\n",
      "C:\\Users\\Hallo\\Anaconda3\\lib\\site-packages\\statsmodels\\base\\model.py:496: ConvergenceWarning: Maximum Likelihood optimization failed to converge. Check mle_retvals\n",
      "  \"Check mle_retvals\", ConvergenceWarning)\n",
      "C:\\Users\\Hallo\\Anaconda3\\lib\\site-packages\\statsmodels\\base\\model.py:496: ConvergenceWarning: Maximum Likelihood optimization failed to converge. Check mle_retvals\n",
      "  \"Check mle_retvals\", ConvergenceWarning)\n",
      "C:\\Users\\Hallo\\Anaconda3\\lib\\site-packages\\statsmodels\\base\\model.py:496: ConvergenceWarning: Maximum Likelihood optimization failed to converge. Check mle_retvals\n",
      "  \"Check mle_retvals\", ConvergenceWarning)\n",
      "C:\\Users\\Hallo\\Anaconda3\\lib\\site-packages\\statsmodels\\base\\model.py:496: ConvergenceWarning: Maximum Likelihood optimization failed to converge. Check mle_retvals\n",
      "  \"Check mle_retvals\", ConvergenceWarning)\n",
      "C:\\Users\\Hallo\\Anaconda3\\lib\\site-packages\\statsmodels\\base\\model.py:496: ConvergenceWarning: Maximum Likelihood optimization failed to converge. Check mle_retvals\n",
      "  \"Check mle_retvals\", ConvergenceWarning)\n",
      "C:\\Users\\Hallo\\Anaconda3\\lib\\site-packages\\statsmodels\\base\\model.py:496: ConvergenceWarning: Maximum Likelihood optimization failed to converge. Check mle_retvals\n",
      "  \"Check mle_retvals\", ConvergenceWarning)\n",
      "C:\\Users\\Hallo\\Anaconda3\\lib\\site-packages\\statsmodels\\base\\model.py:496: ConvergenceWarning: Maximum Likelihood optimization failed to converge. Check mle_retvals\n",
      "  \"Check mle_retvals\", ConvergenceWarning)\n",
      "C:\\Users\\Hallo\\Anaconda3\\lib\\site-packages\\statsmodels\\base\\model.py:496: ConvergenceWarning: Maximum Likelihood optimization failed to converge. Check mle_retvals\n",
      "  \"Check mle_retvals\", ConvergenceWarning)\n",
      "C:\\Users\\Hallo\\Anaconda3\\lib\\site-packages\\statsmodels\\base\\model.py:496: ConvergenceWarning: Maximum Likelihood optimization failed to converge. Check mle_retvals\n",
      "  \"Check mle_retvals\", ConvergenceWarning)\n",
      "C:\\Users\\Hallo\\Anaconda3\\lib\\site-packages\\statsmodels\\base\\model.py:496: ConvergenceWarning: Maximum Likelihood optimization failed to converge. Check mle_retvals\n",
      "  \"Check mle_retvals\", ConvergenceWarning)\n",
      "C:\\Users\\Hallo\\Anaconda3\\lib\\site-packages\\statsmodels\\base\\model.py:496: ConvergenceWarning: Maximum Likelihood optimization failed to converge. Check mle_retvals\n",
      "  \"Check mle_retvals\", ConvergenceWarning)\n",
      "C:\\Users\\Hallo\\Anaconda3\\lib\\site-packages\\statsmodels\\base\\model.py:496: ConvergenceWarning: Maximum Likelihood optimization failed to converge. Check mle_retvals\n",
      "  \"Check mle_retvals\", ConvergenceWarning)\n",
      "C:\\Users\\Hallo\\Anaconda3\\lib\\site-packages\\statsmodels\\base\\model.py:496: ConvergenceWarning: Maximum Likelihood optimization failed to converge. Check mle_retvals\n",
      "  \"Check mle_retvals\", ConvergenceWarning)\n",
      "C:\\Users\\Hallo\\Anaconda3\\lib\\site-packages\\statsmodels\\base\\model.py:496: ConvergenceWarning: Maximum Likelihood optimization failed to converge. Check mle_retvals\n",
      "  \"Check mle_retvals\", ConvergenceWarning)\n",
      "C:\\Users\\Hallo\\Anaconda3\\lib\\site-packages\\statsmodels\\base\\model.py:496: ConvergenceWarning: Maximum Likelihood optimization failed to converge. Check mle_retvals\n",
      "  \"Check mle_retvals\", ConvergenceWarning)\n"
     ]
    },
    {
     "name": "stdout",
     "output_type": "stream",
     "text": [
      "Wall time: 10min 10s\n"
     ]
    }
   ],
   "source": [
    "%%time\n",
    "mae_ = []\n",
    "rmse_ = []\n",
    "for l in [1,3,6,12]:\n",
    "    pred = [0]*(startPrediction+l-1)\n",
    "    for i in range(totalData-startPrediction-(l-1)):\n",
    "        model = UnobservedComponentModel()\n",
    "        model.fit(tsValuesLog[i:i+startPrediction])\n",
    "        pred.append(model.predict(l)[l-1])\n",
    "    mae_.append(mean_absolute_error(pred[startPrediction+l-1:],tsValuesLog[startPrediction+l-1:]))\n",
    "    rmse_.append(root_mean_square_error(pred[startPrediction+l-1:],tsValuesLog[startPrediction+l-1:]))"
   ]
  },
  {
   "cell_type": "code",
   "execution_count": 25,
   "metadata": {
    "collapsed": true
   },
   "outputs": [],
   "source": [
    "PredictionOutputMAE[\"UnobservedComponentModel\"] = mae_\n",
    "PredictionOutputRMSE[\"UnobservedComponentModel\"] = rmse_"
   ]
  },
  {
   "cell_type": "code",
   "execution_count": 29,
   "metadata": {
    "collapsed": true
   },
   "outputs": [],
   "source": [
    "PredictionOutputMAE[\"UnobservedComponentModel_With_Season\"] = mae_\n",
    "PredictionOutputRMSE[\"UnobservedComponentModel_With_Season\"] = rmse_"
   ]
  },
  {
   "cell_type": "code",
   "execution_count": 30,
   "metadata": {},
   "outputs": [
    {
     "data": {
      "text/html": [
       "<div>\n",
       "<table border=\"1\" class=\"dataframe\">\n",
       "  <thead>\n",
       "    <tr style=\"text-align: right;\">\n",
       "      <th></th>\n",
       "      <th>RandomWalk</th>\n",
       "      <th>RandomWalkWithDrift</th>\n",
       "      <th>AR_1_1</th>\n",
       "      <th>AR_2_0</th>\n",
       "      <th>AR_Diff_1_0</th>\n",
       "      <th>AR_Diff_0_1</th>\n",
       "      <th>UnobservedComponentModel</th>\n",
       "      <th>UnobservedComponentModel_With_Season</th>\n",
       "    </tr>\n",
       "  </thead>\n",
       "  <tbody>\n",
       "    <tr>\n",
       "      <th>monthly</th>\n",
       "      <td>0.005169</td>\n",
       "      <td>0.006898</td>\n",
       "      <td>0.004725</td>\n",
       "      <td>0.004687</td>\n",
       "      <td>0.006389</td>\n",
       "      <td>0.006443</td>\n",
       "      <td>0.005146</td>\n",
       "      <td>0.007007</td>\n",
       "    </tr>\n",
       "    <tr>\n",
       "      <th>3_month</th>\n",
       "      <td>0.013316</td>\n",
       "      <td>0.018713</td>\n",
       "      <td>0.012316</td>\n",
       "      <td>0.012268</td>\n",
       "      <td>0.018245</td>\n",
       "      <td>0.018308</td>\n",
       "      <td>0.013557</td>\n",
       "      <td>0.016231</td>\n",
       "    </tr>\n",
       "    <tr>\n",
       "      <th>6_month</th>\n",
       "      <td>0.022940</td>\n",
       "      <td>0.033806</td>\n",
       "      <td>0.021303</td>\n",
       "      <td>0.021242</td>\n",
       "      <td>0.033436</td>\n",
       "      <td>0.033531</td>\n",
       "      <td>0.023917</td>\n",
       "      <td>0.026154</td>\n",
       "    </tr>\n",
       "    <tr>\n",
       "      <th>12_month</th>\n",
       "      <td>0.037548</td>\n",
       "      <td>0.060703</td>\n",
       "      <td>0.033415</td>\n",
       "      <td>0.033281</td>\n",
       "      <td>0.059857</td>\n",
       "      <td>0.059959</td>\n",
       "      <td>0.039501</td>\n",
       "      <td>0.040267</td>\n",
       "    </tr>\n",
       "  </tbody>\n",
       "</table>\n",
       "</div>"
      ],
      "text/plain": [
       "          RandomWalk  RandomWalkWithDrift    AR_1_1    AR_2_0  AR_Diff_1_0  \\\n",
       "monthly     0.005169             0.006898  0.004725  0.004687     0.006389   \n",
       "3_month     0.013316             0.018713  0.012316  0.012268     0.018245   \n",
       "6_month     0.022940             0.033806  0.021303  0.021242     0.033436   \n",
       "12_month    0.037548             0.060703  0.033415  0.033281     0.059857   \n",
       "\n",
       "          AR_Diff_0_1  UnobservedComponentModel  \\\n",
       "monthly      0.006443                  0.005146   \n",
       "3_month      0.018308                  0.013557   \n",
       "6_month      0.033531                  0.023917   \n",
       "12_month     0.059959                  0.039501   \n",
       "\n",
       "          UnobservedComponentModel_With_Season  \n",
       "monthly                               0.007007  \n",
       "3_month                               0.016231  \n",
       "6_month                               0.026154  \n",
       "12_month                              0.040267  "
      ]
     },
     "execution_count": 30,
     "metadata": {},
     "output_type": "execute_result"
    }
   ],
   "source": [
    "PredictionOutputMAE"
   ]
  },
  {
   "cell_type": "code",
   "execution_count": 31,
   "metadata": {},
   "outputs": [
    {
     "data": {
      "text/html": [
       "<div>\n",
       "<table border=\"1\" class=\"dataframe\">\n",
       "  <thead>\n",
       "    <tr style=\"text-align: right;\">\n",
       "      <th></th>\n",
       "      <th>RandomWalk</th>\n",
       "      <th>RandomWalkWithDrift</th>\n",
       "      <th>AR_1_1</th>\n",
       "      <th>AR_2_0</th>\n",
       "      <th>AR_Diff_1_0</th>\n",
       "      <th>AR_Diff_0_1</th>\n",
       "      <th>UnobservedComponentModel</th>\n",
       "      <th>UnobservedComponentModel_With_Season</th>\n",
       "    </tr>\n",
       "  </thead>\n",
       "  <tbody>\n",
       "    <tr>\n",
       "      <th>monthly</th>\n",
       "      <td>0.007606</td>\n",
       "      <td>0.008768</td>\n",
       "      <td>0.007134</td>\n",
       "      <td>0.007118</td>\n",
       "      <td>0.008284</td>\n",
       "      <td>0.008327</td>\n",
       "      <td>0.007576</td>\n",
       "      <td>0.009878</td>\n",
       "    </tr>\n",
       "    <tr>\n",
       "      <th>3_month</th>\n",
       "      <td>0.018230</td>\n",
       "      <td>0.022518</td>\n",
       "      <td>0.017257</td>\n",
       "      <td>0.017225</td>\n",
       "      <td>0.022024</td>\n",
       "      <td>0.022118</td>\n",
       "      <td>0.018885</td>\n",
       "      <td>0.022389</td>\n",
       "    </tr>\n",
       "    <tr>\n",
       "      <th>6_month</th>\n",
       "      <td>0.029523</td>\n",
       "      <td>0.039861</td>\n",
       "      <td>0.027466</td>\n",
       "      <td>0.027380</td>\n",
       "      <td>0.039353</td>\n",
       "      <td>0.039471</td>\n",
       "      <td>0.030886</td>\n",
       "      <td>0.034990</td>\n",
       "    </tr>\n",
       "    <tr>\n",
       "      <th>12_month</th>\n",
       "      <td>0.045839</td>\n",
       "      <td>0.071523</td>\n",
       "      <td>0.041231</td>\n",
       "      <td>0.041037</td>\n",
       "      <td>0.070519</td>\n",
       "      <td>0.070649</td>\n",
       "      <td>0.047310</td>\n",
       "      <td>0.048568</td>\n",
       "    </tr>\n",
       "  </tbody>\n",
       "</table>\n",
       "</div>"
      ],
      "text/plain": [
       "          RandomWalk  RandomWalkWithDrift    AR_1_1    AR_2_0  AR_Diff_1_0  \\\n",
       "monthly     0.007606             0.008768  0.007134  0.007118     0.008284   \n",
       "3_month     0.018230             0.022518  0.017257  0.017225     0.022024   \n",
       "6_month     0.029523             0.039861  0.027466  0.027380     0.039353   \n",
       "12_month    0.045839             0.071523  0.041231  0.041037     0.070519   \n",
       "\n",
       "          AR_Diff_0_1  UnobservedComponentModel  \\\n",
       "monthly      0.008327                  0.007576   \n",
       "3_month      0.022118                  0.018885   \n",
       "6_month      0.039471                  0.030886   \n",
       "12_month     0.070649                  0.047310   \n",
       "\n",
       "          UnobservedComponentModel_With_Season  \n",
       "monthly                               0.009878  \n",
       "3_month                               0.022389  \n",
       "6_month                               0.034990  \n",
       "12_month                              0.048568  "
      ]
     },
     "execution_count": 31,
     "metadata": {},
     "output_type": "execute_result"
    }
   ],
   "source": [
    "PredictionOutputRMSE"
   ]
  },
  {
   "cell_type": "code",
   "execution_count": 32,
   "metadata": {
    "collapsed": true
   },
   "outputs": [],
   "source": [
    "PredictionOutputMAE.to_csv(\"EXCHUS_MAE.csv\")"
   ]
  },
  {
   "cell_type": "code",
   "execution_count": 33,
   "metadata": {
    "collapsed": true
   },
   "outputs": [],
   "source": [
    "PredictionOutputRMSE.to_csv(\"EXCHUS_RMAE.csv\")"
   ]
  },
  {
   "cell_type": "code",
   "execution_count": null,
   "metadata": {
    "collapsed": true
   },
   "outputs": [],
   "source": []
  }
 ],
 "metadata": {
  "kernelspec": {
   "display_name": "Python 3",
   "language": "python",
   "name": "python3"
  },
  "language_info": {
   "codemirror_mode": {
    "name": "ipython",
    "version": 3
   },
   "file_extension": ".py",
   "mimetype": "text/x-python",
   "name": "python",
   "nbconvert_exporter": "python",
   "pygments_lexer": "ipython3",
   "version": "3.6.8"
  }
 },
 "nbformat": 4,
 "nbformat_minor": 2
}
