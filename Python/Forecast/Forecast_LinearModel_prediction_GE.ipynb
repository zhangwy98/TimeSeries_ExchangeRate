{
 "cells": [
  {
   "cell_type": "code",
   "execution_count": 1,
   "metadata": {},
   "outputs": [],
   "source": [
    "import pandas as pd\n",
    "import numpy as np\n",
    "data = pd.read_csv(\"EXGEUS.csv\")\n",
    "tsValues = data['EXGEUS']\n",
    "import math\n",
    "tsValuesLog = [math.log(ele) for ele in tsValues]"
   ]
  },
  {
   "cell_type": "code",
   "execution_count": 2,
   "metadata": {},
   "outputs": [],
   "source": [
    "PredictionOutputMAE = pd.DataFrame(index=['monthly','3_month','6_month','12_month'])\n",
    "PredictionOutputRMSE = pd.DataFrame(index=['monthly','3_month','6_month','12_month'])\n",
    "startPrediction = 100\n",
    "totalData = len(tsValuesLog)"
   ]
  },
  {
   "cell_type": "code",
   "execution_count": 3,
   "metadata": {},
   "outputs": [
    {
     "data": {
      "text/plain": [
       "157"
      ]
     },
     "execution_count": 3,
     "metadata": {},
     "output_type": "execute_result"
    }
   ],
   "source": [
    "totalData"
   ]
  },
  {
   "cell_type": "code",
   "execution_count": 4,
   "metadata": {},
   "outputs": [],
   "source": [
    "def mean_error(pred,real):\n",
    "    return np.mean([pred[i]-real[i] for i in range(len(pred))])\n",
    "def mean_absolute_error(pred,real):\n",
    "    return np.mean([np.abs(pred[i]-real[i]) for i in range(len(pred))])\n",
    "def root_mean_square_error(pred,real):\n",
    "    return np.sqrt(np.mean([pow(pred[i]-real[i],2) for i in range(len(pred))]))"
   ]
  },
  {
   "cell_type": "code",
   "execution_count": 6,
   "metadata": {},
   "outputs": [],
   "source": [
    "from statsmodels.tsa.arima_model import ARMA\n",
    "mae_ = []\n",
    "rmse_ = []\n",
    "p=1\n",
    "q=1\n",
    "for l in [1,3,6,12]:\n",
    "    pred = [0]*(startPrediction+l-1)\n",
    "    for i in range(totalData-startPrediction-l+1):\n",
    "        try:\n",
    "            model = ARMA(tsValuesLog_d_1[i:i+startPrediction],order=(p,q))\n",
    "            result = model.fit()\n",
    "            pred.append(sum(result.predict(start=startPrediction,end=startPrediction+l-1))+tsValuesLog[i+startPrediction-1])\n",
    "        except ValueError:\n",
    "            pred.append(tsValuesLog[i+startPrediction-1])\n",
    "    mae_.append(mean_absolute_error(pred[startPrediction+l-1:],tsValuesLog[startPrediction+l-1:]))\n",
    "    rmse_.append(root_mean_square_error(pred[startPrediction+l-1:],tsValuesLog[startPrediction+l-1:])) \n",
    "PredictionOutputMAE['AR_Diff_'+str(p)+'_'+str(q)] = mae_\n",
    "PredictionOutputRMSE['AR_Diff_'+str(p)+'_'+str(q)] = rmse_"
   ]
  },
  {
   "cell_type": "code",
   "execution_count": 8,
   "metadata": {},
   "outputs": [
    {
     "name": "stderr",
     "output_type": "stream",
     "text": [
      "C:\\Users\\v-weiyzh\\AppData\\Roaming\\Python\\Python36\\site-packages\\scipy\\signal\\signaltools.py:1341: FutureWarning: Using a non-tuple sequence for multidimensional indexing is deprecated; use `arr[tuple(seq)]` instead of `arr[seq]`. In the future this will be interpreted as an array index, `arr[np.array(seq)]`, which will result either in an error or a different result.\n",
      "  out_full[ind] += zi\n",
      "C:\\Users\\v-weiyzh\\AppData\\Roaming\\Python\\Python36\\site-packages\\scipy\\signal\\signaltools.py:1344: FutureWarning: Using a non-tuple sequence for multidimensional indexing is deprecated; use `arr[tuple(seq)]` instead of `arr[seq]`. In the future this will be interpreted as an array index, `arr[np.array(seq)]`, which will result either in an error or a different result.\n",
      "  out = out_full[ind]\n",
      "C:\\Users\\v-weiyzh\\AppData\\Roaming\\Python\\Python36\\site-packages\\scipy\\signal\\signaltools.py:1350: FutureWarning: Using a non-tuple sequence for multidimensional indexing is deprecated; use `arr[tuple(seq)]` instead of `arr[seq]`. In the future this will be interpreted as an array index, `arr[np.array(seq)]`, which will result either in an error or a different result.\n",
      "  zf = out_full[ind]\n"
     ]
    }
   ],
   "source": [
    "from statsmodels.tsa.arima_model import ARMA\n",
    "mae_ = []\n",
    "rmse_ = []\n",
    "test_queue = [[1,1],[0,1],[1,0]]\n",
    "for l in [1,3,6,12]:\n",
    "    pred = [0]*(startPrediction+l-1)\n",
    "    for i in range(totalData-startPrediction-l+1):\n",
    "        single_pred = []\n",
    "        for [p,q] in test_queue:\n",
    "            try:\n",
    "                model = ARMA(tsValuesLog_d_1[i:i+startPrediction],order=(p,q))\n",
    "                result = model.fit()\n",
    "                single_pred.append(sum(result.predict(start=startPrediction,end=startPrediction+l-1))+tsValuesLog[i+startPrediction-1])\n",
    "            except ValueError:\n",
    "                single_pred.append(tsValuesLog[i+startPrediction-1])\n",
    "        pred.append(np.mean(single_pred))\n",
    "    mae_.append(mean_absolute_error(pred[startPrediction+l-1:],tsValuesLog[startPrediction+l-1:]))\n",
    "    rmse_.append(root_mean_square_error(pred[startPrediction+l-1:],tsValuesLog[startPrediction+l-1:])) \n",
    "PredictionOutputMAE['AR_Diff_Mean'] = mae_\n",
    "PredictionOutputRMSE['AR_Diff_Mean'] = rmse_"
   ]
  },
  {
   "cell_type": "code",
   "execution_count": 9,
   "metadata": {},
   "outputs": [
    {
     "data": {
      "text/html": [
       "<div>\n",
       "<style scoped>\n",
       "    .dataframe tbody tr th:only-of-type {\n",
       "        vertical-align: middle;\n",
       "    }\n",
       "\n",
       "    .dataframe tbody tr th {\n",
       "        vertical-align: top;\n",
       "    }\n",
       "\n",
       "    .dataframe thead th {\n",
       "        text-align: right;\n",
       "    }\n",
       "</style>\n",
       "<table border=\"1\" class=\"dataframe\">\n",
       "  <thead>\n",
       "    <tr style=\"text-align: right;\">\n",
       "      <th></th>\n",
       "      <th>AR_Diff_1_1</th>\n",
       "      <th>AR_Diff_Mean</th>\n",
       "    </tr>\n",
       "  </thead>\n",
       "  <tbody>\n",
       "    <tr>\n",
       "      <th>monthly</th>\n",
       "      <td>0.020179</td>\n",
       "      <td>0.020275</td>\n",
       "    </tr>\n",
       "    <tr>\n",
       "      <th>3_month</th>\n",
       "      <td>0.043734</td>\n",
       "      <td>0.043806</td>\n",
       "    </tr>\n",
       "    <tr>\n",
       "      <th>6_month</th>\n",
       "      <td>0.066201</td>\n",
       "      <td>0.066084</td>\n",
       "    </tr>\n",
       "    <tr>\n",
       "      <th>12_month</th>\n",
       "      <td>0.107126</td>\n",
       "      <td>0.106882</td>\n",
       "    </tr>\n",
       "  </tbody>\n",
       "</table>\n",
       "</div>"
      ],
      "text/plain": [
       "          AR_Diff_1_1  AR_Diff_Mean\n",
       "monthly      0.020179      0.020275\n",
       "3_month      0.043734      0.043806\n",
       "6_month      0.066201      0.066084\n",
       "12_month     0.107126      0.106882"
      ]
     },
     "execution_count": 9,
     "metadata": {},
     "output_type": "execute_result"
    }
   ],
   "source": [
    "PredictionOutputRMSE"
   ]
  },
  {
   "cell_type": "code",
   "execution_count": 7,
   "metadata": {},
   "outputs": [],
   "source": [
    "#benchmark\n",
    "mae_ = []\n",
    "rmse_ = []\n",
    "for l in [1,3,6,12]:\n",
    "    pred = [0]*(startPrediction+l-1)\n",
    "    for i in range(totalData-startPrediction-l+1):\n",
    "        pred.append(tsValuesLog[startPrediction-1+i])\n",
    "    mae_.append(mean_absolute_error(pred[startPrediction+l-1:],tsValuesLog[startPrediction+l-1:]))\n",
    "    rmse_.append(root_mean_square_error(pred[startPrediction+l-1:],tsValuesLog[startPrediction+l-1:]))\n",
    "PredictionOutputMAE['RandomWalk'] = mae_\n",
    "PredictionOutputRMSE['RandomWalk'] = rmse_"
   ]
  },
  {
   "cell_type": "code",
   "execution_count": 8,
   "metadata": {},
   "outputs": [
    {
     "data": {
      "text/html": [
       "<div>\n",
       "<table border=\"1\" class=\"dataframe\">\n",
       "  <thead>\n",
       "    <tr style=\"text-align: right;\">\n",
       "      <th></th>\n",
       "      <th>RandomWalk</th>\n",
       "    </tr>\n",
       "  </thead>\n",
       "  <tbody>\n",
       "    <tr>\n",
       "      <th>monthly</th>\n",
       "      <td>0.017478</td>\n",
       "    </tr>\n",
       "    <tr>\n",
       "      <th>3_month</th>\n",
       "      <td>0.034895</td>\n",
       "    </tr>\n",
       "    <tr>\n",
       "      <th>6_month</th>\n",
       "      <td>0.049859</td>\n",
       "    </tr>\n",
       "    <tr>\n",
       "      <th>12_month</th>\n",
       "      <td>0.083989</td>\n",
       "    </tr>\n",
       "  </tbody>\n",
       "</table>\n",
       "</div>"
      ],
      "text/plain": [
       "          RandomWalk\n",
       "monthly     0.017478\n",
       "3_month     0.034895\n",
       "6_month     0.049859\n",
       "12_month    0.083989"
      ]
     },
     "execution_count": 8,
     "metadata": {},
     "output_type": "execute_result"
    }
   ],
   "source": [
    "PredictionOutputMAE"
   ]
  },
  {
   "cell_type": "code",
   "execution_count": 9,
   "metadata": {},
   "outputs": [],
   "source": [
    "#test performance random walk with drift\n",
    "mae_ = []\n",
    "rmse_ = []\n",
    "for l in [1,3,6,12]:\n",
    "    pred = [0]*(startPrediction+l-1)\n",
    "    for i in range(totalData-startPrediction-l+1):\n",
    "        monthly_change = [tsValuesLog[j]-tsValuesLog[j-l] for j in range(i+l,i+startPrediction)]\n",
    "        mean_monthly_change = np.mean(monthly_change)\n",
    "        pred.append(tsValuesLog[startPrediction+i-1]+mean_monthly_change)\n",
    "    mae_.append(mean_absolute_error(pred[startPrediction+l-1:],tsValuesLog[startPrediction+l-1:]))\n",
    "    rmse_.append(root_mean_square_error(pred[startPrediction+l-1:],tsValuesLog[startPrediction+l-1:])) \n",
    "PredictionOutputMAE['RandomWalkWithDrift'] = mae_\n",
    "PredictionOutputRMSE['RandomWalkWithDrift'] = rmse_"
   ]
  },
  {
   "cell_type": "code",
   "execution_count": 10,
   "metadata": {},
   "outputs": [
    {
     "data": {
      "text/html": [
       "<div>\n",
       "<table border=\"1\" class=\"dataframe\">\n",
       "  <thead>\n",
       "    <tr style=\"text-align: right;\">\n",
       "      <th></th>\n",
       "      <th>RandomWalk</th>\n",
       "      <th>RandomWalkWithDrift</th>\n",
       "    </tr>\n",
       "  </thead>\n",
       "  <tbody>\n",
       "    <tr>\n",
       "      <th>monthly</th>\n",
       "      <td>0.017478</td>\n",
       "      <td>0.017702</td>\n",
       "    </tr>\n",
       "    <tr>\n",
       "      <th>3_month</th>\n",
       "      <td>0.034895</td>\n",
       "      <td>0.036400</td>\n",
       "    </tr>\n",
       "    <tr>\n",
       "      <th>6_month</th>\n",
       "      <td>0.049859</td>\n",
       "      <td>0.055378</td>\n",
       "    </tr>\n",
       "    <tr>\n",
       "      <th>12_month</th>\n",
       "      <td>0.083989</td>\n",
       "      <td>0.096389</td>\n",
       "    </tr>\n",
       "  </tbody>\n",
       "</table>\n",
       "</div>"
      ],
      "text/plain": [
       "          RandomWalk  RandomWalkWithDrift\n",
       "monthly     0.017478             0.017702\n",
       "3_month     0.034895             0.036400\n",
       "6_month     0.049859             0.055378\n",
       "12_month    0.083989             0.096389"
      ]
     },
     "execution_count": 10,
     "metadata": {},
     "output_type": "execute_result"
    }
   ],
   "source": [
    "PredictionOutputMAE"
   ]
  },
  {
   "cell_type": "code",
   "execution_count": 11,
   "metadata": {},
   "outputs": [
    {
     "name": "stdout",
     "output_type": "stream",
     "text": [
      "Wall time: 20.2 s\n"
     ]
    }
   ],
   "source": [
    "%%time\n",
    "from statsmodels.tsa.arima_model import ARMA\n",
    "#out-of-sample-test\n",
    "mae_ = []\n",
    "rmse_ = []\n",
    "p=1\n",
    "q=1\n",
    "for l in [1,3,6,12]:\n",
    "    pred = [0]*(startPrediction+l-1)\n",
    "    for i in range(totalData-startPrediction-l+1):\n",
    "        try:\n",
    "            model = ARMA(tsValuesLog[i:i+startPrediction],order=(p,q))\n",
    "            result = model.fit()\n",
    "            pred.append(result.predict(start=startPrediction,end=startPrediction+l-1)[l-1])\n",
    "        except ValueError:\n",
    "            pred.append(tsValuesLog[startPrediction+i-1])\n",
    "    mae_.append(mean_absolute_error(pred[startPrediction+l-1:],tsValuesLog[startPrediction+l-1:]))\n",
    "    rmse_.append(root_mean_square_error(pred[startPrediction+l-1:],tsValuesLog[startPrediction+l-1:])) \n",
    "PredictionOutputMAE['AR_'+str(p)+'_'+str(q)] = mae_\n",
    "PredictionOutputRMSE['AR_'+str(p)+'_'+str(q)] = rmse_"
   ]
  },
  {
   "cell_type": "code",
   "execution_count": 12,
   "metadata": {},
   "outputs": [
    {
     "name": "stdout",
     "output_type": "stream",
     "text": [
      "Wall time: 15.5 s\n"
     ]
    }
   ],
   "source": [
    "%%time\n",
    "mae_ = []\n",
    "rmse_ = []\n",
    "p=2\n",
    "q=0\n",
    "for l in [1,3,6,12]:\n",
    "    pred = [0]*(startPrediction+l-1)\n",
    "    for i in range(totalData-startPrediction-l+1):\n",
    "        try:\n",
    "            model = ARMA(tsValuesLog[i:i+startPrediction],order=(p,q))\n",
    "            result = model.fit()\n",
    "            pred.append(result.predict(start=startPrediction,end=startPrediction+l-1)[l-1])\n",
    "        except ValueError:\n",
    "            pred.append(tsValuesLog[startPrediction+i-1])\n",
    "    mae_.append(mean_absolute_error(pred[startPrediction+l-1:],tsValuesLog[startPrediction+l-1:]))\n",
    "    rmse_.append(root_mean_square_error(pred[startPrediction+l-1:],tsValuesLog[startPrediction+l-1:])) \n",
    "PredictionOutputMAE['AR_'+str(p)+'_'+str(q)] = mae_\n",
    "PredictionOutputRMSE['AR_'+str(p)+'_'+str(q)] = rmse_"
   ]
  },
  {
   "cell_type": "code",
   "execution_count": 13,
   "metadata": {},
   "outputs": [
    {
     "data": {
      "text/html": [
       "<div>\n",
       "<table border=\"1\" class=\"dataframe\">\n",
       "  <thead>\n",
       "    <tr style=\"text-align: right;\">\n",
       "      <th></th>\n",
       "      <th>RandomWalk</th>\n",
       "      <th>RandomWalkWithDrift</th>\n",
       "      <th>AR_1_1</th>\n",
       "      <th>AR_2_0</th>\n",
       "    </tr>\n",
       "  </thead>\n",
       "  <tbody>\n",
       "    <tr>\n",
       "      <th>monthly</th>\n",
       "      <td>0.017478</td>\n",
       "      <td>0.017702</td>\n",
       "      <td>0.016133</td>\n",
       "      <td>0.016702</td>\n",
       "    </tr>\n",
       "    <tr>\n",
       "      <th>3_month</th>\n",
       "      <td>0.034895</td>\n",
       "      <td>0.036400</td>\n",
       "      <td>0.035403</td>\n",
       "      <td>0.038150</td>\n",
       "    </tr>\n",
       "    <tr>\n",
       "      <th>6_month</th>\n",
       "      <td>0.049859</td>\n",
       "      <td>0.055378</td>\n",
       "      <td>0.053430</td>\n",
       "      <td>0.059155</td>\n",
       "    </tr>\n",
       "    <tr>\n",
       "      <th>12_month</th>\n",
       "      <td>0.083989</td>\n",
       "      <td>0.096389</td>\n",
       "      <td>0.074341</td>\n",
       "      <td>0.080379</td>\n",
       "    </tr>\n",
       "  </tbody>\n",
       "</table>\n",
       "</div>"
      ],
      "text/plain": [
       "          RandomWalk  RandomWalkWithDrift    AR_1_1    AR_2_0\n",
       "monthly     0.017478             0.017702  0.016133  0.016702\n",
       "3_month     0.034895             0.036400  0.035403  0.038150\n",
       "6_month     0.049859             0.055378  0.053430  0.059155\n",
       "12_month    0.083989             0.096389  0.074341  0.080379"
      ]
     },
     "execution_count": 13,
     "metadata": {},
     "output_type": "execute_result"
    }
   ],
   "source": [
    "PredictionOutputMAE"
   ]
  },
  {
   "cell_type": "code",
   "execution_count": 5,
   "metadata": {},
   "outputs": [],
   "source": [
    "tsValuesLog_d_1 = [0]\n",
    "tsValuesLog_d_1 += [tsValuesLog[i+1]-tsValuesLog[i] for i in range(totalData-1)]"
   ]
  },
  {
   "cell_type": "code",
   "execution_count": 15,
   "metadata": {},
   "outputs": [],
   "source": [
    "mae_ = []\n",
    "rmse_ = []\n",
    "p=1\n",
    "q=0\n",
    "for l in [1,3,6,12]:\n",
    "    pred = [0]*(startPrediction+l-1)\n",
    "    for i in range(totalData-startPrediction-l+1):\n",
    "        model = ARMA(tsValuesLog_d_1[i:i+startPrediction],order=(p,q))\n",
    "        result = model.fit()\n",
    "        pred.append(sum(result.predict(start=startPrediction,end=startPrediction+l-1))+tsValuesLog[i+startPrediction-1])\n",
    "    mae_.append(mean_absolute_error(pred[startPrediction+l-1:],tsValuesLog[startPrediction+l-1:]))\n",
    "    rmse_.append(root_mean_square_error(pred[startPrediction+l-1:],tsValuesLog[startPrediction+l-1:])) \n",
    "PredictionOutputMAE['AR_Diff_'+str(p)+'_'+str(q)] = mae_\n",
    "PredictionOutputRMSE['AR_Diff_'+str(p)+'_'+str(q)] = rmse_"
   ]
  },
  {
   "cell_type": "code",
   "execution_count": 16,
   "metadata": {},
   "outputs": [
    {
     "name": "stdout",
     "output_type": "stream",
     "text": [
      "Wall time: 11.4 s\n"
     ]
    }
   ],
   "source": [
    "%%time\n",
    "mae_ = []\n",
    "rmse_ = []\n",
    "p=0\n",
    "q=1\n",
    "for l in [1,3,6,12]:\n",
    "    pred = [0]*(startPrediction+l-1)\n",
    "    for i in range(totalData-startPrediction-l+1):\n",
    "        model = ARMA(tsValuesLog_d_1[i:i+startPrediction],order=(p,q))\n",
    "        result = model.fit()\n",
    "        pred.append(sum(result.predict(start=startPrediction,end=startPrediction+l-1))+tsValuesLog[i+startPrediction-1])\n",
    "    mae_.append(mean_absolute_error(pred[startPrediction+l-1:],tsValuesLog[startPrediction+l-1:]))\n",
    "    rmse_.append(root_mean_square_error(pred[startPrediction+l-1:],tsValuesLog[startPrediction+l-1:])) \n",
    "PredictionOutputMAE['AR_Diff_'+str(p)+'_'+str(q)] = mae_\n",
    "PredictionOutputRMSE['AR_Diff_'+str(p)+'_'+str(q)] = rmse_"
   ]
  },
  {
   "cell_type": "code",
   "execution_count": 25,
   "metadata": {
    "collapsed": true
   },
   "outputs": [],
   "source": [
    "#Unobserved model\n",
    "import statsmodels.api as sm\n",
    "\n",
    "class UnobservedComponentModel:\n",
    "    def __init__(self):\n",
    "        self.model_name = \"UnobservedComponentModel\"\n",
    "        return\n",
    "\n",
    "    def fit(self, ts):\n",
    "        unrestricted_model = {\n",
    "            'level': 'local linear trend', 'cycle': False , 'seasonal': 12\n",
    "        }\n",
    "\n",
    "        model = sm.tsa.UnobservedComponents(endog=ts, **unrestricted_model)\n",
    "        self.trained_model = model.fit()\n",
    "        return self\n",
    "\n",
    "    def predict(self, next_n_prediction):\n",
    "        prediction = self.trained_model.forecast(steps=next_n_prediction)\n",
    "        return prediction"
   ]
  },
  {
   "cell_type": "code",
   "execution_count": 26,
   "metadata": {
    "scrolled": true
   },
   "outputs": [
    {
     "name": "stderr",
     "output_type": "stream",
     "text": [
      "C:\\Users\\Hallo\\Anaconda3\\lib\\site-packages\\statsmodels\\base\\model.py:496: ConvergenceWarning: Maximum Likelihood optimization failed to converge. Check mle_retvals\n",
      "  \"Check mle_retvals\", ConvergenceWarning)\n",
      "C:\\Users\\Hallo\\Anaconda3\\lib\\site-packages\\statsmodels\\base\\model.py:496: ConvergenceWarning: Maximum Likelihood optimization failed to converge. Check mle_retvals\n",
      "  \"Check mle_retvals\", ConvergenceWarning)\n",
      "C:\\Users\\Hallo\\Anaconda3\\lib\\site-packages\\statsmodels\\base\\model.py:496: ConvergenceWarning: Maximum Likelihood optimization failed to converge. Check mle_retvals\n",
      "  \"Check mle_retvals\", ConvergenceWarning)\n",
      "C:\\Users\\Hallo\\Anaconda3\\lib\\site-packages\\statsmodels\\base\\model.py:496: ConvergenceWarning: Maximum Likelihood optimization failed to converge. Check mle_retvals\n",
      "  \"Check mle_retvals\", ConvergenceWarning)\n",
      "C:\\Users\\Hallo\\Anaconda3\\lib\\site-packages\\statsmodels\\base\\model.py:496: ConvergenceWarning: Maximum Likelihood optimization failed to converge. Check mle_retvals\n",
      "  \"Check mle_retvals\", ConvergenceWarning)\n",
      "C:\\Users\\Hallo\\Anaconda3\\lib\\site-packages\\statsmodels\\base\\model.py:496: ConvergenceWarning: Maximum Likelihood optimization failed to converge. Check mle_retvals\n",
      "  \"Check mle_retvals\", ConvergenceWarning)\n",
      "C:\\Users\\Hallo\\Anaconda3\\lib\\site-packages\\statsmodels\\base\\model.py:496: ConvergenceWarning: Maximum Likelihood optimization failed to converge. Check mle_retvals\n",
      "  \"Check mle_retvals\", ConvergenceWarning)\n",
      "C:\\Users\\Hallo\\Anaconda3\\lib\\site-packages\\statsmodels\\base\\model.py:496: ConvergenceWarning: Maximum Likelihood optimization failed to converge. Check mle_retvals\n",
      "  \"Check mle_retvals\", ConvergenceWarning)\n",
      "C:\\Users\\Hallo\\Anaconda3\\lib\\site-packages\\statsmodels\\base\\model.py:496: ConvergenceWarning: Maximum Likelihood optimization failed to converge. Check mle_retvals\n",
      "  \"Check mle_retvals\", ConvergenceWarning)\n",
      "C:\\Users\\Hallo\\Anaconda3\\lib\\site-packages\\statsmodels\\base\\model.py:496: ConvergenceWarning: Maximum Likelihood optimization failed to converge. Check mle_retvals\n",
      "  \"Check mle_retvals\", ConvergenceWarning)\n",
      "C:\\Users\\Hallo\\Anaconda3\\lib\\site-packages\\statsmodels\\base\\model.py:496: ConvergenceWarning: Maximum Likelihood optimization failed to converge. Check mle_retvals\n",
      "  \"Check mle_retvals\", ConvergenceWarning)\n",
      "C:\\Users\\Hallo\\Anaconda3\\lib\\site-packages\\statsmodels\\base\\model.py:496: ConvergenceWarning: Maximum Likelihood optimization failed to converge. Check mle_retvals\n",
      "  \"Check mle_retvals\", ConvergenceWarning)\n",
      "C:\\Users\\Hallo\\Anaconda3\\lib\\site-packages\\statsmodels\\base\\model.py:496: ConvergenceWarning: Maximum Likelihood optimization failed to converge. Check mle_retvals\n",
      "  \"Check mle_retvals\", ConvergenceWarning)\n",
      "C:\\Users\\Hallo\\Anaconda3\\lib\\site-packages\\statsmodels\\base\\model.py:496: ConvergenceWarning: Maximum Likelihood optimization failed to converge. Check mle_retvals\n",
      "  \"Check mle_retvals\", ConvergenceWarning)\n",
      "C:\\Users\\Hallo\\Anaconda3\\lib\\site-packages\\statsmodels\\base\\model.py:496: ConvergenceWarning: Maximum Likelihood optimization failed to converge. Check mle_retvals\n",
      "  \"Check mle_retvals\", ConvergenceWarning)\n",
      "C:\\Users\\Hallo\\Anaconda3\\lib\\site-packages\\statsmodels\\base\\model.py:496: ConvergenceWarning: Maximum Likelihood optimization failed to converge. Check mle_retvals\n",
      "  \"Check mle_retvals\", ConvergenceWarning)\n",
      "C:\\Users\\Hallo\\Anaconda3\\lib\\site-packages\\statsmodels\\base\\model.py:496: ConvergenceWarning: Maximum Likelihood optimization failed to converge. Check mle_retvals\n",
      "  \"Check mle_retvals\", ConvergenceWarning)\n",
      "C:\\Users\\Hallo\\Anaconda3\\lib\\site-packages\\statsmodels\\base\\model.py:496: ConvergenceWarning: Maximum Likelihood optimization failed to converge. Check mle_retvals\n",
      "  \"Check mle_retvals\", ConvergenceWarning)\n",
      "C:\\Users\\Hallo\\Anaconda3\\lib\\site-packages\\statsmodels\\base\\model.py:496: ConvergenceWarning: Maximum Likelihood optimization failed to converge. Check mle_retvals\n",
      "  \"Check mle_retvals\", ConvergenceWarning)\n",
      "C:\\Users\\Hallo\\Anaconda3\\lib\\site-packages\\statsmodels\\base\\model.py:496: ConvergenceWarning: Maximum Likelihood optimization failed to converge. Check mle_retvals\n",
      "  \"Check mle_retvals\", ConvergenceWarning)\n",
      "C:\\Users\\Hallo\\Anaconda3\\lib\\site-packages\\statsmodels\\base\\model.py:496: ConvergenceWarning: Maximum Likelihood optimization failed to converge. Check mle_retvals\n",
      "  \"Check mle_retvals\", ConvergenceWarning)\n",
      "C:\\Users\\Hallo\\Anaconda3\\lib\\site-packages\\statsmodels\\base\\model.py:496: ConvergenceWarning: Maximum Likelihood optimization failed to converge. Check mle_retvals\n",
      "  \"Check mle_retvals\", ConvergenceWarning)\n",
      "C:\\Users\\Hallo\\Anaconda3\\lib\\site-packages\\statsmodels\\base\\model.py:496: ConvergenceWarning: Maximum Likelihood optimization failed to converge. Check mle_retvals\n",
      "  \"Check mle_retvals\", ConvergenceWarning)\n",
      "C:\\Users\\Hallo\\Anaconda3\\lib\\site-packages\\statsmodels\\base\\model.py:496: ConvergenceWarning: Maximum Likelihood optimization failed to converge. Check mle_retvals\n",
      "  \"Check mle_retvals\", ConvergenceWarning)\n",
      "C:\\Users\\Hallo\\Anaconda3\\lib\\site-packages\\statsmodels\\base\\model.py:496: ConvergenceWarning: Maximum Likelihood optimization failed to converge. Check mle_retvals\n",
      "  \"Check mle_retvals\", ConvergenceWarning)\n",
      "C:\\Users\\Hallo\\Anaconda3\\lib\\site-packages\\statsmodels\\base\\model.py:496: ConvergenceWarning: Maximum Likelihood optimization failed to converge. Check mle_retvals\n",
      "  \"Check mle_retvals\", ConvergenceWarning)\n",
      "C:\\Users\\Hallo\\Anaconda3\\lib\\site-packages\\statsmodels\\base\\model.py:496: ConvergenceWarning: Maximum Likelihood optimization failed to converge. Check mle_retvals\n",
      "  \"Check mle_retvals\", ConvergenceWarning)\n",
      "C:\\Users\\Hallo\\Anaconda3\\lib\\site-packages\\statsmodels\\base\\model.py:496: ConvergenceWarning: Maximum Likelihood optimization failed to converge. Check mle_retvals\n",
      "  \"Check mle_retvals\", ConvergenceWarning)\n",
      "C:\\Users\\Hallo\\Anaconda3\\lib\\site-packages\\statsmodels\\base\\model.py:496: ConvergenceWarning: Maximum Likelihood optimization failed to converge. Check mle_retvals\n",
      "  \"Check mle_retvals\", ConvergenceWarning)\n",
      "C:\\Users\\Hallo\\Anaconda3\\lib\\site-packages\\statsmodels\\base\\model.py:496: ConvergenceWarning: Maximum Likelihood optimization failed to converge. Check mle_retvals\n",
      "  \"Check mle_retvals\", ConvergenceWarning)\n"
     ]
    },
    {
     "name": "stdout",
     "output_type": "stream",
     "text": [
      "Wall time: 1min 30s\n"
     ]
    }
   ],
   "source": [
    "%%time\n",
    "mae_ = []\n",
    "rmse_ = []\n",
    "for l in [1,3,6,12]:\n",
    "    pred = [0]*(startPrediction+l-1)\n",
    "    for i in range(totalData-startPrediction-(l-1)):\n",
    "        model = UnobservedComponentModel()\n",
    "        model.fit(tsValuesLog[i:i+startPrediction])\n",
    "        pred.append(model.predict(l)[l-1])\n",
    "    mae_.append(mean_absolute_error(pred[startPrediction+l-1:],tsValuesLog[startPrediction+l-1:]))\n",
    "    rmse_.append(root_mean_square_error(pred[startPrediction+l-1:],tsValuesLog[startPrediction+l-1:]))"
   ]
  },
  {
   "cell_type": "code",
   "execution_count": 23,
   "metadata": {
    "collapsed": true
   },
   "outputs": [],
   "source": [
    "PredictionOutputMAE[\"UnobservedComponentModel\"] = mae_\n",
    "PredictionOutputRMSE[\"UnobservedComponentModel\"] = rmse_"
   ]
  },
  {
   "cell_type": "code",
   "execution_count": 27,
   "metadata": {
    "collapsed": true
   },
   "outputs": [],
   "source": [
    "PredictionOutputMAE[\"UnobservedComponentModel_With_Season\"] = mae_\n",
    "PredictionOutputRMSE[\"UnobservedComponentModel_With_Season\"] = rmse_"
   ]
  },
  {
   "cell_type": "code",
   "execution_count": 28,
   "metadata": {},
   "outputs": [
    {
     "data": {
      "text/html": [
       "<div>\n",
       "<table border=\"1\" class=\"dataframe\">\n",
       "  <thead>\n",
       "    <tr style=\"text-align: right;\">\n",
       "      <th></th>\n",
       "      <th>RandomWalk</th>\n",
       "      <th>RandomWalkWithDrift</th>\n",
       "      <th>AR_1_1</th>\n",
       "      <th>AR_2_0</th>\n",
       "      <th>AR_Diff_1_0</th>\n",
       "      <th>AR_Diff_0_1</th>\n",
       "      <th>UnobservedComponentModel</th>\n",
       "      <th>UnobservedComponentModel_With_Season</th>\n",
       "    </tr>\n",
       "  </thead>\n",
       "  <tbody>\n",
       "    <tr>\n",
       "      <th>monthly</th>\n",
       "      <td>0.017478</td>\n",
       "      <td>0.017702</td>\n",
       "      <td>0.016133</td>\n",
       "      <td>0.016702</td>\n",
       "      <td>0.017047</td>\n",
       "      <td>0.016351</td>\n",
       "      <td>0.017704</td>\n",
       "      <td>0.017781</td>\n",
       "    </tr>\n",
       "    <tr>\n",
       "      <th>3_month</th>\n",
       "      <td>0.034895</td>\n",
       "      <td>0.036400</td>\n",
       "      <td>0.035403</td>\n",
       "      <td>0.038150</td>\n",
       "      <td>0.037099</td>\n",
       "      <td>0.035971</td>\n",
       "      <td>0.038160</td>\n",
       "      <td>0.033980</td>\n",
       "    </tr>\n",
       "    <tr>\n",
       "      <th>6_month</th>\n",
       "      <td>0.049859</td>\n",
       "      <td>0.055378</td>\n",
       "      <td>0.053430</td>\n",
       "      <td>0.059155</td>\n",
       "      <td>0.053068</td>\n",
       "      <td>0.052811</td>\n",
       "      <td>0.057252</td>\n",
       "      <td>0.057595</td>\n",
       "    </tr>\n",
       "    <tr>\n",
       "      <th>12_month</th>\n",
       "      <td>0.083989</td>\n",
       "      <td>0.096389</td>\n",
       "      <td>0.074341</td>\n",
       "      <td>0.080379</td>\n",
       "      <td>0.092079</td>\n",
       "      <td>0.091961</td>\n",
       "      <td>0.107377</td>\n",
       "      <td>0.107884</td>\n",
       "    </tr>\n",
       "  </tbody>\n",
       "</table>\n",
       "</div>"
      ],
      "text/plain": [
       "          RandomWalk  RandomWalkWithDrift    AR_1_1    AR_2_0  AR_Diff_1_0  \\\n",
       "monthly     0.017478             0.017702  0.016133  0.016702     0.017047   \n",
       "3_month     0.034895             0.036400  0.035403  0.038150     0.037099   \n",
       "6_month     0.049859             0.055378  0.053430  0.059155     0.053068   \n",
       "12_month    0.083989             0.096389  0.074341  0.080379     0.092079   \n",
       "\n",
       "          AR_Diff_0_1  UnobservedComponentModel  \\\n",
       "monthly      0.016351                  0.017704   \n",
       "3_month      0.035971                  0.038160   \n",
       "6_month      0.052811                  0.057252   \n",
       "12_month     0.091961                  0.107377   \n",
       "\n",
       "          UnobservedComponentModel_With_Season  \n",
       "monthly                               0.017781  \n",
       "3_month                               0.033980  \n",
       "6_month                               0.057595  \n",
       "12_month                              0.107884  "
      ]
     },
     "execution_count": 28,
     "metadata": {},
     "output_type": "execute_result"
    }
   ],
   "source": [
    "PredictionOutputMAE"
   ]
  },
  {
   "cell_type": "code",
   "execution_count": 29,
   "metadata": {},
   "outputs": [
    {
     "data": {
      "text/html": [
       "<div>\n",
       "<table border=\"1\" class=\"dataframe\">\n",
       "  <thead>\n",
       "    <tr style=\"text-align: right;\">\n",
       "      <th></th>\n",
       "      <th>RandomWalk</th>\n",
       "      <th>RandomWalkWithDrift</th>\n",
       "      <th>AR_1_1</th>\n",
       "      <th>AR_2_0</th>\n",
       "      <th>AR_Diff_1_0</th>\n",
       "      <th>AR_Diff_0_1</th>\n",
       "      <th>UnobservedComponentModel</th>\n",
       "      <th>UnobservedComponentModel_With_Season</th>\n",
       "    </tr>\n",
       "  </thead>\n",
       "  <tbody>\n",
       "    <tr>\n",
       "      <th>monthly</th>\n",
       "      <td>0.021060</td>\n",
       "      <td>0.021374</td>\n",
       "      <td>0.020067</td>\n",
       "      <td>0.020974</td>\n",
       "      <td>0.020787</td>\n",
       "      <td>0.020112</td>\n",
       "      <td>0.021403</td>\n",
       "      <td>0.021345</td>\n",
       "    </tr>\n",
       "    <tr>\n",
       "      <th>3_month</th>\n",
       "      <td>0.042205</td>\n",
       "      <td>0.043806</td>\n",
       "      <td>0.043698</td>\n",
       "      <td>0.046264</td>\n",
       "      <td>0.044232</td>\n",
       "      <td>0.043660</td>\n",
       "      <td>0.045260</td>\n",
       "      <td>0.041430</td>\n",
       "    </tr>\n",
       "    <tr>\n",
       "      <th>6_month</th>\n",
       "      <td>0.062737</td>\n",
       "      <td>0.067512</td>\n",
       "      <td>0.063129</td>\n",
       "      <td>0.068491</td>\n",
       "      <td>0.066349</td>\n",
       "      <td>0.065876</td>\n",
       "      <td>0.069860</td>\n",
       "      <td>0.065950</td>\n",
       "    </tr>\n",
       "    <tr>\n",
       "      <th>12_month</th>\n",
       "      <td>0.096899</td>\n",
       "      <td>0.111920</td>\n",
       "      <td>0.087163</td>\n",
       "      <td>0.091769</td>\n",
       "      <td>0.106933</td>\n",
       "      <td>0.106712</td>\n",
       "      <td>0.119083</td>\n",
       "      <td>0.118693</td>\n",
       "    </tr>\n",
       "  </tbody>\n",
       "</table>\n",
       "</div>"
      ],
      "text/plain": [
       "          RandomWalk  RandomWalkWithDrift    AR_1_1    AR_2_0  AR_Diff_1_0  \\\n",
       "monthly     0.021060             0.021374  0.020067  0.020974     0.020787   \n",
       "3_month     0.042205             0.043806  0.043698  0.046264     0.044232   \n",
       "6_month     0.062737             0.067512  0.063129  0.068491     0.066349   \n",
       "12_month    0.096899             0.111920  0.087163  0.091769     0.106933   \n",
       "\n",
       "          AR_Diff_0_1  UnobservedComponentModel  \\\n",
       "monthly      0.020112                  0.021403   \n",
       "3_month      0.043660                  0.045260   \n",
       "6_month      0.065876                  0.069860   \n",
       "12_month     0.106712                  0.119083   \n",
       "\n",
       "          UnobservedComponentModel_With_Season  \n",
       "monthly                               0.021345  \n",
       "3_month                               0.041430  \n",
       "6_month                               0.065950  \n",
       "12_month                              0.118693  "
      ]
     },
     "execution_count": 29,
     "metadata": {},
     "output_type": "execute_result"
    }
   ],
   "source": [
    "PredictionOutputRMSE"
   ]
  },
  {
   "cell_type": "code",
   "execution_count": 30,
   "metadata": {
    "collapsed": true
   },
   "outputs": [],
   "source": [
    "PredictionOutputMAE.to_csv(\"EXGEUS_MAE.csv\")"
   ]
  },
  {
   "cell_type": "code",
   "execution_count": 31,
   "metadata": {
    "collapsed": true
   },
   "outputs": [],
   "source": [
    "PredictionOutputRMSE.to_csv(\"EXGEUS_RMAE.csv\")"
   ]
  },
  {
   "cell_type": "code",
   "execution_count": null,
   "metadata": {
    "collapsed": true
   },
   "outputs": [],
   "source": []
  }
 ],
 "metadata": {
  "kernelspec": {
   "display_name": "Python 3",
   "language": "python",
   "name": "python3"
  },
  "language_info": {
   "codemirror_mode": {
    "name": "ipython",
    "version": 3
   },
   "file_extension": ".py",
   "mimetype": "text/x-python",
   "name": "python",
   "nbconvert_exporter": "python",
   "pygments_lexer": "ipython3",
   "version": "3.6.8"
  }
 },
 "nbformat": 4,
 "nbformat_minor": 2
}
