{
 "cells": [
  {
   "cell_type": "code",
   "execution_count": 135,
   "metadata": {
    "collapsed": true
   },
   "outputs": [],
   "source": [
    "tsValuesLog = c(1.920870690606585,\n",
    " 1.9211050301363422,\n",
    " 1.9207681497915887,\n",
    " 1.9206802492948942,\n",
    " 1.920958574365723,\n",
    " 1.9196248402259508,\n",
    " 1.9134164728527734,\n",
    " 1.9150532188959064,\n",
    " 1.9080005759820933,\n",
    " 1.8972899704375188,\n",
    " 1.895188120036055,\n",
    " 1.8945717408681957,\n",
    " 1.886524045672478,\n",
    " 1.8834418644509086,\n",
    " 1.881676343392028,\n",
    " 1.875901455673511,\n",
    " 1.8711404195269334,\n",
    " 1.867886829615606,\n",
    " 1.8652422459878584,\n",
    " 1.8568603322218022,\n",
    " 1.8544994990492407,\n",
    " 1.8517564431343512,\n",
    " 1.8494621793563442,\n",
    " 1.848171308153997,\n",
    " 1.8432760720137624,\n",
    " 1.840502013216045,\n",
    " 1.8425317946014783,\n",
    " 1.8412319402557527,\n",
    " 1.8443835444005956,\n",
    " 1.8505471107111433,\n",
    " 1.8518663099601735,\n",
    " 1.8499183084015844,\n",
    " 1.843719208158766,\n",
    " 1.8346114020287805,\n",
    " 1.8299860987002492,\n",
    " 1.8298256700345112,\n",
    " 1.8280110352335488,\n",
    " 1.8297454460491012,\n",
    " 1.8270300833099742,\n",
    " 1.8223048396672963,\n",
    " 1.8150852945315517,\n",
    " 1.8138796703121374,\n",
    " 1.8138959722235368,\n",
    " 1.8117744922673154,\n",
    " 1.8115294162516782,\n",
    " 1.8088132237938825,\n",
    " 1.8071241588552918,\n",
    " 1.803984438850624,\n",
    " 1.800207021309608,\n",
    " 1.8052678192528473,\n",
    " 1.8201687437017333,\n",
    " 1.8285091832580875,\n",
    " 1.8306596181856116,\n",
    " 1.8294726363482219,\n",
    " 1.8242911942305398,\n",
    " 1.817118526361587,\n",
    " 1.8145315395702524,\n",
    " 1.8123950828281266,\n",
    " 1.8123624297668992,\n",
    " 1.82270888987199,\n",
    " 1.8274643938488315,\n",
    " 1.832869422284271,\n",
    " 1.8307557982347376,\n",
    " 1.8247105693677408,\n",
    " 1.825113648900789,\n",
    " 1.825387650208039,\n",
    " 1.8259193208747597,\n",
    " 1.8466105936922368,\n",
    " 1.851222632498844,\n",
    " 1.848533549962237,\n",
    " 1.8506571104755405,\n",
    " 1.8639405861880625,\n",
    " 1.8829094924167662,\n",
    " 1.8794803167061909,\n",
    " 1.87221747526867,\n",
    " 1.8680103817393152,\n",
    " 1.8757788747316293,\n",
    " 1.8854319450906902,\n",
    " 1.8986837615495626,\n",
    " 1.8941054457250102,\n",
    " 1.8976498444854872,\n",
    " 1.906619719186164,\n",
    " 1.9228169709730674,\n",
    " 1.934386867477811,\n",
    " 1.9301726763816816,\n",
    " 1.9270767661756845,\n",
    " 1.9306514680946736,\n",
    " 1.9297226934298937,\n",
    " 1.9292434567140944,\n",
    " 1.9178927297011503,\n",
    " 1.912412456704175,\n",
    " 1.897169983635923,\n",
    " 1.8823616139103359,\n",
    " 1.890910747408137,\n",
    " 1.890095369948917,\n",
    " 1.886038814875064,\n",
    " 1.859932004331104,\n",
    " 1.8434501846334101,\n",
    " 1.8433077311086317,\n",
    " 1.840025686637543,\n",
    " 1.8516151680479775,\n",
    " 1.866418480008293,\n",
    " 1.9045522967031772,\n",
    " 1.9235622853914056,\n",
    " 1.9249929007999251,\n",
    " 1.9342857033678604,\n",
    " 1.9368261571079155,\n",
    " 1.929156298085335,\n",
    " 1.9149058740497624,\n",
    " 1.9075701907807003,\n",
    " 1.903882070365003,\n",
    " 1.9045076289198084,\n",
    " 1.922758491440887)"
   ]
  },
  {
   "cell_type": "code",
   "execution_count": 136,
   "metadata": {
    "collapsed": true
   },
   "outputs": [],
   "source": [
    "tsValuesLog_d_1 = c(0,\n",
    " 0.00023433952975704386,\n",
    " -0.00033688034475343187,\n",
    " -8.790049669449296e-05,\n",
    " 0.00027832507082869995,\n",
    " -0.0013337341397721136,\n",
    " -0.006208367373177426,\n",
    " 0.0016367460431330194,\n",
    " -0.007052642913813134,\n",
    " -0.01071060554457448,\n",
    " -0.002101850401463823,\n",
    " -0.0006163791678592823,\n",
    " -0.008047695195717797,\n",
    " -0.0030821812215693356,\n",
    " -0.0017655210588805037,\n",
    " -0.0057748877185170855,\n",
    " -0.004761036146577524,\n",
    " -0.0032535899113275146,\n",
    " -0.0026445836277475543,\n",
    " -0.008381913766056126,\n",
    " -0.0023608331725615272,\n",
    " -0.0027430559148895473,\n",
    " -0.0022942637780070108,\n",
    " -0.0012908712023471658,\n",
    " -0.004895236140234571,\n",
    " -0.002774058797717416,\n",
    " 0.0020297813854333047,\n",
    " -0.0012998543457256595,\n",
    " 0.0031516041448429455,\n",
    " 0.006163566310547708,\n",
    " 0.001319199249030234,\n",
    " -0.0019480015585890964,\n",
    " -0.006199100242818334,\n",
    " -0.00910780612998563,\n",
    " -0.004625303328531283,\n",
    " -0.000160428665737955,\n",
    " -0.0018146348009624447,\n",
    " 0.0017344108155523674,\n",
    " -0.002715362739126981,\n",
    " -0.004725243642677901,\n",
    " -0.007219545135744632,\n",
    " -0.0012056242194142808,\n",
    " 1.630191139945225e-05,\n",
    " -0.0021214799562214726,\n",
    " -0.00024507601563716896,\n",
    " -0.002716192457795641,\n",
    " -0.0016890649385907786,\n",
    " -0.0031397200046676677,\n",
    " -0.003777417541016126,\n",
    " 0.005060797943239326,\n",
    " 0.014900924448886022,\n",
    " 0.008340439556354218,\n",
    " 0.002150434927524092,\n",
    " -0.0011869818373897445,\n",
    " -0.005181442117682122,\n",
    " -0.0071726678689527645,\n",
    " -0.0025869867913346223,\n",
    " -0.002136456742125814,\n",
    " -3.265306122735012e-05,\n",
    " 0.010346460105090882,\n",
    " 0.004755503976841435,\n",
    " 0.005405028435439441,\n",
    " -0.0021136240495334135,\n",
    " -0.006045228866996766,\n",
    " 0.0004030795330483006,\n",
    " 0.0002740013072499714,\n",
    " 0.0005316706667206628,\n",
    " 0.02069127281747707,\n",
    " 0.004612038806607099,\n",
    " -0.002689082536606824,\n",
    " 0.002123560513303424,\n",
    " 0.013283475712521975,\n",
    " 0.01896890622870373,\n",
    " -0.0034291757105753273,\n",
    " -0.007262841437520873,\n",
    " -0.004207093529354777,\n",
    " 0.00776849299231408,\n",
    " 0.009653070359060933,\n",
    " 0.013251816458872412,\n",
    " -0.004578315824552481,\n",
    " 0.0035443987604770744,\n",
    " 0.008969874700676783,\n",
    " 0.016197251786903344,\n",
    " 0.011569896504743715,\n",
    " -0.004214191096129527,\n",
    " -0.0030959102059970878,\n",
    " 0.0035747019189891205,\n",
    " -0.0009287746647799189,\n",
    " -0.0004792367157993027,\n",
    " -0.01135072701294404,\n",
    " -0.005480272996975399,\n",
    " -0.015242473068251883,\n",
    " -0.01480836972558719,\n",
    " 0.008549133497801176,\n",
    " -0.0008153774592201124,\n",
    " -0.004056555073852941,\n",
    " -0.026106810543959913,\n",
    " -0.01648181969769391,\n",
    " -0.00014245352477848527,\n",
    " -0.0032820444710885965,\n",
    " 0.011589481410434477,\n",
    " 0.01480331196031548,\n",
    " 0.03813381669488414,\n",
    " 0.019009988688228452,\n",
    " 0.00143061540851952,\n",
    " 0.009292802567935299,\n",
    " 0.002540453740055071,\n",
    " -0.00766985902258055,\n",
    " -0.014250424035572529,\n",
    " -0.007335683269062088,\n",
    " -0.003688120415697327,\n",
    " 0.0006255585548053944,\n",
    " 0.01825086252107866)"
   ]
  },
  {
   "cell_type": "code",
   "execution_count": 3,
   "metadata": {
    "collapsed": false
   },
   "outputs": [
    {
     "name": "stderr",
     "output_type": "stream",
     "text": [
      "\n",
      "Attaching package: 'zoo'\n",
      "\n",
      "The following objects are masked from 'package:base':\n",
      "\n",
      "    as.Date, as.Date.numeric\n",
      "\n",
      "Loading required package: timeDate\n",
      "Loading required package: timeSeries\n",
      "\n",
      "Attaching package: 'timeSeries'\n",
      "\n",
      "The following object is masked from 'package:zoo':\n",
      "\n",
      "    time<-\n",
      "\n",
      "Loading required package: fBasics\n",
      "\n",
      "Attaching package: 'FinTS'\n",
      "\n",
      "The following object is masked from 'package:forecast':\n",
      "\n",
      "    Acf\n",
      "\n"
     ]
    }
   ],
   "source": [
    "library(zoo)\n",
    "library(forecast)\n",
    "library(tseries)\n",
    "library(fUnitRoots)\n",
    "library(FinTS)\n",
    "library(timeDate)\n",
    "library(timeSeries)\n",
    "library(fBasics)\n",
    "library(fGarch) "
   ]
  },
  {
   "cell_type": "code",
   "execution_count": 6,
   "metadata": {
    "collapsed": true
   },
   "outputs": [],
   "source": [
    "library(fUnitRoots)"
   ]
  },
  {
   "cell_type": "code",
   "execution_count": 4,
   "metadata": {
    "collapsed": false
   },
   "outputs": [
    {
     "data": {
      "text/plain": [
       "\n",
       "\tBox-Pierce test\n",
       "\n",
       "data:  tsValuesLog\n",
       "X-squared = 674.75, df = 20, p-value < 2.2e-16\n"
      ]
     },
     "metadata": {},
     "output_type": "display_data"
    }
   ],
   "source": [
    "Box.test(tsValuesLog,lag=20)"
   ]
  },
  {
   "cell_type": "code",
   "execution_count": 5,
   "metadata": {
    "collapsed": false
   },
   "outputs": [
    {
     "data": {
      "text/plain": [
       "\n",
       "\tBox-Pierce test\n",
       "\n",
       "data:  tsValuesLog_d_1\n",
       "X-squared = 41.099, df = 20, p-value = 0.003618\n"
      ]
     },
     "metadata": {},
     "output_type": "display_data"
    }
   ],
   "source": [
    "Box.test(tsValuesLog_d_1,lag=20)"
   ]
  },
  {
   "cell_type": "code",
   "execution_count": 7,
   "metadata": {
    "collapsed": false
   },
   "outputs": [
    {
     "name": "stdout",
     "output_type": "stream",
     "text": [
      "\n",
      "Title:\n",
      " Augmented Dickey-Fuller Test\n",
      "\n",
      "Test Results:\n",
      "  PARAMETER:\n",
      "    Lag Order: 1\n",
      "  STATISTIC:\n",
      "    Dickey-Fuller: -1.3803\n",
      "  P VALUE:\n",
      "    0.5435 \n",
      "\n",
      "Description:\n",
      " Sat Jun 01 19:36:18 2019 by user: Hallo\n",
      "\n",
      "\n",
      "Title:\n",
      " Augmented Dickey-Fuller Test\n",
      "\n",
      "Test Results:\n",
      "  PARAMETER:\n",
      "    Lag Order: 1\n",
      "  STATISTIC:\n",
      "    Dickey-Fuller: -2.068\n",
      "  P VALUE:\n",
      "    0.2928 \n",
      "\n",
      "Description:\n",
      " Sat Jun 01 19:36:18 2019 by user: Hallo\n",
      "\n",
      "\n",
      "Title:\n",
      " Augmented Dickey-Fuller Test\n",
      "\n",
      "Test Results:\n",
      "  PARAMETER:\n",
      "    Lag Order: 1\n",
      "  STATISTIC:\n",
      "    Dickey-Fuller: -2.2556\n",
      "  P VALUE:\n",
      "    0.2233 \n",
      "\n",
      "Description:\n",
      " Sat Jun 01 19:36:18 2019 by user: Hallo\n",
      "\n",
      "\n",
      "Title:\n",
      " Augmented Dickey-Fuller Test\n",
      "\n",
      "Test Results:\n",
      "  PARAMETER:\n",
      "    Lag Order: 1\n",
      "  STATISTIC:\n",
      "    Dickey-Fuller: -1.8793\n",
      "  P VALUE:\n",
      "    0.3606 \n",
      "\n",
      "Description:\n",
      " Sat Jun 01 19:36:18 2019 by user: Hallo\n",
      "\n",
      "\n",
      "Title:\n",
      " Augmented Dickey-Fuller Test\n",
      "\n",
      "Test Results:\n",
      "  PARAMETER:\n",
      "    Lag Order: 1\n",
      "  STATISTIC:\n",
      "    Dickey-Fuller: -1.4577\n",
      "  P VALUE:\n",
      "    0.5156 \n",
      "\n",
      "Description:\n",
      " Sat Jun 01 19:36:18 2019 by user: Hallo\n",
      "\n",
      "\n",
      "Title:\n",
      " Augmented Dickey-Fuller Test\n",
      "\n",
      "Test Results:\n",
      "  PARAMETER:\n",
      "    Lag Order: 1\n",
      "  STATISTIC:\n",
      "    Dickey-Fuller: -1.8829\n",
      "  P VALUE:\n",
      "    0.3582 \n",
      "\n",
      "Description:\n",
      " Sat Jun 01 19:36:18 2019 by user: Hallo\n",
      "\n",
      "\n",
      "Title:\n",
      " Augmented Dickey-Fuller Test\n",
      "\n",
      "Test Results:\n",
      "  PARAMETER:\n",
      "    Lag Order: 1\n",
      "  STATISTIC:\n",
      "    Dickey-Fuller: -2.1688\n",
      "  P VALUE:\n",
      "    0.2521 \n",
      "\n",
      "Description:\n",
      " Sat Jun 01 19:36:18 2019 by user: Hallo\n",
      "\n",
      "\n",
      "Title:\n",
      " Augmented Dickey-Fuller Test\n",
      "\n",
      "Test Results:\n",
      "  PARAMETER:\n",
      "    Lag Order: 1\n",
      "  STATISTIC:\n",
      "    Dickey-Fuller: -1.8238\n",
      "  P VALUE:\n",
      "    0.3798 \n",
      "\n",
      "Description:\n",
      " Sat Jun 01 19:36:18 2019 by user: Hallo\n",
      "\n",
      "\n",
      "Title:\n",
      " Augmented Dickey-Fuller Test\n",
      "\n",
      "Test Results:\n",
      "  PARAMETER:\n",
      "    Lag Order: 1\n",
      "  STATISTIC:\n",
      "    Dickey-Fuller: -1.8238\n",
      "  P VALUE:\n",
      "    0.3796 \n",
      "\n",
      "Description:\n",
      " Sat Jun 01 19:36:18 2019 by user: Hallo\n",
      "\n",
      "\n",
      "Title:\n",
      " Augmented Dickey-Fuller Test\n",
      "\n",
      "Test Results:\n",
      "  PARAMETER:\n",
      "    Lag Order: 1\n",
      "  STATISTIC:\n",
      "    Dickey-Fuller: -1.8238\n",
      "  P VALUE:\n",
      "    0.3794 \n",
      "\n",
      "Description:\n",
      " Sat Jun 01 19:36:18 2019 by user: Hallo\n",
      "\n",
      "\n",
      "Title:\n",
      " Augmented Dickey-Fuller Test\n",
      "\n",
      "Test Results:\n",
      "  PARAMETER:\n",
      "    Lag Order: 1\n",
      "  STATISTIC:\n",
      "    Dickey-Fuller: -1.8238\n",
      "  P VALUE:\n",
      "    0.3793 \n",
      "\n",
      "Description:\n",
      " Sat Jun 01 19:36:18 2019 by user: Hallo\n",
      "\n",
      "\n",
      "Title:\n",
      " Augmented Dickey-Fuller Test\n",
      "\n",
      "Test Results:\n",
      "  PARAMETER:\n",
      "    Lag Order: 1\n",
      "  STATISTIC:\n",
      "    Dickey-Fuller: -1.8238\n",
      "  P VALUE:\n",
      "    0.3791 \n",
      "\n",
      "Description:\n",
      " Sat Jun 01 19:36:18 2019 by user: Hallo\n",
      "\n"
     ]
    }
   ],
   "source": [
    "for (i in c(50,60,70,80,90,100,110,120,130,140,150,160)){\n",
    "    print(adfTest(tsValuesLog[0:i],type = 'c'))\n",
    "}"
   ]
  },
  {
   "cell_type": "code",
   "execution_count": 12,
   "metadata": {
    "collapsed": false
   },
   "outputs": [
    {
     "data": {
      "text/plain": [
       "\n",
       "\tAugmented Dickey-Fuller Test\n",
       "\n",
       "data:  tsValuesLog\n",
       "Dickey-Fuller = -2.0166, Lag order = 20, p-value = 0.5697\n",
       "alternative hypothesis: stationary\n"
      ]
     },
     "metadata": {},
     "output_type": "display_data"
    }
   ],
   "source": [
    "adf.test(tsValuesLog,k = 20)"
   ]
  },
  {
   "cell_type": "code",
   "execution_count": 11,
   "metadata": {
    "collapsed": false
   },
   "outputs": [
    {
     "name": "stderr",
     "output_type": "stream",
     "text": [
      "Warning message in adf.test(tsValuesLog_d_1):\n",
      "\"p-value smaller than printed p-value\""
     ]
    },
    {
     "data": {
      "text/plain": [
       "\n",
       "\tAugmented Dickey-Fuller Test\n",
       "\n",
       "data:  tsValuesLog_d_1\n",
       "Dickey-Fuller = -4.5533, Lag order = 4, p-value = 0.01\n",
       "alternative hypothesis: stationary\n"
      ]
     },
     "metadata": {},
     "output_type": "display_data"
    }
   ],
   "source": [
    "adf.test(tsValuesLog_d_1)"
   ]
  },
  {
   "cell_type": "code",
   "execution_count": 14,
   "metadata": {
    "collapsed": false
   },
   "outputs": [
    {
     "name": "stdout",
     "output_type": "stream",
     "text": [
      "\n",
      "\tAugmented Dickey-Fuller Test\n",
      "\n",
      "data:  tsValuesLog[0:i]\n",
      "Dickey-Fuller = -1.6347, Lag order = 1, p-value = 0.7208\n",
      "alternative hypothesis: stationary\n",
      "\n",
      "\n",
      "\tAugmented Dickey-Fuller Test\n",
      "\n",
      "data:  tsValuesLog[0:i]\n",
      "Dickey-Fuller = -1.2015, Lag order = 1, p-value = 0.8975\n",
      "alternative hypothesis: stationary\n",
      "\n",
      "\n",
      "\tAugmented Dickey-Fuller Test\n",
      "\n",
      "data:  tsValuesLog[0:i]\n",
      "Dickey-Fuller = -0.92263, Lag order = 1, p-value = 0.9436\n",
      "alternative hypothesis: stationary\n",
      "\n",
      "\n",
      "\tAugmented Dickey-Fuller Test\n",
      "\n",
      "data:  tsValuesLog[0:i]\n",
      "Dickey-Fuller = -0.60725, Lag order = 1, p-value = 0.9746\n",
      "alternative hypothesis: stationary\n",
      "\n",
      "\n",
      "\tAugmented Dickey-Fuller Test\n",
      "\n",
      "data:  tsValuesLog[0:i]\n",
      "Dickey-Fuller = -1.3338, Lag order = 1, p-value = 0.8504\n",
      "alternative hypothesis: stationary\n",
      "\n",
      "\n",
      "\tAugmented Dickey-Fuller Test\n",
      "\n",
      "data:  tsValuesLog[0:i]\n",
      "Dickey-Fuller = -1.9266, Lag order = 1, p-value = 0.607\n",
      "alternative hypothesis: stationary\n",
      "\n",
      "\n",
      "\tAugmented Dickey-Fuller Test\n",
      "\n",
      "data:  tsValuesLog[0:i]\n",
      "Dickey-Fuller = -2.4461, Lag order = 1, p-value = 0.3915\n",
      "alternative hypothesis: stationary\n",
      "\n"
     ]
    },
    {
     "ename": "ERROR",
     "evalue": "Error in adf.test(tsValuesLog[0:i], k = 1): NAs in x\n",
     "output_type": "error",
     "traceback": [
      "Error in adf.test(tsValuesLog[0:i], k = 1): NAs in x\nTraceback:\n",
      "1. print(adf.test(tsValuesLog[0:i], k = 1))",
      "2. adf.test(tsValuesLog[0:i], k = 1)",
      "3. stop(\"NAs in x\")"
     ]
    }
   ],
   "source": [
    "for (i in c(50,60,70,80,90,100,110,120)){\n",
    "    print(adf.test(tsValuesLog[0:i],k=1))\n",
    "}"
   ]
  },
  {
   "cell_type": "code",
   "execution_count": 8,
   "metadata": {
    "collapsed": false
   },
   "outputs": [
    {
     "name": "stderr",
     "output_type": "stream",
     "text": [
      "\n",
      "Attaching package: 'TSA'\n",
      "\n",
      "The following objects are masked from 'package:timeDate':\n",
      "\n",
      "    kurtosis, skewness\n",
      "\n",
      "The following objects are masked from 'package:stats':\n",
      "\n",
      "    acf, arima\n",
      "\n",
      "The following object is masked from 'package:utils':\n",
      "\n",
      "    tar\n",
      "\n"
     ]
    }
   ],
   "source": [
    "library(TSA)"
   ]
  },
  {
   "cell_type": "code",
   "execution_count": 9,
   "metadata": {
    "collapsed": false
   },
   "outputs": [
    {
     "name": "stdout",
     "output_type": "stream",
     "text": [
      "AR/MA\n",
      "  0 1 2 3 4 5 6 7 8 9 10 11 12 13\n",
      "0 x o o o o o o o o o o  o  o  o \n",
      "1 x o o o o o o o o o o  o  o  o \n",
      "2 o o o o o o o o o o o  o  o  o \n",
      "3 x o o o o o o o o o o  o  o  o \n",
      "4 x o o o x o o o o o o  o  o  o \n",
      "5 o o o x x o o o o o o  o  o  o \n",
      "6 x o o x x o o o o o o  o  o  o \n",
      "7 x o o x x o o o o o o  o  o  o \n"
     ]
    }
   ],
   "source": [
    "eacf(tsValuesLog_d_1)"
   ]
  },
  {
   "cell_type": "code",
   "execution_count": 54,
   "metadata": {
    "collapsed": true
   },
   "outputs": [],
   "source": [
    "model = arima(tsValuesLog_d_1,order = c(1,0,0))"
   ]
  },
  {
   "cell_type": "code",
   "execution_count": 55,
   "metadata": {
    "collapsed": false
   },
   "outputs": [
    {
     "data": {
      "text/plain": [
       "\n",
       "Call:\n",
       "arima(x = tsValuesLog_d_1, order = c(1, 0, 0))\n",
       "\n",
       "Coefficients:\n",
       "         ar1  intercept\n",
       "      0.5265     0.0002\n",
       "s.e.  0.0814     0.0014\n",
       "\n",
       "sigma^2 estimated as 5.152e-05:  log likelihood = 397.35,  aic = -790.7"
      ]
     },
     "metadata": {},
     "output_type": "display_data"
    }
   ],
   "source": [
    "model"
   ]
  },
  {
   "cell_type": "code",
   "execution_count": 56,
   "metadata": {
    "collapsed": false
   },
   "outputs": [
    {
     "data": {
      "text/plain": [
       "\n",
       "\tBox-Pierce test\n",
       "\n",
       "data:  model$residuals\n",
       "X-squared = 16.457, df = 19, p-value = 0.6266\n"
      ]
     },
     "metadata": {},
     "output_type": "display_data"
    }
   ],
   "source": [
    "Box.test(model$residuals,lag = 20,fitdf = 1)"
   ]
  },
  {
   "cell_type": "code",
   "execution_count": 57,
   "metadata": {
    "collapsed": false
   },
   "outputs": [
    {
     "data": {
      "text/plain": [
       "\n",
       "\tARCH LM-test; Null hypothesis: no ARCH effects\n",
       "\n",
       "data:  model$residuals\n",
       "Chi-squared = 19.595, df = 12, p-value = 0.07515\n"
      ]
     },
     "metadata": {},
     "output_type": "display_data"
    }
   ],
   "source": [
    "ArchTest(model$residuals)"
   ]
  },
  {
   "cell_type": "code",
   "execution_count": 58,
   "metadata": {
    "collapsed": true
   },
   "outputs": [],
   "source": [
    "model = arima(tsValuesLog_d_1,order = c(0,0,1))"
   ]
  },
  {
   "cell_type": "code",
   "execution_count": 59,
   "metadata": {
    "collapsed": false
   },
   "outputs": [
    {
     "data": {
      "text/plain": [
       "\n",
       "Call:\n",
       "arima(x = tsValuesLog_d_1, order = c(0, 0, 1))\n",
       "\n",
       "Coefficients:\n",
       "         ma1  intercept\n",
       "      0.5490      1e-04\n",
       "s.e.  0.0806      1e-03\n",
       "\n",
       "sigma^2 estimated as 5.168e-05:  log likelihood = 397.16,  aic = -790.32"
      ]
     },
     "metadata": {},
     "output_type": "display_data"
    }
   ],
   "source": [
    "model"
   ]
  },
  {
   "cell_type": "code",
   "execution_count": 60,
   "metadata": {
    "collapsed": false
   },
   "outputs": [
    {
     "data": {
      "text/plain": [
       "\n",
       "\tBox-Pierce test\n",
       "\n",
       "data:  model$residuals\n",
       "X-squared = 17.795, df = 19, p-value = 0.5362\n"
      ]
     },
     "metadata": {},
     "output_type": "display_data"
    }
   ],
   "source": [
    "Box.test(model$residuals,lag = 20,fitdf = 1)"
   ]
  },
  {
   "cell_type": "code",
   "execution_count": 61,
   "metadata": {
    "collapsed": false,
    "scrolled": true
   },
   "outputs": [
    {
     "data": {
      "text/plain": [
       "\n",
       "\tARCH LM-test; Null hypothesis: no ARCH effects\n",
       "\n",
       "data:  model$residuals\n",
       "Chi-squared = 23.03, df = 12, p-value = 0.02747\n"
      ]
     },
     "metadata": {},
     "output_type": "display_data"
    }
   ],
   "source": [
    "ArchTest(model$residuals)"
   ]
  },
  {
   "cell_type": "code",
   "execution_count": 62,
   "metadata": {
    "collapsed": true
   },
   "outputs": [],
   "source": [
    "model = arima(tsValuesLog_d_1,order = c(1,0,1))"
   ]
  },
  {
   "cell_type": "code",
   "execution_count": 63,
   "metadata": {
    "collapsed": false
   },
   "outputs": [
    {
     "data": {
      "text/plain": [
       "\n",
       "Call:\n",
       "arima(x = tsValuesLog_d_1, order = c(1, 0, 1))\n",
       "\n",
       "Coefficients:\n",
       "         ar1     ma1  intercept\n",
       "      0.3359  0.2752     0.0002\n",
       "s.e.  0.1598  0.1625     0.0013\n",
       "\n",
       "sigma^2 estimated as 5.025e-05:  log likelihood = 398.73,  aic = -791.47"
      ]
     },
     "metadata": {},
     "output_type": "display_data"
    }
   ],
   "source": [
    "model"
   ]
  },
  {
   "cell_type": "code",
   "execution_count": 64,
   "metadata": {
    "collapsed": false
   },
   "outputs": [
    {
     "data": {
      "text/plain": [
       "\n",
       "\tBox-Pierce test\n",
       "\n",
       "data:  model$residuals\n",
       "X-squared = 16.206, df = 18, p-value = 0.5782\n"
      ]
     },
     "metadata": {},
     "output_type": "display_data"
    }
   ],
   "source": [
    "Box.test(model$residuals,lag = 20,fitdf = 2)"
   ]
  },
  {
   "cell_type": "code",
   "execution_count": 65,
   "metadata": {
    "collapsed": false
   },
   "outputs": [
    {
     "data": {
      "text/plain": [
       "\n",
       "\tARCH LM-test; Null hypothesis: no ARCH effects\n",
       "\n",
       "data:  model$residuals\n",
       "Chi-squared = 20.02, df = 12, p-value = 0.0667\n"
      ]
     },
     "metadata": {},
     "output_type": "display_data"
    }
   ],
   "source": [
    "ArchTest(model$residuals)"
   ]
  },
  {
   "cell_type": "code",
   "execution_count": 111,
   "metadata": {
    "collapsed": true
   },
   "outputs": [],
   "source": [
    "model = arima(tsValuesLog_d_1,order = c(0,0,1))"
   ]
  },
  {
   "cell_type": "code",
   "execution_count": 112,
   "metadata": {
    "collapsed": true
   },
   "outputs": [],
   "source": [
    "res = model$residuals"
   ]
  },
  {
   "cell_type": "code",
   "execution_count": 113,
   "metadata": {
    "collapsed": true
   },
   "outputs": [],
   "source": [
    "res_sq = res**2"
   ]
  },
  {
   "cell_type": "code",
   "execution_count": 114,
   "metadata": {
    "collapsed": false
   },
   "outputs": [
    {
     "name": "stdout",
     "output_type": "stream",
     "text": [
      "AR/MA\n",
      "  0 1 2 3 4 5 6 7 8 9 10 11 12 13\n",
      "0 o o o o o x o o o o o  o  o  o \n",
      "1 x o o o o x o o o o o  o  o  o \n",
      "2 x x o o o x o o o o o  o  o  o \n",
      "3 x o o o o x o o o o o  o  o  o \n",
      "4 x o o o o x o o o o o  o  o  o \n",
      "5 o o o o o x o o o o x  o  o  o \n",
      "6 o x o o x x o o o o o  o  o  o \n",
      "7 x o o o x o x o o o o  o  o  o \n"
     ]
    }
   ],
   "source": [
    "eacf(res_sq)"
   ]
  },
  {
   "cell_type": "code",
   "execution_count": 109,
   "metadata": {
    "collapsed": false
   },
   "outputs": [],
   "source": [
    "myspec=ugarchspec(\n",
    "\n",
    "variance.model = list(model = \"sGARCH\", garchOrder = c(1, 1) ,submodel = NULL, external.regressors = NULL, variance.targeting = FALSE),\n",
    "\n",
    "mean.model = list(armaOrder = c(0,1), include.mean = TRUE, archm = FALSE, archpow = 1, arfima = FALSE, external.regressors = NULL, archex = FALSE),\n",
    "\n",
    "distribution.model = \"norm\"\n",
    "\n",
    ")\n",
    "myfit=ugarchfit(myspec,data=tsValuesLog_d_1,solver=\"solnp\")"
   ]
  },
  {
   "cell_type": "code",
   "execution_count": 110,
   "metadata": {
    "collapsed": false,
    "scrolled": true
   },
   "outputs": [
    {
     "data": {
      "text/plain": [
       "\n",
       "*---------------------------------*\n",
       "*          GARCH Model Fit        *\n",
       "*---------------------------------*\n",
       "\n",
       "Conditional Variance Dynamics \t\n",
       "-----------------------------------\n",
       "GARCH Model\t: sGARCH(1,1)\n",
       "Mean Model\t: ARFIMA(0,0,1)\n",
       "Distribution\t: norm \n",
       "\n",
       "Optimal Parameters\n",
       "------------------------------------\n",
       "        Estimate  Std. Error  t value Pr(>|t|)\n",
       "mu     -0.000883    0.000877 -1.00710 0.313887\n",
       "ma1     0.563877    0.082101  6.86806 0.000000\n",
       "omega   0.000001    0.000003  0.34551 0.729712\n",
       "alpha1  0.101949    0.040559  2.51358 0.011951\n",
       "beta1   0.897050    0.041593 21.56726 0.000000\n",
       "\n",
       "Robust Standard Errors:\n",
       "        Estimate  Std. Error   t value Pr(>|t|)\n",
       "mu     -0.000883    0.000780 -1.132559 0.257399\n",
       "ma1     0.563877    0.054472 10.351737 0.000000\n",
       "omega   0.000001    0.000023  0.042759 0.965894\n",
       "alpha1  0.101949    0.115162  0.885270 0.376011\n",
       "beta1   0.897050    0.197343  4.545631 0.000005\n",
       "\n",
       "LogLikelihood : 409.4288 \n",
       "\n",
       "Information Criteria\n",
       "------------------------------------\n",
       "                    \n",
       "Akaike       -7.1580\n",
       "Bayes        -7.0374\n",
       "Shibata      -7.1617\n",
       "Hannan-Quinn -7.1091\n",
       "\n",
       "Weighted Ljung-Box Test on Standardized Residuals\n",
       "------------------------------------\n",
       "                        statistic p-value\n",
       "Lag[1]                     0.3044  0.5811\n",
       "Lag[2*(p+q)+(p+q)-1][2]    1.1107  0.6720\n",
       "Lag[4*(p+q)+(p+q)-1][5]    1.9088  0.7374\n",
       "d.o.f=1\n",
       "H0 : No serial correlation\n",
       "\n",
       "Weighted Ljung-Box Test on Standardized Squared Residuals\n",
       "------------------------------------\n",
       "                        statistic p-value\n",
       "Lag[1]                      0.380  0.5376\n",
       "Lag[2*(p+q)+(p+q)-1][5]     1.164  0.8216\n",
       "Lag[4*(p+q)+(p+q)-1][9]     2.517  0.8351\n",
       "d.o.f=2\n",
       "\n",
       "Weighted ARCH LM Tests\n",
       "------------------------------------\n",
       "            Statistic Shape Scale P-Value\n",
       "ARCH Lag[3]    0.8123 0.500 2.000  0.3674\n",
       "ARCH Lag[5]    0.9486 1.440 1.667  0.7483\n",
       "ARCH Lag[7]    2.2206 2.315 1.543  0.6707\n",
       "\n",
       "Nyblom stability test\n",
       "------------------------------------\n",
       "Joint Statistic:  24.7507\n",
       "Individual Statistics:              \n",
       "mu     0.59523\n",
       "ma1    0.07272\n",
       "omega  2.49954\n",
       "alpha1 0.12414\n",
       "beta1  0.28863\n",
       "\n",
       "Asymptotic Critical Values (10% 5% 1%)\n",
       "Joint Statistic:     \t 1.28 1.47 1.88\n",
       "Individual Statistic:\t 0.35 0.47 0.75\n",
       "\n",
       "Sign Bias Test\n",
       "------------------------------------\n",
       "                   t-value   prob sig\n",
       "Sign Bias           1.8735 0.0637   *\n",
       "Negative Sign Bias  0.3727 0.7101    \n",
       "Positive Sign Bias  0.7047 0.4825    \n",
       "Joint Effect        6.0815 0.1077    \n",
       "\n",
       "\n",
       "Adjusted Pearson Goodness-of-Fit Test:\n",
       "------------------------------------\n",
       "  group statistic p-value(g-1)\n",
       "1    20     24.88       0.1647\n",
       "2    30     34.88       0.2086\n",
       "3    40     43.11       0.3000\n",
       "4    50     59.12       0.1524\n",
       "\n",
       "\n",
       "Elapsed time : 0.09478617 \n"
      ]
     },
     "metadata": {},
     "output_type": "display_data"
    }
   ],
   "source": [
    "myfit"
   ]
  },
  {
   "cell_type": "code",
   "execution_count": 119,
   "metadata": {
    "collapsed": true
   },
   "outputs": [],
   "source": [
    "myspec=ugarchspec(\n",
    "\n",
    "variance.model = list(model = \"sGARCH\", garchOrder = c(1, 2), submodel = NULL, external.regressors = NULL, variance.targeting = FALSE),\n",
    "\n",
    "mean.model = list(armaOrder = c(0,1), include.mean = TRUE, archm = FALSE, archpow = 1, arfima = FALSE, external.regressors = NULL, archex = FALSE),\n",
    "\n",
    "distribution.model = \"norm\"\n",
    "\n",
    ")\n",
    "myfit=ugarchfit(myspec,data=tsValuesLog_d_1,solver=\"solnp\")"
   ]
  },
  {
   "cell_type": "code",
   "execution_count": 120,
   "metadata": {
    "collapsed": false,
    "scrolled": true
   },
   "outputs": [
    {
     "data": {
      "text/plain": [
       "\n",
       "*---------------------------------*\n",
       "*          GARCH Model Fit        *\n",
       "*---------------------------------*\n",
       "\n",
       "Conditional Variance Dynamics \t\n",
       "-----------------------------------\n",
       "GARCH Model\t: sGARCH(1,2)\n",
       "Mean Model\t: ARFIMA(0,0,1)\n",
       "Distribution\t: norm \n",
       "\n",
       "Optimal Parameters\n",
       "------------------------------------\n",
       "        Estimate  Std. Error   t value Pr(>|t|)\n",
       "mu     -0.000868    0.000861 -1.008110 0.313402\n",
       "ma1     0.564110    0.081729  6.902196 0.000000\n",
       "omega   0.000001    0.000000  5.199752 0.000000\n",
       "alpha1  0.101812    0.042392  2.401698 0.016319\n",
       "beta1   0.897188    0.528398  1.697940 0.089519\n",
       "beta2   0.000000    0.469643  0.000001 0.999999\n",
       "\n",
       "Robust Standard Errors:\n",
       "        Estimate  Std. Error  t value Pr(>|t|)\n",
       "mu     -0.000868    0.001758 -0.49344  0.62170\n",
       "ma1     0.564110    0.080933  6.97007  0.00000\n",
       "omega   0.000001    0.000002  0.55044  0.58202\n",
       "alpha1  0.101812    0.330731  0.30784  0.75821\n",
       "beta1   0.897188    3.776832  0.23755  0.81223\n",
       "beta2   0.000000    3.521395  0.00000  1.00000\n",
       "\n",
       "LogLikelihood : 409.0843 \n",
       "\n",
       "Information Criteria\n",
       "------------------------------------\n",
       "                    \n",
       "Akaike       -7.1342\n",
       "Bayes        -6.9894\n",
       "Shibata      -7.1395\n",
       "Hannan-Quinn -7.0755\n",
       "\n",
       "Weighted Ljung-Box Test on Standardized Residuals\n",
       "------------------------------------\n",
       "                        statistic p-value\n",
       "Lag[1]                     0.3104  0.5775\n",
       "Lag[2*(p+q)+(p+q)-1][2]    1.1210  0.6656\n",
       "Lag[4*(p+q)+(p+q)-1][5]    1.9382  0.7291\n",
       "d.o.f=1\n",
       "H0 : No serial correlation\n",
       "\n",
       "Weighted Ljung-Box Test on Standardized Squared Residuals\n",
       "------------------------------------\n",
       "                         statistic p-value\n",
       "Lag[1]                      0.3783  0.5385\n",
       "Lag[2*(p+q)+(p+q)-1][8]     2.2357  0.8211\n",
       "Lag[4*(p+q)+(p+q)-1][14]    3.5910  0.9159\n",
       "d.o.f=3\n",
       "\n",
       "Weighted ARCH LM Tests\n",
       "------------------------------------\n",
       "            Statistic Shape Scale P-Value\n",
       "ARCH Lag[4]   0.04211 0.500 2.000  0.8374\n",
       "ARCH Lag[6]   1.32116 1.461 1.711  0.6579\n",
       "ARCH Lag[8]   1.94318 2.368 1.583  0.7530\n",
       "\n",
       "Nyblom stability test\n",
       "------------------------------------\n",
       "Joint Statistic:  25.3787\n",
       "Individual Statistics:              \n",
       "mu     0.59620\n",
       "ma1    0.07356\n",
       "omega  2.38800\n",
       "alpha1 0.12551\n",
       "beta1  0.28990\n",
       "beta2  0.30287\n",
       "\n",
       "Asymptotic Critical Values (10% 5% 1%)\n",
       "Joint Statistic:     \t 1.49 1.68 2.12\n",
       "Individual Statistic:\t 0.35 0.47 0.75\n",
       "\n",
       "Sign Bias Test\n",
       "------------------------------------\n",
       "                   t-value    prob sig\n",
       "Sign Bias           1.8831 0.06238   *\n",
       "Negative Sign Bias  0.3653 0.71559    \n",
       "Positive Sign Bias  0.7032 0.48346    \n",
       "Joint Effect        6.1240 0.10573    \n",
       "\n",
       "\n",
       "Adjusted Pearson Goodness-of-Fit Test:\n",
       "------------------------------------\n",
       "  group statistic p-value(g-1)\n",
       "1    20     27.71      0.08921\n",
       "2    30     34.88      0.20864\n",
       "3    40     45.94      0.20673\n",
       "4    50     71.51      0.01959\n",
       "\n",
       "\n",
       "Elapsed time : 0.09473181 \n"
      ]
     },
     "metadata": {},
     "output_type": "display_data"
    }
   ],
   "source": [
    "myfit"
   ]
  },
  {
   "cell_type": "code",
   "execution_count": 121,
   "metadata": {
    "collapsed": false
   },
   "outputs": [
    {
     "name": "stdout",
     "output_type": "stream",
     "text": [
      "\n",
      "*------------------------------------*\n",
      "*       GARCH Model Forecast         *\n",
      "*------------------------------------*\n",
      "Model: sGARCH\n",
      "Horizon: 1\n",
      "Roll Steps: 0\n",
      "Out of Sample: 0\n",
      "\n",
      "0-roll forecast [T0=1970-04-11 08:00:00]:\n",
      "       Series    Sigma\n",
      "T+1 -0.002951 0.009811\n",
      "\n",
      "\n",
      "\n",
      "*------------------------------------*\n",
      "*       GARCH Model Forecast         *\n",
      "*------------------------------------*\n",
      "Model: sGARCH\n",
      "Horizon: 1\n",
      "Roll Steps: 0\n",
      "Out of Sample: 0\n",
      "\n",
      "0-roll forecast [T0=1970-04-12 08:00:00]:\n",
      "      Series   Sigma\n",
      "T+1 0.006578 0.01041\n",
      "\n",
      "\n",
      "\n",
      "*------------------------------------*\n",
      "*       GARCH Model Forecast         *\n",
      "*------------------------------------*\n",
      "Model: sGARCH\n",
      "Horizon: 1\n",
      "Roll Steps: 0\n",
      "Out of Sample: 0\n",
      "\n",
      "0-roll forecast [T0=1970-04-12 08:00:00]:\n",
      "      Series   Sigma\n",
      "T+1 0.003256 0.01026\n",
      "\n",
      "\n",
      "\n",
      "*------------------------------------*\n",
      "*       GARCH Model Forecast         *\n",
      "*------------------------------------*\n",
      "Model: sGARCH\n",
      "Horizon: 1\n",
      "Roll Steps: 0\n",
      "Out of Sample: 0\n",
      "\n",
      "0-roll forecast [T0=1970-04-12 08:00:00]:\n",
      "     Series   Sigma\n",
      "T+1 0.01802 0.01556\n",
      "\n",
      "\n",
      "\n",
      "*------------------------------------*\n",
      "*       GARCH Model Forecast         *\n",
      "*------------------------------------*\n",
      "Model: sGARCH\n",
      "Horizon: 1\n",
      "Roll Steps: 0\n",
      "Out of Sample: 0\n",
      "\n",
      "0-roll forecast [T0=1970-04-12 08:00:00]:\n",
      "       Series   Sigma\n",
      "T+1 -0.000464 0.01452\n",
      "\n",
      "\n",
      "\n",
      "*------------------------------------*\n",
      "*       GARCH Model Forecast         *\n",
      "*------------------------------------*\n",
      "Model: sGARCH\n",
      "Horizon: 1\n",
      "Roll Steps: 0\n",
      "Out of Sample: 0\n",
      "\n",
      "0-roll forecast [T0=1970-04-12 08:00:00]:\n",
      "       Series   Sigma\n",
      "T+1 9.642e-05 0.01367\n",
      "\n",
      "\n",
      "\n",
      "*------------------------------------*\n",
      "*       GARCH Model Forecast         *\n",
      "*------------------------------------*\n",
      "Model: sGARCH\n",
      "Horizon: 1\n",
      "Roll Steps: 0\n",
      "Out of Sample: 0\n",
      "\n",
      "0-roll forecast [T0=1970-04-12 08:00:00]:\n",
      "      Series   Sigma\n",
      "T+1 0.004186 0.01326\n",
      "\n",
      "\n",
      "\n",
      "*------------------------------------*\n",
      "*       GARCH Model Forecast         *\n",
      "*------------------------------------*\n",
      "Model: sGARCH\n",
      "Horizon: 1\n",
      "Roll Steps: 0\n",
      "Out of Sample: 0\n",
      "\n",
      "0-roll forecast [T0=1970-04-12 08:00:00]:\n",
      "       Series   Sigma\n",
      "T+1 -0.001805 0.01258\n",
      "\n",
      "\n",
      "\n",
      "*------------------------------------*\n",
      "*       GARCH Model Forecast         *\n",
      "*------------------------------------*\n",
      "Model: sGARCH\n",
      "Horizon: 1\n",
      "Roll Steps: 0\n",
      "Out of Sample: 0\n",
      "\n",
      "0-roll forecast [T0=1970-04-12 08:00:00]:\n",
      "      Series Sigma\n",
      "T+1 -0.00414 0.012\n",
      "\n",
      "\n",
      "\n",
      "*------------------------------------*\n",
      "*       GARCH Model Forecast         *\n",
      "*------------------------------------*\n",
      "Model: sGARCH\n",
      "Horizon: 1\n",
      "Roll Steps: 0\n",
      "Out of Sample: 0\n",
      "\n",
      "0-roll forecast [T0=1970-04-12 08:00:00]:\n",
      "       Series   Sigma\n",
      "T+1 -0.006202 0.01182\n",
      "\n",
      "\n",
      "\n",
      "*------------------------------------*\n",
      "*       GARCH Model Forecast         *\n",
      "*------------------------------------*\n",
      "Model: sGARCH\n",
      "Horizon: 1\n",
      "Roll Steps: 0\n",
      "Out of Sample: 0\n",
      "\n",
      "0-roll forecast [T0=1970-04-12 08:00:00]:\n",
      "       Series   Sigma\n",
      "T+1 -0.001042 0.01126\n",
      "\n",
      "\n",
      "\n",
      "*------------------------------------*\n",
      "*       GARCH Model Forecast         *\n",
      "*------------------------------------*\n",
      "Model: sGARCH\n",
      "Horizon: 1\n",
      "Roll Steps: 0\n",
      "Out of Sample: 0\n",
      "\n",
      "0-roll forecast [T0=1970-04-12 08:00:00]:\n",
      "       Series   Sigma\n",
      "T+1 -0.002044 0.01073\n",
      "\n",
      "\n",
      "\n",
      "*------------------------------------*\n",
      "*       GARCH Model Forecast         *\n",
      "*------------------------------------*\n",
      "Model: sGARCH\n",
      "Horizon: 1\n",
      "Roll Steps: 0\n",
      "Out of Sample: 0\n",
      "\n",
      "0-roll forecast [T0=1970-04-12 08:00:00]:\n",
      "       Series   Sigma\n",
      "T+1 0.0009599 0.01021\n",
      "\n",
      "\n",
      "\n",
      "*------------------------------------*\n",
      "*       GARCH Model Forecast         *\n",
      "*------------------------------------*\n",
      "Model: sGARCH\n",
      "Horizon: 1\n",
      "Roll Steps: 0\n",
      "Out of Sample: 0\n",
      "\n",
      "0-roll forecast [T0=1970-04-12 08:00:00]:\n",
      "      Series   Sigma\n",
      "T+1 0.009296 0.01127\n",
      "\n",
      "\n"
     ]
    },
    {
     "ename": "ERROR",
     "evalue": "Error in if (mean(data) == 0) {: 需要TRUE/FALSE值的地方不可以用缺少值\n",
     "output_type": "error",
     "traceback": [
      "Error in if (mean(data) == 0) {: 需要TRUE/FALSE值的地方不可以用缺少值\nTraceback:\n",
      "1. ugarchfit(myspec, data = tsValuesLog_d_1[14:114], solver = \"solnp\")",
      "2. ugarchfit(myspec, data = tsValuesLog_d_1[14:114], solver = \"solnp\")",
      "3. .sgarchfit(spec = spec, data = data, out.sample = out.sample, \n .     solver = solver, solver.control = solver.control, fit.control = fit.control, \n .     numderiv.control = default.numd)",
      "4. .garchstart(ipars, arglist)",
      "5. .aparchstart(pars, arglist)",
      "6. .meqstart(pars, arglist)"
     ]
    }
   ],
   "source": [
    "myspec=ugarchspec(variance.model = list(model = \"sGARCH\", garchOrder = c(1, 1), submodel = NULL, external.regressors = NULL, variance.targeting = FALSE),mean.model = list(armaOrder = c(0,1), include.mean = TRUE, archm = FALSE, archpow = 1, arfima = FALSE, external.regressors = NULL, archex = FALSE),distribution.model = \"norm\")\n",
    "myfit=ugarchfit(myspec,data=tsValuesLog_d_1[0:100],solver=\"solnp\")\n",
    "forc = ugarchforecast(myfit,n.ahead = 1)\n",
    "print(forc)\n",
    "myspec=ugarchspec(variance.model = list(model = \"sGARCH\", garchOrder = c(1, 1), submodel = NULL, external.regressors = NULL, variance.targeting = FALSE),mean.model = list(armaOrder = c(0,1), include.mean = TRUE, archm = FALSE, archpow = 1, arfima = FALSE, external.regressors = NULL, archex = FALSE),distribution.model = \"norm\")\n",
    "myfit=ugarchfit(myspec,data=tsValuesLog_d_1[1:101],solver=\"solnp\")\n",
    "forc = ugarchforecast(myfit,n.ahead = 1)\n",
    "print(forc)\n",
    "myspec=ugarchspec(variance.model = list(model = \"sGARCH\", garchOrder = c(1, 1), submodel = NULL, external.regressors = NULL, variance.targeting = FALSE),mean.model = list(armaOrder = c(0,1), include.mean = TRUE, archm = FALSE, archpow = 1, arfima = FALSE, external.regressors = NULL, archex = FALSE),distribution.model = \"norm\")\n",
    "myfit=ugarchfit(myspec,data=tsValuesLog_d_1[2:102],solver=\"solnp\")\n",
    "forc = ugarchforecast(myfit,n.ahead = 1)\n",
    "print(forc)\n",
    "myspec=ugarchspec(variance.model = list(model = \"sGARCH\", garchOrder = c(1, 1), submodel = NULL, external.regressors = NULL, variance.targeting = FALSE),mean.model = list(armaOrder = c(0,1), include.mean = TRUE, archm = FALSE, archpow = 1, arfima = FALSE, external.regressors = NULL, archex = FALSE),distribution.model = \"norm\")\n",
    "myfit=ugarchfit(myspec,data=tsValuesLog_d_1[3:103],solver=\"solnp\")\n",
    "forc = ugarchforecast(myfit,n.ahead = 1)\n",
    "print(forc)\n",
    "myspec=ugarchspec(variance.model = list(model = \"sGARCH\", garchOrder = c(1, 1), submodel = NULL, external.regressors = NULL, variance.targeting = FALSE),mean.model = list(armaOrder = c(0,1), include.mean = TRUE, archm = FALSE, archpow = 1, arfima = FALSE, external.regressors = NULL, archex = FALSE),distribution.model = \"norm\")\n",
    "myfit=ugarchfit(myspec,data=tsValuesLog_d_1[4:104],solver=\"solnp\")\n",
    "forc = ugarchforecast(myfit,n.ahead = 1)\n",
    "print(forc)\n",
    "myspec=ugarchspec(variance.model = list(model = \"sGARCH\", garchOrder = c(1, 1), submodel = NULL, external.regressors = NULL, variance.targeting = FALSE),mean.model = list(armaOrder = c(0,1), include.mean = TRUE, archm = FALSE, archpow = 1, arfima = FALSE, external.regressors = NULL, archex = FALSE),distribution.model = \"norm\")\n",
    "myfit=ugarchfit(myspec,data=tsValuesLog_d_1[5:105],solver=\"solnp\")\n",
    "forc = ugarchforecast(myfit,n.ahead = 1)\n",
    "print(forc)\n",
    "myspec=ugarchspec(variance.model = list(model = \"sGARCH\", garchOrder = c(1, 1), submodel = NULL, external.regressors = NULL, variance.targeting = FALSE),mean.model = list(armaOrder = c(0,1), include.mean = TRUE, archm = FALSE, archpow = 1, arfima = FALSE, external.regressors = NULL, archex = FALSE),distribution.model = \"norm\")\n",
    "myfit=ugarchfit(myspec,data=tsValuesLog_d_1[6:106],solver=\"solnp\")\n",
    "forc = ugarchforecast(myfit,n.ahead = 1)\n",
    "print(forc)\n",
    "myspec=ugarchspec(variance.model = list(model = \"sGARCH\", garchOrder = c(1, 1), submodel = NULL, external.regressors = NULL, variance.targeting = FALSE),mean.model = list(armaOrder = c(0,1), include.mean = TRUE, archm = FALSE, archpow = 1, arfima = FALSE, external.regressors = NULL, archex = FALSE),distribution.model = \"norm\")\n",
    "myfit=ugarchfit(myspec,data=tsValuesLog_d_1[7:107],solver=\"solnp\")\n",
    "forc = ugarchforecast(myfit,n.ahead = 1)\n",
    "print(forc)\n",
    "myspec=ugarchspec(variance.model = list(model = \"sGARCH\", garchOrder = c(1, 1), submodel = NULL, external.regressors = NULL, variance.targeting = FALSE),mean.model = list(armaOrder = c(0,1), include.mean = TRUE, archm = FALSE, archpow = 1, arfima = FALSE, external.regressors = NULL, archex = FALSE),distribution.model = \"norm\")\n",
    "myfit=ugarchfit(myspec,data=tsValuesLog_d_1[8:108],solver=\"solnp\")\n",
    "forc = ugarchforecast(myfit,n.ahead = 1)\n",
    "print(forc)\n",
    "myspec=ugarchspec(variance.model = list(model = \"sGARCH\", garchOrder = c(1, 1), submodel = NULL, external.regressors = NULL, variance.targeting = FALSE),mean.model = list(armaOrder = c(0,1), include.mean = TRUE, archm = FALSE, archpow = 1, arfima = FALSE, external.regressors = NULL, archex = FALSE),distribution.model = \"norm\")\n",
    "myfit=ugarchfit(myspec,data=tsValuesLog_d_1[9:109],solver=\"solnp\")\n",
    "forc = ugarchforecast(myfit,n.ahead = 1)\n",
    "print(forc)\n",
    "myspec=ugarchspec(variance.model = list(model = \"sGARCH\", garchOrder = c(1, 1), submodel = NULL, external.regressors = NULL, variance.targeting = FALSE),mean.model = list(armaOrder = c(0,1), include.mean = TRUE, archm = FALSE, archpow = 1, arfima = FALSE, external.regressors = NULL, archex = FALSE),distribution.model = \"norm\")\n",
    "myfit=ugarchfit(myspec,data=tsValuesLog_d_1[10:110],solver=\"solnp\")\n",
    "forc = ugarchforecast(myfit,n.ahead = 1)\n",
    "print(forc)\n",
    "myspec=ugarchspec(variance.model = list(model = \"sGARCH\", garchOrder = c(1, 1), submodel = NULL, external.regressors = NULL, variance.targeting = FALSE),mean.model = list(armaOrder = c(0,1), include.mean = TRUE, archm = FALSE, archpow = 1, arfima = FALSE, external.regressors = NULL, archex = FALSE),distribution.model = \"norm\")\n",
    "myfit=ugarchfit(myspec,data=tsValuesLog_d_1[11:111],solver=\"solnp\")\n",
    "forc = ugarchforecast(myfit,n.ahead = 1)\n",
    "print(forc)\n",
    "myspec=ugarchspec(variance.model = list(model = \"sGARCH\", garchOrder = c(1, 1), submodel = NULL, external.regressors = NULL, variance.targeting = FALSE),mean.model = list(armaOrder = c(0,1), include.mean = TRUE, archm = FALSE, archpow = 1, arfima = FALSE, external.regressors = NULL, archex = FALSE),distribution.model = \"norm\")\n",
    "myfit=ugarchfit(myspec,data=tsValuesLog_d_1[12:112],solver=\"solnp\")\n",
    "forc = ugarchforecast(myfit,n.ahead = 1)\n",
    "print(forc)\n",
    "myspec=ugarchspec(variance.model = list(model = \"sGARCH\", garchOrder = c(1, 1), submodel = NULL, external.regressors = NULL, variance.targeting = FALSE),mean.model = list(armaOrder = c(0,1), include.mean = TRUE, archm = FALSE, archpow = 1, arfima = FALSE, external.regressors = NULL, archex = FALSE),distribution.model = \"norm\")\n",
    "myfit=ugarchfit(myspec,data=tsValuesLog_d_1[13:113],solver=\"solnp\")\n",
    "forc = ugarchforecast(myfit,n.ahead = 1)\n",
    "print(forc)\n",
    "myspec=ugarchspec(variance.model = list(model = \"sGARCH\", garchOrder = c(1, 1), submodel = NULL, external.regressors = NULL, variance.targeting = FALSE),mean.model = list(armaOrder = c(0,1), include.mean = TRUE, archm = FALSE, archpow = 1, arfima = FALSE, external.regressors = NULL, archex = FALSE),distribution.model = \"norm\")\n",
    "myfit=ugarchfit(myspec,data=tsValuesLog_d_1[14:114],solver=\"solnp\")\n",
    "forc = ugarchforecast(myfit,n.ahead = 1)\n",
    "print(forc)\n",
    "myspec=ugarchspec(variance.model = list(model = \"sGARCH\", garchOrder = c(1, 1), submodel = NULL, external.regressors = NULL, variance.targeting = FALSE),mean.model = list(armaOrder = c(0,1), include.mean = TRUE, archm = FALSE, archpow = 1, arfima = FALSE, external.regressors = NULL, archex = FALSE),distribution.model = \"norm\")\n",
    "myfit=ugarchfit(myspec,data=tsValuesLog_d_1[15:115],solver=\"solnp\")\n",
    "forc = ugarchforecast(myfit,n.ahead = 1)\n",
    "print(forc)\n",
    "myspec=ugarchspec(variance.model = list(model = \"sGARCH\", garchOrder = c(1, 1), submodel = NULL, external.regressors = NULL, variance.targeting = FALSE),mean.model = list(armaOrder = c(0,1), include.mean = TRUE, archm = FALSE, archpow = 1, arfima = FALSE, external.regressors = NULL, archex = FALSE),distribution.model = \"norm\")\n",
    "myfit=ugarchfit(myspec,data=tsValuesLog_d_1[16:116],solver=\"solnp\")\n",
    "forc = ugarchforecast(myfit,n.ahead = 1)\n",
    "print(forc)\n",
    "myspec=ugarchspec(variance.model = list(model = \"sGARCH\", garchOrder = c(1, 1), submodel = NULL, external.regressors = NULL, variance.targeting = FALSE),mean.model = list(armaOrder = c(0,1), include.mean = TRUE, archm = FALSE, archpow = 1, arfima = FALSE, external.regressors = NULL, archex = FALSE),distribution.model = \"norm\")\n",
    "myfit=ugarchfit(myspec,data=tsValuesLog_d_1[17:117],solver=\"solnp\")\n",
    "forc = ugarchforecast(myfit,n.ahead = 1)\n",
    "print(forc)\n",
    "myspec=ugarchspec(variance.model = list(model = \"sGARCH\", garchOrder = c(1, 1), submodel = NULL, external.regressors = NULL, variance.targeting = FALSE),mean.model = list(armaOrder = c(0,1), include.mean = TRUE, archm = FALSE, archpow = 1, arfima = FALSE, external.regressors = NULL, archex = FALSE),distribution.model = \"norm\")\n",
    "myfit=ugarchfit(myspec,data=tsValuesLog_d_1[18:118],solver=\"solnp\")\n",
    "forc = ugarchforecast(myfit,n.ahead = 1)\n",
    "print(forc)\n",
    "myspec=ugarchspec(variance.model = list(model = \"sGARCH\", garchOrder = c(1, 1), submodel = NULL, external.regressors = NULL, variance.targeting = FALSE),mean.model = list(armaOrder = c(0,1), include.mean = TRUE, archm = FALSE, archpow = 1, arfima = FALSE, external.regressors = NULL, archex = FALSE),distribution.model = \"norm\")\n",
    "myfit=ugarchfit(myspec,data=tsValuesLog_d_1[19:119],solver=\"solnp\")\n",
    "forc = ugarchforecast(myfit,n.ahead = 1)\n",
    "print(forc)\n",
    "myspec=ugarchspec(variance.model = list(model = \"sGARCH\", garchOrder = c(1, 1), submodel = NULL, external.regressors = NULL, variance.targeting = FALSE),mean.model = list(armaOrder = c(0,1), include.mean = TRUE, archm = FALSE, archpow = 1, arfima = FALSE, external.regressors = NULL, archex = FALSE),distribution.model = \"norm\")\n",
    "myfit=ugarchfit(myspec,data=tsValuesLog_d_1[20:120],solver=\"solnp\")\n",
    "forc = ugarchforecast(myfit,n.ahead = 1)\n",
    "print(forc)\n",
    "myspec=ugarchspec(variance.model = list(model = \"sGARCH\", garchOrder = c(1, 1), submodel = NULL, external.regressors = NULL, variance.targeting = FALSE),mean.model = list(armaOrder = c(0,1), include.mean = TRUE, archm = FALSE, archpow = 1, arfima = FALSE, external.regressors = NULL, archex = FALSE),distribution.model = \"norm\")\n",
    "myfit=ugarchfit(myspec,data=tsValuesLog_d_1[21:121],solver=\"solnp\")\n",
    "forc = ugarchforecast(myfit,n.ahead = 1)\n",
    "print(forc)\n",
    "myspec=ugarchspec(variance.model = list(model = \"sGARCH\", garchOrder = c(1, 1), submodel = NULL, external.regressors = NULL, variance.targeting = FALSE),mean.model = list(armaOrder = c(0,1), include.mean = TRUE, archm = FALSE, archpow = 1, arfima = FALSE, external.regressors = NULL, archex = FALSE),distribution.model = \"norm\")\n",
    "myfit=ugarchfit(myspec,data=tsValuesLog_d_1[22:122],solver=\"solnp\")\n",
    "forc = ugarchforecast(myfit,n.ahead = 1)\n",
    "print(forc)\n",
    "myspec=ugarchspec(variance.model = list(model = \"sGARCH\", garchOrder = c(1, 1), submodel = NULL, external.regressors = NULL, variance.targeting = FALSE),mean.model = list(armaOrder = c(0,1), include.mean = TRUE, archm = FALSE, archpow = 1, arfima = FALSE, external.regressors = NULL, archex = FALSE),distribution.model = \"norm\")\n",
    "myfit=ugarchfit(myspec,data=tsValuesLog_d_1[23:123],solver=\"solnp\")\n",
    "forc = ugarchforecast(myfit,n.ahead = 1)\n",
    "print(forc)\n",
    "myspec=ugarchspec(variance.model = list(model = \"sGARCH\", garchOrder = c(1, 1), submodel = NULL, external.regressors = NULL, variance.targeting = FALSE),mean.model = list(armaOrder = c(0,1), include.mean = TRUE, archm = FALSE, archpow = 1, arfima = FALSE, external.regressors = NULL, archex = FALSE),distribution.model = \"norm\")\n",
    "myfit=ugarchfit(myspec,data=tsValuesLog_d_1[24:124],solver=\"solnp\")\n",
    "forc = ugarchforecast(myfit,n.ahead = 1)\n",
    "print(forc)\n",
    "myspec=ugarchspec(variance.model = list(model = \"sGARCH\", garchOrder = c(1, 1), submodel = NULL, external.regressors = NULL, variance.targeting = FALSE),mean.model = list(armaOrder = c(0,1), include.mean = TRUE, archm = FALSE, archpow = 1, arfima = FALSE, external.regressors = NULL, archex = FALSE),distribution.model = \"norm\")\n",
    "myfit=ugarchfit(myspec,data=tsValuesLog_d_1[25:125],solver=\"solnp\")\n",
    "forc = ugarchforecast(myfit,n.ahead = 1)\n",
    "print(forc)\n",
    "myspec=ugarchspec(variance.model = list(model = \"sGARCH\", garchOrder = c(1, 1), submodel = NULL, external.regressors = NULL, variance.targeting = FALSE),mean.model = list(armaOrder = c(0,1), include.mean = TRUE, archm = FALSE, archpow = 1, arfima = FALSE, external.regressors = NULL, archex = FALSE),distribution.model = \"norm\")\n",
    "myfit=ugarchfit(myspec,data=tsValuesLog_d_1[26:126],solver=\"solnp\")\n",
    "forc = ugarchforecast(myfit,n.ahead = 1)\n",
    "print(forc)\n",
    "myspec=ugarchspec(variance.model = list(model = \"sGARCH\", garchOrder = c(1, 1), submodel = NULL, external.regressors = NULL, variance.targeting = FALSE),mean.model = list(armaOrder = c(0,1), include.mean = TRUE, archm = FALSE, archpow = 1, arfima = FALSE, external.regressors = NULL, archex = FALSE),distribution.model = \"norm\")\n",
    "myfit=ugarchfit(myspec,data=tsValuesLog_d_1[27:127],solver=\"solnp\")\n",
    "forc = ugarchforecast(myfit,n.ahead = 1)\n",
    "print(forc)\n",
    "myspec=ugarchspec(variance.model = list(model = \"sGARCH\", garchOrder = c(1, 1), submodel = NULL, external.regressors = NULL, variance.targeting = FALSE),mean.model = list(armaOrder = c(0,1), include.mean = TRUE, archm = FALSE, archpow = 1, arfima = FALSE, external.regressors = NULL, archex = FALSE),distribution.model = \"norm\")\n",
    "myfit=ugarchfit(myspec,data=tsValuesLog_d_1[28:128],solver=\"solnp\")\n",
    "forc = ugarchforecast(myfit,n.ahead = 1)\n",
    "print(forc)\n",
    "myspec=ugarchspec(variance.model = list(model = \"sGARCH\", garchOrder = c(1, 1), submodel = NULL, external.regressors = NULL, variance.targeting = FALSE),mean.model = list(armaOrder = c(0,1), include.mean = TRUE, archm = FALSE, archpow = 1, arfima = FALSE, external.regressors = NULL, archex = FALSE),distribution.model = \"norm\")\n",
    "myfit=ugarchfit(myspec,data=tsValuesLog_d_1[29:129],solver=\"solnp\")\n",
    "forc = ugarchforecast(myfit,n.ahead = 1)\n",
    "print(forc)\n",
    "myspec=ugarchspec(variance.model = list(model = \"sGARCH\", garchOrder = c(1, 1), submodel = NULL, external.regressors = NULL, variance.targeting = FALSE),mean.model = list(armaOrder = c(0,1), include.mean = TRUE, archm = FALSE, archpow = 1, arfima = FALSE, external.regressors = NULL, archex = FALSE),distribution.model = \"norm\")\n",
    "myfit=ugarchfit(myspec,data=tsValuesLog_d_1[30:130],solver=\"solnp\")\n",
    "forc = ugarchforecast(myfit,n.ahead = 1)\n",
    "print(forc)\n",
    "myspec=ugarchspec(variance.model = list(model = \"sGARCH\", garchOrder = c(1, 1), submodel = NULL, external.regressors = NULL, variance.targeting = FALSE),mean.model = list(armaOrder = c(0,1), include.mean = TRUE, archm = FALSE, archpow = 1, arfima = FALSE, external.regressors = NULL, archex = FALSE),distribution.model = \"norm\")\n",
    "myfit=ugarchfit(myspec,data=tsValuesLog_d_1[31:131],solver=\"solnp\")\n",
    "forc = ugarchforecast(myfit,n.ahead = 1)\n",
    "print(forc)\n",
    "myspec=ugarchspec(variance.model = list(model = \"sGARCH\", garchOrder = c(1, 1), submodel = NULL, external.regressors = NULL, variance.targeting = FALSE),mean.model = list(armaOrder = c(0,1), include.mean = TRUE, archm = FALSE, archpow = 1, arfima = FALSE, external.regressors = NULL, archex = FALSE),distribution.model = \"norm\")\n",
    "myfit=ugarchfit(myspec,data=tsValuesLog_d_1[32:132],solver=\"solnp\")\n",
    "forc = ugarchforecast(myfit,n.ahead = 1)\n",
    "print(forc)\n",
    "myspec=ugarchspec(variance.model = list(model = \"sGARCH\", garchOrder = c(1, 1), submodel = NULL, external.regressors = NULL, variance.targeting = FALSE),mean.model = list(armaOrder = c(0,1), include.mean = TRUE, archm = FALSE, archpow = 1, arfima = FALSE, external.regressors = NULL, archex = FALSE),distribution.model = \"norm\")\n",
    "myfit=ugarchfit(myspec,data=tsValuesLog_d_1[33:133],solver=\"solnp\")\n",
    "forc = ugarchforecast(myfit,n.ahead = 1)\n",
    "print(forc)\n",
    "myspec=ugarchspec(variance.model = list(model = \"sGARCH\", garchOrder = c(1, 1), submodel = NULL, external.regressors = NULL, variance.targeting = FALSE),mean.model = list(armaOrder = c(0,1), include.mean = TRUE, archm = FALSE, archpow = 1, arfima = FALSE, external.regressors = NULL, archex = FALSE),distribution.model = \"norm\")\n",
    "myfit=ugarchfit(myspec,data=tsValuesLog_d_1[34:134],solver=\"solnp\")\n",
    "forc = ugarchforecast(myfit,n.ahead = 1)\n",
    "print(forc)\n",
    "myspec=ugarchspec(variance.model = list(model = \"sGARCH\", garchOrder = c(1, 1), submodel = NULL, external.regressors = NULL, variance.targeting = FALSE),mean.model = list(armaOrder = c(0,1), include.mean = TRUE, archm = FALSE, archpow = 1, arfima = FALSE, external.regressors = NULL, archex = FALSE),distribution.model = \"norm\")\n",
    "myfit=ugarchfit(myspec,data=tsValuesLog_d_1[35:135],solver=\"solnp\")\n",
    "forc = ugarchforecast(myfit,n.ahead = 1)\n",
    "print(forc)\n",
    "myspec=ugarchspec(variance.model = list(model = \"sGARCH\", garchOrder = c(1, 1), submodel = NULL, external.regressors = NULL, variance.targeting = FALSE),mean.model = list(armaOrder = c(0,1), include.mean = TRUE, archm = FALSE, archpow = 1, arfima = FALSE, external.regressors = NULL, archex = FALSE),distribution.model = \"norm\")\n",
    "myfit=ugarchfit(myspec,data=tsValuesLog_d_1[36:136],solver=\"solnp\")\n",
    "forc = ugarchforecast(myfit,n.ahead = 1)\n",
    "print(forc)\n",
    "myspec=ugarchspec(variance.model = list(model = \"sGARCH\", garchOrder = c(1, 1), submodel = NULL, external.regressors = NULL, variance.targeting = FALSE),mean.model = list(armaOrder = c(0,1), include.mean = TRUE, archm = FALSE, archpow = 1, arfima = FALSE, external.regressors = NULL, archex = FALSE),distribution.model = \"norm\")\n",
    "myfit=ugarchfit(myspec,data=tsValuesLog_d_1[37:137],solver=\"solnp\")\n",
    "forc = ugarchforecast(myfit,n.ahead = 1)\n",
    "print(forc)\n",
    "myspec=ugarchspec(variance.model = list(model = \"sGARCH\", garchOrder = c(1, 1), submodel = NULL, external.regressors = NULL, variance.targeting = FALSE),mean.model = list(armaOrder = c(0,1), include.mean = TRUE, archm = FALSE, archpow = 1, arfima = FALSE, external.regressors = NULL, archex = FALSE),distribution.model = \"norm\")\n",
    "myfit=ugarchfit(myspec,data=tsValuesLog_d_1[38:138],solver=\"solnp\")\n",
    "forc = ugarchforecast(myfit,n.ahead = 1)\n",
    "print(forc)\n",
    "myspec=ugarchspec(variance.model = list(model = \"sGARCH\", garchOrder = c(1, 1), submodel = NULL, external.regressors = NULL, variance.targeting = FALSE),mean.model = list(armaOrder = c(0,1), include.mean = TRUE, archm = FALSE, archpow = 1, arfima = FALSE, external.regressors = NULL, archex = FALSE),distribution.model = \"norm\")\n",
    "myfit=ugarchfit(myspec,data=tsValuesLog_d_1[39:139],solver=\"solnp\")\n",
    "forc = ugarchforecast(myfit,n.ahead = 1)\n",
    "print(forc)\n",
    "myspec=ugarchspec(variance.model = list(model = \"sGARCH\", garchOrder = c(1, 1), submodel = NULL, external.regressors = NULL, variance.targeting = FALSE),mean.model = list(armaOrder = c(0,1), include.mean = TRUE, archm = FALSE, archpow = 1, arfima = FALSE, external.regressors = NULL, archex = FALSE),distribution.model = \"norm\")\n",
    "myfit=ugarchfit(myspec,data=tsValuesLog_d_1[40:140],solver=\"solnp\")\n",
    "forc = ugarchforecast(myfit,n.ahead = 1)\n",
    "print(forc)\n",
    "myspec=ugarchspec(variance.model = list(model = \"sGARCH\", garchOrder = c(1, 1), submodel = NULL, external.regressors = NULL, variance.targeting = FALSE),mean.model = list(armaOrder = c(0,1), include.mean = TRUE, archm = FALSE, archpow = 1, arfima = FALSE, external.regressors = NULL, archex = FALSE),distribution.model = \"norm\")\n",
    "myfit=ugarchfit(myspec,data=tsValuesLog_d_1[41:141],solver=\"solnp\")\n",
    "forc = ugarchforecast(myfit,n.ahead = 1)\n",
    "print(forc)\n",
    "myspec=ugarchspec(variance.model = list(model = \"sGARCH\", garchOrder = c(1, 1), submodel = NULL, external.regressors = NULL, variance.targeting = FALSE),mean.model = list(armaOrder = c(0,1), include.mean = TRUE, archm = FALSE, archpow = 1, arfima = FALSE, external.regressors = NULL, archex = FALSE),distribution.model = \"norm\")\n",
    "myfit=ugarchfit(myspec,data=tsValuesLog_d_1[42:142],solver=\"solnp\")\n",
    "forc = ugarchforecast(myfit,n.ahead = 1)\n",
    "print(forc)\n",
    "myspec=ugarchspec(variance.model = list(model = \"sGARCH\", garchOrder = c(1, 1), submodel = NULL, external.regressors = NULL, variance.targeting = FALSE),mean.model = list(armaOrder = c(0,1), include.mean = TRUE, archm = FALSE, archpow = 1, arfima = FALSE, external.regressors = NULL, archex = FALSE),distribution.model = \"norm\")\n",
    "myfit=ugarchfit(myspec,data=tsValuesLog_d_1[43:143],solver=\"solnp\")\n",
    "forc = ugarchforecast(myfit,n.ahead = 1)\n",
    "print(forc)\n",
    "myspec=ugarchspec(variance.model = list(model = \"sGARCH\", garchOrder = c(1, 1), submodel = NULL, external.regressors = NULL, variance.targeting = FALSE),mean.model = list(armaOrder = c(0,1), include.mean = TRUE, archm = FALSE, archpow = 1, arfima = FALSE, external.regressors = NULL, archex = FALSE),distribution.model = \"norm\")\n",
    "myfit=ugarchfit(myspec,data=tsValuesLog_d_1[44:144],solver=\"solnp\")\n",
    "forc = ugarchforecast(myfit,n.ahead = 1)\n",
    "print(forc)\n",
    "myspec=ugarchspec(variance.model = list(model = \"sGARCH\", garchOrder = c(1, 1), submodel = NULL, external.regressors = NULL, variance.targeting = FALSE),mean.model = list(armaOrder = c(0,1), include.mean = TRUE, archm = FALSE, archpow = 1, arfima = FALSE, external.regressors = NULL, archex = FALSE),distribution.model = \"norm\")\n",
    "myfit=ugarchfit(myspec,data=tsValuesLog_d_1[45:145],solver=\"solnp\")\n",
    "forc = ugarchforecast(myfit,n.ahead = 1)\n",
    "print(forc)\n",
    "myspec=ugarchspec(variance.model = list(model = \"sGARCH\", garchOrder = c(1, 1), submodel = NULL, external.regressors = NULL, variance.targeting = FALSE),mean.model = list(armaOrder = c(0,1), include.mean = TRUE, archm = FALSE, archpow = 1, arfima = FALSE, external.regressors = NULL, archex = FALSE),distribution.model = \"norm\")\n",
    "myfit=ugarchfit(myspec,data=tsValuesLog_d_1[46:146],solver=\"solnp\")\n",
    "forc = ugarchforecast(myfit,n.ahead = 1)\n",
    "print(forc)\n",
    "myspec=ugarchspec(variance.model = list(model = \"sGARCH\", garchOrder = c(1, 1), submodel = NULL, external.regressors = NULL, variance.targeting = FALSE),mean.model = list(armaOrder = c(0,1), include.mean = TRUE, archm = FALSE, archpow = 1, arfima = FALSE, external.regressors = NULL, archex = FALSE),distribution.model = \"norm\")\n",
    "myfit=ugarchfit(myspec,data=tsValuesLog_d_1[47:147],solver=\"solnp\")\n",
    "forc = ugarchforecast(myfit,n.ahead = 1)\n",
    "print(forc)\n",
    "myspec=ugarchspec(variance.model = list(model = \"sGARCH\", garchOrder = c(1, 1), submodel = NULL, external.regressors = NULL, variance.targeting = FALSE),mean.model = list(armaOrder = c(0,1), include.mean = TRUE, archm = FALSE, archpow = 1, arfima = FALSE, external.regressors = NULL, archex = FALSE),distribution.model = \"norm\")\n",
    "myfit=ugarchfit(myspec,data=tsValuesLog_d_1[48:148],solver=\"solnp\")\n",
    "forc = ugarchforecast(myfit,n.ahead = 1)\n",
    "print(forc)\n",
    "myspec=ugarchspec(variance.model = list(model = \"sGARCH\", garchOrder = c(1, 1), submodel = NULL, external.regressors = NULL, variance.targeting = FALSE),mean.model = list(armaOrder = c(0,1), include.mean = TRUE, archm = FALSE, archpow = 1, arfima = FALSE, external.regressors = NULL, archex = FALSE),distribution.model = \"norm\")\n",
    "myfit=ugarchfit(myspec,data=tsValuesLog_d_1[49:149],solver=\"solnp\")\n",
    "forc = ugarchforecast(myfit,n.ahead = 1)\n",
    "print(forc)\n",
    "myspec=ugarchspec(variance.model = list(model = \"sGARCH\", garchOrder = c(1, 1), submodel = NULL, external.regressors = NULL, variance.targeting = FALSE),mean.model = list(armaOrder = c(0,1), include.mean = TRUE, archm = FALSE, archpow = 1, arfima = FALSE, external.regressors = NULL, archex = FALSE),distribution.model = \"norm\")\n",
    "myfit=ugarchfit(myspec,data=tsValuesLog_d_1[50:150],solver=\"solnp\")\n",
    "forc = ugarchforecast(myfit,n.ahead = 1)\n",
    "print(forc)\n",
    "myspec=ugarchspec(variance.model = list(model = \"sGARCH\", garchOrder = c(1, 1), submodel = NULL, external.regressors = NULL, variance.targeting = FALSE),mean.model = list(armaOrder = c(0,1), include.mean = TRUE, archm = FALSE, archpow = 1, arfima = FALSE, external.regressors = NULL, archex = FALSE),distribution.model = \"norm\")\n",
    "myfit=ugarchfit(myspec,data=tsValuesLog_d_1[51:151],solver=\"solnp\")\n",
    "forc = ugarchforecast(myfit,n.ahead = 1)\n",
    "print(forc)\n",
    "myspec=ugarchspec(variance.model = list(model = \"sGARCH\", garchOrder = c(1, 1), submodel = NULL, external.regressors = NULL, variance.targeting = FALSE),mean.model = list(armaOrder = c(0,1), include.mean = TRUE, archm = FALSE, archpow = 1, arfima = FALSE, external.regressors = NULL, archex = FALSE),distribution.model = \"norm\")\n",
    "myfit=ugarchfit(myspec,data=tsValuesLog_d_1[52:152],solver=\"solnp\")\n",
    "forc = ugarchforecast(myfit,n.ahead = 1)\n",
    "print(forc)\n",
    "myspec=ugarchspec(variance.model = list(model = \"sGARCH\", garchOrder = c(1, 1), submodel = NULL, external.regressors = NULL, variance.targeting = FALSE),mean.model = list(armaOrder = c(0,1), include.mean = TRUE, archm = FALSE, archpow = 1, arfima = FALSE, external.regressors = NULL, archex = FALSE),distribution.model = \"norm\")\n",
    "myfit=ugarchfit(myspec,data=tsValuesLog_d_1[53:153],solver=\"solnp\")\n",
    "forc = ugarchforecast(myfit,n.ahead = 1)\n",
    "print(forc)\n",
    "myspec=ugarchspec(variance.model = list(model = \"sGARCH\", garchOrder = c(1, 1), submodel = NULL, external.regressors = NULL, variance.targeting = FALSE),mean.model = list(armaOrder = c(0,1), include.mean = TRUE, archm = FALSE, archpow = 1, arfima = FALSE, external.regressors = NULL, archex = FALSE),distribution.model = \"norm\")\n",
    "myfit=ugarchfit(myspec,data=tsValuesLog_d_1[54:154],solver=\"solnp\")\n",
    "forc = ugarchforecast(myfit,n.ahead = 1)\n",
    "print(forc)\n",
    "myspec=ugarchspec(variance.model = list(model = \"sGARCH\", garchOrder = c(1, 1), submodel = NULL, external.regressors = NULL, variance.targeting = FALSE),mean.model = list(armaOrder = c(0,1), include.mean = TRUE, archm = FALSE, archpow = 1, arfima = FALSE, external.regressors = NULL, archex = FALSE),distribution.model = \"norm\")\n",
    "myfit=ugarchfit(myspec,data=tsValuesLog_d_1[55:155],solver=\"solnp\")\n",
    "forc = ugarchforecast(myfit,n.ahead = 1)\n",
    "print(forc)\n",
    "myspec=ugarchspec(variance.model = list(model = \"sGARCH\", garchOrder = c(1, 1), submodel = NULL, external.regressors = NULL, variance.targeting = FALSE),mean.model = list(armaOrder = c(0,1), include.mean = TRUE, archm = FALSE, archpow = 1, arfima = FALSE, external.regressors = NULL, archex = FALSE),distribution.model = \"norm\")\n",
    "myfit=ugarchfit(myspec,data=tsValuesLog_d_1[56:156],solver=\"solnp\")\n",
    "forc = ugarchforecast(myfit,n.ahead = 1)\n",
    "print(forc)\n",
    "myspec=ugarchspec(variance.model = list(model = \"sGARCH\", garchOrder = c(1, 1), submodel = NULL, external.regressors = NULL, variance.targeting = FALSE),mean.model = list(armaOrder = c(0,1), include.mean = TRUE, archm = FALSE, archpow = 1, arfima = FALSE, external.regressors = NULL, archex = FALSE),distribution.model = \"norm\")\n",
    "myfit=ugarchfit(myspec,data=tsValuesLog_d_1[57:157],solver=\"solnp\")\n",
    "forc = ugarchforecast(myfit,n.ahead = 1)\n",
    "print(forc)\n",
    "myspec=ugarchspec(variance.model = list(model = \"sGARCH\", garchOrder = c(1, 1), submodel = NULL, external.regressors = NULL, variance.targeting = FALSE),mean.model = list(armaOrder = c(0,1), include.mean = TRUE, archm = FALSE, archpow = 1, arfima = FALSE, external.regressors = NULL, archex = FALSE),distribution.model = \"norm\")\n",
    "myfit=ugarchfit(myspec,data=tsValuesLog_d_1[58:158],solver=\"solnp\")\n",
    "forc = ugarchforecast(myfit,n.ahead = 1)\n",
    "print(forc)\n",
    "myspec=ugarchspec(variance.model = list(model = \"sGARCH\", garchOrder = c(1, 1), submodel = NULL, external.regressors = NULL, variance.targeting = FALSE),mean.model = list(armaOrder = c(0,1), include.mean = TRUE, archm = FALSE, archpow = 1, arfima = FALSE, external.regressors = NULL, archex = FALSE),distribution.model = \"norm\")\n",
    "myfit=ugarchfit(myspec,data=tsValuesLog_d_1[59:159],solver=\"solnp\")\n",
    "forc = ugarchforecast(myfit,n.ahead = 1)\n",
    "print(forc)\n",
    "myspec=ugarchspec(variance.model = list(model = \"sGARCH\", garchOrder = c(1, 1), submodel = NULL, external.regressors = NULL, variance.targeting = FALSE),mean.model = list(armaOrder = c(0,1), include.mean = TRUE, archm = FALSE, archpow = 1, arfima = FALSE, external.regressors = NULL, archex = FALSE),distribution.model = \"norm\")\n",
    "myfit=ugarchfit(myspec,data=tsValuesLog_d_1[60:160],solver=\"solnp\")\n",
    "forc = ugarchforecast(myfit,n.ahead = 1)\n",
    "print(forc)\n",
    "myspec=ugarchspec(variance.model = list(model = \"sGARCH\", garchOrder = c(1, 1), submodel = NULL, external.regressors = NULL, variance.targeting = FALSE),mean.model = list(armaOrder = c(0,1), include.mean = TRUE, archm = FALSE, archpow = 1, arfima = FALSE, external.regressors = NULL, archex = FALSE),distribution.model = \"norm\")\n",
    "myfit=ugarchfit(myspec,data=tsValuesLog_d_1[61:161],solver=\"solnp\")\n",
    "forc = ugarchforecast(myfit,n.ahead = 1)\n",
    "print(forc)\n",
    "myspec=ugarchspec(variance.model = list(model = \"sGARCH\", garchOrder = c(1, 1), submodel = NULL, external.regressors = NULL, variance.targeting = FALSE),mean.model = list(armaOrder = c(0,1), include.mean = TRUE, archm = FALSE, archpow = 1, arfima = FALSE, external.regressors = NULL, archex = FALSE),distribution.model = \"norm\")\n",
    "myfit=ugarchfit(myspec,data=tsValuesLog_d_1[62:162],solver=\"solnp\")\n",
    "forc = ugarchforecast(myfit,n.ahead = 1)\n",
    "print(forc)\n",
    "myspec=ugarchspec(variance.model = list(model = \"sGARCH\", garchOrder = c(1, 1), submodel = NULL, external.regressors = NULL, variance.targeting = FALSE),mean.model = list(armaOrder = c(0,1), include.mean = TRUE, archm = FALSE, archpow = 1, arfima = FALSE, external.regressors = NULL, archex = FALSE),distribution.model = \"norm\")\n",
    "myfit=ugarchfit(myspec,data=tsValuesLog_d_1[63:163],solver=\"solnp\")\n",
    "forc = ugarchforecast(myfit,n.ahead = 1)\n",
    "print(forc)\n",
    "myspec=ugarchspec(variance.model = list(model = \"sGARCH\", garchOrder = c(1, 1), submodel = NULL, external.regressors = NULL, variance.targeting = FALSE),mean.model = list(armaOrder = c(0,1), include.mean = TRUE, archm = FALSE, archpow = 1, arfima = FALSE, external.regressors = NULL, archex = FALSE),distribution.model = \"norm\")\n",
    "myfit=ugarchfit(myspec,data=tsValuesLog_d_1[64:164],solver=\"solnp\")\n",
    "forc = ugarchforecast(myfit,n.ahead = 1)\n",
    "print(forc)\n",
    "myspec=ugarchspec(variance.model = list(model = \"sGARCH\", garchOrder = c(1, 1), submodel = NULL, external.regressors = NULL, variance.targeting = FALSE),mean.model = list(armaOrder = c(0,1), include.mean = TRUE, archm = FALSE, archpow = 1, arfima = FALSE, external.regressors = NULL, archex = FALSE),distribution.model = \"norm\")\n",
    "myfit=ugarchfit(myspec,data=tsValuesLog_d_1[65:165],solver=\"solnp\")\n",
    "forc = ugarchforecast(myfit,n.ahead = 1)\n",
    "print(forc)\n",
    "myspec=ugarchspec(variance.model = list(model = \"sGARCH\", garchOrder = c(1, 1), submodel = NULL, external.regressors = NULL, variance.targeting = FALSE),mean.model = list(armaOrder = c(0,1), include.mean = TRUE, archm = FALSE, archpow = 1, arfima = FALSE, external.regressors = NULL, archex = FALSE),distribution.model = \"norm\")\n",
    "myfit=ugarchfit(myspec,data=tsValuesLog_d_1[66:166],solver=\"solnp\")\n",
    "forc = ugarchforecast(myfit,n.ahead = 1)\n",
    "print(forc)\n",
    "myspec=ugarchspec(variance.model = list(model = \"sGARCH\", garchOrder = c(1, 1), submodel = NULL, external.regressors = NULL, variance.targeting = FALSE),mean.model = list(armaOrder = c(0,1), include.mean = TRUE, archm = FALSE, archpow = 1, arfima = FALSE, external.regressors = NULL, archex = FALSE),distribution.model = \"norm\")\n",
    "myfit=ugarchfit(myspec,data=tsValuesLog_d_1[67:167],solver=\"solnp\")\n",
    "forc = ugarchforecast(myfit,n.ahead = 1)\n",
    "print(forc)\n",
    "myspec=ugarchspec(variance.model = list(model = \"sGARCH\", garchOrder = c(1, 1), submodel = NULL, external.regressors = NULL, variance.targeting = FALSE),mean.model = list(armaOrder = c(0,1), include.mean = TRUE, archm = FALSE, archpow = 1, arfima = FALSE, external.regressors = NULL, archex = FALSE),distribution.model = \"norm\")\n",
    "myfit=ugarchfit(myspec,data=tsValuesLog_d_1[68:168],solver=\"solnp\")\n",
    "forc = ugarchforecast(myfit,n.ahead = 1)\n",
    "print(forc)\n",
    "myspec=ugarchspec(variance.model = list(model = \"sGARCH\", garchOrder = c(1, 1), submodel = NULL, external.regressors = NULL, variance.targeting = FALSE),mean.model = list(armaOrder = c(0,1), include.mean = TRUE, archm = FALSE, archpow = 1, arfima = FALSE, external.regressors = NULL, archex = FALSE),distribution.model = \"norm\")\n",
    "myfit=ugarchfit(myspec,data=tsValuesLog_d_1[69:169],solver=\"solnp\")\n",
    "forc = ugarchforecast(myfit,n.ahead = 1)\n",
    "print(forc)\n",
    "myspec=ugarchspec(variance.model = list(model = \"sGARCH\", garchOrder = c(1, 1), submodel = NULL, external.regressors = NULL, variance.targeting = FALSE),mean.model = list(armaOrder = c(0,1), include.mean = TRUE, archm = FALSE, archpow = 1, arfima = FALSE, external.regressors = NULL, archex = FALSE),distribution.model = \"norm\")\n",
    "myfit=ugarchfit(myspec,data=tsValuesLog_d_1[70:170],solver=\"solnp\")\n",
    "forc = ugarchforecast(myfit,n.ahead = 1)\n",
    "print(forc)\n",
    "myspec=ugarchspec(variance.model = list(model = \"sGARCH\", garchOrder = c(1, 1), submodel = NULL, external.regressors = NULL, variance.targeting = FALSE),mean.model = list(armaOrder = c(0,1), include.mean = TRUE, archm = FALSE, archpow = 1, arfima = FALSE, external.regressors = NULL, archex = FALSE),distribution.model = \"norm\")\n",
    "myfit=ugarchfit(myspec,data=tsValuesLog_d_1[71:171],solver=\"solnp\")\n",
    "forc = ugarchforecast(myfit,n.ahead = 1)\n",
    "print(forc)\n",
    "myspec=ugarchspec(variance.model = list(model = \"sGARCH\", garchOrder = c(1, 1), submodel = NULL, external.regressors = NULL, variance.targeting = FALSE),mean.model = list(armaOrder = c(0,1), include.mean = TRUE, archm = FALSE, archpow = 1, arfima = FALSE, external.regressors = NULL, archex = FALSE),distribution.model = \"norm\")\n",
    "myfit=ugarchfit(myspec,data=tsValuesLog_d_1[72:172],solver=\"solnp\")\n",
    "forc = ugarchforecast(myfit,n.ahead = 1)\n",
    "print(forc)"
   ]
  },
  {
   "cell_type": "code",
   "execution_count": 128,
   "metadata": {
    "collapsed": false
   },
   "outputs": [
    {
     "name": "stdout",
     "output_type": "stream",
     "text": [
      "\n",
      "*------------------------------------*\n",
      "*       GARCH Model Forecast         *\n",
      "*------------------------------------*\n",
      "Model: sGARCH\n",
      "Horizon: 1\n",
      "Roll Steps: 0\n",
      "Out of Sample: 0\n",
      "\n",
      "0-roll forecast [T0=1970-04-11 08:00:00]:\n",
      "       Series    Sigma\n",
      "T+1 -0.002951 0.009811\n",
      "\n",
      "\n",
      "\n",
      "*------------------------------------*\n",
      "*       GARCH Model Forecast         *\n",
      "*------------------------------------*\n",
      "Model: sGARCH\n",
      "Horizon: 1\n",
      "Roll Steps: 0\n",
      "Out of Sample: 0\n",
      "\n",
      "0-roll forecast [T0=1970-04-12 08:00:00]:\n",
      "      Series   Sigma\n",
      "T+1 0.006578 0.01041\n",
      "\n",
      "\n",
      "\n",
      "*------------------------------------*\n",
      "*       GARCH Model Forecast         *\n",
      "*------------------------------------*\n",
      "Model: sGARCH\n",
      "Horizon: 1\n",
      "Roll Steps: 0\n",
      "Out of Sample: 0\n",
      "\n",
      "0-roll forecast [T0=1970-04-12 08:00:00]:\n",
      "      Series   Sigma\n",
      "T+1 0.003256 0.01026\n",
      "\n",
      "\n",
      "\n",
      "*------------------------------------*\n",
      "*       GARCH Model Forecast         *\n",
      "*------------------------------------*\n",
      "Model: sGARCH\n",
      "Horizon: 1\n",
      "Roll Steps: 0\n",
      "Out of Sample: 0\n",
      "\n",
      "0-roll forecast [T0=1970-04-12 08:00:00]:\n",
      "     Series   Sigma\n",
      "T+1 0.01802 0.01556\n",
      "\n",
      "\n",
      "\n",
      "*------------------------------------*\n",
      "*       GARCH Model Forecast         *\n",
      "*------------------------------------*\n",
      "Model: sGARCH\n",
      "Horizon: 1\n",
      "Roll Steps: 0\n",
      "Out of Sample: 0\n",
      "\n",
      "0-roll forecast [T0=1970-04-12 08:00:00]:\n",
      "       Series   Sigma\n",
      "T+1 -0.000464 0.01452\n",
      "\n",
      "\n",
      "\n",
      "*------------------------------------*\n",
      "*       GARCH Model Forecast         *\n",
      "*------------------------------------*\n",
      "Model: sGARCH\n",
      "Horizon: 1\n",
      "Roll Steps: 0\n",
      "Out of Sample: 0\n",
      "\n",
      "0-roll forecast [T0=1970-04-12 08:00:00]:\n",
      "       Series   Sigma\n",
      "T+1 9.642e-05 0.01367\n",
      "\n",
      "\n",
      "\n",
      "*------------------------------------*\n",
      "*       GARCH Model Forecast         *\n",
      "*------------------------------------*\n",
      "Model: sGARCH\n",
      "Horizon: 1\n",
      "Roll Steps: 0\n",
      "Out of Sample: 0\n",
      "\n",
      "0-roll forecast [T0=1970-04-12 08:00:00]:\n",
      "      Series   Sigma\n",
      "T+1 0.004186 0.01326\n",
      "\n",
      "\n",
      "\n",
      "*------------------------------------*\n",
      "*       GARCH Model Forecast         *\n",
      "*------------------------------------*\n",
      "Model: sGARCH\n",
      "Horizon: 1\n",
      "Roll Steps: 0\n",
      "Out of Sample: 0\n",
      "\n",
      "0-roll forecast [T0=1970-04-12 08:00:00]:\n",
      "       Series   Sigma\n",
      "T+1 -0.001805 0.01258\n",
      "\n",
      "\n",
      "\n",
      "*------------------------------------*\n",
      "*       GARCH Model Forecast         *\n",
      "*------------------------------------*\n",
      "Model: sGARCH\n",
      "Horizon: 1\n",
      "Roll Steps: 0\n",
      "Out of Sample: 0\n",
      "\n",
      "0-roll forecast [T0=1970-04-12 08:00:00]:\n",
      "      Series Sigma\n",
      "T+1 -0.00414 0.012\n",
      "\n",
      "\n",
      "\n",
      "*------------------------------------*\n",
      "*       GARCH Model Forecast         *\n",
      "*------------------------------------*\n",
      "Model: sGARCH\n",
      "Horizon: 1\n",
      "Roll Steps: 0\n",
      "Out of Sample: 0\n",
      "\n",
      "0-roll forecast [T0=1970-04-12 08:00:00]:\n",
      "       Series   Sigma\n",
      "T+1 -0.006202 0.01182\n",
      "\n",
      "\n",
      "\n",
      "*------------------------------------*\n",
      "*       GARCH Model Forecast         *\n",
      "*------------------------------------*\n",
      "Model: sGARCH\n",
      "Horizon: 1\n",
      "Roll Steps: 0\n",
      "Out of Sample: 0\n",
      "\n",
      "0-roll forecast [T0=1970-04-12 08:00:00]:\n",
      "       Series   Sigma\n",
      "T+1 -0.001042 0.01126\n",
      "\n",
      "\n",
      "\n",
      "*------------------------------------*\n",
      "*       GARCH Model Forecast         *\n",
      "*------------------------------------*\n",
      "Model: sGARCH\n",
      "Horizon: 1\n",
      "Roll Steps: 0\n",
      "Out of Sample: 0\n",
      "\n",
      "0-roll forecast [T0=1970-04-12 08:00:00]:\n",
      "       Series   Sigma\n",
      "T+1 -0.002044 0.01073\n",
      "\n",
      "\n",
      "\n",
      "*------------------------------------*\n",
      "*       GARCH Model Forecast         *\n",
      "*------------------------------------*\n",
      "Model: sGARCH\n",
      "Horizon: 1\n",
      "Roll Steps: 0\n",
      "Out of Sample: 0\n",
      "\n",
      "0-roll forecast [T0=1970-04-12 08:00:00]:\n",
      "       Series   Sigma\n",
      "T+1 0.0009599 0.01021\n",
      "\n",
      "\n"
     ]
    }
   ],
   "source": [
    "myspec=ugarchspec(variance.model = list(model = \"sGARCH\", garchOrder = c(1, 1), submodel = NULL, external.regressors = NULL, variance.targeting = FALSE),mean.model = list(armaOrder = c(0,1), include.mean = TRUE, archm = FALSE, archpow = 1, arfima = FALSE, external.regressors = NULL, archex = FALSE),distribution.model = \"norm\")\n",
    "myfit=ugarchfit(myspec,data=tsValuesLog_d_1[0:100],solver=\"solnp\")\n",
    "forc = ugarchforecast(myfit,n.ahead = 1)\n",
    "print(forc)\n",
    "myspec=ugarchspec(variance.model = list(model = \"sGARCH\", garchOrder = c(1, 1), submodel = NULL, external.regressors = NULL, variance.targeting = FALSE),mean.model = list(armaOrder = c(0,1), include.mean = TRUE, archm = FALSE, archpow = 1, arfima = FALSE, external.regressors = NULL, archex = FALSE),distribution.model = \"norm\")\n",
    "myfit=ugarchfit(myspec,data=tsValuesLog_d_1[1:101],solver=\"solnp\")\n",
    "forc = ugarchforecast(myfit,n.ahead = 1)\n",
    "print(forc)\n",
    "myspec=ugarchspec(variance.model = list(model = \"sGARCH\", garchOrder = c(1, 1), submodel = NULL, external.regressors = NULL, variance.targeting = FALSE),mean.model = list(armaOrder = c(0,1), include.mean = TRUE, archm = FALSE, archpow = 1, arfima = FALSE, external.regressors = NULL, archex = FALSE),distribution.model = \"norm\")\n",
    "myfit=ugarchfit(myspec,data=tsValuesLog_d_1[2:102],solver=\"solnp\")\n",
    "forc = ugarchforecast(myfit,n.ahead = 1)\n",
    "print(forc)\n",
    "myspec=ugarchspec(variance.model = list(model = \"sGARCH\", garchOrder = c(1, 1), submodel = NULL, external.regressors = NULL, variance.targeting = FALSE),mean.model = list(armaOrder = c(0,1), include.mean = TRUE, archm = FALSE, archpow = 1, arfima = FALSE, external.regressors = NULL, archex = FALSE),distribution.model = \"norm\")\n",
    "myfit=ugarchfit(myspec,data=tsValuesLog_d_1[3:103],solver=\"solnp\")\n",
    "forc = ugarchforecast(myfit,n.ahead = 1)\n",
    "print(forc)\n",
    "myspec=ugarchspec(variance.model = list(model = \"sGARCH\", garchOrder = c(1, 1), submodel = NULL, external.regressors = NULL, variance.targeting = FALSE),mean.model = list(armaOrder = c(0,1), include.mean = TRUE, archm = FALSE, archpow = 1, arfima = FALSE, external.regressors = NULL, archex = FALSE),distribution.model = \"norm\")\n",
    "myfit=ugarchfit(myspec,data=tsValuesLog_d_1[4:104],solver=\"solnp\")\n",
    "forc = ugarchforecast(myfit,n.ahead = 1)\n",
    "print(forc)\n",
    "myspec=ugarchspec(variance.model = list(model = \"sGARCH\", garchOrder = c(1, 1), submodel = NULL, external.regressors = NULL, variance.targeting = FALSE),mean.model = list(armaOrder = c(0,1), include.mean = TRUE, archm = FALSE, archpow = 1, arfima = FALSE, external.regressors = NULL, archex = FALSE),distribution.model = \"norm\")\n",
    "myfit=ugarchfit(myspec,data=tsValuesLog_d_1[5:105],solver=\"solnp\")\n",
    "forc = ugarchforecast(myfit,n.ahead = 1)\n",
    "print(forc)\n",
    "myspec=ugarchspec(variance.model = list(model = \"sGARCH\", garchOrder = c(1, 1), submodel = NULL, external.regressors = NULL, variance.targeting = FALSE),mean.model = list(armaOrder = c(0,1), include.mean = TRUE, archm = FALSE, archpow = 1, arfima = FALSE, external.regressors = NULL, archex = FALSE),distribution.model = \"norm\")\n",
    "myfit=ugarchfit(myspec,data=tsValuesLog_d_1[6:106],solver=\"solnp\")\n",
    "forc = ugarchforecast(myfit,n.ahead = 1)\n",
    "print(forc)\n",
    "myspec=ugarchspec(variance.model = list(model = \"sGARCH\", garchOrder = c(1, 1), submodel = NULL, external.regressors = NULL, variance.targeting = FALSE),mean.model = list(armaOrder = c(0,1), include.mean = TRUE, archm = FALSE, archpow = 1, arfima = FALSE, external.regressors = NULL, archex = FALSE),distribution.model = \"norm\")\n",
    "myfit=ugarchfit(myspec,data=tsValuesLog_d_1[7:107],solver=\"solnp\")\n",
    "forc = ugarchforecast(myfit,n.ahead = 1)\n",
    "print(forc)\n",
    "myspec=ugarchspec(variance.model = list(model = \"sGARCH\", garchOrder = c(1, 1), submodel = NULL, external.regressors = NULL, variance.targeting = FALSE),mean.model = list(armaOrder = c(0,1), include.mean = TRUE, archm = FALSE, archpow = 1, arfima = FALSE, external.regressors = NULL, archex = FALSE),distribution.model = \"norm\")\n",
    "myfit=ugarchfit(myspec,data=tsValuesLog_d_1[8:108],solver=\"solnp\")\n",
    "forc = ugarchforecast(myfit,n.ahead = 1)\n",
    "print(forc)\n",
    "myspec=ugarchspec(variance.model = list(model = \"sGARCH\", garchOrder = c(1, 1), submodel = NULL, external.regressors = NULL, variance.targeting = FALSE),mean.model = list(armaOrder = c(0,1), include.mean = TRUE, archm = FALSE, archpow = 1, arfima = FALSE, external.regressors = NULL, archex = FALSE),distribution.model = \"norm\")\n",
    "myfit=ugarchfit(myspec,data=tsValuesLog_d_1[9:109],solver=\"solnp\")\n",
    "forc = ugarchforecast(myfit,n.ahead = 1)\n",
    "print(forc)\n",
    "myspec=ugarchspec(variance.model = list(model = \"sGARCH\", garchOrder = c(1, 1), submodel = NULL, external.regressors = NULL, variance.targeting = FALSE),mean.model = list(armaOrder = c(0,1), include.mean = TRUE, archm = FALSE, archpow = 1, arfima = FALSE, external.regressors = NULL, archex = FALSE),distribution.model = \"norm\")\n",
    "myfit=ugarchfit(myspec,data=tsValuesLog_d_1[10:110],solver=\"solnp\")\n",
    "forc = ugarchforecast(myfit,n.ahead = 1)\n",
    "print(forc)\n",
    "myspec=ugarchspec(variance.model = list(model = \"sGARCH\", garchOrder = c(1, 1), submodel = NULL, external.regressors = NULL, variance.targeting = FALSE),mean.model = list(armaOrder = c(0,1), include.mean = TRUE, archm = FALSE, archpow = 1, arfima = FALSE, external.regressors = NULL, archex = FALSE),distribution.model = \"norm\")\n",
    "myfit=ugarchfit(myspec,data=tsValuesLog_d_1[11:111],solver=\"solnp\")\n",
    "forc = ugarchforecast(myfit,n.ahead = 1)\n",
    "print(forc)\n",
    "myspec=ugarchspec(variance.model = list(model = \"sGARCH\", garchOrder = c(1, 1), submodel = NULL, external.regressors = NULL, variance.targeting = FALSE),mean.model = list(armaOrder = c(0,1), include.mean = TRUE, archm = FALSE, archpow = 1, arfima = FALSE, external.regressors = NULL, archex = FALSE),distribution.model = \"norm\")\n",
    "myfit=ugarchfit(myspec,data=tsValuesLog_d_1[12:112],solver=\"solnp\")\n",
    "forc = ugarchforecast(myfit,n.ahead = 1)\n",
    "print(forc)"
   ]
  },
  {
   "cell_type": "code",
   "execution_count": 129,
   "metadata": {
    "collapsed": false
   },
   "outputs": [
    {
     "name": "stderr",
     "output_type": "stream",
     "text": [
      "Warning message in .sgarchfit(spec = spec, data = data, out.sample = out.sample, :\n",
      "\"\n",
      "ugarchfit-->waring: using less than 100 data\n",
      " points for estimation\n",
      "\""
     ]
    },
    {
     "name": "stdout",
     "output_type": "stream",
     "text": [
      "\n",
      "*------------------------------------*\n",
      "*       GARCH Model Forecast         *\n",
      "*------------------------------------*\n",
      "Model: sGARCH\n",
      "Horizon: 1\n",
      "Roll Steps: 0\n",
      "Out of Sample: 0\n",
      "\n",
      "0-roll forecast [T0=1970-03-31 08:00:00]:\n",
      "       Series    Sigma\n",
      "T+1 -0.002687 0.009987\n",
      "\n",
      "\n"
     ]
    }
   ],
   "source": [
    "myspec=ugarchspec(variance.model = list(model = \"sGARCH\", garchOrder = c(1, 1), submodel = NULL, external.regressors = NULL, variance.targeting = FALSE),mean.model = list(armaOrder = c(0,1), include.mean = TRUE, archm = FALSE, archpow = 1, arfima = FALSE, external.regressors = NULL, archex = FALSE),distribution.model = \"norm\")\n",
    "myfit=ugarchfit(myspec,data=tsValuesLog_d_1[12:100],solver=\"solnp\")\n",
    "forc = ugarchforecast(myfit,n.ahead = 1)\n",
    "print(forc)"
   ]
  },
  {
   "cell_type": "code",
   "execution_count": 131,
   "metadata": {
    "collapsed": false
   },
   "outputs": [
    {
     "name": "stderr",
     "output_type": "stream",
     "text": [
      "Warning message in .sgarchfit(spec = spec, data = data, out.sample = out.sample, :\n",
      "\"\n",
      "ugarchfit-->waring: using less than 100 data\n",
      " points for estimation\n",
      "\""
     ]
    },
    {
     "name": "stdout",
     "output_type": "stream",
     "text": [
      "\n",
      "*------------------------------------*\n",
      "*       GARCH Model Forecast         *\n",
      "*------------------------------------*\n",
      "Model: sGARCH\n",
      "Horizon: 1\n",
      "Roll Steps: 0\n",
      "Out of Sample: 0\n",
      "\n",
      "0-roll forecast [T0=1970-03-22 08:00:00]:\n",
      "       Series    Sigma\n",
      "T+1 -0.006957 0.008594\n",
      "\n",
      "\n"
     ]
    },
    {
     "name": "stderr",
     "output_type": "stream",
     "text": [
      "Warning message in .sgarchfit(spec = spec, data = data, out.sample = out.sample, :\n",
      "\"\n",
      "ugarchfit-->waring: using less than 100 data\n",
      " points for estimation\n",
      "\""
     ]
    },
    {
     "name": "stdout",
     "output_type": "stream",
     "text": [
      "\n",
      "*------------------------------------*\n",
      "*       GARCH Model Forecast         *\n",
      "*------------------------------------*\n",
      "Model: sGARCH\n",
      "Horizon: 1\n",
      "Roll Steps: 0\n",
      "Out of Sample: 0\n",
      "\n",
      "0-roll forecast [T0=1970-03-23 08:00:00]:\n",
      "      Series   Sigma\n",
      "T+1 0.004396 0.00875\n",
      "\n",
      "\n"
     ]
    },
    {
     "name": "stderr",
     "output_type": "stream",
     "text": [
      "Warning message in .sgarchfit(spec = spec, data = data, out.sample = out.sample, :\n",
      "\"\n",
      "ugarchfit-->waring: using less than 100 data\n",
      " points for estimation\n",
      "\""
     ]
    },
    {
     "name": "stdout",
     "output_type": "stream",
     "text": [
      "\n",
      "*------------------------------------*\n",
      "*       GARCH Model Forecast         *\n",
      "*------------------------------------*\n",
      "Model: sGARCH\n",
      "Horizon: 1\n",
      "Roll Steps: 0\n",
      "Out of Sample: 0\n",
      "\n",
      "0-roll forecast [T0=1970-03-23 08:00:00]:\n",
      "      Series    Sigma\n",
      "T+1 0.001398 0.008482\n",
      "\n",
      "\n"
     ]
    },
    {
     "name": "stderr",
     "output_type": "stream",
     "text": [
      "Warning message in .sgarchfit(spec = spec, data = data, out.sample = out.sample, :\n",
      "\"\n",
      "ugarchfit-->waring: using less than 100 data\n",
      " points for estimation\n",
      "\""
     ]
    },
    {
     "name": "stdout",
     "output_type": "stream",
     "text": [
      "\n",
      "*------------------------------------*\n",
      "*       GARCH Model Forecast         *\n",
      "*------------------------------------*\n",
      "Model: sGARCH\n",
      "Horizon: 1\n",
      "Roll Steps: 0\n",
      "Out of Sample: 0\n",
      "\n",
      "0-roll forecast [T0=1970-03-23 08:00:00]:\n",
      "      Series    Sigma\n",
      "T+1 0.007168 0.009371\n",
      "\n",
      "\n"
     ]
    },
    {
     "name": "stderr",
     "output_type": "stream",
     "text": [
      "Warning message in .sgarchfit(spec = spec, data = data, out.sample = out.sample, :\n",
      "\"\n",
      "ugarchfit-->waring: using less than 100 data\n",
      " points for estimation\n",
      "\""
     ]
    },
    {
     "name": "stdout",
     "output_type": "stream",
     "text": [
      "\n",
      "*------------------------------------*\n",
      "*       GARCH Model Forecast         *\n",
      "*------------------------------------*\n",
      "Model: sGARCH\n",
      "Horizon: 1\n",
      "Roll Steps: 0\n",
      "Out of Sample: 0\n",
      "\n",
      "0-roll forecast [T0=1970-03-23 08:00:00]:\n",
      "     Series    Sigma\n",
      "T+1 0.00145 0.009025\n",
      "\n",
      "\n"
     ]
    },
    {
     "name": "stderr",
     "output_type": "stream",
     "text": [
      "Warning message in .sgarchfit(spec = spec, data = data, out.sample = out.sample, :\n",
      "\"\n",
      "ugarchfit-->waring: using less than 100 data\n",
      " points for estimation\n",
      "\""
     ]
    },
    {
     "name": "stdout",
     "output_type": "stream",
     "text": [
      "\n",
      "*------------------------------------*\n",
      "*       GARCH Model Forecast         *\n",
      "*------------------------------------*\n",
      "Model: sGARCH\n",
      "Horizon: 1\n",
      "Roll Steps: 0\n",
      "Out of Sample: 0\n",
      "\n",
      "0-roll forecast [T0=1970-03-23 08:00:00]:\n",
      "       Series    Sigma\n",
      "T+1 -0.004153 0.008855\n",
      "\n",
      "\n"
     ]
    },
    {
     "name": "stderr",
     "output_type": "stream",
     "text": [
      "Warning message in .sgarchfit(spec = spec, data = data, out.sample = out.sample, :\n",
      "\"\n",
      "ugarchfit-->waring: using less than 100 data\n",
      " points for estimation\n",
      "\""
     ]
    },
    {
     "name": "stdout",
     "output_type": "stream",
     "text": [
      "\n",
      "*------------------------------------*\n",
      "*       GARCH Model Forecast         *\n",
      "*------------------------------------*\n",
      "Model: sGARCH\n",
      "Horizon: 1\n",
      "Roll Steps: 0\n",
      "Out of Sample: 0\n",
      "\n",
      "0-roll forecast [T0=1970-03-23 08:00:00]:\n",
      "        Series    Sigma\n",
      "T+1 -0.0002866 0.007994\n",
      "\n",
      "\n"
     ]
    },
    {
     "name": "stderr",
     "output_type": "stream",
     "text": [
      "Warning message in .sgarchfit(spec = spec, data = data, out.sample = out.sample, :\n",
      "\"\n",
      "ugarchfit-->waring: using less than 100 data\n",
      " points for estimation\n",
      "\""
     ]
    },
    {
     "name": "stdout",
     "output_type": "stream",
     "text": [
      "\n",
      "*------------------------------------*\n",
      "*       GARCH Model Forecast         *\n",
      "*------------------------------------*\n",
      "Model: sGARCH\n",
      "Horizon: 1\n",
      "Roll Steps: 0\n",
      "Out of Sample: 0\n",
      "\n",
      "0-roll forecast [T0=1970-03-23 08:00:00]:\n",
      "    Series    Sigma\n",
      "T+1 0.0013 0.007468\n",
      "\n",
      "\n"
     ]
    },
    {
     "name": "stderr",
     "output_type": "stream",
     "text": [
      "Warning message in .sgarchfit(spec = spec, data = data, out.sample = out.sample, :\n",
      "\"\n",
      "ugarchfit-->waring: using less than 100 data\n",
      " points for estimation\n",
      "\""
     ]
    },
    {
     "name": "stdout",
     "output_type": "stream",
     "text": [
      "\n",
      "*------------------------------------*\n",
      "*       GARCH Model Forecast         *\n",
      "*------------------------------------*\n",
      "Model: sGARCH\n",
      "Horizon: 1\n",
      "Roll Steps: 0\n",
      "Out of Sample: 0\n",
      "\n",
      "0-roll forecast [T0=1970-03-23 08:00:00]:\n",
      "       Series    Sigma\n",
      "T+1 -0.002074 0.007221\n",
      "\n",
      "\n"
     ]
    },
    {
     "name": "stderr",
     "output_type": "stream",
     "text": [
      "Warning message in .sgarchfit(spec = spec, data = data, out.sample = out.sample, :\n",
      "\"\n",
      "ugarchfit-->waring: using less than 100 data\n",
      " points for estimation\n",
      "\""
     ]
    },
    {
     "name": "stdout",
     "output_type": "stream",
     "text": [
      "\n",
      "*------------------------------------*\n",
      "*       GARCH Model Forecast         *\n",
      "*------------------------------------*\n",
      "Model: sGARCH\n",
      "Horizon: 1\n",
      "Roll Steps: 0\n",
      "Out of Sample: 0\n",
      "\n",
      "0-roll forecast [T0=1970-03-23 08:00:00]:\n",
      "       Series    Sigma\n",
      "T+1 0.0002488 0.006679\n",
      "\n",
      "\n"
     ]
    },
    {
     "name": "stderr",
     "output_type": "stream",
     "text": [
      "Warning message in .sgarchfit(spec = spec, data = data, out.sample = out.sample, :\n",
      "\"\n",
      "ugarchfit-->waring: using less than 100 data\n",
      " points for estimation\n",
      "\""
     ]
    },
    {
     "name": "stdout",
     "output_type": "stream",
     "text": [
      "\n",
      "*------------------------------------*\n",
      "*       GARCH Model Forecast         *\n",
      "*------------------------------------*\n",
      "Model: sGARCH\n",
      "Horizon: 1\n",
      "Roll Steps: 0\n",
      "Out of Sample: 0\n",
      "\n",
      "0-roll forecast [T0=1970-03-23 08:00:00]:\n",
      "       Series    Sigma\n",
      "T+1 -0.007202 0.007363\n",
      "\n",
      "\n"
     ]
    },
    {
     "name": "stderr",
     "output_type": "stream",
     "text": [
      "Warning message in .sgarchfit(spec = spec, data = data, out.sample = out.sample, :\n",
      "\"\n",
      "ugarchfit-->waring: using less than 100 data\n",
      " points for estimation\n",
      "\""
     ]
    },
    {
     "name": "stdout",
     "output_type": "stream",
     "text": [
      "\n",
      "*------------------------------------*\n",
      "*       GARCH Model Forecast         *\n",
      "*------------------------------------*\n",
      "Model: sGARCH\n",
      "Horizon: 1\n",
      "Roll Steps: 0\n",
      "Out of Sample: 0\n",
      "\n",
      "0-roll forecast [T0=1970-03-23 08:00:00]:\n",
      "       Series    Sigma\n",
      "T+1 0.0001327 0.007283\n",
      "\n",
      "\n"
     ]
    },
    {
     "name": "stderr",
     "output_type": "stream",
     "text": [
      "Warning message in .sgarchfit(spec = spec, data = data, out.sample = out.sample, :\n",
      "\"\n",
      "ugarchfit-->waring: using less than 100 data\n",
      " points for estimation\n",
      "\""
     ]
    },
    {
     "name": "stdout",
     "output_type": "stream",
     "text": [
      "\n",
      "*------------------------------------*\n",
      "*       GARCH Model Forecast         *\n",
      "*------------------------------------*\n",
      "Model: sGARCH\n",
      "Horizon: 1\n",
      "Roll Steps: 0\n",
      "Out of Sample: 0\n",
      "\n",
      "0-roll forecast [T0=1970-03-23 08:00:00]:\n",
      "       Series    Sigma\n",
      "T+1 -0.008852 0.008727\n",
      "\n",
      "\n"
     ]
    },
    {
     "name": "stderr",
     "output_type": "stream",
     "text": [
      "Warning message in .sgarchfit(spec = spec, data = data, out.sample = out.sample, :\n",
      "\"\n",
      "ugarchfit-->waring: using less than 100 data\n",
      " points for estimation\n",
      "\""
     ]
    },
    {
     "name": "stdout",
     "output_type": "stream",
     "text": [
      "\n",
      "*------------------------------------*\n",
      "*       GARCH Model Forecast         *\n",
      "*------------------------------------*\n",
      "Model: sGARCH\n",
      "Horizon: 1\n",
      "Roll Steps: 0\n",
      "Out of Sample: 0\n",
      "\n",
      "0-roll forecast [T0=1970-03-23 08:00:00]:\n",
      "       Series    Sigma\n",
      "T+1 -0.003931 0.008494\n",
      "\n",
      "\n"
     ]
    },
    {
     "name": "stderr",
     "output_type": "stream",
     "text": [
      "Warning message in .sgarchfit(spec = spec, data = data, out.sample = out.sample, :\n",
      "\"\n",
      "ugarchfit-->waring: using less than 100 data\n",
      " points for estimation\n",
      "\""
     ]
    },
    {
     "name": "stdout",
     "output_type": "stream",
     "text": [
      "\n",
      "*------------------------------------*\n",
      "*       GARCH Model Forecast         *\n",
      "*------------------------------------*\n",
      "Model: sGARCH\n",
      "Horizon: 1\n",
      "Roll Steps: 0\n",
      "Out of Sample: 0\n",
      "\n",
      "0-roll forecast [T0=1970-03-23 08:00:00]:\n",
      "      Series    Sigma\n",
      "T+1 0.006164 0.009066\n",
      "\n",
      "\n"
     ]
    },
    {
     "name": "stderr",
     "output_type": "stream",
     "text": [
      "Warning message in .sgarchfit(spec = spec, data = data, out.sample = out.sample, :\n",
      "\"\n",
      "ugarchfit-->waring: using less than 100 data\n",
      " points for estimation\n",
      "\""
     ]
    },
    {
     "name": "stdout",
     "output_type": "stream",
     "text": [
      "\n",
      "*------------------------------------*\n",
      "*       GARCH Model Forecast         *\n",
      "*------------------------------------*\n",
      "Model: sGARCH\n",
      "Horizon: 1\n",
      "Roll Steps: 0\n",
      "Out of Sample: 0\n",
      "\n",
      "0-roll forecast [T0=1970-03-23 08:00:00]:\n",
      "       Series    Sigma\n",
      "T+1 -0.004369 0.008955\n",
      "\n",
      "\n"
     ]
    },
    {
     "name": "stderr",
     "output_type": "stream",
     "text": [
      "Warning message in .sgarchfit(spec = spec, data = data, out.sample = out.sample, :\n",
      "\"\n",
      "ugarchfit-->waring: using less than 100 data\n",
      " points for estimation\n",
      "\""
     ]
    },
    {
     "name": "stdout",
     "output_type": "stream",
     "text": [
      "\n",
      "*------------------------------------*\n",
      "*       GARCH Model Forecast         *\n",
      "*------------------------------------*\n",
      "Model: sGARCH\n",
      "Horizon: 1\n",
      "Roll Steps: 0\n",
      "Out of Sample: 0\n",
      "\n",
      "0-roll forecast [T0=1970-03-23 08:00:00]:\n",
      "        Series    Sigma\n",
      "T+1 -0.0003979 0.008411\n",
      "\n",
      "\n"
     ]
    },
    {
     "name": "stderr",
     "output_type": "stream",
     "text": [
      "Warning message in .sgarchfit(spec = spec, data = data, out.sample = out.sample, :\n",
      "\"\n",
      "ugarchfit-->waring: using less than 100 data\n",
      " points for estimation\n",
      "\""
     ]
    },
    {
     "name": "stdout",
     "output_type": "stream",
     "text": [
      "\n",
      "*------------------------------------*\n",
      "*       GARCH Model Forecast         *\n",
      "*------------------------------------*\n",
      "Model: sGARCH\n",
      "Horizon: 1\n",
      "Roll Steps: 0\n",
      "Out of Sample: 0\n",
      "\n",
      "0-roll forecast [T0=1970-03-23 08:00:00]:\n",
      "      Series   Sigma\n",
      "T+1 -0.01449 0.01173\n",
      "\n",
      "\n"
     ]
    },
    {
     "name": "stderr",
     "output_type": "stream",
     "text": [
      "Warning message in .sgarchfit(spec = spec, data = data, out.sample = out.sample, :\n",
      "\"\n",
      "ugarchfit-->waring: using less than 100 data\n",
      " points for estimation\n",
      "\""
     ]
    },
    {
     "name": "stdout",
     "output_type": "stream",
     "text": [
      "\n",
      "*------------------------------------*\n",
      "*       GARCH Model Forecast         *\n",
      "*------------------------------------*\n",
      "Model: sGARCH\n",
      "Horizon: 1\n",
      "Roll Steps: 0\n",
      "Out of Sample: 0\n",
      "\n",
      "0-roll forecast [T0=1970-03-23 08:00:00]:\n",
      "       Series Sigma\n",
      "T+1 -0.001834 0.011\n",
      "\n",
      "\n"
     ]
    },
    {
     "name": "stderr",
     "output_type": "stream",
     "text": [
      "Warning message in .sgarchfit(spec = spec, data = data, out.sample = out.sample, :\n",
      "\"\n",
      "ugarchfit-->waring: using less than 100 data\n",
      " points for estimation\n",
      "\""
     ]
    },
    {
     "name": "stdout",
     "output_type": "stream",
     "text": [
      "\n",
      "*------------------------------------*\n",
      "*       GARCH Model Forecast         *\n",
      "*------------------------------------*\n",
      "Model: sGARCH\n",
      "Horizon: 1\n",
      "Roll Steps: 0\n",
      "Out of Sample: 0\n",
      "\n",
      "0-roll forecast [T0=1970-03-23 08:00:00]:\n",
      "       Series   Sigma\n",
      "T+1 0.0003955 0.01051\n",
      "\n",
      "\n"
     ]
    },
    {
     "name": "stderr",
     "output_type": "stream",
     "text": [
      "Warning message in .sgarchfit(spec = spec, data = data, out.sample = out.sample, :\n",
      "\"\n",
      "ugarchfit-->waring: using less than 100 data\n",
      " points for estimation\n",
      "\""
     ]
    },
    {
     "name": "stdout",
     "output_type": "stream",
     "text": [
      "\n",
      "*------------------------------------*\n",
      "*       GARCH Model Forecast         *\n",
      "*------------------------------------*\n",
      "Model: sGARCH\n",
      "Horizon: 1\n",
      "Roll Steps: 0\n",
      "Out of Sample: 0\n",
      "\n",
      "0-roll forecast [T0=1970-03-23 08:00:00]:\n",
      "       Series   Sigma\n",
      "T+1 -0.002441 0.01006\n",
      "\n",
      "\n"
     ]
    },
    {
     "name": "stderr",
     "output_type": "stream",
     "text": [
      "Warning message in .sgarchfit(spec = spec, data = data, out.sample = out.sample, :\n",
      "\"\n",
      "ugarchfit-->waring: using less than 100 data\n",
      " points for estimation\n",
      "\""
     ]
    },
    {
     "name": "stdout",
     "output_type": "stream",
     "text": [
      "\n",
      "*------------------------------------*\n",
      "*       GARCH Model Forecast         *\n",
      "*------------------------------------*\n",
      "Model: sGARCH\n",
      "Horizon: 1\n",
      "Roll Steps: 0\n",
      "Out of Sample: 0\n",
      "\n",
      "0-roll forecast [T0=1970-03-23 08:00:00]:\n",
      "      Series   Sigma\n",
      "T+1 0.007339 0.01065\n",
      "\n",
      "\n"
     ]
    },
    {
     "name": "stderr",
     "output_type": "stream",
     "text": [
      "Warning message in .sgarchfit(spec = spec, data = data, out.sample = out.sample, :\n",
      "\"\n",
      "ugarchfit-->waring: using less than 100 data\n",
      " points for estimation\n",
      "\""
     ]
    },
    {
     "name": "stdout",
     "output_type": "stream",
     "text": [
      "\n",
      "*------------------------------------*\n",
      "*       GARCH Model Forecast         *\n",
      "*------------------------------------*\n",
      "Model: sGARCH\n",
      "Horizon: 1\n",
      "Roll Steps: 0\n",
      "Out of Sample: 0\n",
      "\n",
      "0-roll forecast [T0=1970-03-23 08:00:00]:\n",
      "      Series   Sigma\n",
      "T+1 0.003983 0.01044\n",
      "\n",
      "\n"
     ]
    },
    {
     "name": "stderr",
     "output_type": "stream",
     "text": [
      "Warning message in .sgarchfit(spec = spec, data = data, out.sample = out.sample, :\n",
      "\"\n",
      "ugarchfit-->waring: using less than 100 data\n",
      " points for estimation\n",
      "\""
     ]
    },
    {
     "name": "stdout",
     "output_type": "stream",
     "text": [
      "\n",
      "*------------------------------------*\n",
      "*       GARCH Model Forecast         *\n",
      "*------------------------------------*\n",
      "Model: sGARCH\n",
      "Horizon: 1\n",
      "Roll Steps: 0\n",
      "Out of Sample: 0\n",
      "\n",
      "0-roll forecast [T0=1970-03-23 08:00:00]:\n",
      "     Series   Sigma\n",
      "T+1 0.01872 0.01561\n",
      "\n",
      "\n"
     ]
    },
    {
     "name": "stderr",
     "output_type": "stream",
     "text": [
      "Warning message in .sgarchfit(spec = spec, data = data, out.sample = out.sample, :\n",
      "\"\n",
      "ugarchfit-->waring: using less than 100 data\n",
      " points for estimation\n",
      "\""
     ]
    },
    {
     "name": "stdout",
     "output_type": "stream",
     "text": [
      "\n",
      "*------------------------------------*\n",
      "*       GARCH Model Forecast         *\n",
      "*------------------------------------*\n",
      "Model: sGARCH\n",
      "Horizon: 1\n",
      "Roll Steps: 0\n",
      "Out of Sample: 0\n",
      "\n",
      "0-roll forecast [T0=1970-03-23 08:00:00]:\n",
      "       Series   Sigma\n",
      "T+1 0.0005708 0.01443\n",
      "\n",
      "\n"
     ]
    },
    {
     "name": "stderr",
     "output_type": "stream",
     "text": [
      "Warning message in .sgarchfit(spec = spec, data = data, out.sample = out.sample, :\n",
      "\"\n",
      "ugarchfit-->waring: using less than 100 data\n",
      " points for estimation\n",
      "\""
     ]
    },
    {
     "name": "stdout",
     "output_type": "stream",
     "text": [
      "\n",
      "*------------------------------------*\n",
      "*       GARCH Model Forecast         *\n",
      "*------------------------------------*\n",
      "Model: sGARCH\n",
      "Horizon: 1\n",
      "Roll Steps: 0\n",
      "Out of Sample: 0\n",
      "\n",
      "0-roll forecast [T0=1970-03-23 08:00:00]:\n",
      "       Series   Sigma\n",
      "T+1 0.0009401 0.01352\n",
      "\n",
      "\n"
     ]
    },
    {
     "name": "stderr",
     "output_type": "stream",
     "text": [
      "Warning message in .sgarchfit(spec = spec, data = data, out.sample = out.sample, :\n",
      "\"\n",
      "ugarchfit-->waring: using less than 100 data\n",
      " points for estimation\n",
      "\""
     ]
    },
    {
     "name": "stdout",
     "output_type": "stream",
     "text": [
      "\n",
      "*------------------------------------*\n",
      "*       GARCH Model Forecast         *\n",
      "*------------------------------------*\n",
      "Model: sGARCH\n",
      "Horizon: 1\n",
      "Roll Steps: 0\n",
      "Out of Sample: 0\n",
      "\n",
      "0-roll forecast [T0=1970-03-23 08:00:00]:\n",
      "      Series   Sigma\n",
      "T+1 0.005103 0.01305\n",
      "\n",
      "\n"
     ]
    },
    {
     "name": "stderr",
     "output_type": "stream",
     "text": [
      "Warning message in .sgarchfit(spec = spec, data = data, out.sample = out.sample, :\n",
      "\"\n",
      "ugarchfit-->waring: using less than 100 data\n",
      " points for estimation\n",
      "\""
     ]
    },
    {
     "name": "stdout",
     "output_type": "stream",
     "text": [
      "\n",
      "*------------------------------------*\n",
      "*       GARCH Model Forecast         *\n",
      "*------------------------------------*\n",
      "Model: sGARCH\n",
      "Horizon: 1\n",
      "Roll Steps: 0\n",
      "Out of Sample: 0\n",
      "\n",
      "0-roll forecast [T0=1970-03-23 08:00:00]:\n",
      "        Series  Sigma\n",
      "T+1 -0.0005822 0.0124\n",
      "\n",
      "\n"
     ]
    },
    {
     "name": "stderr",
     "output_type": "stream",
     "text": [
      "Warning message in .sgarchfit(spec = spec, data = data, out.sample = out.sample, :\n",
      "\"\n",
      "ugarchfit-->waring: using less than 100 data\n",
      " points for estimation\n",
      "\""
     ]
    },
    {
     "name": "stdout",
     "output_type": "stream",
     "text": [
      "\n",
      "*------------------------------------*\n",
      "*       GARCH Model Forecast         *\n",
      "*------------------------------------*\n",
      "Model: sGARCH\n",
      "Horizon: 1\n",
      "Roll Steps: 0\n",
      "Out of Sample: 0\n",
      "\n",
      "0-roll forecast [T0=1970-03-23 08:00:00]:\n",
      "       Series   Sigma\n",
      "T+1 -0.003037 0.01206\n",
      "\n",
      "\n"
     ]
    },
    {
     "name": "stderr",
     "output_type": "stream",
     "text": [
      "Warning message in .sgarchfit(spec = spec, data = data, out.sample = out.sample, :\n",
      "\"\n",
      "ugarchfit-->waring: using less than 100 data\n",
      " points for estimation\n",
      "\""
     ]
    },
    {
     "name": "stdout",
     "output_type": "stream",
     "text": [
      "\n",
      "*------------------------------------*\n",
      "*       GARCH Model Forecast         *\n",
      "*------------------------------------*\n",
      "Model: sGARCH\n",
      "Horizon: 1\n",
      "Roll Steps: 0\n",
      "Out of Sample: 0\n",
      "\n",
      "0-roll forecast [T0=1970-03-23 08:00:00]:\n",
      "       Series   Sigma\n",
      "T+1 -0.005344 0.01206\n",
      "\n",
      "\n"
     ]
    },
    {
     "name": "stderr",
     "output_type": "stream",
     "text": [
      "Warning message in .sgarchfit(spec = spec, data = data, out.sample = out.sample, :\n",
      "\"\n",
      "ugarchfit-->waring: using less than 100 data\n",
      " points for estimation\n",
      "\""
     ]
    },
    {
     "name": "stdout",
     "output_type": "stream",
     "text": [
      "\n",
      "*------------------------------------*\n",
      "*       GARCH Model Forecast         *\n",
      "*------------------------------------*\n",
      "Model: sGARCH\n",
      "Horizon: 1\n",
      "Roll Steps: 0\n",
      "Out of Sample: 0\n",
      "\n",
      "0-roll forecast [T0=1970-03-23 08:00:00]:\n",
      "        Series   Sigma\n",
      "T+1 -0.0002796 0.01159\n",
      "\n",
      "\n"
     ]
    },
    {
     "name": "stderr",
     "output_type": "stream",
     "text": [
      "Warning message in .sgarchfit(spec = spec, data = data, out.sample = out.sample, :\n",
      "\"\n",
      "ugarchfit-->waring: using less than 100 data\n",
      " points for estimation\n",
      "\""
     ]
    },
    {
     "name": "stdout",
     "output_type": "stream",
     "text": [
      "\n",
      "*------------------------------------*\n",
      "*       GARCH Model Forecast         *\n",
      "*------------------------------------*\n",
      "Model: sGARCH\n",
      "Horizon: 1\n",
      "Roll Steps: 0\n",
      "Out of Sample: 0\n",
      "\n",
      "0-roll forecast [T0=1970-03-23 08:00:00]:\n",
      "       Series   Sigma\n",
      "T+1 -0.001149 0.01121\n",
      "\n",
      "\n"
     ]
    },
    {
     "name": "stderr",
     "output_type": "stream",
     "text": [
      "Warning message in .sgarchfit(spec = spec, data = data, out.sample = out.sample, :\n",
      "\"\n",
      "ugarchfit-->waring: using less than 100 data\n",
      " points for estimation\n",
      "\""
     ]
    },
    {
     "name": "stdout",
     "output_type": "stream",
     "text": [
      "\n",
      "*------------------------------------*\n",
      "*       GARCH Model Forecast         *\n",
      "*------------------------------------*\n",
      "Model: sGARCH\n",
      "Horizon: 1\n",
      "Roll Steps: 0\n",
      "Out of Sample: 0\n",
      "\n",
      "0-roll forecast [T0=1970-03-23 08:00:00]:\n",
      "      Series   Sigma\n",
      "T+1 0.001591 0.01086\n",
      "\n",
      "\n"
     ]
    }
   ],
   "source": [
    "myspec=ugarchspec(variance.model = list(model = \"sGARCH\", garchOrder = c(1, 1), submodel = NULL, external.regressors = NULL, variance.targeting = FALSE),mean.model = list(armaOrder = c(0,1), include.mean = TRUE, archm = FALSE, archpow = 1, arfima = FALSE, external.regressors = NULL, archex = FALSE),distribution.model = \"norm\")\n",
    "myfit=ugarchfit(myspec,data=tsValuesLog_d_1[0:80],solver=\"solnp\")\n",
    "forc = ugarchforecast(myfit,n.ahead = 1)\n",
    "print(forc)\n",
    "myspec=ugarchspec(variance.model = list(model = \"sGARCH\", garchOrder = c(1, 1), submodel = NULL, external.regressors = NULL, variance.targeting = FALSE),mean.model = list(armaOrder = c(0,1), include.mean = TRUE, archm = FALSE, archpow = 1, arfima = FALSE, external.regressors = NULL, archex = FALSE),distribution.model = \"norm\")\n",
    "myfit=ugarchfit(myspec,data=tsValuesLog_d_1[1:81],solver=\"solnp\")\n",
    "forc = ugarchforecast(myfit,n.ahead = 1)\n",
    "print(forc)\n",
    "myspec=ugarchspec(variance.model = list(model = \"sGARCH\", garchOrder = c(1, 1), submodel = NULL, external.regressors = NULL, variance.targeting = FALSE),mean.model = list(armaOrder = c(0,1), include.mean = TRUE, archm = FALSE, archpow = 1, arfima = FALSE, external.regressors = NULL, archex = FALSE),distribution.model = \"norm\")\n",
    "myfit=ugarchfit(myspec,data=tsValuesLog_d_1[2:82],solver=\"solnp\")\n",
    "forc = ugarchforecast(myfit,n.ahead = 1)\n",
    "print(forc)\n",
    "myspec=ugarchspec(variance.model = list(model = \"sGARCH\", garchOrder = c(1, 1), submodel = NULL, external.regressors = NULL, variance.targeting = FALSE),mean.model = list(armaOrder = c(0,1), include.mean = TRUE, archm = FALSE, archpow = 1, arfima = FALSE, external.regressors = NULL, archex = FALSE),distribution.model = \"norm\")\n",
    "myfit=ugarchfit(myspec,data=tsValuesLog_d_1[3:83],solver=\"solnp\")\n",
    "forc = ugarchforecast(myfit,n.ahead = 1)\n",
    "print(forc)\n",
    "myspec=ugarchspec(variance.model = list(model = \"sGARCH\", garchOrder = c(1, 1), submodel = NULL, external.regressors = NULL, variance.targeting = FALSE),mean.model = list(armaOrder = c(0,1), include.mean = TRUE, archm = FALSE, archpow = 1, arfima = FALSE, external.regressors = NULL, archex = FALSE),distribution.model = \"norm\")\n",
    "myfit=ugarchfit(myspec,data=tsValuesLog_d_1[4:84],solver=\"solnp\")\n",
    "forc = ugarchforecast(myfit,n.ahead = 1)\n",
    "print(forc)\n",
    "myspec=ugarchspec(variance.model = list(model = \"sGARCH\", garchOrder = c(1, 1), submodel = NULL, external.regressors = NULL, variance.targeting = FALSE),mean.model = list(armaOrder = c(0,1), include.mean = TRUE, archm = FALSE, archpow = 1, arfima = FALSE, external.regressors = NULL, archex = FALSE),distribution.model = \"norm\")\n",
    "myfit=ugarchfit(myspec,data=tsValuesLog_d_1[5:85],solver=\"solnp\")\n",
    "forc = ugarchforecast(myfit,n.ahead = 1)\n",
    "print(forc)\n",
    "myspec=ugarchspec(variance.model = list(model = \"sGARCH\", garchOrder = c(1, 1), submodel = NULL, external.regressors = NULL, variance.targeting = FALSE),mean.model = list(armaOrder = c(0,1), include.mean = TRUE, archm = FALSE, archpow = 1, arfima = FALSE, external.regressors = NULL, archex = FALSE),distribution.model = \"norm\")\n",
    "myfit=ugarchfit(myspec,data=tsValuesLog_d_1[6:86],solver=\"solnp\")\n",
    "forc = ugarchforecast(myfit,n.ahead = 1)\n",
    "print(forc)\n",
    "myspec=ugarchspec(variance.model = list(model = \"sGARCH\", garchOrder = c(1, 1), submodel = NULL, external.regressors = NULL, variance.targeting = FALSE),mean.model = list(armaOrder = c(0,1), include.mean = TRUE, archm = FALSE, archpow = 1, arfima = FALSE, external.regressors = NULL, archex = FALSE),distribution.model = \"norm\")\n",
    "myfit=ugarchfit(myspec,data=tsValuesLog_d_1[7:87],solver=\"solnp\")\n",
    "forc = ugarchforecast(myfit,n.ahead = 1)\n",
    "print(forc)\n",
    "myspec=ugarchspec(variance.model = list(model = \"sGARCH\", garchOrder = c(1, 1), submodel = NULL, external.regressors = NULL, variance.targeting = FALSE),mean.model = list(armaOrder = c(0,1), include.mean = TRUE, archm = FALSE, archpow = 1, arfima = FALSE, external.regressors = NULL, archex = FALSE),distribution.model = \"norm\")\n",
    "myfit=ugarchfit(myspec,data=tsValuesLog_d_1[8:88],solver=\"solnp\")\n",
    "forc = ugarchforecast(myfit,n.ahead = 1)\n",
    "print(forc)\n",
    "myspec=ugarchspec(variance.model = list(model = \"sGARCH\", garchOrder = c(1, 1), submodel = NULL, external.regressors = NULL, variance.targeting = FALSE),mean.model = list(armaOrder = c(0,1), include.mean = TRUE, archm = FALSE, archpow = 1, arfima = FALSE, external.regressors = NULL, archex = FALSE),distribution.model = \"norm\")\n",
    "myfit=ugarchfit(myspec,data=tsValuesLog_d_1[9:89],solver=\"solnp\")\n",
    "forc = ugarchforecast(myfit,n.ahead = 1)\n",
    "print(forc)\n",
    "myspec=ugarchspec(variance.model = list(model = \"sGARCH\", garchOrder = c(1, 1), submodel = NULL, external.regressors = NULL, variance.targeting = FALSE),mean.model = list(armaOrder = c(0,1), include.mean = TRUE, archm = FALSE, archpow = 1, arfima = FALSE, external.regressors = NULL, archex = FALSE),distribution.model = \"norm\")\n",
    "myfit=ugarchfit(myspec,data=tsValuesLog_d_1[10:90],solver=\"solnp\")\n",
    "forc = ugarchforecast(myfit,n.ahead = 1)\n",
    "print(forc)\n",
    "myspec=ugarchspec(variance.model = list(model = \"sGARCH\", garchOrder = c(1, 1), submodel = NULL, external.regressors = NULL, variance.targeting = FALSE),mean.model = list(armaOrder = c(0,1), include.mean = TRUE, archm = FALSE, archpow = 1, arfima = FALSE, external.regressors = NULL, archex = FALSE),distribution.model = \"norm\")\n",
    "myfit=ugarchfit(myspec,data=tsValuesLog_d_1[11:91],solver=\"solnp\")\n",
    "forc = ugarchforecast(myfit,n.ahead = 1)\n",
    "print(forc)\n",
    "myspec=ugarchspec(variance.model = list(model = \"sGARCH\", garchOrder = c(1, 1), submodel = NULL, external.regressors = NULL, variance.targeting = FALSE),mean.model = list(armaOrder = c(0,1), include.mean = TRUE, archm = FALSE, archpow = 1, arfima = FALSE, external.regressors = NULL, archex = FALSE),distribution.model = \"norm\")\n",
    "myfit=ugarchfit(myspec,data=tsValuesLog_d_1[12:92],solver=\"solnp\")\n",
    "forc = ugarchforecast(myfit,n.ahead = 1)\n",
    "print(forc)\n",
    "myspec=ugarchspec(variance.model = list(model = \"sGARCH\", garchOrder = c(1, 1), submodel = NULL, external.regressors = NULL, variance.targeting = FALSE),mean.model = list(armaOrder = c(0,1), include.mean = TRUE, archm = FALSE, archpow = 1, arfima = FALSE, external.regressors = NULL, archex = FALSE),distribution.model = \"norm\")\n",
    "myfit=ugarchfit(myspec,data=tsValuesLog_d_1[13:93],solver=\"solnp\")\n",
    "forc = ugarchforecast(myfit,n.ahead = 1)\n",
    "print(forc)\n",
    "myspec=ugarchspec(variance.model = list(model = \"sGARCH\", garchOrder = c(1, 1), submodel = NULL, external.regressors = NULL, variance.targeting = FALSE),mean.model = list(armaOrder = c(0,1), include.mean = TRUE, archm = FALSE, archpow = 1, arfima = FALSE, external.regressors = NULL, archex = FALSE),distribution.model = \"norm\")\n",
    "myfit=ugarchfit(myspec,data=tsValuesLog_d_1[14:94],solver=\"solnp\")\n",
    "forc = ugarchforecast(myfit,n.ahead = 1)\n",
    "print(forc)\n",
    "myspec=ugarchspec(variance.model = list(model = \"sGARCH\", garchOrder = c(1, 1), submodel = NULL, external.regressors = NULL, variance.targeting = FALSE),mean.model = list(armaOrder = c(0,1), include.mean = TRUE, archm = FALSE, archpow = 1, arfima = FALSE, external.regressors = NULL, archex = FALSE),distribution.model = \"norm\")\n",
    "myfit=ugarchfit(myspec,data=tsValuesLog_d_1[15:95],solver=\"solnp\")\n",
    "forc = ugarchforecast(myfit,n.ahead = 1)\n",
    "print(forc)\n",
    "myspec=ugarchspec(variance.model = list(model = \"sGARCH\", garchOrder = c(1, 1), submodel = NULL, external.regressors = NULL, variance.targeting = FALSE),mean.model = list(armaOrder = c(0,1), include.mean = TRUE, archm = FALSE, archpow = 1, arfima = FALSE, external.regressors = NULL, archex = FALSE),distribution.model = \"norm\")\n",
    "myfit=ugarchfit(myspec,data=tsValuesLog_d_1[16:96],solver=\"solnp\")\n",
    "forc = ugarchforecast(myfit,n.ahead = 1)\n",
    "print(forc)\n",
    "myspec=ugarchspec(variance.model = list(model = \"sGARCH\", garchOrder = c(1, 1), submodel = NULL, external.regressors = NULL, variance.targeting = FALSE),mean.model = list(armaOrder = c(0,1), include.mean = TRUE, archm = FALSE, archpow = 1, arfima = FALSE, external.regressors = NULL, archex = FALSE),distribution.model = \"norm\")\n",
    "myfit=ugarchfit(myspec,data=tsValuesLog_d_1[17:97],solver=\"solnp\")\n",
    "forc = ugarchforecast(myfit,n.ahead = 1)\n",
    "print(forc)\n",
    "myspec=ugarchspec(variance.model = list(model = \"sGARCH\", garchOrder = c(1, 1), submodel = NULL, external.regressors = NULL, variance.targeting = FALSE),mean.model = list(armaOrder = c(0,1), include.mean = TRUE, archm = FALSE, archpow = 1, arfima = FALSE, external.regressors = NULL, archex = FALSE),distribution.model = \"norm\")\n",
    "myfit=ugarchfit(myspec,data=tsValuesLog_d_1[18:98],solver=\"solnp\")\n",
    "forc = ugarchforecast(myfit,n.ahead = 1)\n",
    "print(forc)\n",
    "myspec=ugarchspec(variance.model = list(model = \"sGARCH\", garchOrder = c(1, 1), submodel = NULL, external.regressors = NULL, variance.targeting = FALSE),mean.model = list(armaOrder = c(0,1), include.mean = TRUE, archm = FALSE, archpow = 1, arfima = FALSE, external.regressors = NULL, archex = FALSE),distribution.model = \"norm\")\n",
    "myfit=ugarchfit(myspec,data=tsValuesLog_d_1[19:99],solver=\"solnp\")\n",
    "forc = ugarchforecast(myfit,n.ahead = 1)\n",
    "print(forc)\n",
    "myspec=ugarchspec(variance.model = list(model = \"sGARCH\", garchOrder = c(1, 1), submodel = NULL, external.regressors = NULL, variance.targeting = FALSE),mean.model = list(armaOrder = c(0,1), include.mean = TRUE, archm = FALSE, archpow = 1, arfima = FALSE, external.regressors = NULL, archex = FALSE),distribution.model = \"norm\")\n",
    "myfit=ugarchfit(myspec,data=tsValuesLog_d_1[20:100],solver=\"solnp\")\n",
    "forc = ugarchforecast(myfit,n.ahead = 1)\n",
    "print(forc)\n",
    "myspec=ugarchspec(variance.model = list(model = \"sGARCH\", garchOrder = c(1, 1), submodel = NULL, external.regressors = NULL, variance.targeting = FALSE),mean.model = list(armaOrder = c(0,1), include.mean = TRUE, archm = FALSE, archpow = 1, arfima = FALSE, external.regressors = NULL, archex = FALSE),distribution.model = \"norm\")\n",
    "myfit=ugarchfit(myspec,data=tsValuesLog_d_1[21:101],solver=\"solnp\")\n",
    "forc = ugarchforecast(myfit,n.ahead = 1)\n",
    "print(forc)\n",
    "myspec=ugarchspec(variance.model = list(model = \"sGARCH\", garchOrder = c(1, 1), submodel = NULL, external.regressors = NULL, variance.targeting = FALSE),mean.model = list(armaOrder = c(0,1), include.mean = TRUE, archm = FALSE, archpow = 1, arfima = FALSE, external.regressors = NULL, archex = FALSE),distribution.model = \"norm\")\n",
    "myfit=ugarchfit(myspec,data=tsValuesLog_d_1[22:102],solver=\"solnp\")\n",
    "forc = ugarchforecast(myfit,n.ahead = 1)\n",
    "print(forc)\n",
    "myspec=ugarchspec(variance.model = list(model = \"sGARCH\", garchOrder = c(1, 1), submodel = NULL, external.regressors = NULL, variance.targeting = FALSE),mean.model = list(armaOrder = c(0,1), include.mean = TRUE, archm = FALSE, archpow = 1, arfima = FALSE, external.regressors = NULL, archex = FALSE),distribution.model = \"norm\")\n",
    "myfit=ugarchfit(myspec,data=tsValuesLog_d_1[23:103],solver=\"solnp\")\n",
    "forc = ugarchforecast(myfit,n.ahead = 1)\n",
    "print(forc)\n",
    "myspec=ugarchspec(variance.model = list(model = \"sGARCH\", garchOrder = c(1, 1), submodel = NULL, external.regressors = NULL, variance.targeting = FALSE),mean.model = list(armaOrder = c(0,1), include.mean = TRUE, archm = FALSE, archpow = 1, arfima = FALSE, external.regressors = NULL, archex = FALSE),distribution.model = \"norm\")\n",
    "myfit=ugarchfit(myspec,data=tsValuesLog_d_1[24:104],solver=\"solnp\")\n",
    "forc = ugarchforecast(myfit,n.ahead = 1)\n",
    "print(forc)\n",
    "myspec=ugarchspec(variance.model = list(model = \"sGARCH\", garchOrder = c(1, 1), submodel = NULL, external.regressors = NULL, variance.targeting = FALSE),mean.model = list(armaOrder = c(0,1), include.mean = TRUE, archm = FALSE, archpow = 1, arfima = FALSE, external.regressors = NULL, archex = FALSE),distribution.model = \"norm\")\n",
    "myfit=ugarchfit(myspec,data=tsValuesLog_d_1[25:105],solver=\"solnp\")\n",
    "forc = ugarchforecast(myfit,n.ahead = 1)\n",
    "print(forc)\n",
    "myspec=ugarchspec(variance.model = list(model = \"sGARCH\", garchOrder = c(1, 1), submodel = NULL, external.regressors = NULL, variance.targeting = FALSE),mean.model = list(armaOrder = c(0,1), include.mean = TRUE, archm = FALSE, archpow = 1, arfima = FALSE, external.regressors = NULL, archex = FALSE),distribution.model = \"norm\")\n",
    "myfit=ugarchfit(myspec,data=tsValuesLog_d_1[26:106],solver=\"solnp\")\n",
    "forc = ugarchforecast(myfit,n.ahead = 1)\n",
    "print(forc)\n",
    "myspec=ugarchspec(variance.model = list(model = \"sGARCH\", garchOrder = c(1, 1), submodel = NULL, external.regressors = NULL, variance.targeting = FALSE),mean.model = list(armaOrder = c(0,1), include.mean = TRUE, archm = FALSE, archpow = 1, arfima = FALSE, external.regressors = NULL, archex = FALSE),distribution.model = \"norm\")\n",
    "myfit=ugarchfit(myspec,data=tsValuesLog_d_1[27:107],solver=\"solnp\")\n",
    "forc = ugarchforecast(myfit,n.ahead = 1)\n",
    "print(forc)\n",
    "myspec=ugarchspec(variance.model = list(model = \"sGARCH\", garchOrder = c(1, 1), submodel = NULL, external.regressors = NULL, variance.targeting = FALSE),mean.model = list(armaOrder = c(0,1), include.mean = TRUE, archm = FALSE, archpow = 1, arfima = FALSE, external.regressors = NULL, archex = FALSE),distribution.model = \"norm\")\n",
    "myfit=ugarchfit(myspec,data=tsValuesLog_d_1[28:108],solver=\"solnp\")\n",
    "forc = ugarchforecast(myfit,n.ahead = 1)\n",
    "print(forc)\n",
    "myspec=ugarchspec(variance.model = list(model = \"sGARCH\", garchOrder = c(1, 1), submodel = NULL, external.regressors = NULL, variance.targeting = FALSE),mean.model = list(armaOrder = c(0,1), include.mean = TRUE, archm = FALSE, archpow = 1, arfima = FALSE, external.regressors = NULL, archex = FALSE),distribution.model = \"norm\")\n",
    "myfit=ugarchfit(myspec,data=tsValuesLog_d_1[29:109],solver=\"solnp\")\n",
    "forc = ugarchforecast(myfit,n.ahead = 1)\n",
    "print(forc)\n",
    "myspec=ugarchspec(variance.model = list(model = \"sGARCH\", garchOrder = c(1, 1), submodel = NULL, external.regressors = NULL, variance.targeting = FALSE),mean.model = list(armaOrder = c(0,1), include.mean = TRUE, archm = FALSE, archpow = 1, arfima = FALSE, external.regressors = NULL, archex = FALSE),distribution.model = \"norm\")\n",
    "myfit=ugarchfit(myspec,data=tsValuesLog_d_1[30:110],solver=\"solnp\")\n",
    "forc = ugarchforecast(myfit,n.ahead = 1)\n",
    "print(forc)\n",
    "myspec=ugarchspec(variance.model = list(model = \"sGARCH\", garchOrder = c(1, 1), submodel = NULL, external.regressors = NULL, variance.targeting = FALSE),mean.model = list(armaOrder = c(0,1), include.mean = TRUE, archm = FALSE, archpow = 1, arfima = FALSE, external.regressors = NULL, archex = FALSE),distribution.model = \"norm\")\n",
    "myfit=ugarchfit(myspec,data=tsValuesLog_d_1[31:111],solver=\"solnp\")\n",
    "forc = ugarchforecast(myfit,n.ahead = 1)\n",
    "print(forc)\n",
    "myspec=ugarchspec(variance.model = list(model = \"sGARCH\", garchOrder = c(1, 1), submodel = NULL, external.regressors = NULL, variance.targeting = FALSE),mean.model = list(armaOrder = c(0,1), include.mean = TRUE, archm = FALSE, archpow = 1, arfima = FALSE, external.regressors = NULL, archex = FALSE),distribution.model = \"norm\")\n",
    "myfit=ugarchfit(myspec,data=tsValuesLog_d_1[32:112],solver=\"solnp\")\n",
    "forc = ugarchforecast(myfit,n.ahead = 1)\n",
    "print(forc)"
   ]
  },
  {
   "cell_type": "code",
   "execution_count": 132,
   "metadata": {
    "collapsed": false
   },
   "outputs": [
    {
     "name": "stderr",
     "output_type": "stream",
     "text": [
      "Warning message in .sgarchfit(spec = spec, data = data, out.sample = out.sample, :\n",
      "\"\n",
      "ugarchfit-->waring: using less than 100 data\n",
      " points for estimation\n",
      "\""
     ]
    },
    {
     "name": "stdout",
     "output_type": "stream",
     "text": [
      "\n",
      "*------------------------------------*\n",
      "*       GARCH Model Forecast         *\n",
      "*------------------------------------*\n",
      "Model: sGARCH\n",
      "Horizon: 3\n",
      "Roll Steps: 0\n",
      "Out of Sample: 0\n",
      "\n",
      "0-roll forecast [T0=1970-03-23 08:00:00]:\n",
      "       Series    Sigma\n",
      "T+1  0.001398 0.008482\n",
      "T+2 -0.001036 0.008519\n",
      "T+3 -0.001036 0.008556\n",
      "\n",
      "\n"
     ]
    },
    {
     "name": "stderr",
     "output_type": "stream",
     "text": [
      "Warning message in .sgarchfit(spec = spec, data = data, out.sample = out.sample, :\n",
      "\"\n",
      "ugarchfit-->waring: using less than 100 data\n",
      " points for estimation\n",
      "\""
     ]
    },
    {
     "name": "stdout",
     "output_type": "stream",
     "text": [
      "\n",
      "*------------------------------------*\n",
      "*       GARCH Model Forecast         *\n",
      "*------------------------------------*\n",
      "Model: sGARCH\n",
      "Horizon: 3\n",
      "Roll Steps: 0\n",
      "Out of Sample: 0\n",
      "\n",
      "0-roll forecast [T0=1970-03-23 08:00:00]:\n",
      "       Series    Sigma\n",
      "T+1  0.007168 0.009371\n",
      "T+2 -0.001020 0.009409\n",
      "T+3 -0.001020 0.009448\n",
      "\n",
      "\n"
     ]
    },
    {
     "name": "stderr",
     "output_type": "stream",
     "text": [
      "Warning message in .sgarchfit(spec = spec, data = data, out.sample = out.sample, :\n",
      "\"\n",
      "ugarchfit-->waring: using less than 100 data\n",
      " points for estimation\n",
      "\""
     ]
    },
    {
     "name": "stdout",
     "output_type": "stream",
     "text": [
      "\n",
      "*------------------------------------*\n",
      "*       GARCH Model Forecast         *\n",
      "*------------------------------------*\n",
      "Model: sGARCH\n",
      "Horizon: 3\n",
      "Roll Steps: 0\n",
      "Out of Sample: 0\n",
      "\n",
      "0-roll forecast [T0=1970-03-23 08:00:00]:\n",
      "        Series    Sigma\n",
      "T+1  0.0014498 0.009025\n",
      "T+2 -0.0009209 0.009064\n",
      "T+3 -0.0009209 0.009103\n",
      "\n",
      "\n"
     ]
    },
    {
     "name": "stderr",
     "output_type": "stream",
     "text": [
      "Warning message in .sgarchfit(spec = spec, data = data, out.sample = out.sample, :\n",
      "\"\n",
      "ugarchfit-->waring: using less than 100 data\n",
      " points for estimation\n",
      "\""
     ]
    },
    {
     "name": "stdout",
     "output_type": "stream",
     "text": [
      "\n",
      "*------------------------------------*\n",
      "*       GARCH Model Forecast         *\n",
      "*------------------------------------*\n",
      "Model: sGARCH\n",
      "Horizon: 3\n",
      "Roll Steps: 0\n",
      "Out of Sample: 0\n",
      "\n",
      "0-roll forecast [T0=1970-03-23 08:00:00]:\n",
      "        Series    Sigma\n",
      "T+1 -0.0041530 0.008855\n",
      "T+2 -0.0009936 0.008895\n",
      "T+3 -0.0009936 0.008935\n",
      "\n",
      "\n"
     ]
    },
    {
     "name": "stderr",
     "output_type": "stream",
     "text": [
      "Warning message in .sgarchfit(spec = spec, data = data, out.sample = out.sample, :\n",
      "\"\n",
      "ugarchfit-->waring: using less than 100 data\n",
      " points for estimation\n",
      "\""
     ]
    },
    {
     "name": "stdout",
     "output_type": "stream",
     "text": [
      "\n",
      "*------------------------------------*\n",
      "*       GARCH Model Forecast         *\n",
      "*------------------------------------*\n",
      "Model: sGARCH\n",
      "Horizon: 3\n",
      "Roll Steps: 0\n",
      "Out of Sample: 0\n",
      "\n",
      "0-roll forecast [T0=1970-03-23 08:00:00]:\n",
      "        Series    Sigma\n",
      "T+1 -0.0002866 0.007994\n",
      "T+2 -0.0007970 0.007995\n",
      "T+3 -0.0007970 0.007996\n",
      "\n",
      "\n"
     ]
    },
    {
     "name": "stderr",
     "output_type": "stream",
     "text": [
      "Warning message in .sgarchfit(spec = spec, data = data, out.sample = out.sample, :\n",
      "\"\n",
      "ugarchfit-->waring: using less than 100 data\n",
      " points for estimation\n",
      "\""
     ]
    },
    {
     "name": "stdout",
     "output_type": "stream",
     "text": [
      "\n",
      "*------------------------------------*\n",
      "*       GARCH Model Forecast         *\n",
      "*------------------------------------*\n",
      "Model: sGARCH\n",
      "Horizon: 3\n",
      "Roll Steps: 0\n",
      "Out of Sample: 0\n",
      "\n",
      "0-roll forecast [T0=1970-03-23 08:00:00]:\n",
      "        Series    Sigma\n",
      "T+1  0.0012999 0.007468\n",
      "T+2 -0.0008834 0.007450\n",
      "T+3 -0.0008834 0.007433\n",
      "\n",
      "\n"
     ]
    },
    {
     "name": "stderr",
     "output_type": "stream",
     "text": [
      "Warning message in .sgarchfit(spec = spec, data = data, out.sample = out.sample, :\n",
      "\"\n",
      "ugarchfit-->waring: using less than 100 data\n",
      " points for estimation\n",
      "\""
     ]
    },
    {
     "name": "stdout",
     "output_type": "stream",
     "text": [
      "\n",
      "*------------------------------------*\n",
      "*       GARCH Model Forecast         *\n",
      "*------------------------------------*\n",
      "Model: sGARCH\n",
      "Horizon: 3\n",
      "Roll Steps: 0\n",
      "Out of Sample: 0\n",
      "\n",
      "0-roll forecast [T0=1970-03-23 08:00:00]:\n",
      "        Series    Sigma\n",
      "T+1 -0.0020743 0.007221\n",
      "T+2 -0.0006445 0.007214\n",
      "T+3 -0.0006445 0.007208\n",
      "\n",
      "\n"
     ]
    },
    {
     "name": "stderr",
     "output_type": "stream",
     "text": [
      "Warning message in .sgarchfit(spec = spec, data = data, out.sample = out.sample, :\n",
      "\"\n",
      "ugarchfit-->waring: using less than 100 data\n",
      " points for estimation\n",
      "\""
     ]
    },
    {
     "name": "stdout",
     "output_type": "stream",
     "text": [
      "\n",
      "*------------------------------------*\n",
      "*       GARCH Model Forecast         *\n",
      "*------------------------------------*\n",
      "Model: sGARCH\n",
      "Horizon: 3\n",
      "Roll Steps: 0\n",
      "Out of Sample: 0\n",
      "\n",
      "0-roll forecast [T0=1970-03-23 08:00:00]:\n",
      "        Series    Sigma\n",
      "T+1  0.0002488 0.006679\n",
      "T+2 -0.0007067 0.006667\n",
      "T+3 -0.0007067 0.006655\n",
      "\n",
      "\n"
     ]
    },
    {
     "name": "stderr",
     "output_type": "stream",
     "text": [
      "Warning message in .sgarchfit(spec = spec, data = data, out.sample = out.sample, :\n",
      "\"\n",
      "ugarchfit-->waring: using less than 100 data\n",
      " points for estimation\n",
      "\""
     ]
    },
    {
     "name": "stdout",
     "output_type": "stream",
     "text": [
      "\n",
      "*------------------------------------*\n",
      "*       GARCH Model Forecast         *\n",
      "*------------------------------------*\n",
      "Model: sGARCH\n",
      "Horizon: 3\n",
      "Roll Steps: 0\n",
      "Out of Sample: 0\n",
      "\n",
      "0-roll forecast [T0=1970-03-23 08:00:00]:\n",
      "        Series    Sigma\n",
      "T+1 -0.0072019 0.007363\n",
      "T+2 -0.0008694 0.007350\n",
      "T+3 -0.0008694 0.007338\n",
      "\n",
      "\n"
     ]
    },
    {
     "name": "stderr",
     "output_type": "stream",
     "text": [
      "Warning message in .sgarchfit(spec = spec, data = data, out.sample = out.sample, :\n",
      "\"\n",
      "ugarchfit-->waring: using less than 100 data\n",
      " points for estimation\n",
      "\""
     ]
    },
    {
     "name": "stdout",
     "output_type": "stream",
     "text": [
      "\n",
      "*------------------------------------*\n",
      "*       GARCH Model Forecast         *\n",
      "*------------------------------------*\n",
      "Model: sGARCH\n",
      "Horizon: 3\n",
      "Roll Steps: 0\n",
      "Out of Sample: 0\n",
      "\n",
      "0-roll forecast [T0=1970-03-23 08:00:00]:\n",
      "        Series    Sigma\n",
      "T+1  0.0001327 0.007283\n",
      "T+2 -0.0006272 0.007293\n",
      "T+3 -0.0006272 0.007302\n",
      "\n",
      "\n"
     ]
    },
    {
     "name": "stderr",
     "output_type": "stream",
     "text": [
      "Warning message in .sgarchfit(spec = spec, data = data, out.sample = out.sample, :\n",
      "\"\n",
      "ugarchfit-->waring: using less than 100 data\n",
      " points for estimation\n",
      "\""
     ]
    },
    {
     "name": "stdout",
     "output_type": "stream",
     "text": [
      "\n",
      "*------------------------------------*\n",
      "*       GARCH Model Forecast         *\n",
      "*------------------------------------*\n",
      "Model: sGARCH\n",
      "Horizon: 3\n",
      "Roll Steps: 0\n",
      "Out of Sample: 0\n",
      "\n",
      "0-roll forecast [T0=1970-03-23 08:00:00]:\n",
      "        Series    Sigma\n",
      "T+1 -0.0088524 0.008727\n",
      "T+2 -0.0006595 0.008772\n",
      "T+3 -0.0006595 0.008816\n",
      "\n",
      "\n"
     ]
    },
    {
     "name": "stderr",
     "output_type": "stream",
     "text": [
      "Warning message in .sgarchfit(spec = spec, data = data, out.sample = out.sample, :\n",
      "\"\n",
      "ugarchfit-->waring: using less than 100 data\n",
      " points for estimation\n",
      "\""
     ]
    },
    {
     "name": "stdout",
     "output_type": "stream",
     "text": [
      "\n",
      "*------------------------------------*\n",
      "*       GARCH Model Forecast         *\n",
      "*------------------------------------*\n",
      "Model: sGARCH\n",
      "Horizon: 3\n",
      "Roll Steps: 0\n",
      "Out of Sample: 0\n",
      "\n",
      "0-roll forecast [T0=1970-03-23 08:00:00]:\n",
      "       Series    Sigma\n",
      "T+1 -0.003931 0.008494\n",
      "T+2 -0.000891 0.008530\n",
      "T+3 -0.000891 0.008567\n",
      "\n",
      "\n"
     ]
    },
    {
     "name": "stderr",
     "output_type": "stream",
     "text": [
      "Warning message in .sgarchfit(spec = spec, data = data, out.sample = out.sample, :\n",
      "\"\n",
      "ugarchfit-->waring: using less than 100 data\n",
      " points for estimation\n",
      "\""
     ]
    },
    {
     "name": "stdout",
     "output_type": "stream",
     "text": [
      "\n",
      "*------------------------------------*\n",
      "*       GARCH Model Forecast         *\n",
      "*------------------------------------*\n",
      "Model: sGARCH\n",
      "Horizon: 3\n",
      "Roll Steps: 0\n",
      "Out of Sample: 0\n",
      "\n",
      "0-roll forecast [T0=1970-03-23 08:00:00]:\n",
      "        Series    Sigma\n",
      "T+1  0.0061641 0.009066\n",
      "T+2 -0.0005802 0.009113\n",
      "T+3 -0.0005802 0.009159\n",
      "\n",
      "\n"
     ]
    },
    {
     "name": "stderr",
     "output_type": "stream",
     "text": [
      "Warning message in .sgarchfit(spec = spec, data = data, out.sample = out.sample, :\n",
      "\"\n",
      "ugarchfit-->waring: using less than 100 data\n",
      " points for estimation\n",
      "\""
     ]
    },
    {
     "name": "stdout",
     "output_type": "stream",
     "text": [
      "\n",
      "*------------------------------------*\n",
      "*       GARCH Model Forecast         *\n",
      "*------------------------------------*\n",
      "Model: sGARCH\n",
      "Horizon: 3\n",
      "Roll Steps: 0\n",
      "Out of Sample: 0\n",
      "\n",
      "0-roll forecast [T0=1970-03-23 08:00:00]:\n",
      "        Series    Sigma\n",
      "T+1 -0.0043694 0.008955\n",
      "T+2 -0.0004756 0.009002\n",
      "T+3 -0.0004756 0.009050\n",
      "\n",
      "\n"
     ]
    },
    {
     "name": "stderr",
     "output_type": "stream",
     "text": [
      "Warning message in .sgarchfit(spec = spec, data = data, out.sample = out.sample, :\n",
      "\"\n",
      "ugarchfit-->waring: using less than 100 data\n",
      " points for estimation\n",
      "\""
     ]
    },
    {
     "name": "stdout",
     "output_type": "stream",
     "text": [
      "\n",
      "*------------------------------------*\n",
      "*       GARCH Model Forecast         *\n",
      "*------------------------------------*\n",
      "Model: sGARCH\n",
      "Horizon: 3\n",
      "Roll Steps: 0\n",
      "Out of Sample: 0\n",
      "\n",
      "0-roll forecast [T0=1970-03-23 08:00:00]:\n",
      "        Series    Sigma\n",
      "T+1 -0.0003979 0.008411\n",
      "T+2 -0.0005273 0.008443\n",
      "T+3 -0.0005273 0.008475\n",
      "\n",
      "\n"
     ]
    },
    {
     "name": "stderr",
     "output_type": "stream",
     "text": [
      "Warning message in .sgarchfit(spec = spec, data = data, out.sample = out.sample, :\n",
      "\"\n",
      "ugarchfit-->waring: using less than 100 data\n",
      " points for estimation\n",
      "\""
     ]
    },
    {
     "name": "stdout",
     "output_type": "stream",
     "text": [
      "\n",
      "*------------------------------------*\n",
      "*       GARCH Model Forecast         *\n",
      "*------------------------------------*\n",
      "Model: sGARCH\n",
      "Horizon: 3\n",
      "Roll Steps: 0\n",
      "Out of Sample: 0\n",
      "\n",
      "0-roll forecast [T0=1970-03-23 08:00:00]:\n",
      "        Series   Sigma\n",
      "T+1 -0.0144885 0.01173\n",
      "T+2 -0.0005982 0.01178\n",
      "T+3 -0.0005982 0.01182\n",
      "\n",
      "\n"
     ]
    },
    {
     "name": "stderr",
     "output_type": "stream",
     "text": [
      "Warning message in .sgarchfit(spec = spec, data = data, out.sample = out.sample, :\n",
      "\"\n",
      "ugarchfit-->waring: using less than 100 data\n",
      " points for estimation\n",
      "\""
     ]
    },
    {
     "name": "stdout",
     "output_type": "stream",
     "text": [
      "\n",
      "*------------------------------------*\n",
      "*       GARCH Model Forecast         *\n",
      "*------------------------------------*\n",
      "Model: sGARCH\n",
      "Horizon: 3\n",
      "Roll Steps: 0\n",
      "Out of Sample: 0\n",
      "\n",
      "0-roll forecast [T0=1970-03-23 08:00:00]:\n",
      "        Series   Sigma\n",
      "T+1 -0.0018336 0.01100\n",
      "T+2 -0.0005447 0.01105\n",
      "T+3 -0.0005447 0.01110\n",
      "\n",
      "\n"
     ]
    },
    {
     "name": "stderr",
     "output_type": "stream",
     "text": [
      "Warning message in .sgarchfit(spec = spec, data = data, out.sample = out.sample, :\n",
      "\"\n",
      "ugarchfit-->waring: using less than 100 data\n",
      " points for estimation\n",
      "\""
     ]
    },
    {
     "name": "stdout",
     "output_type": "stream",
     "text": [
      "\n",
      "*------------------------------------*\n",
      "*       GARCH Model Forecast         *\n",
      "*------------------------------------*\n",
      "Model: sGARCH\n",
      "Horizon: 3\n",
      "Roll Steps: 0\n",
      "Out of Sample: 0\n",
      "\n",
      "0-roll forecast [T0=1970-03-23 08:00:00]:\n",
      "        Series   Sigma\n",
      "T+1  0.0003955 0.01051\n",
      "T+2 -0.0003625 0.01057\n",
      "T+3 -0.0003625 0.01062\n",
      "\n",
      "\n"
     ]
    },
    {
     "name": "stderr",
     "output_type": "stream",
     "text": [
      "Warning message in .sgarchfit(spec = spec, data = data, out.sample = out.sample, :\n",
      "\"\n",
      "ugarchfit-->waring: using less than 100 data\n",
      " points for estimation\n",
      "\""
     ]
    },
    {
     "name": "stdout",
     "output_type": "stream",
     "text": [
      "\n",
      "*------------------------------------*\n",
      "*       GARCH Model Forecast         *\n",
      "*------------------------------------*\n",
      "Model: sGARCH\n",
      "Horizon: 3\n",
      "Roll Steps: 0\n",
      "Out of Sample: 0\n",
      "\n",
      "0-roll forecast [T0=1970-03-23 08:00:00]:\n",
      "        Series   Sigma\n",
      "T+1 -0.0024415 0.01006\n",
      "T+2 -0.0005203 0.01011\n",
      "T+3 -0.0005203 0.01016\n",
      "\n",
      "\n"
     ]
    },
    {
     "name": "stderr",
     "output_type": "stream",
     "text": [
      "Warning message in .sgarchfit(spec = spec, data = data, out.sample = out.sample, :\n",
      "\"\n",
      "ugarchfit-->waring: using less than 100 data\n",
      " points for estimation\n",
      "\""
     ]
    },
    {
     "name": "stdout",
     "output_type": "stream",
     "text": [
      "\n",
      "*------------------------------------*\n",
      "*       GARCH Model Forecast         *\n",
      "*------------------------------------*\n",
      "Model: sGARCH\n",
      "Horizon: 3\n",
      "Roll Steps: 0\n",
      "Out of Sample: 0\n",
      "\n",
      "0-roll forecast [T0=1970-03-23 08:00:00]:\n",
      "       Series   Sigma\n",
      "T+1  0.007339 0.01065\n",
      "T+2 -0.000140 0.01071\n",
      "T+3 -0.000140 0.01076\n",
      "\n",
      "\n"
     ]
    },
    {
     "name": "stderr",
     "output_type": "stream",
     "text": [
      "Warning message in .sgarchfit(spec = spec, data = data, out.sample = out.sample, :\n",
      "\"\n",
      "ugarchfit-->waring: using less than 100 data\n",
      " points for estimation\n",
      "\""
     ]
    },
    {
     "name": "stdout",
     "output_type": "stream",
     "text": [
      "\n",
      "*------------------------------------*\n",
      "*       GARCH Model Forecast         *\n",
      "*------------------------------------*\n",
      "Model: sGARCH\n",
      "Horizon: 3\n",
      "Roll Steps: 0\n",
      "Out of Sample: 0\n",
      "\n",
      "0-roll forecast [T0=1970-03-23 08:00:00]:\n",
      "        Series   Sigma\n",
      "T+1  3.983e-03 0.01044\n",
      "T+2 -1.939e-05 0.01049\n",
      "T+3 -1.939e-05 0.01054\n",
      "\n",
      "\n"
     ]
    },
    {
     "name": "stderr",
     "output_type": "stream",
     "text": [
      "Warning message in .sgarchfit(spec = spec, data = data, out.sample = out.sample, :\n",
      "\"\n",
      "ugarchfit-->waring: using less than 100 data\n",
      " points for estimation\n",
      "\""
     ]
    },
    {
     "name": "stdout",
     "output_type": "stream",
     "text": [
      "\n",
      "*------------------------------------*\n",
      "*       GARCH Model Forecast         *\n",
      "*------------------------------------*\n",
      "Model: sGARCH\n",
      "Horizon: 3\n",
      "Roll Steps: 0\n",
      "Out of Sample: 0\n",
      "\n",
      "0-roll forecast [T0=1970-03-23 08:00:00]:\n",
      "       Series   Sigma\n",
      "T+1 0.0187161 0.01561\n",
      "T+2 0.0003235 0.01566\n",
      "T+3 0.0003235 0.01572\n",
      "\n",
      "\n"
     ]
    },
    {
     "name": "stderr",
     "output_type": "stream",
     "text": [
      "Warning message in .sgarchfit(spec = spec, data = data, out.sample = out.sample, :\n",
      "\"\n",
      "ugarchfit-->waring: using less than 100 data\n",
      " points for estimation\n",
      "\""
     ]
    },
    {
     "name": "stdout",
     "output_type": "stream",
     "text": [
      "\n",
      "*------------------------------------*\n",
      "*       GARCH Model Forecast         *\n",
      "*------------------------------------*\n",
      "Model: sGARCH\n",
      "Horizon: 3\n",
      "Roll Steps: 0\n",
      "Out of Sample: 0\n",
      "\n",
      "0-roll forecast [T0=1970-03-23 08:00:00]:\n",
      "       Series   Sigma\n",
      "T+1 0.0005708 0.01443\n",
      "T+2 0.0004804 0.01449\n",
      "T+3 0.0004804 0.01454\n",
      "\n",
      "\n"
     ]
    },
    {
     "name": "stderr",
     "output_type": "stream",
     "text": [
      "Warning message in .sgarchfit(spec = spec, data = data, out.sample = out.sample, :\n",
      "\"\n",
      "ugarchfit-->waring: using less than 100 data\n",
      " points for estimation\n",
      "\""
     ]
    },
    {
     "name": "stdout",
     "output_type": "stream",
     "text": [
      "\n",
      "*------------------------------------*\n",
      "*       GARCH Model Forecast         *\n",
      "*------------------------------------*\n",
      "Model: sGARCH\n",
      "Horizon: 3\n",
      "Roll Steps: 0\n",
      "Out of Sample: 0\n",
      "\n",
      "0-roll forecast [T0=1970-03-23 08:00:00]:\n",
      "       Series   Sigma\n",
      "T+1 0.0009401 0.01352\n",
      "T+2 0.0005134 0.01357\n",
      "T+3 0.0005134 0.01363\n",
      "\n",
      "\n"
     ]
    },
    {
     "name": "stderr",
     "output_type": "stream",
     "text": [
      "Warning message in .sgarchfit(spec = spec, data = data, out.sample = out.sample, :\n",
      "\"\n",
      "ugarchfit-->waring: using less than 100 data\n",
      " points for estimation\n",
      "\""
     ]
    },
    {
     "name": "stdout",
     "output_type": "stream",
     "text": [
      "\n",
      "*------------------------------------*\n",
      "*       GARCH Model Forecast         *\n",
      "*------------------------------------*\n",
      "Model: sGARCH\n",
      "Horizon: 3\n",
      "Roll Steps: 0\n",
      "Out of Sample: 0\n",
      "\n",
      "0-roll forecast [T0=1970-03-23 08:00:00]:\n",
      "       Series   Sigma\n",
      "T+1 0.0051026 0.01305\n",
      "T+2 0.0006765 0.01311\n",
      "T+3 0.0006765 0.01316\n",
      "\n",
      "\n"
     ]
    },
    {
     "name": "stderr",
     "output_type": "stream",
     "text": [
      "Warning message in .sgarchfit(spec = spec, data = data, out.sample = out.sample, :\n",
      "\"\n",
      "ugarchfit-->waring: using less than 100 data\n",
      " points for estimation\n",
      "\""
     ]
    },
    {
     "name": "stdout",
     "output_type": "stream",
     "text": [
      "\n",
      "*------------------------------------*\n",
      "*       GARCH Model Forecast         *\n",
      "*------------------------------------*\n",
      "Model: sGARCH\n",
      "Horizon: 3\n",
      "Roll Steps: 0\n",
      "Out of Sample: 0\n",
      "\n",
      "0-roll forecast [T0=1970-03-23 08:00:00]:\n",
      "        Series   Sigma\n",
      "T+1 -0.0005822 0.01240\n",
      "T+2  0.0008914 0.01246\n",
      "T+3  0.0008914 0.01251\n",
      "\n",
      "\n"
     ]
    },
    {
     "name": "stderr",
     "output_type": "stream",
     "text": [
      "Warning message in .sgarchfit(spec = spec, data = data, out.sample = out.sample, :\n",
      "\"\n",
      "ugarchfit-->waring: using less than 100 data\n",
      " points for estimation\n",
      "\""
     ]
    },
    {
     "name": "stdout",
     "output_type": "stream",
     "text": [
      "\n",
      "*------------------------------------*\n",
      "*       GARCH Model Forecast         *\n",
      "*------------------------------------*\n",
      "Model: sGARCH\n",
      "Horizon: 3\n",
      "Roll Steps: 0\n",
      "Out of Sample: 0\n",
      "\n",
      "0-roll forecast [T0=1970-03-23 08:00:00]:\n",
      "        Series   Sigma\n",
      "T+1 -0.0030375 0.01206\n",
      "T+2  0.0007568 0.01212\n",
      "T+3  0.0007568 0.01218\n",
      "\n",
      "\n"
     ]
    },
    {
     "name": "stderr",
     "output_type": "stream",
     "text": [
      "Warning message in .sgarchfit(spec = spec, data = data, out.sample = out.sample, :\n",
      "\"\n",
      "ugarchfit-->waring: using less than 100 data\n",
      " points for estimation\n",
      "\""
     ]
    },
    {
     "name": "stdout",
     "output_type": "stream",
     "text": [
      "\n",
      "*------------------------------------*\n",
      "*       GARCH Model Forecast         *\n",
      "*------------------------------------*\n",
      "Model: sGARCH\n",
      "Horizon: 3\n",
      "Roll Steps: 0\n",
      "Out of Sample: 0\n",
      "\n",
      "0-roll forecast [T0=1970-03-23 08:00:00]:\n",
      "        Series   Sigma\n",
      "T+1 -0.0053437 0.01206\n",
      "T+2  0.0007644 0.01212\n",
      "T+3  0.0007644 0.01218\n",
      "\n",
      "\n"
     ]
    },
    {
     "name": "stderr",
     "output_type": "stream",
     "text": [
      "Warning message in .sgarchfit(spec = spec, data = data, out.sample = out.sample, :\n",
      "\"\n",
      "ugarchfit-->waring: using less than 100 data\n",
      " points for estimation\n",
      "\""
     ]
    },
    {
     "name": "stdout",
     "output_type": "stream",
     "text": [
      "\n",
      "*------------------------------------*\n",
      "*       GARCH Model Forecast         *\n",
      "*------------------------------------*\n",
      "Model: sGARCH\n",
      "Horizon: 3\n",
      "Roll Steps: 0\n",
      "Out of Sample: 0\n",
      "\n",
      "0-roll forecast [T0=1970-03-23 08:00:00]:\n",
      "        Series   Sigma\n",
      "T+1 -0.0002796 0.01159\n",
      "T+2  0.0008508 0.01165\n",
      "T+3  0.0008508 0.01171\n",
      "\n",
      "\n"
     ]
    },
    {
     "name": "stderr",
     "output_type": "stream",
     "text": [
      "Warning message in .sgarchfit(spec = spec, data = data, out.sample = out.sample, :\n",
      "\"\n",
      "ugarchfit-->waring: using less than 100 data\n",
      " points for estimation\n",
      "\""
     ]
    },
    {
     "name": "stdout",
     "output_type": "stream",
     "text": [
      "\n",
      "*------------------------------------*\n",
      "*       GARCH Model Forecast         *\n",
      "*------------------------------------*\n",
      "Model: sGARCH\n",
      "Horizon: 3\n",
      "Roll Steps: 0\n",
      "Out of Sample: 0\n",
      "\n",
      "0-roll forecast [T0=1970-03-23 08:00:00]:\n",
      "        Series   Sigma\n",
      "T+1 -0.0011489 0.01121\n",
      "T+2  0.0006394 0.01128\n",
      "T+3  0.0006394 0.01134\n",
      "\n",
      "\n"
     ]
    },
    {
     "name": "stderr",
     "output_type": "stream",
     "text": [
      "Warning message in .sgarchfit(spec = spec, data = data, out.sample = out.sample, :\n",
      "\"\n",
      "ugarchfit-->waring: using less than 100 data\n",
      " points for estimation\n",
      "\""
     ]
    },
    {
     "name": "stdout",
     "output_type": "stream",
     "text": [
      "\n",
      "*------------------------------------*\n",
      "*       GARCH Model Forecast         *\n",
      "*------------------------------------*\n",
      "Model: sGARCH\n",
      "Horizon: 3\n",
      "Roll Steps: 0\n",
      "Out of Sample: 0\n",
      "\n",
      "0-roll forecast [T0=1970-03-23 08:00:00]:\n",
      "       Series   Sigma\n",
      "T+1 0.0015906 0.01086\n",
      "T+2 0.0006234 0.01092\n",
      "T+3 0.0006234 0.01099\n",
      "\n",
      "\n"
     ]
    }
   ],
   "source": [
    "myspec=ugarchspec(variance.model = list(model = \"sGARCH\", garchOrder = c(1, 1), submodel = NULL, external.regressors = NULL, variance.targeting = FALSE),mean.model = list(armaOrder = c(0,1), include.mean = TRUE, archm = FALSE, archpow = 1, arfima = FALSE, external.regressors = NULL, archex = FALSE),distribution.model = \"norm\")\n",
    "myfit=ugarchfit(myspec,data=tsValuesLog_d_1[2:82],solver=\"solnp\")\n",
    "forc = ugarchforecast(myfit,n.ahead = 3)\n",
    "print(forc)\n",
    "myspec=ugarchspec(variance.model = list(model = \"sGARCH\", garchOrder = c(1, 1), submodel = NULL, external.regressors = NULL, variance.targeting = FALSE),mean.model = list(armaOrder = c(0,1), include.mean = TRUE, archm = FALSE, archpow = 1, arfima = FALSE, external.regressors = NULL, archex = FALSE),distribution.model = \"norm\")\n",
    "myfit=ugarchfit(myspec,data=tsValuesLog_d_1[3:83],solver=\"solnp\")\n",
    "forc = ugarchforecast(myfit,n.ahead = 3)\n",
    "print(forc)\n",
    "myspec=ugarchspec(variance.model = list(model = \"sGARCH\", garchOrder = c(1, 1), submodel = NULL, external.regressors = NULL, variance.targeting = FALSE),mean.model = list(armaOrder = c(0,1), include.mean = TRUE, archm = FALSE, archpow = 1, arfima = FALSE, external.regressors = NULL, archex = FALSE),distribution.model = \"norm\")\n",
    "myfit=ugarchfit(myspec,data=tsValuesLog_d_1[4:84],solver=\"solnp\")\n",
    "forc = ugarchforecast(myfit,n.ahead = 3)\n",
    "print(forc)\n",
    "myspec=ugarchspec(variance.model = list(model = \"sGARCH\", garchOrder = c(1, 1), submodel = NULL, external.regressors = NULL, variance.targeting = FALSE),mean.model = list(armaOrder = c(0,1), include.mean = TRUE, archm = FALSE, archpow = 1, arfima = FALSE, external.regressors = NULL, archex = FALSE),distribution.model = \"norm\")\n",
    "myfit=ugarchfit(myspec,data=tsValuesLog_d_1[5:85],solver=\"solnp\")\n",
    "forc = ugarchforecast(myfit,n.ahead = 3)\n",
    "print(forc)\n",
    "myspec=ugarchspec(variance.model = list(model = \"sGARCH\", garchOrder = c(1, 1), submodel = NULL, external.regressors = NULL, variance.targeting = FALSE),mean.model = list(armaOrder = c(0,1), include.mean = TRUE, archm = FALSE, archpow = 1, arfima = FALSE, external.regressors = NULL, archex = FALSE),distribution.model = \"norm\")\n",
    "myfit=ugarchfit(myspec,data=tsValuesLog_d_1[6:86],solver=\"solnp\")\n",
    "forc = ugarchforecast(myfit,n.ahead = 3)\n",
    "print(forc)\n",
    "myspec=ugarchspec(variance.model = list(model = \"sGARCH\", garchOrder = c(1, 1), submodel = NULL, external.regressors = NULL, variance.targeting = FALSE),mean.model = list(armaOrder = c(0,1), include.mean = TRUE, archm = FALSE, archpow = 1, arfima = FALSE, external.regressors = NULL, archex = FALSE),distribution.model = \"norm\")\n",
    "myfit=ugarchfit(myspec,data=tsValuesLog_d_1[7:87],solver=\"solnp\")\n",
    "forc = ugarchforecast(myfit,n.ahead = 3)\n",
    "print(forc)\n",
    "myspec=ugarchspec(variance.model = list(model = \"sGARCH\", garchOrder = c(1, 1), submodel = NULL, external.regressors = NULL, variance.targeting = FALSE),mean.model = list(armaOrder = c(0,1), include.mean = TRUE, archm = FALSE, archpow = 1, arfima = FALSE, external.regressors = NULL, archex = FALSE),distribution.model = \"norm\")\n",
    "myfit=ugarchfit(myspec,data=tsValuesLog_d_1[8:88],solver=\"solnp\")\n",
    "forc = ugarchforecast(myfit,n.ahead = 3)\n",
    "print(forc)\n",
    "myspec=ugarchspec(variance.model = list(model = \"sGARCH\", garchOrder = c(1, 1), submodel = NULL, external.regressors = NULL, variance.targeting = FALSE),mean.model = list(armaOrder = c(0,1), include.mean = TRUE, archm = FALSE, archpow = 1, arfima = FALSE, external.regressors = NULL, archex = FALSE),distribution.model = \"norm\")\n",
    "myfit=ugarchfit(myspec,data=tsValuesLog_d_1[9:89],solver=\"solnp\")\n",
    "forc = ugarchforecast(myfit,n.ahead = 3)\n",
    "print(forc)\n",
    "myspec=ugarchspec(variance.model = list(model = \"sGARCH\", garchOrder = c(1, 1), submodel = NULL, external.regressors = NULL, variance.targeting = FALSE),mean.model = list(armaOrder = c(0,1), include.mean = TRUE, archm = FALSE, archpow = 1, arfima = FALSE, external.regressors = NULL, archex = FALSE),distribution.model = \"norm\")\n",
    "myfit=ugarchfit(myspec,data=tsValuesLog_d_1[10:90],solver=\"solnp\")\n",
    "forc = ugarchforecast(myfit,n.ahead = 3)\n",
    "print(forc)\n",
    "myspec=ugarchspec(variance.model = list(model = \"sGARCH\", garchOrder = c(1, 1), submodel = NULL, external.regressors = NULL, variance.targeting = FALSE),mean.model = list(armaOrder = c(0,1), include.mean = TRUE, archm = FALSE, archpow = 1, arfima = FALSE, external.regressors = NULL, archex = FALSE),distribution.model = \"norm\")\n",
    "myfit=ugarchfit(myspec,data=tsValuesLog_d_1[11:91],solver=\"solnp\")\n",
    "forc = ugarchforecast(myfit,n.ahead = 3)\n",
    "print(forc)\n",
    "myspec=ugarchspec(variance.model = list(model = \"sGARCH\", garchOrder = c(1, 1), submodel = NULL, external.regressors = NULL, variance.targeting = FALSE),mean.model = list(armaOrder = c(0,1), include.mean = TRUE, archm = FALSE, archpow = 1, arfima = FALSE, external.regressors = NULL, archex = FALSE),distribution.model = \"norm\")\n",
    "myfit=ugarchfit(myspec,data=tsValuesLog_d_1[12:92],solver=\"solnp\")\n",
    "forc = ugarchforecast(myfit,n.ahead = 3)\n",
    "print(forc)\n",
    "myspec=ugarchspec(variance.model = list(model = \"sGARCH\", garchOrder = c(1, 1), submodel = NULL, external.regressors = NULL, variance.targeting = FALSE),mean.model = list(armaOrder = c(0,1), include.mean = TRUE, archm = FALSE, archpow = 1, arfima = FALSE, external.regressors = NULL, archex = FALSE),distribution.model = \"norm\")\n",
    "myfit=ugarchfit(myspec,data=tsValuesLog_d_1[13:93],solver=\"solnp\")\n",
    "forc = ugarchforecast(myfit,n.ahead = 3)\n",
    "print(forc)\n",
    "myspec=ugarchspec(variance.model = list(model = \"sGARCH\", garchOrder = c(1, 1), submodel = NULL, external.regressors = NULL, variance.targeting = FALSE),mean.model = list(armaOrder = c(0,1), include.mean = TRUE, archm = FALSE, archpow = 1, arfima = FALSE, external.regressors = NULL, archex = FALSE),distribution.model = \"norm\")\n",
    "myfit=ugarchfit(myspec,data=tsValuesLog_d_1[14:94],solver=\"solnp\")\n",
    "forc = ugarchforecast(myfit,n.ahead = 3)\n",
    "print(forc)\n",
    "myspec=ugarchspec(variance.model = list(model = \"sGARCH\", garchOrder = c(1, 1), submodel = NULL, external.regressors = NULL, variance.targeting = FALSE),mean.model = list(armaOrder = c(0,1), include.mean = TRUE, archm = FALSE, archpow = 1, arfima = FALSE, external.regressors = NULL, archex = FALSE),distribution.model = \"norm\")\n",
    "myfit=ugarchfit(myspec,data=tsValuesLog_d_1[15:95],solver=\"solnp\")\n",
    "forc = ugarchforecast(myfit,n.ahead = 3)\n",
    "print(forc)\n",
    "myspec=ugarchspec(variance.model = list(model = \"sGARCH\", garchOrder = c(1, 1), submodel = NULL, external.regressors = NULL, variance.targeting = FALSE),mean.model = list(armaOrder = c(0,1), include.mean = TRUE, archm = FALSE, archpow = 1, arfima = FALSE, external.regressors = NULL, archex = FALSE),distribution.model = \"norm\")\n",
    "myfit=ugarchfit(myspec,data=tsValuesLog_d_1[16:96],solver=\"solnp\")\n",
    "forc = ugarchforecast(myfit,n.ahead = 3)\n",
    "print(forc)\n",
    "myspec=ugarchspec(variance.model = list(model = \"sGARCH\", garchOrder = c(1, 1), submodel = NULL, external.regressors = NULL, variance.targeting = FALSE),mean.model = list(armaOrder = c(0,1), include.mean = TRUE, archm = FALSE, archpow = 1, arfima = FALSE, external.regressors = NULL, archex = FALSE),distribution.model = \"norm\")\n",
    "myfit=ugarchfit(myspec,data=tsValuesLog_d_1[17:97],solver=\"solnp\")\n",
    "forc = ugarchforecast(myfit,n.ahead = 3)\n",
    "print(forc)\n",
    "myspec=ugarchspec(variance.model = list(model = \"sGARCH\", garchOrder = c(1, 1), submodel = NULL, external.regressors = NULL, variance.targeting = FALSE),mean.model = list(armaOrder = c(0,1), include.mean = TRUE, archm = FALSE, archpow = 1, arfima = FALSE, external.regressors = NULL, archex = FALSE),distribution.model = \"norm\")\n",
    "myfit=ugarchfit(myspec,data=tsValuesLog_d_1[18:98],solver=\"solnp\")\n",
    "forc = ugarchforecast(myfit,n.ahead = 3)\n",
    "print(forc)\n",
    "myspec=ugarchspec(variance.model = list(model = \"sGARCH\", garchOrder = c(1, 1), submodel = NULL, external.regressors = NULL, variance.targeting = FALSE),mean.model = list(armaOrder = c(0,1), include.mean = TRUE, archm = FALSE, archpow = 1, arfima = FALSE, external.regressors = NULL, archex = FALSE),distribution.model = \"norm\")\n",
    "myfit=ugarchfit(myspec,data=tsValuesLog_d_1[19:99],solver=\"solnp\")\n",
    "forc = ugarchforecast(myfit,n.ahead = 3)\n",
    "print(forc)\n",
    "myspec=ugarchspec(variance.model = list(model = \"sGARCH\", garchOrder = c(1, 1), submodel = NULL, external.regressors = NULL, variance.targeting = FALSE),mean.model = list(armaOrder = c(0,1), include.mean = TRUE, archm = FALSE, archpow = 1, arfima = FALSE, external.regressors = NULL, archex = FALSE),distribution.model = \"norm\")\n",
    "myfit=ugarchfit(myspec,data=tsValuesLog_d_1[20:100],solver=\"solnp\")\n",
    "forc = ugarchforecast(myfit,n.ahead = 3)\n",
    "print(forc)\n",
    "myspec=ugarchspec(variance.model = list(model = \"sGARCH\", garchOrder = c(1, 1), submodel = NULL, external.regressors = NULL, variance.targeting = FALSE),mean.model = list(armaOrder = c(0,1), include.mean = TRUE, archm = FALSE, archpow = 1, arfima = FALSE, external.regressors = NULL, archex = FALSE),distribution.model = \"norm\")\n",
    "myfit=ugarchfit(myspec,data=tsValuesLog_d_1[21:101],solver=\"solnp\")\n",
    "forc = ugarchforecast(myfit,n.ahead = 3)\n",
    "print(forc)\n",
    "myspec=ugarchspec(variance.model = list(model = \"sGARCH\", garchOrder = c(1, 1), submodel = NULL, external.regressors = NULL, variance.targeting = FALSE),mean.model = list(armaOrder = c(0,1), include.mean = TRUE, archm = FALSE, archpow = 1, arfima = FALSE, external.regressors = NULL, archex = FALSE),distribution.model = \"norm\")\n",
    "myfit=ugarchfit(myspec,data=tsValuesLog_d_1[22:102],solver=\"solnp\")\n",
    "forc = ugarchforecast(myfit,n.ahead = 3)\n",
    "print(forc)\n",
    "myspec=ugarchspec(variance.model = list(model = \"sGARCH\", garchOrder = c(1, 1), submodel = NULL, external.regressors = NULL, variance.targeting = FALSE),mean.model = list(armaOrder = c(0,1), include.mean = TRUE, archm = FALSE, archpow = 1, arfima = FALSE, external.regressors = NULL, archex = FALSE),distribution.model = \"norm\")\n",
    "myfit=ugarchfit(myspec,data=tsValuesLog_d_1[23:103],solver=\"solnp\")\n",
    "forc = ugarchforecast(myfit,n.ahead = 3)\n",
    "print(forc)\n",
    "myspec=ugarchspec(variance.model = list(model = \"sGARCH\", garchOrder = c(1, 1), submodel = NULL, external.regressors = NULL, variance.targeting = FALSE),mean.model = list(armaOrder = c(0,1), include.mean = TRUE, archm = FALSE, archpow = 1, arfima = FALSE, external.regressors = NULL, archex = FALSE),distribution.model = \"norm\")\n",
    "myfit=ugarchfit(myspec,data=tsValuesLog_d_1[24:104],solver=\"solnp\")\n",
    "forc = ugarchforecast(myfit,n.ahead = 3)\n",
    "print(forc)\n",
    "myspec=ugarchspec(variance.model = list(model = \"sGARCH\", garchOrder = c(1, 1), submodel = NULL, external.regressors = NULL, variance.targeting = FALSE),mean.model = list(armaOrder = c(0,1), include.mean = TRUE, archm = FALSE, archpow = 1, arfima = FALSE, external.regressors = NULL, archex = FALSE),distribution.model = \"norm\")\n",
    "myfit=ugarchfit(myspec,data=tsValuesLog_d_1[25:105],solver=\"solnp\")\n",
    "forc = ugarchforecast(myfit,n.ahead = 3)\n",
    "print(forc)\n",
    "myspec=ugarchspec(variance.model = list(model = \"sGARCH\", garchOrder = c(1, 1), submodel = NULL, external.regressors = NULL, variance.targeting = FALSE),mean.model = list(armaOrder = c(0,1), include.mean = TRUE, archm = FALSE, archpow = 1, arfima = FALSE, external.regressors = NULL, archex = FALSE),distribution.model = \"norm\")\n",
    "myfit=ugarchfit(myspec,data=tsValuesLog_d_1[26:106],solver=\"solnp\")\n",
    "forc = ugarchforecast(myfit,n.ahead = 3)\n",
    "print(forc)\n",
    "myspec=ugarchspec(variance.model = list(model = \"sGARCH\", garchOrder = c(1, 1), submodel = NULL, external.regressors = NULL, variance.targeting = FALSE),mean.model = list(armaOrder = c(0,1), include.mean = TRUE, archm = FALSE, archpow = 1, arfima = FALSE, external.regressors = NULL, archex = FALSE),distribution.model = \"norm\")\n",
    "myfit=ugarchfit(myspec,data=tsValuesLog_d_1[27:107],solver=\"solnp\")\n",
    "forc = ugarchforecast(myfit,n.ahead = 3)\n",
    "print(forc)\n",
    "myspec=ugarchspec(variance.model = list(model = \"sGARCH\", garchOrder = c(1, 1), submodel = NULL, external.regressors = NULL, variance.targeting = FALSE),mean.model = list(armaOrder = c(0,1), include.mean = TRUE, archm = FALSE, archpow = 1, arfima = FALSE, external.regressors = NULL, archex = FALSE),distribution.model = \"norm\")\n",
    "myfit=ugarchfit(myspec,data=tsValuesLog_d_1[28:108],solver=\"solnp\")\n",
    "forc = ugarchforecast(myfit,n.ahead = 3)\n",
    "print(forc)\n",
    "myspec=ugarchspec(variance.model = list(model = \"sGARCH\", garchOrder = c(1, 1), submodel = NULL, external.regressors = NULL, variance.targeting = FALSE),mean.model = list(armaOrder = c(0,1), include.mean = TRUE, archm = FALSE, archpow = 1, arfima = FALSE, external.regressors = NULL, archex = FALSE),distribution.model = \"norm\")\n",
    "myfit=ugarchfit(myspec,data=tsValuesLog_d_1[29:109],solver=\"solnp\")\n",
    "forc = ugarchforecast(myfit,n.ahead = 3)\n",
    "print(forc)\n",
    "myspec=ugarchspec(variance.model = list(model = \"sGARCH\", garchOrder = c(1, 1), submodel = NULL, external.regressors = NULL, variance.targeting = FALSE),mean.model = list(armaOrder = c(0,1), include.mean = TRUE, archm = FALSE, archpow = 1, arfima = FALSE, external.regressors = NULL, archex = FALSE),distribution.model = \"norm\")\n",
    "myfit=ugarchfit(myspec,data=tsValuesLog_d_1[30:110],solver=\"solnp\")\n",
    "forc = ugarchforecast(myfit,n.ahead = 3)\n",
    "print(forc)\n",
    "myspec=ugarchspec(variance.model = list(model = \"sGARCH\", garchOrder = c(1, 1), submodel = NULL, external.regressors = NULL, variance.targeting = FALSE),mean.model = list(armaOrder = c(0,1), include.mean = TRUE, archm = FALSE, archpow = 1, arfima = FALSE, external.regressors = NULL, archex = FALSE),distribution.model = \"norm\")\n",
    "myfit=ugarchfit(myspec,data=tsValuesLog_d_1[31:111],solver=\"solnp\")\n",
    "forc = ugarchforecast(myfit,n.ahead = 3)\n",
    "print(forc)\n",
    "myspec=ugarchspec(variance.model = list(model = \"sGARCH\", garchOrder = c(1, 1), submodel = NULL, external.regressors = NULL, variance.targeting = FALSE),mean.model = list(armaOrder = c(0,1), include.mean = TRUE, archm = FALSE, archpow = 1, arfima = FALSE, external.regressors = NULL, archex = FALSE),distribution.model = \"norm\")\n",
    "myfit=ugarchfit(myspec,data=tsValuesLog_d_1[32:112],solver=\"solnp\")\n",
    "forc = ugarchforecast(myfit,n.ahead = 3)\n",
    "print(forc)"
   ]
  },
  {
   "cell_type": "code",
   "execution_count": 133,
   "metadata": {
    "collapsed": false
   },
   "outputs": [
    {
     "name": "stderr",
     "output_type": "stream",
     "text": [
      "Warning message in .sgarchfit(spec = spec, data = data, out.sample = out.sample, :\n",
      "\"\n",
      "ugarchfit-->waring: using less than 100 data\n",
      " points for estimation\n",
      "\""
     ]
    },
    {
     "name": "stdout",
     "output_type": "stream",
     "text": [
      "\n",
      "*------------------------------------*\n",
      "*       GARCH Model Forecast         *\n",
      "*------------------------------------*\n",
      "Model: sGARCH\n",
      "Horizon: 6\n",
      "Roll Steps: 0\n",
      "Out of Sample: 0\n",
      "\n",
      "0-roll forecast [T0=1970-03-23 08:00:00]:\n",
      "        Series    Sigma\n",
      "T+1 -0.0041530 0.008855\n",
      "T+2 -0.0009936 0.008895\n",
      "T+3 -0.0009936 0.008935\n",
      "T+4 -0.0009936 0.008975\n",
      "T+5 -0.0009936 0.009015\n",
      "T+6 -0.0009936 0.009054\n",
      "\n",
      "\n"
     ]
    },
    {
     "name": "stderr",
     "output_type": "stream",
     "text": [
      "Warning message in .sgarchfit(spec = spec, data = data, out.sample = out.sample, :\n",
      "\"\n",
      "ugarchfit-->waring: using less than 100 data\n",
      " points for estimation\n",
      "\""
     ]
    },
    {
     "name": "stdout",
     "output_type": "stream",
     "text": [
      "\n",
      "*------------------------------------*\n",
      "*       GARCH Model Forecast         *\n",
      "*------------------------------------*\n",
      "Model: sGARCH\n",
      "Horizon: 6\n",
      "Roll Steps: 0\n",
      "Out of Sample: 0\n",
      "\n",
      "0-roll forecast [T0=1970-03-23 08:00:00]:\n",
      "        Series    Sigma\n",
      "T+1 -0.0002866 0.007994\n",
      "T+2 -0.0007970 0.007995\n",
      "T+3 -0.0007970 0.007996\n",
      "T+4 -0.0007970 0.007996\n",
      "T+5 -0.0007970 0.007997\n",
      "T+6 -0.0007970 0.007997\n",
      "\n",
      "\n"
     ]
    },
    {
     "name": "stderr",
     "output_type": "stream",
     "text": [
      "Warning message in .sgarchfit(spec = spec, data = data, out.sample = out.sample, :\n",
      "\"\n",
      "ugarchfit-->waring: using less than 100 data\n",
      " points for estimation\n",
      "\""
     ]
    },
    {
     "name": "stdout",
     "output_type": "stream",
     "text": [
      "\n",
      "*------------------------------------*\n",
      "*       GARCH Model Forecast         *\n",
      "*------------------------------------*\n",
      "Model: sGARCH\n",
      "Horizon: 6\n",
      "Roll Steps: 0\n",
      "Out of Sample: 0\n",
      "\n",
      "0-roll forecast [T0=1970-03-23 08:00:00]:\n",
      "        Series    Sigma\n",
      "T+1  0.0012999 0.007468\n",
      "T+2 -0.0008834 0.007450\n",
      "T+3 -0.0008834 0.007433\n",
      "T+4 -0.0008834 0.007416\n",
      "T+5 -0.0008834 0.007400\n",
      "T+6 -0.0008834 0.007384\n",
      "\n",
      "\n"
     ]
    },
    {
     "name": "stderr",
     "output_type": "stream",
     "text": [
      "Warning message in .sgarchfit(spec = spec, data = data, out.sample = out.sample, :\n",
      "\"\n",
      "ugarchfit-->waring: using less than 100 data\n",
      " points for estimation\n",
      "\""
     ]
    },
    {
     "name": "stdout",
     "output_type": "stream",
     "text": [
      "\n",
      "*------------------------------------*\n",
      "*       GARCH Model Forecast         *\n",
      "*------------------------------------*\n",
      "Model: sGARCH\n",
      "Horizon: 6\n",
      "Roll Steps: 0\n",
      "Out of Sample: 0\n",
      "\n",
      "0-roll forecast [T0=1970-03-23 08:00:00]:\n",
      "        Series    Sigma\n",
      "T+1 -0.0020743 0.007221\n",
      "T+2 -0.0006445 0.007214\n",
      "T+3 -0.0006445 0.007208\n",
      "T+4 -0.0006445 0.007202\n",
      "T+5 -0.0006445 0.007196\n",
      "T+6 -0.0006445 0.007190\n",
      "\n",
      "\n"
     ]
    },
    {
     "name": "stderr",
     "output_type": "stream",
     "text": [
      "Warning message in .sgarchfit(spec = spec, data = data, out.sample = out.sample, :\n",
      "\"\n",
      "ugarchfit-->waring: using less than 100 data\n",
      " points for estimation\n",
      "\""
     ]
    },
    {
     "name": "stdout",
     "output_type": "stream",
     "text": [
      "\n",
      "*------------------------------------*\n",
      "*       GARCH Model Forecast         *\n",
      "*------------------------------------*\n",
      "Model: sGARCH\n",
      "Horizon: 6\n",
      "Roll Steps: 0\n",
      "Out of Sample: 0\n",
      "\n",
      "0-roll forecast [T0=1970-03-23 08:00:00]:\n",
      "        Series    Sigma\n",
      "T+1  0.0002488 0.006679\n",
      "T+2 -0.0007067 0.006667\n",
      "T+3 -0.0007067 0.006655\n",
      "T+4 -0.0007067 0.006644\n",
      "T+5 -0.0007067 0.006633\n",
      "T+6 -0.0007067 0.006622\n",
      "\n",
      "\n"
     ]
    },
    {
     "name": "stderr",
     "output_type": "stream",
     "text": [
      "Warning message in .sgarchfit(spec = spec, data = data, out.sample = out.sample, :\n",
      "\"\n",
      "ugarchfit-->waring: using less than 100 data\n",
      " points for estimation\n",
      "\""
     ]
    },
    {
     "name": "stdout",
     "output_type": "stream",
     "text": [
      "\n",
      "*------------------------------------*\n",
      "*       GARCH Model Forecast         *\n",
      "*------------------------------------*\n",
      "Model: sGARCH\n",
      "Horizon: 6\n",
      "Roll Steps: 0\n",
      "Out of Sample: 0\n",
      "\n",
      "0-roll forecast [T0=1970-03-23 08:00:00]:\n",
      "        Series    Sigma\n",
      "T+1 -0.0072019 0.007363\n",
      "T+2 -0.0008694 0.007350\n",
      "T+3 -0.0008694 0.007338\n",
      "T+4 -0.0008694 0.007326\n",
      "T+5 -0.0008694 0.007314\n",
      "T+6 -0.0008694 0.007303\n",
      "\n",
      "\n"
     ]
    },
    {
     "name": "stderr",
     "output_type": "stream",
     "text": [
      "Warning message in .sgarchfit(spec = spec, data = data, out.sample = out.sample, :\n",
      "\"\n",
      "ugarchfit-->waring: using less than 100 data\n",
      " points for estimation\n",
      "\""
     ]
    },
    {
     "name": "stdout",
     "output_type": "stream",
     "text": [
      "\n",
      "*------------------------------------*\n",
      "*       GARCH Model Forecast         *\n",
      "*------------------------------------*\n",
      "Model: sGARCH\n",
      "Horizon: 6\n",
      "Roll Steps: 0\n",
      "Out of Sample: 0\n",
      "\n",
      "0-roll forecast [T0=1970-03-23 08:00:00]:\n",
      "        Series    Sigma\n",
      "T+1  0.0001327 0.007283\n",
      "T+2 -0.0006272 0.007293\n",
      "T+3 -0.0006272 0.007302\n",
      "T+4 -0.0006272 0.007311\n",
      "T+5 -0.0006272 0.007320\n",
      "T+6 -0.0006272 0.007329\n",
      "\n",
      "\n"
     ]
    },
    {
     "name": "stderr",
     "output_type": "stream",
     "text": [
      "Warning message in .sgarchfit(spec = spec, data = data, out.sample = out.sample, :\n",
      "\"\n",
      "ugarchfit-->waring: using less than 100 data\n",
      " points for estimation\n",
      "\""
     ]
    },
    {
     "name": "stdout",
     "output_type": "stream",
     "text": [
      "\n",
      "*------------------------------------*\n",
      "*       GARCH Model Forecast         *\n",
      "*------------------------------------*\n",
      "Model: sGARCH\n",
      "Horizon: 6\n",
      "Roll Steps: 0\n",
      "Out of Sample: 0\n",
      "\n",
      "0-roll forecast [T0=1970-03-23 08:00:00]:\n",
      "        Series    Sigma\n",
      "T+1 -0.0088524 0.008727\n",
      "T+2 -0.0006595 0.008772\n",
      "T+3 -0.0006595 0.008816\n",
      "T+4 -0.0006595 0.008860\n",
      "T+5 -0.0006595 0.008904\n",
      "T+6 -0.0006595 0.008947\n",
      "\n",
      "\n"
     ]
    },
    {
     "name": "stderr",
     "output_type": "stream",
     "text": [
      "Warning message in .sgarchfit(spec = spec, data = data, out.sample = out.sample, :\n",
      "\"\n",
      "ugarchfit-->waring: using less than 100 data\n",
      " points for estimation\n",
      "\""
     ]
    },
    {
     "name": "stdout",
     "output_type": "stream",
     "text": [
      "\n",
      "*------------------------------------*\n",
      "*       GARCH Model Forecast         *\n",
      "*------------------------------------*\n",
      "Model: sGARCH\n",
      "Horizon: 6\n",
      "Roll Steps: 0\n",
      "Out of Sample: 0\n",
      "\n",
      "0-roll forecast [T0=1970-03-23 08:00:00]:\n",
      "       Series    Sigma\n",
      "T+1 -0.003931 0.008494\n",
      "T+2 -0.000891 0.008530\n",
      "T+3 -0.000891 0.008567\n",
      "T+4 -0.000891 0.008603\n",
      "T+5 -0.000891 0.008639\n",
      "T+6 -0.000891 0.008674\n",
      "\n",
      "\n"
     ]
    },
    {
     "name": "stderr",
     "output_type": "stream",
     "text": [
      "Warning message in .sgarchfit(spec = spec, data = data, out.sample = out.sample, :\n",
      "\"\n",
      "ugarchfit-->waring: using less than 100 data\n",
      " points for estimation\n",
      "\""
     ]
    },
    {
     "name": "stdout",
     "output_type": "stream",
     "text": [
      "\n",
      "*------------------------------------*\n",
      "*       GARCH Model Forecast         *\n",
      "*------------------------------------*\n",
      "Model: sGARCH\n",
      "Horizon: 6\n",
      "Roll Steps: 0\n",
      "Out of Sample: 0\n",
      "\n",
      "0-roll forecast [T0=1970-03-23 08:00:00]:\n",
      "        Series    Sigma\n",
      "T+1  0.0061641 0.009066\n",
      "T+2 -0.0005802 0.009113\n",
      "T+3 -0.0005802 0.009159\n",
      "T+4 -0.0005802 0.009206\n",
      "T+5 -0.0005802 0.009252\n",
      "T+6 -0.0005802 0.009297\n",
      "\n",
      "\n"
     ]
    },
    {
     "name": "stderr",
     "output_type": "stream",
     "text": [
      "Warning message in .sgarchfit(spec = spec, data = data, out.sample = out.sample, :\n",
      "\"\n",
      "ugarchfit-->waring: using less than 100 data\n",
      " points for estimation\n",
      "\""
     ]
    },
    {
     "name": "stdout",
     "output_type": "stream",
     "text": [
      "\n",
      "*------------------------------------*\n",
      "*       GARCH Model Forecast         *\n",
      "*------------------------------------*\n",
      "Model: sGARCH\n",
      "Horizon: 6\n",
      "Roll Steps: 0\n",
      "Out of Sample: 0\n",
      "\n",
      "0-roll forecast [T0=1970-03-23 08:00:00]:\n",
      "        Series    Sigma\n",
      "T+1 -0.0043694 0.008955\n",
      "T+2 -0.0004756 0.009002\n",
      "T+3 -0.0004756 0.009050\n",
      "T+4 -0.0004756 0.009096\n",
      "T+5 -0.0004756 0.009143\n",
      "T+6 -0.0004756 0.009190\n",
      "\n",
      "\n"
     ]
    },
    {
     "name": "stderr",
     "output_type": "stream",
     "text": [
      "Warning message in .sgarchfit(spec = spec, data = data, out.sample = out.sample, :\n",
      "\"\n",
      "ugarchfit-->waring: using less than 100 data\n",
      " points for estimation\n",
      "\""
     ]
    },
    {
     "name": "stdout",
     "output_type": "stream",
     "text": [
      "\n",
      "*------------------------------------*\n",
      "*       GARCH Model Forecast         *\n",
      "*------------------------------------*\n",
      "Model: sGARCH\n",
      "Horizon: 6\n",
      "Roll Steps: 0\n",
      "Out of Sample: 0\n",
      "\n",
      "0-roll forecast [T0=1970-03-23 08:00:00]:\n",
      "        Series    Sigma\n",
      "T+1 -0.0003979 0.008411\n",
      "T+2 -0.0005273 0.008443\n",
      "T+3 -0.0005273 0.008475\n",
      "T+4 -0.0005273 0.008506\n",
      "T+5 -0.0005273 0.008536\n",
      "T+6 -0.0005273 0.008567\n",
      "\n",
      "\n"
     ]
    },
    {
     "name": "stderr",
     "output_type": "stream",
     "text": [
      "Warning message in .sgarchfit(spec = spec, data = data, out.sample = out.sample, :\n",
      "\"\n",
      "ugarchfit-->waring: using less than 100 data\n",
      " points for estimation\n",
      "\""
     ]
    },
    {
     "name": "stdout",
     "output_type": "stream",
     "text": [
      "\n",
      "*------------------------------------*\n",
      "*       GARCH Model Forecast         *\n",
      "*------------------------------------*\n",
      "Model: sGARCH\n",
      "Horizon: 6\n",
      "Roll Steps: 0\n",
      "Out of Sample: 0\n",
      "\n",
      "0-roll forecast [T0=1970-03-23 08:00:00]:\n",
      "        Series   Sigma\n",
      "T+1 -0.0144885 0.01173\n",
      "T+2 -0.0005982 0.01178\n",
      "T+3 -0.0005982 0.01182\n",
      "T+4 -0.0005982 0.01187\n",
      "T+5 -0.0005982 0.01192\n",
      "T+6 -0.0005982 0.01197\n",
      "\n",
      "\n"
     ]
    },
    {
     "name": "stderr",
     "output_type": "stream",
     "text": [
      "Warning message in .sgarchfit(spec = spec, data = data, out.sample = out.sample, :\n",
      "\"\n",
      "ugarchfit-->waring: using less than 100 data\n",
      " points for estimation\n",
      "\""
     ]
    },
    {
     "name": "stdout",
     "output_type": "stream",
     "text": [
      "\n",
      "*------------------------------------*\n",
      "*       GARCH Model Forecast         *\n",
      "*------------------------------------*\n",
      "Model: sGARCH\n",
      "Horizon: 6\n",
      "Roll Steps: 0\n",
      "Out of Sample: 0\n",
      "\n",
      "0-roll forecast [T0=1970-03-23 08:00:00]:\n",
      "        Series   Sigma\n",
      "T+1 -0.0018336 0.01100\n",
      "T+2 -0.0005447 0.01105\n",
      "T+3 -0.0005447 0.01110\n",
      "T+4 -0.0005447 0.01115\n",
      "T+5 -0.0005447 0.01120\n",
      "T+6 -0.0005447 0.01125\n",
      "\n",
      "\n"
     ]
    },
    {
     "name": "stderr",
     "output_type": "stream",
     "text": [
      "Warning message in .sgarchfit(spec = spec, data = data, out.sample = out.sample, :\n",
      "\"\n",
      "ugarchfit-->waring: using less than 100 data\n",
      " points for estimation\n",
      "\""
     ]
    },
    {
     "name": "stdout",
     "output_type": "stream",
     "text": [
      "\n",
      "*------------------------------------*\n",
      "*       GARCH Model Forecast         *\n",
      "*------------------------------------*\n",
      "Model: sGARCH\n",
      "Horizon: 6\n",
      "Roll Steps: 0\n",
      "Out of Sample: 0\n",
      "\n",
      "0-roll forecast [T0=1970-03-23 08:00:00]:\n",
      "        Series   Sigma\n",
      "T+1  0.0003955 0.01051\n",
      "T+2 -0.0003625 0.01057\n",
      "T+3 -0.0003625 0.01062\n",
      "T+4 -0.0003625 0.01067\n",
      "T+5 -0.0003625 0.01072\n",
      "T+6 -0.0003625 0.01076\n",
      "\n",
      "\n"
     ]
    },
    {
     "name": "stderr",
     "output_type": "stream",
     "text": [
      "Warning message in .sgarchfit(spec = spec, data = data, out.sample = out.sample, :\n",
      "\"\n",
      "ugarchfit-->waring: using less than 100 data\n",
      " points for estimation\n",
      "\""
     ]
    },
    {
     "name": "stdout",
     "output_type": "stream",
     "text": [
      "\n",
      "*------------------------------------*\n",
      "*       GARCH Model Forecast         *\n",
      "*------------------------------------*\n",
      "Model: sGARCH\n",
      "Horizon: 6\n",
      "Roll Steps: 0\n",
      "Out of Sample: 0\n",
      "\n",
      "0-roll forecast [T0=1970-03-23 08:00:00]:\n",
      "        Series   Sigma\n",
      "T+1 -0.0024415 0.01006\n",
      "T+2 -0.0005203 0.01011\n",
      "T+3 -0.0005203 0.01016\n",
      "T+4 -0.0005203 0.01021\n",
      "T+5 -0.0005203 0.01026\n",
      "T+6 -0.0005203 0.01031\n",
      "\n",
      "\n"
     ]
    },
    {
     "name": "stderr",
     "output_type": "stream",
     "text": [
      "Warning message in .sgarchfit(spec = spec, data = data, out.sample = out.sample, :\n",
      "\"\n",
      "ugarchfit-->waring: using less than 100 data\n",
      " points for estimation\n",
      "\""
     ]
    },
    {
     "name": "stdout",
     "output_type": "stream",
     "text": [
      "\n",
      "*------------------------------------*\n",
      "*       GARCH Model Forecast         *\n",
      "*------------------------------------*\n",
      "Model: sGARCH\n",
      "Horizon: 6\n",
      "Roll Steps: 0\n",
      "Out of Sample: 0\n",
      "\n",
      "0-roll forecast [T0=1970-03-23 08:00:00]:\n",
      "       Series   Sigma\n",
      "T+1  0.007339 0.01065\n",
      "T+2 -0.000140 0.01071\n",
      "T+3 -0.000140 0.01076\n",
      "T+4 -0.000140 0.01081\n",
      "T+5 -0.000140 0.01086\n",
      "T+6 -0.000140 0.01092\n",
      "\n",
      "\n"
     ]
    },
    {
     "name": "stderr",
     "output_type": "stream",
     "text": [
      "Warning message in .sgarchfit(spec = spec, data = data, out.sample = out.sample, :\n",
      "\"\n",
      "ugarchfit-->waring: using less than 100 data\n",
      " points for estimation\n",
      "\""
     ]
    },
    {
     "name": "stdout",
     "output_type": "stream",
     "text": [
      "\n",
      "*------------------------------------*\n",
      "*       GARCH Model Forecast         *\n",
      "*------------------------------------*\n",
      "Model: sGARCH\n",
      "Horizon: 6\n",
      "Roll Steps: 0\n",
      "Out of Sample: 0\n",
      "\n",
      "0-roll forecast [T0=1970-03-23 08:00:00]:\n",
      "        Series   Sigma\n",
      "T+1  3.983e-03 0.01044\n",
      "T+2 -1.939e-05 0.01049\n",
      "T+3 -1.939e-05 0.01054\n",
      "T+4 -1.939e-05 0.01059\n",
      "T+5 -1.939e-05 0.01065\n",
      "T+6 -1.939e-05 0.01070\n",
      "\n",
      "\n"
     ]
    },
    {
     "name": "stderr",
     "output_type": "stream",
     "text": [
      "Warning message in .sgarchfit(spec = spec, data = data, out.sample = out.sample, :\n",
      "\"\n",
      "ugarchfit-->waring: using less than 100 data\n",
      " points for estimation\n",
      "\""
     ]
    },
    {
     "name": "stdout",
     "output_type": "stream",
     "text": [
      "\n",
      "*------------------------------------*\n",
      "*       GARCH Model Forecast         *\n",
      "*------------------------------------*\n",
      "Model: sGARCH\n",
      "Horizon: 6\n",
      "Roll Steps: 0\n",
      "Out of Sample: 0\n",
      "\n",
      "0-roll forecast [T0=1970-03-23 08:00:00]:\n",
      "       Series   Sigma\n",
      "T+1 0.0187161 0.01561\n",
      "T+2 0.0003235 0.01566\n",
      "T+3 0.0003235 0.01572\n",
      "T+4 0.0003235 0.01577\n",
      "T+5 0.0003235 0.01582\n",
      "T+6 0.0003235 0.01588\n",
      "\n",
      "\n"
     ]
    },
    {
     "name": "stderr",
     "output_type": "stream",
     "text": [
      "Warning message in .sgarchfit(spec = spec, data = data, out.sample = out.sample, :\n",
      "\"\n",
      "ugarchfit-->waring: using less than 100 data\n",
      " points for estimation\n",
      "\""
     ]
    },
    {
     "name": "stdout",
     "output_type": "stream",
     "text": [
      "\n",
      "*------------------------------------*\n",
      "*       GARCH Model Forecast         *\n",
      "*------------------------------------*\n",
      "Model: sGARCH\n",
      "Horizon: 6\n",
      "Roll Steps: 0\n",
      "Out of Sample: 0\n",
      "\n",
      "0-roll forecast [T0=1970-03-23 08:00:00]:\n",
      "       Series   Sigma\n",
      "T+1 0.0005708 0.01443\n",
      "T+2 0.0004804 0.01449\n",
      "T+3 0.0004804 0.01454\n",
      "T+4 0.0004804 0.01460\n",
      "T+5 0.0004804 0.01465\n",
      "T+6 0.0004804 0.01471\n",
      "\n",
      "\n"
     ]
    },
    {
     "name": "stderr",
     "output_type": "stream",
     "text": [
      "Warning message in .sgarchfit(spec = spec, data = data, out.sample = out.sample, :\n",
      "\"\n",
      "ugarchfit-->waring: using less than 100 data\n",
      " points for estimation\n",
      "\""
     ]
    },
    {
     "name": "stdout",
     "output_type": "stream",
     "text": [
      "\n",
      "*------------------------------------*\n",
      "*       GARCH Model Forecast         *\n",
      "*------------------------------------*\n",
      "Model: sGARCH\n",
      "Horizon: 6\n",
      "Roll Steps: 0\n",
      "Out of Sample: 0\n",
      "\n",
      "0-roll forecast [T0=1970-03-23 08:00:00]:\n",
      "       Series   Sigma\n",
      "T+1 0.0009401 0.01352\n",
      "T+2 0.0005134 0.01357\n",
      "T+3 0.0005134 0.01363\n",
      "T+4 0.0005134 0.01369\n",
      "T+5 0.0005134 0.01374\n",
      "T+6 0.0005134 0.01380\n",
      "\n",
      "\n"
     ]
    },
    {
     "name": "stderr",
     "output_type": "stream",
     "text": [
      "Warning message in .sgarchfit(spec = spec, data = data, out.sample = out.sample, :\n",
      "\"\n",
      "ugarchfit-->waring: using less than 100 data\n",
      " points for estimation\n",
      "\""
     ]
    },
    {
     "name": "stdout",
     "output_type": "stream",
     "text": [
      "\n",
      "*------------------------------------*\n",
      "*       GARCH Model Forecast         *\n",
      "*------------------------------------*\n",
      "Model: sGARCH\n",
      "Horizon: 6\n",
      "Roll Steps: 0\n",
      "Out of Sample: 0\n",
      "\n",
      "0-roll forecast [T0=1970-03-23 08:00:00]:\n",
      "       Series   Sigma\n",
      "T+1 0.0051026 0.01305\n",
      "T+2 0.0006765 0.01311\n",
      "T+3 0.0006765 0.01316\n",
      "T+4 0.0006765 0.01322\n",
      "T+5 0.0006765 0.01328\n",
      "T+6 0.0006765 0.01334\n",
      "\n",
      "\n"
     ]
    },
    {
     "name": "stderr",
     "output_type": "stream",
     "text": [
      "Warning message in .sgarchfit(spec = spec, data = data, out.sample = out.sample, :\n",
      "\"\n",
      "ugarchfit-->waring: using less than 100 data\n",
      " points for estimation\n",
      "\""
     ]
    },
    {
     "name": "stdout",
     "output_type": "stream",
     "text": [
      "\n",
      "*------------------------------------*\n",
      "*       GARCH Model Forecast         *\n",
      "*------------------------------------*\n",
      "Model: sGARCH\n",
      "Horizon: 6\n",
      "Roll Steps: 0\n",
      "Out of Sample: 0\n",
      "\n",
      "0-roll forecast [T0=1970-03-23 08:00:00]:\n",
      "        Series   Sigma\n",
      "T+1 -0.0005822 0.01240\n",
      "T+2  0.0008914 0.01246\n",
      "T+3  0.0008914 0.01251\n",
      "T+4  0.0008914 0.01257\n",
      "T+5  0.0008914 0.01263\n",
      "T+6  0.0008914 0.01269\n",
      "\n",
      "\n"
     ]
    },
    {
     "name": "stderr",
     "output_type": "stream",
     "text": [
      "Warning message in .sgarchfit(spec = spec, data = data, out.sample = out.sample, :\n",
      "\"\n",
      "ugarchfit-->waring: using less than 100 data\n",
      " points for estimation\n",
      "\""
     ]
    },
    {
     "name": "stdout",
     "output_type": "stream",
     "text": [
      "\n",
      "*------------------------------------*\n",
      "*       GARCH Model Forecast         *\n",
      "*------------------------------------*\n",
      "Model: sGARCH\n",
      "Horizon: 6\n",
      "Roll Steps: 0\n",
      "Out of Sample: 0\n",
      "\n",
      "0-roll forecast [T0=1970-03-23 08:00:00]:\n",
      "        Series   Sigma\n",
      "T+1 -0.0030375 0.01206\n",
      "T+2  0.0007568 0.01212\n",
      "T+3  0.0007568 0.01218\n",
      "T+4  0.0007568 0.01224\n",
      "T+5  0.0007568 0.01231\n",
      "T+6  0.0007568 0.01237\n",
      "\n",
      "\n"
     ]
    },
    {
     "name": "stderr",
     "output_type": "stream",
     "text": [
      "Warning message in .sgarchfit(spec = spec, data = data, out.sample = out.sample, :\n",
      "\"\n",
      "ugarchfit-->waring: using less than 100 data\n",
      " points for estimation\n",
      "\""
     ]
    },
    {
     "name": "stdout",
     "output_type": "stream",
     "text": [
      "\n",
      "*------------------------------------*\n",
      "*       GARCH Model Forecast         *\n",
      "*------------------------------------*\n",
      "Model: sGARCH\n",
      "Horizon: 6\n",
      "Roll Steps: 0\n",
      "Out of Sample: 0\n",
      "\n",
      "0-roll forecast [T0=1970-03-23 08:00:00]:\n",
      "        Series   Sigma\n",
      "T+1 -0.0053437 0.01206\n",
      "T+2  0.0007644 0.01212\n",
      "T+3  0.0007644 0.01218\n",
      "T+4  0.0007644 0.01224\n",
      "T+5  0.0007644 0.01231\n",
      "T+6  0.0007644 0.01237\n",
      "\n",
      "\n"
     ]
    },
    {
     "name": "stderr",
     "output_type": "stream",
     "text": [
      "Warning message in .sgarchfit(spec = spec, data = data, out.sample = out.sample, :\n",
      "\"\n",
      "ugarchfit-->waring: using less than 100 data\n",
      " points for estimation\n",
      "\""
     ]
    },
    {
     "name": "stdout",
     "output_type": "stream",
     "text": [
      "\n",
      "*------------------------------------*\n",
      "*       GARCH Model Forecast         *\n",
      "*------------------------------------*\n",
      "Model: sGARCH\n",
      "Horizon: 6\n",
      "Roll Steps: 0\n",
      "Out of Sample: 0\n",
      "\n",
      "0-roll forecast [T0=1970-03-23 08:00:00]:\n",
      "        Series   Sigma\n",
      "T+1 -0.0002796 0.01159\n",
      "T+2  0.0008508 0.01165\n",
      "T+3  0.0008508 0.01171\n",
      "T+4  0.0008508 0.01177\n",
      "T+5  0.0008508 0.01183\n",
      "T+6  0.0008508 0.01189\n",
      "\n",
      "\n"
     ]
    },
    {
     "name": "stderr",
     "output_type": "stream",
     "text": [
      "Warning message in .sgarchfit(spec = spec, data = data, out.sample = out.sample, :\n",
      "\"\n",
      "ugarchfit-->waring: using less than 100 data\n",
      " points for estimation\n",
      "\""
     ]
    },
    {
     "name": "stdout",
     "output_type": "stream",
     "text": [
      "\n",
      "*------------------------------------*\n",
      "*       GARCH Model Forecast         *\n",
      "*------------------------------------*\n",
      "Model: sGARCH\n",
      "Horizon: 6\n",
      "Roll Steps: 0\n",
      "Out of Sample: 0\n",
      "\n",
      "0-roll forecast [T0=1970-03-23 08:00:00]:\n",
      "        Series   Sigma\n",
      "T+1 -0.0011489 0.01121\n",
      "T+2  0.0006394 0.01128\n",
      "T+3  0.0006394 0.01134\n",
      "T+4  0.0006394 0.01140\n",
      "T+5  0.0006394 0.01147\n",
      "T+6  0.0006394 0.01153\n",
      "\n",
      "\n"
     ]
    },
    {
     "name": "stderr",
     "output_type": "stream",
     "text": [
      "Warning message in .sgarchfit(spec = spec, data = data, out.sample = out.sample, :\n",
      "\"\n",
      "ugarchfit-->waring: using less than 100 data\n",
      " points for estimation\n",
      "\""
     ]
    },
    {
     "name": "stdout",
     "output_type": "stream",
     "text": [
      "\n",
      "*------------------------------------*\n",
      "*       GARCH Model Forecast         *\n",
      "*------------------------------------*\n",
      "Model: sGARCH\n",
      "Horizon: 6\n",
      "Roll Steps: 0\n",
      "Out of Sample: 0\n",
      "\n",
      "0-roll forecast [T0=1970-03-23 08:00:00]:\n",
      "       Series   Sigma\n",
      "T+1 0.0015906 0.01086\n",
      "T+2 0.0006234 0.01092\n",
      "T+3 0.0006234 0.01099\n",
      "T+4 0.0006234 0.01105\n",
      "T+5 0.0006234 0.01111\n",
      "T+6 0.0006234 0.01118\n",
      "\n",
      "\n"
     ]
    }
   ],
   "source": [
    "myspec=ugarchspec(variance.model = list(model = \"sGARCH\", garchOrder = c(1, 1), submodel = NULL, external.regressors = NULL, variance.targeting = FALSE),mean.model = list(armaOrder = c(0,1), include.mean = TRUE, archm = FALSE, archpow = 1, arfima = FALSE, external.regressors = NULL, archex = FALSE),distribution.model = \"norm\")\n",
    "myfit=ugarchfit(myspec,data=tsValuesLog_d_1[5:85],solver=\"solnp\")\n",
    "forc = ugarchforecast(myfit,n.ahead = 6)\n",
    "print(forc)\n",
    "myspec=ugarchspec(variance.model = list(model = \"sGARCH\", garchOrder = c(1, 1), submodel = NULL, external.regressors = NULL, variance.targeting = FALSE),mean.model = list(armaOrder = c(0,1), include.mean = TRUE, archm = FALSE, archpow = 1, arfima = FALSE, external.regressors = NULL, archex = FALSE),distribution.model = \"norm\")\n",
    "myfit=ugarchfit(myspec,data=tsValuesLog_d_1[6:86],solver=\"solnp\")\n",
    "forc = ugarchforecast(myfit,n.ahead = 6)\n",
    "print(forc)\n",
    "myspec=ugarchspec(variance.model = list(model = \"sGARCH\", garchOrder = c(1, 1), submodel = NULL, external.regressors = NULL, variance.targeting = FALSE),mean.model = list(armaOrder = c(0,1), include.mean = TRUE, archm = FALSE, archpow = 1, arfima = FALSE, external.regressors = NULL, archex = FALSE),distribution.model = \"norm\")\n",
    "myfit=ugarchfit(myspec,data=tsValuesLog_d_1[7:87],solver=\"solnp\")\n",
    "forc = ugarchforecast(myfit,n.ahead = 6)\n",
    "print(forc)\n",
    "myspec=ugarchspec(variance.model = list(model = \"sGARCH\", garchOrder = c(1, 1), submodel = NULL, external.regressors = NULL, variance.targeting = FALSE),mean.model = list(armaOrder = c(0,1), include.mean = TRUE, archm = FALSE, archpow = 1, arfima = FALSE, external.regressors = NULL, archex = FALSE),distribution.model = \"norm\")\n",
    "myfit=ugarchfit(myspec,data=tsValuesLog_d_1[8:88],solver=\"solnp\")\n",
    "forc = ugarchforecast(myfit,n.ahead = 6)\n",
    "print(forc)\n",
    "myspec=ugarchspec(variance.model = list(model = \"sGARCH\", garchOrder = c(1, 1), submodel = NULL, external.regressors = NULL, variance.targeting = FALSE),mean.model = list(armaOrder = c(0,1), include.mean = TRUE, archm = FALSE, archpow = 1, arfima = FALSE, external.regressors = NULL, archex = FALSE),distribution.model = \"norm\")\n",
    "myfit=ugarchfit(myspec,data=tsValuesLog_d_1[9:89],solver=\"solnp\")\n",
    "forc = ugarchforecast(myfit,n.ahead = 6)\n",
    "print(forc)\n",
    "myspec=ugarchspec(variance.model = list(model = \"sGARCH\", garchOrder = c(1, 1), submodel = NULL, external.regressors = NULL, variance.targeting = FALSE),mean.model = list(armaOrder = c(0,1), include.mean = TRUE, archm = FALSE, archpow = 1, arfima = FALSE, external.regressors = NULL, archex = FALSE),distribution.model = \"norm\")\n",
    "myfit=ugarchfit(myspec,data=tsValuesLog_d_1[10:90],solver=\"solnp\")\n",
    "forc = ugarchforecast(myfit,n.ahead = 6)\n",
    "print(forc)\n",
    "myspec=ugarchspec(variance.model = list(model = \"sGARCH\", garchOrder = c(1, 1), submodel = NULL, external.regressors = NULL, variance.targeting = FALSE),mean.model = list(armaOrder = c(0,1), include.mean = TRUE, archm = FALSE, archpow = 1, arfima = FALSE, external.regressors = NULL, archex = FALSE),distribution.model = \"norm\")\n",
    "myfit=ugarchfit(myspec,data=tsValuesLog_d_1[11:91],solver=\"solnp\")\n",
    "forc = ugarchforecast(myfit,n.ahead = 6)\n",
    "print(forc)\n",
    "myspec=ugarchspec(variance.model = list(model = \"sGARCH\", garchOrder = c(1, 1), submodel = NULL, external.regressors = NULL, variance.targeting = FALSE),mean.model = list(armaOrder = c(0,1), include.mean = TRUE, archm = FALSE, archpow = 1, arfima = FALSE, external.regressors = NULL, archex = FALSE),distribution.model = \"norm\")\n",
    "myfit=ugarchfit(myspec,data=tsValuesLog_d_1[12:92],solver=\"solnp\")\n",
    "forc = ugarchforecast(myfit,n.ahead = 6)\n",
    "print(forc)\n",
    "myspec=ugarchspec(variance.model = list(model = \"sGARCH\", garchOrder = c(1, 1), submodel = NULL, external.regressors = NULL, variance.targeting = FALSE),mean.model = list(armaOrder = c(0,1), include.mean = TRUE, archm = FALSE, archpow = 1, arfima = FALSE, external.regressors = NULL, archex = FALSE),distribution.model = \"norm\")\n",
    "myfit=ugarchfit(myspec,data=tsValuesLog_d_1[13:93],solver=\"solnp\")\n",
    "forc = ugarchforecast(myfit,n.ahead = 6)\n",
    "print(forc)\n",
    "myspec=ugarchspec(variance.model = list(model = \"sGARCH\", garchOrder = c(1, 1), submodel = NULL, external.regressors = NULL, variance.targeting = FALSE),mean.model = list(armaOrder = c(0,1), include.mean = TRUE, archm = FALSE, archpow = 1, arfima = FALSE, external.regressors = NULL, archex = FALSE),distribution.model = \"norm\")\n",
    "myfit=ugarchfit(myspec,data=tsValuesLog_d_1[14:94],solver=\"solnp\")\n",
    "forc = ugarchforecast(myfit,n.ahead = 6)\n",
    "print(forc)\n",
    "myspec=ugarchspec(variance.model = list(model = \"sGARCH\", garchOrder = c(1, 1), submodel = NULL, external.regressors = NULL, variance.targeting = FALSE),mean.model = list(armaOrder = c(0,1), include.mean = TRUE, archm = FALSE, archpow = 1, arfima = FALSE, external.regressors = NULL, archex = FALSE),distribution.model = \"norm\")\n",
    "myfit=ugarchfit(myspec,data=tsValuesLog_d_1[15:95],solver=\"solnp\")\n",
    "forc = ugarchforecast(myfit,n.ahead = 6)\n",
    "print(forc)\n",
    "myspec=ugarchspec(variance.model = list(model = \"sGARCH\", garchOrder = c(1, 1), submodel = NULL, external.regressors = NULL, variance.targeting = FALSE),mean.model = list(armaOrder = c(0,1), include.mean = TRUE, archm = FALSE, archpow = 1, arfima = FALSE, external.regressors = NULL, archex = FALSE),distribution.model = \"norm\")\n",
    "myfit=ugarchfit(myspec,data=tsValuesLog_d_1[16:96],solver=\"solnp\")\n",
    "forc = ugarchforecast(myfit,n.ahead = 6)\n",
    "print(forc)\n",
    "myspec=ugarchspec(variance.model = list(model = \"sGARCH\", garchOrder = c(1, 1), submodel = NULL, external.regressors = NULL, variance.targeting = FALSE),mean.model = list(armaOrder = c(0,1), include.mean = TRUE, archm = FALSE, archpow = 1, arfima = FALSE, external.regressors = NULL, archex = FALSE),distribution.model = \"norm\")\n",
    "myfit=ugarchfit(myspec,data=tsValuesLog_d_1[17:97],solver=\"solnp\")\n",
    "forc = ugarchforecast(myfit,n.ahead = 6)\n",
    "print(forc)\n",
    "myspec=ugarchspec(variance.model = list(model = \"sGARCH\", garchOrder = c(1, 1), submodel = NULL, external.regressors = NULL, variance.targeting = FALSE),mean.model = list(armaOrder = c(0,1), include.mean = TRUE, archm = FALSE, archpow = 1, arfima = FALSE, external.regressors = NULL, archex = FALSE),distribution.model = \"norm\")\n",
    "myfit=ugarchfit(myspec,data=tsValuesLog_d_1[18:98],solver=\"solnp\")\n",
    "forc = ugarchforecast(myfit,n.ahead = 6)\n",
    "print(forc)\n",
    "myspec=ugarchspec(variance.model = list(model = \"sGARCH\", garchOrder = c(1, 1), submodel = NULL, external.regressors = NULL, variance.targeting = FALSE),mean.model = list(armaOrder = c(0,1), include.mean = TRUE, archm = FALSE, archpow = 1, arfima = FALSE, external.regressors = NULL, archex = FALSE),distribution.model = \"norm\")\n",
    "myfit=ugarchfit(myspec,data=tsValuesLog_d_1[19:99],solver=\"solnp\")\n",
    "forc = ugarchforecast(myfit,n.ahead = 6)\n",
    "print(forc)\n",
    "myspec=ugarchspec(variance.model = list(model = \"sGARCH\", garchOrder = c(1, 1), submodel = NULL, external.regressors = NULL, variance.targeting = FALSE),mean.model = list(armaOrder = c(0,1), include.mean = TRUE, archm = FALSE, archpow = 1, arfima = FALSE, external.regressors = NULL, archex = FALSE),distribution.model = \"norm\")\n",
    "myfit=ugarchfit(myspec,data=tsValuesLog_d_1[20:100],solver=\"solnp\")\n",
    "forc = ugarchforecast(myfit,n.ahead = 6)\n",
    "print(forc)\n",
    "myspec=ugarchspec(variance.model = list(model = \"sGARCH\", garchOrder = c(1, 1), submodel = NULL, external.regressors = NULL, variance.targeting = FALSE),mean.model = list(armaOrder = c(0,1), include.mean = TRUE, archm = FALSE, archpow = 1, arfima = FALSE, external.regressors = NULL, archex = FALSE),distribution.model = \"norm\")\n",
    "myfit=ugarchfit(myspec,data=tsValuesLog_d_1[21:101],solver=\"solnp\")\n",
    "forc = ugarchforecast(myfit,n.ahead = 6)\n",
    "print(forc)\n",
    "myspec=ugarchspec(variance.model = list(model = \"sGARCH\", garchOrder = c(1, 1), submodel = NULL, external.regressors = NULL, variance.targeting = FALSE),mean.model = list(armaOrder = c(0,1), include.mean = TRUE, archm = FALSE, archpow = 1, arfima = FALSE, external.regressors = NULL, archex = FALSE),distribution.model = \"norm\")\n",
    "myfit=ugarchfit(myspec,data=tsValuesLog_d_1[22:102],solver=\"solnp\")\n",
    "forc = ugarchforecast(myfit,n.ahead = 6)\n",
    "print(forc)\n",
    "myspec=ugarchspec(variance.model = list(model = \"sGARCH\", garchOrder = c(1, 1), submodel = NULL, external.regressors = NULL, variance.targeting = FALSE),mean.model = list(armaOrder = c(0,1), include.mean = TRUE, archm = FALSE, archpow = 1, arfima = FALSE, external.regressors = NULL, archex = FALSE),distribution.model = \"norm\")\n",
    "myfit=ugarchfit(myspec,data=tsValuesLog_d_1[23:103],solver=\"solnp\")\n",
    "forc = ugarchforecast(myfit,n.ahead = 6)\n",
    "print(forc)\n",
    "myspec=ugarchspec(variance.model = list(model = \"sGARCH\", garchOrder = c(1, 1), submodel = NULL, external.regressors = NULL, variance.targeting = FALSE),mean.model = list(armaOrder = c(0,1), include.mean = TRUE, archm = FALSE, archpow = 1, arfima = FALSE, external.regressors = NULL, archex = FALSE),distribution.model = \"norm\")\n",
    "myfit=ugarchfit(myspec,data=tsValuesLog_d_1[24:104],solver=\"solnp\")\n",
    "forc = ugarchforecast(myfit,n.ahead = 6)\n",
    "print(forc)\n",
    "myspec=ugarchspec(variance.model = list(model = \"sGARCH\", garchOrder = c(1, 1), submodel = NULL, external.regressors = NULL, variance.targeting = FALSE),mean.model = list(armaOrder = c(0,1), include.mean = TRUE, archm = FALSE, archpow = 1, arfima = FALSE, external.regressors = NULL, archex = FALSE),distribution.model = \"norm\")\n",
    "myfit=ugarchfit(myspec,data=tsValuesLog_d_1[25:105],solver=\"solnp\")\n",
    "forc = ugarchforecast(myfit,n.ahead = 6)\n",
    "print(forc)\n",
    "myspec=ugarchspec(variance.model = list(model = \"sGARCH\", garchOrder = c(1, 1), submodel = NULL, external.regressors = NULL, variance.targeting = FALSE),mean.model = list(armaOrder = c(0,1), include.mean = TRUE, archm = FALSE, archpow = 1, arfima = FALSE, external.regressors = NULL, archex = FALSE),distribution.model = \"norm\")\n",
    "myfit=ugarchfit(myspec,data=tsValuesLog_d_1[26:106],solver=\"solnp\")\n",
    "forc = ugarchforecast(myfit,n.ahead = 6)\n",
    "print(forc)\n",
    "myspec=ugarchspec(variance.model = list(model = \"sGARCH\", garchOrder = c(1, 1), submodel = NULL, external.regressors = NULL, variance.targeting = FALSE),mean.model = list(armaOrder = c(0,1), include.mean = TRUE, archm = FALSE, archpow = 1, arfima = FALSE, external.regressors = NULL, archex = FALSE),distribution.model = \"norm\")\n",
    "myfit=ugarchfit(myspec,data=tsValuesLog_d_1[27:107],solver=\"solnp\")\n",
    "forc = ugarchforecast(myfit,n.ahead = 6)\n",
    "print(forc)\n",
    "myspec=ugarchspec(variance.model = list(model = \"sGARCH\", garchOrder = c(1, 1), submodel = NULL, external.regressors = NULL, variance.targeting = FALSE),mean.model = list(armaOrder = c(0,1), include.mean = TRUE, archm = FALSE, archpow = 1, arfima = FALSE, external.regressors = NULL, archex = FALSE),distribution.model = \"norm\")\n",
    "myfit=ugarchfit(myspec,data=tsValuesLog_d_1[28:108],solver=\"solnp\")\n",
    "forc = ugarchforecast(myfit,n.ahead = 6)\n",
    "print(forc)\n",
    "myspec=ugarchspec(variance.model = list(model = \"sGARCH\", garchOrder = c(1, 1), submodel = NULL, external.regressors = NULL, variance.targeting = FALSE),mean.model = list(armaOrder = c(0,1), include.mean = TRUE, archm = FALSE, archpow = 1, arfima = FALSE, external.regressors = NULL, archex = FALSE),distribution.model = \"norm\")\n",
    "myfit=ugarchfit(myspec,data=tsValuesLog_d_1[29:109],solver=\"solnp\")\n",
    "forc = ugarchforecast(myfit,n.ahead = 6)\n",
    "print(forc)\n",
    "myspec=ugarchspec(variance.model = list(model = \"sGARCH\", garchOrder = c(1, 1), submodel = NULL, external.regressors = NULL, variance.targeting = FALSE),mean.model = list(armaOrder = c(0,1), include.mean = TRUE, archm = FALSE, archpow = 1, arfima = FALSE, external.regressors = NULL, archex = FALSE),distribution.model = \"norm\")\n",
    "myfit=ugarchfit(myspec,data=tsValuesLog_d_1[30:110],solver=\"solnp\")\n",
    "forc = ugarchforecast(myfit,n.ahead = 6)\n",
    "print(forc)\n",
    "myspec=ugarchspec(variance.model = list(model = \"sGARCH\", garchOrder = c(1, 1), submodel = NULL, external.regressors = NULL, variance.targeting = FALSE),mean.model = list(armaOrder = c(0,1), include.mean = TRUE, archm = FALSE, archpow = 1, arfima = FALSE, external.regressors = NULL, archex = FALSE),distribution.model = \"norm\")\n",
    "myfit=ugarchfit(myspec,data=tsValuesLog_d_1[31:111],solver=\"solnp\")\n",
    "forc = ugarchforecast(myfit,n.ahead = 6)\n",
    "print(forc)\n",
    "myspec=ugarchspec(variance.model = list(model = \"sGARCH\", garchOrder = c(1, 1), submodel = NULL, external.regressors = NULL, variance.targeting = FALSE),mean.model = list(armaOrder = c(0,1), include.mean = TRUE, archm = FALSE, archpow = 1, arfima = FALSE, external.regressors = NULL, archex = FALSE),distribution.model = \"norm\")\n",
    "myfit=ugarchfit(myspec,data=tsValuesLog_d_1[32:112],solver=\"solnp\")\n",
    "forc = ugarchforecast(myfit,n.ahead = 6)\n",
    "print(forc)"
   ]
  },
  {
   "cell_type": "code",
   "execution_count": 134,
   "metadata": {
    "collapsed": false
   },
   "outputs": [
    {
     "name": "stderr",
     "output_type": "stream",
     "text": [
      "Warning message in .sgarchfit(spec = spec, data = data, out.sample = out.sample, :\n",
      "\"\n",
      "ugarchfit-->waring: using less than 100 data\n",
      " points for estimation\n",
      "\""
     ]
    },
    {
     "name": "stdout",
     "output_type": "stream",
     "text": [
      "\n",
      "*------------------------------------*\n",
      "*       GARCH Model Forecast         *\n",
      "*------------------------------------*\n",
      "Model: sGARCH\n",
      "Horizon: 12\n",
      "Roll Steps: 0\n",
      "Out of Sample: 0\n",
      "\n",
      "0-roll forecast [T0=1970-03-23 08:00:00]:\n",
      "         Series    Sigma\n",
      "T+1   0.0001327 0.007283\n",
      "T+2  -0.0006272 0.007293\n",
      "T+3  -0.0006272 0.007302\n",
      "T+4  -0.0006272 0.007311\n",
      "T+5  -0.0006272 0.007320\n",
      "T+6  -0.0006272 0.007329\n",
      "T+7  -0.0006272 0.007337\n",
      "T+8  -0.0006272 0.007346\n",
      "T+9  -0.0006272 0.007354\n",
      "T+10 -0.0006272 0.007362\n",
      "T+11 -0.0006272 0.007370\n",
      "T+12 -0.0006272 0.007377\n",
      "\n",
      "\n"
     ]
    },
    {
     "name": "stderr",
     "output_type": "stream",
     "text": [
      "Warning message in .sgarchfit(spec = spec, data = data, out.sample = out.sample, :\n",
      "\"\n",
      "ugarchfit-->waring: using less than 100 data\n",
      " points for estimation\n",
      "\""
     ]
    },
    {
     "name": "stdout",
     "output_type": "stream",
     "text": [
      "\n",
      "*------------------------------------*\n",
      "*       GARCH Model Forecast         *\n",
      "*------------------------------------*\n",
      "Model: sGARCH\n",
      "Horizon: 12\n",
      "Roll Steps: 0\n",
      "Out of Sample: 0\n",
      "\n",
      "0-roll forecast [T0=1970-03-23 08:00:00]:\n",
      "         Series    Sigma\n",
      "T+1  -0.0088524 0.008727\n",
      "T+2  -0.0006595 0.008772\n",
      "T+3  -0.0006595 0.008816\n",
      "T+4  -0.0006595 0.008860\n",
      "T+5  -0.0006595 0.008904\n",
      "T+6  -0.0006595 0.008947\n",
      "T+7  -0.0006595 0.008991\n",
      "T+8  -0.0006595 0.009034\n",
      "T+9  -0.0006595 0.009076\n",
      "T+10 -0.0006595 0.009119\n",
      "T+11 -0.0006595 0.009161\n",
      "T+12 -0.0006595 0.009203\n",
      "\n",
      "\n"
     ]
    },
    {
     "name": "stderr",
     "output_type": "stream",
     "text": [
      "Warning message in .sgarchfit(spec = spec, data = data, out.sample = out.sample, :\n",
      "\"\n",
      "ugarchfit-->waring: using less than 100 data\n",
      " points for estimation\n",
      "\""
     ]
    },
    {
     "name": "stdout",
     "output_type": "stream",
     "text": [
      "\n",
      "*------------------------------------*\n",
      "*       GARCH Model Forecast         *\n",
      "*------------------------------------*\n",
      "Model: sGARCH\n",
      "Horizon: 12\n",
      "Roll Steps: 0\n",
      "Out of Sample: 0\n",
      "\n",
      "0-roll forecast [T0=1970-03-23 08:00:00]:\n",
      "        Series    Sigma\n",
      "T+1  -0.003931 0.008494\n",
      "T+2  -0.000891 0.008530\n",
      "T+3  -0.000891 0.008567\n",
      "T+4  -0.000891 0.008603\n",
      "T+5  -0.000891 0.008639\n",
      "T+6  -0.000891 0.008674\n",
      "T+7  -0.000891 0.008709\n",
      "T+8  -0.000891 0.008744\n",
      "T+9  -0.000891 0.008779\n",
      "T+10 -0.000891 0.008813\n",
      "T+11 -0.000891 0.008847\n",
      "T+12 -0.000891 0.008880\n",
      "\n",
      "\n"
     ]
    },
    {
     "name": "stderr",
     "output_type": "stream",
     "text": [
      "Warning message in .sgarchfit(spec = spec, data = data, out.sample = out.sample, :\n",
      "\"\n",
      "ugarchfit-->waring: using less than 100 data\n",
      " points for estimation\n",
      "\""
     ]
    },
    {
     "name": "stdout",
     "output_type": "stream",
     "text": [
      "\n",
      "*------------------------------------*\n",
      "*       GARCH Model Forecast         *\n",
      "*------------------------------------*\n",
      "Model: sGARCH\n",
      "Horizon: 12\n",
      "Roll Steps: 0\n",
      "Out of Sample: 0\n",
      "\n",
      "0-roll forecast [T0=1970-03-23 08:00:00]:\n",
      "         Series    Sigma\n",
      "T+1   0.0061641 0.009066\n",
      "T+2  -0.0005802 0.009113\n",
      "T+3  -0.0005802 0.009159\n",
      "T+4  -0.0005802 0.009206\n",
      "T+5  -0.0005802 0.009252\n",
      "T+6  -0.0005802 0.009297\n",
      "T+7  -0.0005802 0.009343\n",
      "T+8  -0.0005802 0.009388\n",
      "T+9  -0.0005802 0.009433\n",
      "T+10 -0.0005802 0.009477\n",
      "T+11 -0.0005802 0.009522\n",
      "T+12 -0.0005802 0.009566\n",
      "\n",
      "\n"
     ]
    },
    {
     "name": "stderr",
     "output_type": "stream",
     "text": [
      "Warning message in .sgarchfit(spec = spec, data = data, out.sample = out.sample, :\n",
      "\"\n",
      "ugarchfit-->waring: using less than 100 data\n",
      " points for estimation\n",
      "\""
     ]
    },
    {
     "name": "stdout",
     "output_type": "stream",
     "text": [
      "\n",
      "*------------------------------------*\n",
      "*       GARCH Model Forecast         *\n",
      "*------------------------------------*\n",
      "Model: sGARCH\n",
      "Horizon: 12\n",
      "Roll Steps: 0\n",
      "Out of Sample: 0\n",
      "\n",
      "0-roll forecast [T0=1970-03-23 08:00:00]:\n",
      "         Series    Sigma\n",
      "T+1  -0.0043694 0.008955\n",
      "T+2  -0.0004756 0.009002\n",
      "T+3  -0.0004756 0.009050\n",
      "T+4  -0.0004756 0.009096\n",
      "T+5  -0.0004756 0.009143\n",
      "T+6  -0.0004756 0.009190\n",
      "T+7  -0.0004756 0.009236\n",
      "T+8  -0.0004756 0.009281\n",
      "T+9  -0.0004756 0.009327\n",
      "T+10 -0.0004756 0.009372\n",
      "T+11 -0.0004756 0.009417\n",
      "T+12 -0.0004756 0.009462\n",
      "\n",
      "\n"
     ]
    },
    {
     "name": "stderr",
     "output_type": "stream",
     "text": [
      "Warning message in .sgarchfit(spec = spec, data = data, out.sample = out.sample, :\n",
      "\"\n",
      "ugarchfit-->waring: using less than 100 data\n",
      " points for estimation\n",
      "\""
     ]
    },
    {
     "name": "stdout",
     "output_type": "stream",
     "text": [
      "\n",
      "*------------------------------------*\n",
      "*       GARCH Model Forecast         *\n",
      "*------------------------------------*\n",
      "Model: sGARCH\n",
      "Horizon: 12\n",
      "Roll Steps: 0\n",
      "Out of Sample: 0\n",
      "\n",
      "0-roll forecast [T0=1970-03-23 08:00:00]:\n",
      "         Series    Sigma\n",
      "T+1  -0.0003979 0.008411\n",
      "T+2  -0.0005273 0.008443\n",
      "T+3  -0.0005273 0.008475\n",
      "T+4  -0.0005273 0.008506\n",
      "T+5  -0.0005273 0.008536\n",
      "T+6  -0.0005273 0.008567\n",
      "T+7  -0.0005273 0.008597\n",
      "T+8  -0.0005273 0.008627\n",
      "T+9  -0.0005273 0.008656\n",
      "T+10 -0.0005273 0.008685\n",
      "T+11 -0.0005273 0.008714\n",
      "T+12 -0.0005273 0.008742\n",
      "\n",
      "\n"
     ]
    },
    {
     "name": "stderr",
     "output_type": "stream",
     "text": [
      "Warning message in .sgarchfit(spec = spec, data = data, out.sample = out.sample, :\n",
      "\"\n",
      "ugarchfit-->waring: using less than 100 data\n",
      " points for estimation\n",
      "\""
     ]
    },
    {
     "name": "stdout",
     "output_type": "stream",
     "text": [
      "\n",
      "*------------------------------------*\n",
      "*       GARCH Model Forecast         *\n",
      "*------------------------------------*\n",
      "Model: sGARCH\n",
      "Horizon: 12\n",
      "Roll Steps: 0\n",
      "Out of Sample: 0\n",
      "\n",
      "0-roll forecast [T0=1970-03-23 08:00:00]:\n",
      "         Series   Sigma\n",
      "T+1  -0.0144885 0.01173\n",
      "T+2  -0.0005982 0.01178\n",
      "T+3  -0.0005982 0.01182\n",
      "T+4  -0.0005982 0.01187\n",
      "T+5  -0.0005982 0.01192\n",
      "T+6  -0.0005982 0.01197\n",
      "T+7  -0.0005982 0.01202\n",
      "T+8  -0.0005982 0.01206\n",
      "T+9  -0.0005982 0.01211\n",
      "T+10 -0.0005982 0.01216\n",
      "T+11 -0.0005982 0.01221\n",
      "T+12 -0.0005982 0.01225\n",
      "\n",
      "\n"
     ]
    },
    {
     "name": "stderr",
     "output_type": "stream",
     "text": [
      "Warning message in .sgarchfit(spec = spec, data = data, out.sample = out.sample, :\n",
      "\"\n",
      "ugarchfit-->waring: using less than 100 data\n",
      " points for estimation\n",
      "\""
     ]
    },
    {
     "name": "stdout",
     "output_type": "stream",
     "text": [
      "\n",
      "*------------------------------------*\n",
      "*       GARCH Model Forecast         *\n",
      "*------------------------------------*\n",
      "Model: sGARCH\n",
      "Horizon: 12\n",
      "Roll Steps: 0\n",
      "Out of Sample: 0\n",
      "\n",
      "0-roll forecast [T0=1970-03-23 08:00:00]:\n",
      "         Series   Sigma\n",
      "T+1  -0.0018336 0.01100\n",
      "T+2  -0.0005447 0.01105\n",
      "T+3  -0.0005447 0.01110\n",
      "T+4  -0.0005447 0.01115\n",
      "T+5  -0.0005447 0.01120\n",
      "T+6  -0.0005447 0.01125\n",
      "T+7  -0.0005447 0.01130\n",
      "T+8  -0.0005447 0.01135\n",
      "T+9  -0.0005447 0.01139\n",
      "T+10 -0.0005447 0.01144\n",
      "T+11 -0.0005447 0.01149\n",
      "T+12 -0.0005447 0.01154\n",
      "\n",
      "\n"
     ]
    },
    {
     "name": "stderr",
     "output_type": "stream",
     "text": [
      "Warning message in .sgarchfit(spec = spec, data = data, out.sample = out.sample, :\n",
      "\"\n",
      "ugarchfit-->waring: using less than 100 data\n",
      " points for estimation\n",
      "\""
     ]
    },
    {
     "name": "stdout",
     "output_type": "stream",
     "text": [
      "\n",
      "*------------------------------------*\n",
      "*       GARCH Model Forecast         *\n",
      "*------------------------------------*\n",
      "Model: sGARCH\n",
      "Horizon: 12\n",
      "Roll Steps: 0\n",
      "Out of Sample: 0\n",
      "\n",
      "0-roll forecast [T0=1970-03-23 08:00:00]:\n",
      "         Series   Sigma\n",
      "T+1   0.0003955 0.01051\n",
      "T+2  -0.0003625 0.01057\n",
      "T+3  -0.0003625 0.01062\n",
      "T+4  -0.0003625 0.01067\n",
      "T+5  -0.0003625 0.01072\n",
      "T+6  -0.0003625 0.01076\n",
      "T+7  -0.0003625 0.01081\n",
      "T+8  -0.0003625 0.01086\n",
      "T+9  -0.0003625 0.01091\n",
      "T+10 -0.0003625 0.01096\n",
      "T+11 -0.0003625 0.01101\n",
      "T+12 -0.0003625 0.01106\n",
      "\n",
      "\n"
     ]
    },
    {
     "name": "stderr",
     "output_type": "stream",
     "text": [
      "Warning message in .sgarchfit(spec = spec, data = data, out.sample = out.sample, :\n",
      "\"\n",
      "ugarchfit-->waring: using less than 100 data\n",
      " points for estimation\n",
      "\""
     ]
    },
    {
     "name": "stdout",
     "output_type": "stream",
     "text": [
      "\n",
      "*------------------------------------*\n",
      "*       GARCH Model Forecast         *\n",
      "*------------------------------------*\n",
      "Model: sGARCH\n",
      "Horizon: 12\n",
      "Roll Steps: 0\n",
      "Out of Sample: 0\n",
      "\n",
      "0-roll forecast [T0=1970-03-23 08:00:00]:\n",
      "         Series   Sigma\n",
      "T+1  -0.0024415 0.01006\n",
      "T+2  -0.0005203 0.01011\n",
      "T+3  -0.0005203 0.01016\n",
      "T+4  -0.0005203 0.01021\n",
      "T+5  -0.0005203 0.01026\n",
      "T+6  -0.0005203 0.01031\n",
      "T+7  -0.0005203 0.01036\n",
      "T+8  -0.0005203 0.01041\n",
      "T+9  -0.0005203 0.01046\n",
      "T+10 -0.0005203 0.01051\n",
      "T+11 -0.0005203 0.01056\n",
      "T+12 -0.0005203 0.01061\n",
      "\n",
      "\n"
     ]
    },
    {
     "name": "stderr",
     "output_type": "stream",
     "text": [
      "Warning message in .sgarchfit(spec = spec, data = data, out.sample = out.sample, :\n",
      "\"\n",
      "ugarchfit-->waring: using less than 100 data\n",
      " points for estimation\n",
      "\""
     ]
    },
    {
     "name": "stdout",
     "output_type": "stream",
     "text": [
      "\n",
      "*------------------------------------*\n",
      "*       GARCH Model Forecast         *\n",
      "*------------------------------------*\n",
      "Model: sGARCH\n",
      "Horizon: 12\n",
      "Roll Steps: 0\n",
      "Out of Sample: 0\n",
      "\n",
      "0-roll forecast [T0=1970-03-23 08:00:00]:\n",
      "        Series   Sigma\n",
      "T+1   0.007339 0.01065\n",
      "T+2  -0.000140 0.01071\n",
      "T+3  -0.000140 0.01076\n",
      "T+4  -0.000140 0.01081\n",
      "T+5  -0.000140 0.01086\n",
      "T+6  -0.000140 0.01092\n",
      "T+7  -0.000140 0.01097\n",
      "T+8  -0.000140 0.01102\n",
      "T+9  -0.000140 0.01107\n",
      "T+10 -0.000140 0.01112\n",
      "T+11 -0.000140 0.01117\n",
      "T+12 -0.000140 0.01122\n",
      "\n",
      "\n"
     ]
    },
    {
     "name": "stderr",
     "output_type": "stream",
     "text": [
      "Warning message in .sgarchfit(spec = spec, data = data, out.sample = out.sample, :\n",
      "\"\n",
      "ugarchfit-->waring: using less than 100 data\n",
      " points for estimation\n",
      "\""
     ]
    },
    {
     "name": "stdout",
     "output_type": "stream",
     "text": [
      "\n",
      "*------------------------------------*\n",
      "*       GARCH Model Forecast         *\n",
      "*------------------------------------*\n",
      "Model: sGARCH\n",
      "Horizon: 12\n",
      "Roll Steps: 0\n",
      "Out of Sample: 0\n",
      "\n",
      "0-roll forecast [T0=1970-03-23 08:00:00]:\n",
      "         Series   Sigma\n",
      "T+1   3.983e-03 0.01044\n",
      "T+2  -1.939e-05 0.01049\n",
      "T+3  -1.939e-05 0.01054\n",
      "T+4  -1.939e-05 0.01059\n",
      "T+5  -1.939e-05 0.01065\n",
      "T+6  -1.939e-05 0.01070\n",
      "T+7  -1.939e-05 0.01075\n",
      "T+8  -1.939e-05 0.01080\n",
      "T+9  -1.939e-05 0.01085\n",
      "T+10 -1.939e-05 0.01091\n",
      "T+11 -1.939e-05 0.01096\n",
      "T+12 -1.939e-05 0.01101\n",
      "\n",
      "\n"
     ]
    },
    {
     "name": "stderr",
     "output_type": "stream",
     "text": [
      "Warning message in .sgarchfit(spec = spec, data = data, out.sample = out.sample, :\n",
      "\"\n",
      "ugarchfit-->waring: using less than 100 data\n",
      " points for estimation\n",
      "\""
     ]
    },
    {
     "name": "stdout",
     "output_type": "stream",
     "text": [
      "\n",
      "*------------------------------------*\n",
      "*       GARCH Model Forecast         *\n",
      "*------------------------------------*\n",
      "Model: sGARCH\n",
      "Horizon: 12\n",
      "Roll Steps: 0\n",
      "Out of Sample: 0\n",
      "\n",
      "0-roll forecast [T0=1970-03-23 08:00:00]:\n",
      "        Series   Sigma\n",
      "T+1  0.0187161 0.01561\n",
      "T+2  0.0003235 0.01566\n",
      "T+3  0.0003235 0.01572\n",
      "T+4  0.0003235 0.01577\n",
      "T+5  0.0003235 0.01582\n",
      "T+6  0.0003235 0.01588\n",
      "T+7  0.0003235 0.01593\n",
      "T+8  0.0003235 0.01598\n",
      "T+9  0.0003235 0.01603\n",
      "T+10 0.0003235 0.01608\n",
      "T+11 0.0003235 0.01614\n",
      "T+12 0.0003235 0.01619\n",
      "\n",
      "\n"
     ]
    },
    {
     "name": "stderr",
     "output_type": "stream",
     "text": [
      "Warning message in .sgarchfit(spec = spec, data = data, out.sample = out.sample, :\n",
      "\"\n",
      "ugarchfit-->waring: using less than 100 data\n",
      " points for estimation\n",
      "\""
     ]
    },
    {
     "name": "stdout",
     "output_type": "stream",
     "text": [
      "\n",
      "*------------------------------------*\n",
      "*       GARCH Model Forecast         *\n",
      "*------------------------------------*\n",
      "Model: sGARCH\n",
      "Horizon: 12\n",
      "Roll Steps: 0\n",
      "Out of Sample: 0\n",
      "\n",
      "0-roll forecast [T0=1970-03-23 08:00:00]:\n",
      "        Series   Sigma\n",
      "T+1  0.0005708 0.01443\n",
      "T+2  0.0004804 0.01449\n",
      "T+3  0.0004804 0.01454\n",
      "T+4  0.0004804 0.01460\n",
      "T+5  0.0004804 0.01465\n",
      "T+6  0.0004804 0.01471\n",
      "T+7  0.0004804 0.01476\n",
      "T+8  0.0004804 0.01481\n",
      "T+9  0.0004804 0.01487\n",
      "T+10 0.0004804 0.01492\n",
      "T+11 0.0004804 0.01497\n",
      "T+12 0.0004804 0.01503\n",
      "\n",
      "\n"
     ]
    },
    {
     "name": "stderr",
     "output_type": "stream",
     "text": [
      "Warning message in .sgarchfit(spec = spec, data = data, out.sample = out.sample, :\n",
      "\"\n",
      "ugarchfit-->waring: using less than 100 data\n",
      " points for estimation\n",
      "\""
     ]
    },
    {
     "name": "stdout",
     "output_type": "stream",
     "text": [
      "\n",
      "*------------------------------------*\n",
      "*       GARCH Model Forecast         *\n",
      "*------------------------------------*\n",
      "Model: sGARCH\n",
      "Horizon: 12\n",
      "Roll Steps: 0\n",
      "Out of Sample: 0\n",
      "\n",
      "0-roll forecast [T0=1970-03-23 08:00:00]:\n",
      "        Series   Sigma\n",
      "T+1  0.0009401 0.01352\n",
      "T+2  0.0005134 0.01357\n",
      "T+3  0.0005134 0.01363\n",
      "T+4  0.0005134 0.01369\n",
      "T+5  0.0005134 0.01374\n",
      "T+6  0.0005134 0.01380\n",
      "T+7  0.0005134 0.01386\n",
      "T+8  0.0005134 0.01391\n",
      "T+9  0.0005134 0.01397\n",
      "T+10 0.0005134 0.01402\n",
      "T+11 0.0005134 0.01408\n",
      "T+12 0.0005134 0.01413\n",
      "\n",
      "\n"
     ]
    },
    {
     "name": "stderr",
     "output_type": "stream",
     "text": [
      "Warning message in .sgarchfit(spec = spec, data = data, out.sample = out.sample, :\n",
      "\"\n",
      "ugarchfit-->waring: using less than 100 data\n",
      " points for estimation\n",
      "\""
     ]
    },
    {
     "name": "stdout",
     "output_type": "stream",
     "text": [
      "\n",
      "*------------------------------------*\n",
      "*       GARCH Model Forecast         *\n",
      "*------------------------------------*\n",
      "Model: sGARCH\n",
      "Horizon: 12\n",
      "Roll Steps: 0\n",
      "Out of Sample: 0\n",
      "\n",
      "0-roll forecast [T0=1970-03-23 08:00:00]:\n",
      "        Series   Sigma\n",
      "T+1  0.0051026 0.01305\n",
      "T+2  0.0006765 0.01311\n",
      "T+3  0.0006765 0.01316\n",
      "T+4  0.0006765 0.01322\n",
      "T+5  0.0006765 0.01328\n",
      "T+6  0.0006765 0.01334\n",
      "T+7  0.0006765 0.01339\n",
      "T+8  0.0006765 0.01345\n",
      "T+9  0.0006765 0.01351\n",
      "T+10 0.0006765 0.01356\n",
      "T+11 0.0006765 0.01362\n",
      "T+12 0.0006765 0.01367\n",
      "\n",
      "\n"
     ]
    },
    {
     "name": "stderr",
     "output_type": "stream",
     "text": [
      "Warning message in .sgarchfit(spec = spec, data = data, out.sample = out.sample, :\n",
      "\"\n",
      "ugarchfit-->waring: using less than 100 data\n",
      " points for estimation\n",
      "\""
     ]
    },
    {
     "name": "stdout",
     "output_type": "stream",
     "text": [
      "\n",
      "*------------------------------------*\n",
      "*       GARCH Model Forecast         *\n",
      "*------------------------------------*\n",
      "Model: sGARCH\n",
      "Horizon: 12\n",
      "Roll Steps: 0\n",
      "Out of Sample: 0\n",
      "\n",
      "0-roll forecast [T0=1970-03-23 08:00:00]:\n",
      "         Series   Sigma\n",
      "T+1  -0.0005822 0.01240\n",
      "T+2   0.0008914 0.01246\n",
      "T+3   0.0008914 0.01251\n",
      "T+4   0.0008914 0.01257\n",
      "T+5   0.0008914 0.01263\n",
      "T+6   0.0008914 0.01269\n",
      "T+7   0.0008914 0.01275\n",
      "T+8   0.0008914 0.01281\n",
      "T+9   0.0008914 0.01286\n",
      "T+10  0.0008914 0.01292\n",
      "T+11  0.0008914 0.01298\n",
      "T+12  0.0008914 0.01303\n",
      "\n",
      "\n"
     ]
    },
    {
     "name": "stderr",
     "output_type": "stream",
     "text": [
      "Warning message in .sgarchfit(spec = spec, data = data, out.sample = out.sample, :\n",
      "\"\n",
      "ugarchfit-->waring: using less than 100 data\n",
      " points for estimation\n",
      "\""
     ]
    },
    {
     "name": "stdout",
     "output_type": "stream",
     "text": [
      "\n",
      "*------------------------------------*\n",
      "*       GARCH Model Forecast         *\n",
      "*------------------------------------*\n",
      "Model: sGARCH\n",
      "Horizon: 12\n",
      "Roll Steps: 0\n",
      "Out of Sample: 0\n",
      "\n",
      "0-roll forecast [T0=1970-03-23 08:00:00]:\n",
      "         Series   Sigma\n",
      "T+1  -0.0030375 0.01206\n",
      "T+2   0.0007568 0.01212\n",
      "T+3   0.0007568 0.01218\n",
      "T+4   0.0007568 0.01224\n",
      "T+5   0.0007568 0.01231\n",
      "T+6   0.0007568 0.01237\n",
      "T+7   0.0007568 0.01242\n",
      "T+8   0.0007568 0.01248\n",
      "T+9   0.0007568 0.01254\n",
      "T+10  0.0007568 0.01260\n",
      "T+11  0.0007568 0.01266\n",
      "T+12  0.0007568 0.01272\n",
      "\n",
      "\n"
     ]
    },
    {
     "name": "stderr",
     "output_type": "stream",
     "text": [
      "Warning message in .sgarchfit(spec = spec, data = data, out.sample = out.sample, :\n",
      "\"\n",
      "ugarchfit-->waring: using less than 100 data\n",
      " points for estimation\n",
      "\""
     ]
    },
    {
     "name": "stdout",
     "output_type": "stream",
     "text": [
      "\n",
      "*------------------------------------*\n",
      "*       GARCH Model Forecast         *\n",
      "*------------------------------------*\n",
      "Model: sGARCH\n",
      "Horizon: 12\n",
      "Roll Steps: 0\n",
      "Out of Sample: 0\n",
      "\n",
      "0-roll forecast [T0=1970-03-23 08:00:00]:\n",
      "         Series   Sigma\n",
      "T+1  -0.0053437 0.01206\n",
      "T+2   0.0007644 0.01212\n",
      "T+3   0.0007644 0.01218\n",
      "T+4   0.0007644 0.01224\n",
      "T+5   0.0007644 0.01231\n",
      "T+6   0.0007644 0.01237\n",
      "T+7   0.0007644 0.01243\n",
      "T+8   0.0007644 0.01249\n",
      "T+9   0.0007644 0.01255\n",
      "T+10  0.0007644 0.01261\n",
      "T+11  0.0007644 0.01267\n",
      "T+12  0.0007644 0.01272\n",
      "\n",
      "\n"
     ]
    },
    {
     "name": "stderr",
     "output_type": "stream",
     "text": [
      "Warning message in .sgarchfit(spec = spec, data = data, out.sample = out.sample, :\n",
      "\"\n",
      "ugarchfit-->waring: using less than 100 data\n",
      " points for estimation\n",
      "\""
     ]
    },
    {
     "name": "stdout",
     "output_type": "stream",
     "text": [
      "\n",
      "*------------------------------------*\n",
      "*       GARCH Model Forecast         *\n",
      "*------------------------------------*\n",
      "Model: sGARCH\n",
      "Horizon: 12\n",
      "Roll Steps: 0\n",
      "Out of Sample: 0\n",
      "\n",
      "0-roll forecast [T0=1970-03-23 08:00:00]:\n",
      "         Series   Sigma\n",
      "T+1  -0.0002796 0.01159\n",
      "T+2   0.0008508 0.01165\n",
      "T+3   0.0008508 0.01171\n",
      "T+4   0.0008508 0.01177\n",
      "T+5   0.0008508 0.01183\n",
      "T+6   0.0008508 0.01189\n",
      "T+7   0.0008508 0.01195\n",
      "T+8   0.0008508 0.01201\n",
      "T+9   0.0008508 0.01207\n",
      "T+10  0.0008508 0.01213\n",
      "T+11  0.0008508 0.01219\n",
      "T+12  0.0008508 0.01225\n",
      "\n",
      "\n"
     ]
    },
    {
     "name": "stderr",
     "output_type": "stream",
     "text": [
      "Warning message in .sgarchfit(spec = spec, data = data, out.sample = out.sample, :\n",
      "\"\n",
      "ugarchfit-->waring: using less than 100 data\n",
      " points for estimation\n",
      "\""
     ]
    },
    {
     "name": "stdout",
     "output_type": "stream",
     "text": [
      "\n",
      "*------------------------------------*\n",
      "*       GARCH Model Forecast         *\n",
      "*------------------------------------*\n",
      "Model: sGARCH\n",
      "Horizon: 12\n",
      "Roll Steps: 0\n",
      "Out of Sample: 0\n",
      "\n",
      "0-roll forecast [T0=1970-03-23 08:00:00]:\n",
      "         Series   Sigma\n",
      "T+1  -0.0011489 0.01121\n",
      "T+2   0.0006394 0.01128\n",
      "T+3   0.0006394 0.01134\n",
      "T+4   0.0006394 0.01140\n",
      "T+5   0.0006394 0.01147\n",
      "T+6   0.0006394 0.01153\n",
      "T+7   0.0006394 0.01159\n",
      "T+8   0.0006394 0.01165\n",
      "T+9   0.0006394 0.01172\n",
      "T+10  0.0006394 0.01178\n",
      "T+11  0.0006394 0.01184\n",
      "T+12  0.0006394 0.01190\n",
      "\n",
      "\n"
     ]
    },
    {
     "name": "stderr",
     "output_type": "stream",
     "text": [
      "Warning message in .sgarchfit(spec = spec, data = data, out.sample = out.sample, :\n",
      "\"\n",
      "ugarchfit-->waring: using less than 100 data\n",
      " points for estimation\n",
      "\""
     ]
    },
    {
     "name": "stdout",
     "output_type": "stream",
     "text": [
      "\n",
      "*------------------------------------*\n",
      "*       GARCH Model Forecast         *\n",
      "*------------------------------------*\n",
      "Model: sGARCH\n",
      "Horizon: 12\n",
      "Roll Steps: 0\n",
      "Out of Sample: 0\n",
      "\n",
      "0-roll forecast [T0=1970-03-23 08:00:00]:\n",
      "        Series   Sigma\n",
      "T+1  0.0015906 0.01086\n",
      "T+2  0.0006234 0.01092\n",
      "T+3  0.0006234 0.01099\n",
      "T+4  0.0006234 0.01105\n",
      "T+5  0.0006234 0.01111\n",
      "T+6  0.0006234 0.01118\n",
      "T+7  0.0006234 0.01124\n",
      "T+8  0.0006234 0.01130\n",
      "T+9  0.0006234 0.01136\n",
      "T+10 0.0006234 0.01142\n",
      "T+11 0.0006234 0.01148\n",
      "T+12 0.0006234 0.01154\n",
      "\n",
      "\n"
     ]
    }
   ],
   "source": [
    "myspec=ugarchspec(variance.model = list(model = \"sGARCH\", garchOrder = c(1, 1), submodel = NULL, external.regressors = NULL, variance.targeting = FALSE),mean.model = list(armaOrder = c(0,1), include.mean = TRUE, archm = FALSE, archpow = 1, arfima = FALSE, external.regressors = NULL, archex = FALSE),distribution.model = \"norm\")\n",
    "myfit=ugarchfit(myspec,data=tsValuesLog_d_1[11:91],solver=\"solnp\")\n",
    "forc = ugarchforecast(myfit,n.ahead = 12)\n",
    "print(forc)\n",
    "myspec=ugarchspec(variance.model = list(model = \"sGARCH\", garchOrder = c(1, 1), submodel = NULL, external.regressors = NULL, variance.targeting = FALSE),mean.model = list(armaOrder = c(0,1), include.mean = TRUE, archm = FALSE, archpow = 1, arfima = FALSE, external.regressors = NULL, archex = FALSE),distribution.model = \"norm\")\n",
    "myfit=ugarchfit(myspec,data=tsValuesLog_d_1[12:92],solver=\"solnp\")\n",
    "forc = ugarchforecast(myfit,n.ahead = 12)\n",
    "print(forc)\n",
    "myspec=ugarchspec(variance.model = list(model = \"sGARCH\", garchOrder = c(1, 1), submodel = NULL, external.regressors = NULL, variance.targeting = FALSE),mean.model = list(armaOrder = c(0,1), include.mean = TRUE, archm = FALSE, archpow = 1, arfima = FALSE, external.regressors = NULL, archex = FALSE),distribution.model = \"norm\")\n",
    "myfit=ugarchfit(myspec,data=tsValuesLog_d_1[13:93],solver=\"solnp\")\n",
    "forc = ugarchforecast(myfit,n.ahead = 12)\n",
    "print(forc)\n",
    "myspec=ugarchspec(variance.model = list(model = \"sGARCH\", garchOrder = c(1, 1), submodel = NULL, external.regressors = NULL, variance.targeting = FALSE),mean.model = list(armaOrder = c(0,1), include.mean = TRUE, archm = FALSE, archpow = 1, arfima = FALSE, external.regressors = NULL, archex = FALSE),distribution.model = \"norm\")\n",
    "myfit=ugarchfit(myspec,data=tsValuesLog_d_1[14:94],solver=\"solnp\")\n",
    "forc = ugarchforecast(myfit,n.ahead = 12)\n",
    "print(forc)\n",
    "myspec=ugarchspec(variance.model = list(model = \"sGARCH\", garchOrder = c(1, 1), submodel = NULL, external.regressors = NULL, variance.targeting = FALSE),mean.model = list(armaOrder = c(0,1), include.mean = TRUE, archm = FALSE, archpow = 1, arfima = FALSE, external.regressors = NULL, archex = FALSE),distribution.model = \"norm\")\n",
    "myfit=ugarchfit(myspec,data=tsValuesLog_d_1[15:95],solver=\"solnp\")\n",
    "forc = ugarchforecast(myfit,n.ahead = 12)\n",
    "print(forc)\n",
    "myspec=ugarchspec(variance.model = list(model = \"sGARCH\", garchOrder = c(1, 1), submodel = NULL, external.regressors = NULL, variance.targeting = FALSE),mean.model = list(armaOrder = c(0,1), include.mean = TRUE, archm = FALSE, archpow = 1, arfima = FALSE, external.regressors = NULL, archex = FALSE),distribution.model = \"norm\")\n",
    "myfit=ugarchfit(myspec,data=tsValuesLog_d_1[16:96],solver=\"solnp\")\n",
    "forc = ugarchforecast(myfit,n.ahead = 12)\n",
    "print(forc)\n",
    "myspec=ugarchspec(variance.model = list(model = \"sGARCH\", garchOrder = c(1, 1), submodel = NULL, external.regressors = NULL, variance.targeting = FALSE),mean.model = list(armaOrder = c(0,1), include.mean = TRUE, archm = FALSE, archpow = 1, arfima = FALSE, external.regressors = NULL, archex = FALSE),distribution.model = \"norm\")\n",
    "myfit=ugarchfit(myspec,data=tsValuesLog_d_1[17:97],solver=\"solnp\")\n",
    "forc = ugarchforecast(myfit,n.ahead = 12)\n",
    "print(forc)\n",
    "myspec=ugarchspec(variance.model = list(model = \"sGARCH\", garchOrder = c(1, 1), submodel = NULL, external.regressors = NULL, variance.targeting = FALSE),mean.model = list(armaOrder = c(0,1), include.mean = TRUE, archm = FALSE, archpow = 1, arfima = FALSE, external.regressors = NULL, archex = FALSE),distribution.model = \"norm\")\n",
    "myfit=ugarchfit(myspec,data=tsValuesLog_d_1[18:98],solver=\"solnp\")\n",
    "forc = ugarchforecast(myfit,n.ahead = 12)\n",
    "print(forc)\n",
    "myspec=ugarchspec(variance.model = list(model = \"sGARCH\", garchOrder = c(1, 1), submodel = NULL, external.regressors = NULL, variance.targeting = FALSE),mean.model = list(armaOrder = c(0,1), include.mean = TRUE, archm = FALSE, archpow = 1, arfima = FALSE, external.regressors = NULL, archex = FALSE),distribution.model = \"norm\")\n",
    "myfit=ugarchfit(myspec,data=tsValuesLog_d_1[19:99],solver=\"solnp\")\n",
    "forc = ugarchforecast(myfit,n.ahead = 12)\n",
    "print(forc)\n",
    "myspec=ugarchspec(variance.model = list(model = \"sGARCH\", garchOrder = c(1, 1), submodel = NULL, external.regressors = NULL, variance.targeting = FALSE),mean.model = list(armaOrder = c(0,1), include.mean = TRUE, archm = FALSE, archpow = 1, arfima = FALSE, external.regressors = NULL, archex = FALSE),distribution.model = \"norm\")\n",
    "myfit=ugarchfit(myspec,data=tsValuesLog_d_1[20:100],solver=\"solnp\")\n",
    "forc = ugarchforecast(myfit,n.ahead = 12)\n",
    "print(forc)\n",
    "myspec=ugarchspec(variance.model = list(model = \"sGARCH\", garchOrder = c(1, 1), submodel = NULL, external.regressors = NULL, variance.targeting = FALSE),mean.model = list(armaOrder = c(0,1), include.mean = TRUE, archm = FALSE, archpow = 1, arfima = FALSE, external.regressors = NULL, archex = FALSE),distribution.model = \"norm\")\n",
    "myfit=ugarchfit(myspec,data=tsValuesLog_d_1[21:101],solver=\"solnp\")\n",
    "forc = ugarchforecast(myfit,n.ahead = 12)\n",
    "print(forc)\n",
    "myspec=ugarchspec(variance.model = list(model = \"sGARCH\", garchOrder = c(1, 1), submodel = NULL, external.regressors = NULL, variance.targeting = FALSE),mean.model = list(armaOrder = c(0,1), include.mean = TRUE, archm = FALSE, archpow = 1, arfima = FALSE, external.regressors = NULL, archex = FALSE),distribution.model = \"norm\")\n",
    "myfit=ugarchfit(myspec,data=tsValuesLog_d_1[22:102],solver=\"solnp\")\n",
    "forc = ugarchforecast(myfit,n.ahead = 12)\n",
    "print(forc)\n",
    "myspec=ugarchspec(variance.model = list(model = \"sGARCH\", garchOrder = c(1, 1), submodel = NULL, external.regressors = NULL, variance.targeting = FALSE),mean.model = list(armaOrder = c(0,1), include.mean = TRUE, archm = FALSE, archpow = 1, arfima = FALSE, external.regressors = NULL, archex = FALSE),distribution.model = \"norm\")\n",
    "myfit=ugarchfit(myspec,data=tsValuesLog_d_1[23:103],solver=\"solnp\")\n",
    "forc = ugarchforecast(myfit,n.ahead = 12)\n",
    "print(forc)\n",
    "myspec=ugarchspec(variance.model = list(model = \"sGARCH\", garchOrder = c(1, 1), submodel = NULL, external.regressors = NULL, variance.targeting = FALSE),mean.model = list(armaOrder = c(0,1), include.mean = TRUE, archm = FALSE, archpow = 1, arfima = FALSE, external.regressors = NULL, archex = FALSE),distribution.model = \"norm\")\n",
    "myfit=ugarchfit(myspec,data=tsValuesLog_d_1[24:104],solver=\"solnp\")\n",
    "forc = ugarchforecast(myfit,n.ahead = 12)\n",
    "print(forc)\n",
    "myspec=ugarchspec(variance.model = list(model = \"sGARCH\", garchOrder = c(1, 1), submodel = NULL, external.regressors = NULL, variance.targeting = FALSE),mean.model = list(armaOrder = c(0,1), include.mean = TRUE, archm = FALSE, archpow = 1, arfima = FALSE, external.regressors = NULL, archex = FALSE),distribution.model = \"norm\")\n",
    "myfit=ugarchfit(myspec,data=tsValuesLog_d_1[25:105],solver=\"solnp\")\n",
    "forc = ugarchforecast(myfit,n.ahead = 12)\n",
    "print(forc)\n",
    "myspec=ugarchspec(variance.model = list(model = \"sGARCH\", garchOrder = c(1, 1), submodel = NULL, external.regressors = NULL, variance.targeting = FALSE),mean.model = list(armaOrder = c(0,1), include.mean = TRUE, archm = FALSE, archpow = 1, arfima = FALSE, external.regressors = NULL, archex = FALSE),distribution.model = \"norm\")\n",
    "myfit=ugarchfit(myspec,data=tsValuesLog_d_1[26:106],solver=\"solnp\")\n",
    "forc = ugarchforecast(myfit,n.ahead = 12)\n",
    "print(forc)\n",
    "myspec=ugarchspec(variance.model = list(model = \"sGARCH\", garchOrder = c(1, 1), submodel = NULL, external.regressors = NULL, variance.targeting = FALSE),mean.model = list(armaOrder = c(0,1), include.mean = TRUE, archm = FALSE, archpow = 1, arfima = FALSE, external.regressors = NULL, archex = FALSE),distribution.model = \"norm\")\n",
    "myfit=ugarchfit(myspec,data=tsValuesLog_d_1[27:107],solver=\"solnp\")\n",
    "forc = ugarchforecast(myfit,n.ahead = 12)\n",
    "print(forc)\n",
    "myspec=ugarchspec(variance.model = list(model = \"sGARCH\", garchOrder = c(1, 1), submodel = NULL, external.regressors = NULL, variance.targeting = FALSE),mean.model = list(armaOrder = c(0,1), include.mean = TRUE, archm = FALSE, archpow = 1, arfima = FALSE, external.regressors = NULL, archex = FALSE),distribution.model = \"norm\")\n",
    "myfit=ugarchfit(myspec,data=tsValuesLog_d_1[28:108],solver=\"solnp\")\n",
    "forc = ugarchforecast(myfit,n.ahead = 12)\n",
    "print(forc)\n",
    "myspec=ugarchspec(variance.model = list(model = \"sGARCH\", garchOrder = c(1, 1), submodel = NULL, external.regressors = NULL, variance.targeting = FALSE),mean.model = list(armaOrder = c(0,1), include.mean = TRUE, archm = FALSE, archpow = 1, arfima = FALSE, external.regressors = NULL, archex = FALSE),distribution.model = \"norm\")\n",
    "myfit=ugarchfit(myspec,data=tsValuesLog_d_1[29:109],solver=\"solnp\")\n",
    "forc = ugarchforecast(myfit,n.ahead = 12)\n",
    "print(forc)\n",
    "myspec=ugarchspec(variance.model = list(model = \"sGARCH\", garchOrder = c(1, 1), submodel = NULL, external.regressors = NULL, variance.targeting = FALSE),mean.model = list(armaOrder = c(0,1), include.mean = TRUE, archm = FALSE, archpow = 1, arfima = FALSE, external.regressors = NULL, archex = FALSE),distribution.model = \"norm\")\n",
    "myfit=ugarchfit(myspec,data=tsValuesLog_d_1[30:110],solver=\"solnp\")\n",
    "forc = ugarchforecast(myfit,n.ahead = 12)\n",
    "print(forc)\n",
    "myspec=ugarchspec(variance.model = list(model = \"sGARCH\", garchOrder = c(1, 1), submodel = NULL, external.regressors = NULL, variance.targeting = FALSE),mean.model = list(armaOrder = c(0,1), include.mean = TRUE, archm = FALSE, archpow = 1, arfima = FALSE, external.regressors = NULL, archex = FALSE),distribution.model = \"norm\")\n",
    "myfit=ugarchfit(myspec,data=tsValuesLog_d_1[31:111],solver=\"solnp\")\n",
    "forc = ugarchforecast(myfit,n.ahead = 12)\n",
    "print(forc)\n",
    "myspec=ugarchspec(variance.model = list(model = \"sGARCH\", garchOrder = c(1, 1), submodel = NULL, external.regressors = NULL, variance.targeting = FALSE),mean.model = list(armaOrder = c(0,1), include.mean = TRUE, archm = FALSE, archpow = 1, arfima = FALSE, external.regressors = NULL, archex = FALSE),distribution.model = \"norm\")\n",
    "myfit=ugarchfit(myspec,data=tsValuesLog_d_1[32:112],solver=\"solnp\")\n",
    "forc = ugarchforecast(myfit,n.ahead = 12)\n",
    "print(forc)"
   ]
  },
  {
   "cell_type": "code",
   "execution_count": null,
   "metadata": {
    "collapsed": true
   },
   "outputs": [],
   "source": []
  }
 ],
 "metadata": {
  "kernelspec": {
   "display_name": "R",
   "language": "R",
   "name": "ir"
  },
  "language_info": {
   "codemirror_mode": "r",
   "file_extension": ".r",
   "mimetype": "text/x-r-source",
   "name": "R",
   "pygments_lexer": "r",
   "version": "3.5.3"
  }
 },
 "nbformat": 4,
 "nbformat_minor": 2
}
